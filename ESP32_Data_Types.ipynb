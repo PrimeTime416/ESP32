{
 "cells": [
  {
   "cell_type": "markdown",
   "metadata": {},
   "source": [
    "<h1>Working with Binary Data in Python</h1>\n",
    "<a href='https://www.devdungeon.com/content/working-binary-data-python'>Working with Binary Data in Python</a>\n"
   ]
  },
  {
   "cell_type": "code",
   "execution_count": null,
   "metadata": {},
   "outputs": [],
   "source": [
    "# Create empty bytes\n",
    "empty_bytes = bytes(4)\n",
    "print(type(empty_bytes))\n",
    "print(empty_bytes)"
   ]
  },
  {
   "cell_type": "code",
   "execution_count": null,
   "metadata": {},
   "outputs": [],
   "source": [
    "# Cast bytes to bytearray\n",
    "mutable_bytes = bytearray(b'\\x00\\x0F')\n",
    "\n",
    "# Bytearray allows modification\n",
    "mutable_bytes[0] = 255\n",
    "mutable_bytes.append(255)\n",
    "print(mutable_bytes)\n",
    "\n",
    "# Cast bytearray back to bytes\n",
    "immutable_bytes = bytes(mutable_bytes)\n",
    "print(immutable_bytes)"
   ]
  },
  {
   "cell_type": "code",
   "execution_count": 32,
   "metadata": {},
   "outputs": [
    {
     "name": "stdout",
     "output_type": "stream",
     "text": [
      "<class 'bytes'>\n",
      "b'Hello, world! ascii\\n'\n",
      "<class 'bytes'>\n",
      "b'Hello, world! ascii\\nHello, world! utf-8\\n'\n",
      "<class 'bytearray'>\n",
      "bytearray(b'Hello, world! ascii\\nHello, world! utf-8\\n')\n",
      "b'ello, world! ascii\\nHello, world! utf-8\\n'\n",
      "bytearray(b'\\xffello, world! ascii\\nHello, world! utf-8\\n')\n"
     ]
    }
   ],
   "source": [
    "import uio as io\n",
    "\n",
    "binary_stream = io.BytesIO()\n",
    "# Binary data and strings are different types, so a str\n",
    "# must be encoded to binary using ascii, utf-8, or other.\n",
    "binary_stream.write(\"Hello, world! ascii\\n\".encode('ascii'))\n",
    "\n",
    "# Move cursor back to the beginning of the buffer\n",
    "binary_stream.seek(0)\n",
    "\n",
    "# Read all data from the buffer\n",
    "stream_data = binary_stream.read()\n",
    "\n",
    "# The stream_data is type 'bytes', immutable\n",
    "print(type(stream_data))\n",
    "print(stream_data)\n",
    "\n",
    "\n",
    "binary_stream.write(\"Hello, world! utf-8\\n\".encode('utf-8'))\n",
    "\n",
    "# Move cursor back to the beginning of the buffer\n",
    "binary_stream.seek(0)\n",
    "\n",
    "# Read all data from the buffer\n",
    "stream_data = binary_stream.read()\n",
    "\n",
    "# The stream_data is type 'bytes', immutable\n",
    "print(type(stream_data))\n",
    "print(stream_data)\n",
    "\n",
    "# To modify the actual contents of the existing buffer\n",
    "# use getbuffer() to get an object you can modify.\n",
    "# Modifying this object updates the underlying BytesIO buffer\n",
    "mutable_buffer = bytearray(binary_stream.getvalue())\n",
    "# mutable_buffer = binary_stream.getbuffer()\n",
    "print(type(mutable_buffer))  # class 'memoryview'\n",
    "print(mutable_buffer)  # class 'memoryview'\n",
    "mutable_buffer[0] = 0xFF\n",
    "\n",
    "# Re-read the original stream. Contents will be modified\n",
    "# because we modified the mutable buffer\n",
    "binary_stream.seek(1)\n",
    "print(binary_stream.read())\n",
    "print(mutable_buffer)"
   ]
  },
  {
   "cell_type": "code",
   "execution_count": null,
   "metadata": {},
   "outputs": [],
   "source": []
  }
 ],
 "metadata": {
  "kernelspec": {
   "display_name": "MicroPython - USB",
   "language": "micropython",
   "name": "micropython"
  },
  "language_info": {
   "codemirror_mode": "python",
   "file_extension": ".py",
   "mimetype": "text/python",
   "name": "micropython"
  }
 },
 "nbformat": 4,
 "nbformat_minor": 4
}
