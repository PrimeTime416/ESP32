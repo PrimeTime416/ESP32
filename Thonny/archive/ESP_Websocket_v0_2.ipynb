{
 "cells": [
  {
   "cell_type": "markdown",
   "metadata": {},
   "source": [
    "<h1> Connection Serial <h1>"
   ]
  },
  {
   "cell_type": "code",
   "execution_count": 56,
   "metadata": {
    "Collapsed": "false"
   },
   "outputs": [
    {
     "name": "stdout",
     "output_type": "stream",
     "text": [
      "\u001b[34mConnecting to --port=/dev/ttyUSB0 --baud=115200 \u001b[0m\n",
      "\u001b[34mReady.\n",
      "\u001b[0m"
     ]
    }
   ],
   "source": [
    "%serialconnect to --port=/dev/ttyUSB0 --baud=115200"
   ]
  },
  {
   "cell_type": "markdown",
   "metadata": {},
   "source": [
    "<h1> Setup Network </h1>"
   ]
  },
  {
   "cell_type": "code",
   "execution_count": 57,
   "metadata": {
    "Collapsed": "false"
   },
   "outputs": [
    {
     "name": "stdout",
     "output_type": "stream",
     "text": [
      "Station Up:  False\n",
      "Acess Point Up:  False\n",
      "OS Information =  (sysname='esp32', nodename='esp32', release='1.12.0', version='v1.12-164-g7679e3be9 on 2020-02-12', machine='ESP32 module (spiram) with ESP32')\n"
     ]
    }
   ],
   "source": [
    "# All imports \n",
    "import micropython\n",
    "\n",
    "# print(micropython.mem_info('verbose'))\n",
    "\n",
    "\n",
    "\n",
    "import usocket as socket\n",
    "from machine import Pin\n",
    "import network\n",
    "import esp\n",
    "import utime\n",
    "import ujson\n",
    "import gc\n",
    "import socket\n",
    "import uhashlib\n",
    "import ubinascii\n",
    "import uos\n",
    "\n",
    "\n",
    "esp.osdebug(None)\n",
    "gc.collect()\n",
    "\n",
    "sta_if = network.WLAN(network.STA_IF)\n",
    "ap_if = network.WLAN(network.AP_IF)\n",
    "print('Station Up: ', sta_if.active())\n",
    "print('Acess Point Up: ', ap_if.active())\n",
    "\n",
    "\n",
    "def connectX(typeX):\n",
    "    typeX.active(True)\n",
    "    typeX.config(dhcp_hostname='PrimeTime_uPython'),\n",
    "    print('Station Up: ', sta_if.active())\n",
    "    print('Acess Point Up: ', ap_if.active())\n",
    "\n",
    "\n",
    "def scanX():\n",
    "    print('Status: %s\\n' % sta_if.status())\n",
    "    station_default = False\n",
    "    stations_list = sta_if.scan()\n",
    "#     print('\\ntest1: ', stations_list)\n",
    "    for i, n in enumerate(stations_list, start=0):\n",
    "        print('i= {0} n= {1}'.format(i, n))\n",
    "#         if n[0] == b'SM-A1kerr' or n[0] == b'Atalyah':\n",
    "#             print('\\nFOUND SID!: ', n[0])\n",
    "#             station_default = True\n",
    "\n",
    "    if station_default is False:\n",
    "        print('\\n*** PLEASE ENABLE A DEFAULT STATION! ***')\n",
    "    return stations_list\n",
    "\n",
    "\n",
    "# Make a dictionary out of a byte Object b''\n",
    "def get_meta(c):\n",
    "    c = c.decode(\"utf-8\")\n",
    "    holdX = c.split('\\r\\n')\n",
    "#     print(type(holdX))\n",
    "    holdy = {}\n",
    "    for l in holdX:\n",
    "        dataX = len(l.split(':'))\n",
    "        if dataX > 1:\n",
    "            holdy[str(l.split(':')[0])] = str(l.split(':')[1])\n",
    "        else:\n",
    "            holdy[str(l.split(':')[0])] = str(l.split(':')[0])\n",
    "\n",
    "    return holdy\n",
    "\n",
    "print('OS Information = ',  uos.uname())"
   ]
  },
  {
   "cell_type": "code",
   "execution_count": 58,
   "metadata": {},
   "outputs": [
    {
     "name": "stdout",
     "output_type": "stream",
     "text": [
      "Station Up:  True\n",
      "Acess Point Up:  False\n",
      "Status: 1000\n",
      "\n",
      "i= 0 n= (b'ASUS2_4_PRIMETIME_905', b'\\x08`n\\xbc\\x02\\x08', 6, -42, 3, False)\n",
      "i= 1 n= (b'Atalyah', b'\\x08`n\\xbc\\x02\\t', 6, -43, 3, False)\n",
      "i= 2 n= (b'dlink_2_4GHz_PrimeTime', b'@\\x9b\\xcd\\xa0ih', 11, -50, 4, False)\n",
      "i= 3 n= (b'VIRGIN463', b'\\xa8\\x9a\\x93\\x1d\\xf8\\x9e', 1, -55, 3, False)\n",
      "i= 4 n= (b'BELL366', b'\\x90r\\x82\\xfe\\x8e&', 6, -68, 3, False)\n",
      "i= 5 n= (b'Family1', b'B\\xf2\\x01\\xf8\\x94W', 11, -83, 3, False)\n",
      "\n",
      "*** PLEASE ENABLE A DEFAULT STATION! ***\n",
      "\n"
     ]
    }
   ],
   "source": [
    "connectX(sta_if)\n",
    "if sta_if.active():\n",
    "    stations_list = scanX()\n",
    "elif ap_if.active():\n",
    "    print('Acess Point Up: ', ap_if.active())\n",
    "\n",
    "print(sta_if.config('essid'))\n",
    "# print(sta_if.config('channel'))"
   ]
  },
  {
   "cell_type": "code",
   "execution_count": 59,
   "metadata": {},
   "outputs": [],
   "source": [
    "selected_SID = stations_list[1][0]\n",
    "pw = '9054830760'"
   ]
  },
  {
   "cell_type": "code",
   "execution_count": 60,
   "metadata": {
    "Collapsed": "false"
   },
   "outputs": [
    {
     "name": "stdout",
     "output_type": "stream",
     "text": [
      "Trying to connet to server!\n",
      "Trying to connet to server!\n",
      "Status: 1010\n",
      " \n",
      "Is Connected Status: True \n",
      "Connected To WIFI SID: Atalyah \n",
      "Connected Hostname: PrimeTime_uPython \n",
      "ifconfig Status: ('192.168.1.240', '255.255.255.0', '192.168.1.1', '192.168.1.1')\n"
     ]
    }
   ],
   "source": [
    "# connectX(sta_if)\n",
    "# stations_list = []\n",
    "\n",
    "\n",
    "\n",
    "# print('Connecting to: {0}'.format(stations_list[0][0]))\n",
    "while not (sta_if.isconnected()):\n",
    "    print('Trying to connet to server!')\n",
    "#     if 'Atalyah' in stations_list : \n",
    "#     print(stations_list[0][0])\n",
    "    for x in stations_list:\n",
    "#         print(x)\n",
    "#         if b'Atalyah' in x or b'SM-A1kerr' in x:\n",
    "        if selected_SID in x or b'SM-A1kerr' in x:\n",
    "#             print(x[0])\n",
    "            sta_if.connect(x[0], pw)\n",
    "    utime.sleep(1)\n",
    "\n",
    "\n",
    "print('Status: {0}\\n'.format(sta_if.status(), sta_if.isconnected()),\n",
    "      ('\\nIs Connected Status: {0}'.format(sta_if.isconnected())),\n",
    "      ('\\nConnected To WIFI SID: {0}'.format(sta_if.config('essid'))),\n",
    "      ('\\nConnected Hostname: {0}'.format(sta_if.config('dhcp_hostname'))),\n",
    "      ('\\nifconfig Status: {0}'.format(sta_if.ifconfig()))\n",
    "      )\n",
    "\n",
    "# print(micropython.mem_info('verbose'))"
   ]
  },
  {
   "cell_type": "markdown",
   "metadata": {},
   "source": [
    "<h1>Get webpage </h1>"
   ]
  },
  {
   "cell_type": "code",
   "execution_count": 66,
   "metadata": {},
   "outputs": [
    {
     "name": "stdout",
     "output_type": "stream",
     "text": [
      "Address Info:  [(2, 1, 0, 'yahoo.com', ('98.137.246.7', 80))]\n",
      "Connection Address:  ('98.137.246.7', 80)\n",
      "Connecting Using Streaming\n",
      "\n",
      "\n",
      "\n",
      " b'HTTP/1.0 400 Host Header Required\\r\\nDate: Sun, 15 Mar 2020 01:57:25 GMT\\r\\nServer: ATS\\r\\nCache-Control: no-store\\r\\nContent-Type: text/html\\r\\nContent-Language: en\\r\\nX-Frame-Options: SAMEORIGIN\\r\\nContent-Length: 4383\\r\\n\\r\\n<!DOCTYPE html>\\n<html lang=\"en-us\">\\n  <head>\\n    <meta http-equiv=\"content-type\" content=\"text/html; charset=UTF-8\">\\n    <meta charset=\"utf-8\">\\n    <title>Yahoo</title>\\n    <meta name=\"viewport\" content=\"width=device-width,initial-scale=1,minimal-ui\">\\n    <meta http-equiv=\"X-UA-Compatible\" content=\"IE=edge,chrome=1\">\\n    <style>\\n      html {\\n          height: 100%;\\n      }\\n      body {\\n          background: #fafafc url(https://s.yimg.com/nn/img/sad-panda-201402200631.png) 50% 50%;\\n          background-size: cover;\\n          height: 100%;\\n          text-align: center;\\n          font: 300 18px \"helvetica neue\", helvetica, verdana, tahoma, arial, sans-serif;\\n          margin: 0;\\n      }\\n      table {\\n          height: 100%;\\n          width: 100%;\\n          table-layout: fixed;\\n          border-collapse: co'\n",
      "\n",
      "\n",
      " b'llapse;\\n          border-spacing: 0;\\n          border: none;\\n      }\\n      h1 {\\n          font-size: 42px;\\n          font-weight: 400;\\n          color: #400090;\\n      }\\n      p {\\n          color: #1A1A1A;\\n      }\\n      #message-1 {\\n          font-weight: bold;\\n          margin: 0;\\n      }\\n      #message-2 {\\n          display: inline-block;\\n          *display: inline;\\n          zoom: 1;\\n          max-width: 17em;\\n          _width: 17em;\\n      }\\n      </style>\\n      <script>\\n      \\n      </script>\\n  </head>\\n  <body>\\n  <!-- status code : 400 -->\\n  <!-- Host Header Required -->\\n  <!-- host machine: media-router-fp1009.prod.media.gq1.yahoo.com -->\\n  <!-- timestamp: 1584237445.585 -->\\n  <!-- url: http:///-->\\n  <script type=\"text/javascript\">\\n    function buildUrl(url, parameters){\\n      var qs = [];\\n      for(var key in parameters) {\\n        var value = parameters[key];\\n        qs.push(encodeURIComponent(key) + \"=\" + encodeURIComponent(value));\\n      }\\n      url = url + \"?\" + qs.join(\\'&\\');\\n      return url;\\n    }\\n\\n'\n",
      "\n",
      "\n",
      " b'    function generateBRBMarkup(site) {\\n      params.source = \\'brb\\';\\n      generateBeaconMarkup(params);\\n      var englishHeader = \\'Will be right back...\\';\\n      var englishMessage1 = \\'Thank you for your patience.\\';\\n      var englishMessage2 = \\'Our engineers are working quickly to resolve the issue.\\';\\n      var defaultLogoStyle = \\'\\';\\n      var siteDataMap = {\\n        \\'default\\': {\\n          logo: \\'https://s.yimg.com/rz/p/yahoo_frontpage_en-US_s_f_p_205x58_frontpage.png\\',\\n          logoAlt: \\'Yahoo Logo\\',\\n          logoStyle: defaultLogoStyle,\\n          header: englishHeader,\\n          message1: englishMessage1,\\n          message2: englishMessage2\\n        }\\n      };\\n\\n      var siteDetails = siteDataMap[\\'default\\'];\\n\\n      document.write(\\'<table><tbody><tr><td>\\');\\n      document.write(\\'<div id=\"content\">\\');\\n      document.write(\\'<img src=\"\\' + siteDetails[\\'logo\\'] + \\'\" alt=\"\\' + siteDetails[\\'logoAlt\\'] + \\'\" style=\"\\' + siteDetails[\\'logoStyle\\'] + \\'\">\\');\\n      document.write(\\'<h1 style=\"margin-top:20px;\">\\' + siteDetails[\\''\n",
      "\n",
      "\n",
      " b'header\\'] + \\'</h1>\\');\\n      document.write(\\'<p id=\"message-1\">\\' + siteDetails[\\'message1\\'] + \\'</p>\\');\\n      document.write(\\'<p id=\"message-2\">\\' + siteDetails[\\'message2\\'] + \\'</p>\\');\\n      document.write(\\'</div>\\');\\n      document.write(\\'</td></tr></tbody></table>\\');\\n    }\\n\\n    function generateBeaconMarkup(params) {\\n        document.write(\\'<img src=\"\\' + buildUrl(\\'//geo.yahoo.com/b\\', params) + \\'\" style=\"display:none;\" width=\"0px\" height=\"0px\"/>\\');\\n        var beacon = new Image();\\n        beacon.src = buildUrl(\\'//bcn.fp.yahoo.com/p\\', params);\\n    }\\n\\n    var hostname = window.location.hostname;\\n    var device = \\'-\\';\\n    var ynet = (\\'-\\' === \\'1\\');\\n    var time = new Date().getTime();\\n    var params = {\\n        s: \\'1197757129\\',\\n        t: time,\\n        err_url: document.URL,\\n        err: \\'400\\',\\n        test: \\'-\\',\\n        ats_host: \\'media-router-fp1009.prod.media.gq1.yahoo.com\\',\\n        rid: \\'-\\',\\n        message: \\'Host Header Required\\'\\n    };\\n\\n    if(ynet) {\\n        document.write(\\'<div style=\"height: 5px; background-c'\n",
      "\n",
      "\n",
      " b'olor: red;\"></div>\\');\\n    }\\n    generateBRBMarkup(hostname, params);\\n\\n  </script>\\n  <noscript>\\n  <table>\\n    <tbody>\\n      <tr>\\n        <td>\\n          <div id=\"englishContent\">\\n            <h1 style=\"margin-top:20px;\">Will be right back...</h1>\\n            <p id=\"message-1\">Thank you for your patience.</p>\\n            <p id=\"message-2\">Our engineers are working quickly to resolve the issue.</p>\\n          </div>\\n        </td>\\n      </tr>\\n    </tbody>\\n  </table>\\n  </noscript>\\n  </body>\\n</html>\\n'\n"
     ]
    }
   ],
   "source": [
    "def main(use_stream=False, www_page='google.com'):\n",
    "    end_line = b'\\r\\n\\r\\n'\n",
    "    s = socket.socket()\n",
    "    \n",
    "    ai = socket.getaddrinfo(www_page, 80)\n",
    "    print('Address Info: ', ai)\n",
    "    addr = ai[0][-1]\n",
    "    \n",
    "    print('Connection Address: ', addr)\n",
    "    s.connect(addr)\n",
    "    \n",
    "    if use_stream:\n",
    "        print('Connecting Using Streaming\\n')\n",
    "        s = s.makefile('rwb', 0)\n",
    "        s.write(b'GET / HTTP/1.0'+end_line)\n",
    "        while True:\n",
    "            chunk =  s.read(1024)\n",
    "            if len(chunk) == 0:\n",
    "                break\n",
    "            print('\\n\\n', chunk)\n",
    "    else:\n",
    "        print('Connecting Using 4096 byte buffer\\n')\n",
    "        s.send(b'GET / HTTP/1.0'+end_line)\n",
    "        print(b'GET / HTTP/1.0'+end_line)\n",
    "        print('\\n', s.recv(4096))\n",
    "        \n",
    "#     print(micropython.mem_info('verbose'))\n",
    "    s.close()\n",
    "    \n",
    "    \n",
    "main(use_stream=True, www_page='yahoo.com')"
   ]
  },
  {
   "cell_type": "markdown",
   "metadata": {
    "Collapsed": "false"
   },
   "source": [
    "<br>\n",
    "<h1>Websocket Return Header Format</h1>\n",
    "<p>\n",
    "HTTP/1.1 101 Switching Protocols<br>\n",
    "Upgrade: websocket<br>\n",
    "Connection: Upgrade<br>\n",
    "Sec-WebSocket-Accept: s3pPLMBiTxaQ9kYGzzhZRbK+xOo=<br>\n",
    "(remember each header line ends with \\r\\n and put an extra \\r\\n after the last one to indicate the end of the header)\n",
    "</p>\n",
    "<p>\n",
    "-hashed key- The server takes the value of Sec-WebSocket-Key sent in handshake request and then appends Globally Unique Identifier (GUID, [RFC4122]) “258EAFA5-E914-47DA-95CA-C5AB0DC85B11” takes SHA-1 of the new value, and is then base64 encoded. This is unlikely to be used by network endpoints that do not understand the WebSocket Protocol.\n",
    "</p>"
   ]
  },
  {
   "cell_type": "code",
   "execution_count": 10,
   "metadata": {},
   "outputs": [
    {
     "name": "stdout",
     "output_type": "stream",
     "text": [
      "[(2, 1, 0, '0.0.0.0', ('0.0.0.0', 80))]\n"
     ]
    }
   ],
   "source": [
    "print(socket.getaddrinfo('', 80))"
   ]
  },
  {
   "cell_type": "code",
   "execution_count": null,
   "metadata": {
    "Collapsed": "false"
   },
   "outputs": [
    {
     "name": "stdout",
     "output_type": "stream",
     "text": [
      "Bind:  ('0.0.0.0', 80)\n",
      "...................................................................................................................Got a connection!: \n",
      "Got a connection from ('192.168.1.106', 38541)\n",
      "Content = {'User-Agent': ' Mozilla/5.0 (Linux; Android 8.0.0; SM-G930W8) AppleWebKit/537.36 (KHTML, like Gecko) Chrome/80.0.3987.132 Mobile Safari/537.36', 'Connection': ' keep-alive', 'Accept-Language': ' en-GB,en-US;q=0.9,en;q=0.8,da;q=0.7', 'Accept': ' text/html,application/xhtml+xml,application/xml;q=0.9,image/webp,image/apng,*/*;q=0.8,application/signed-exchange;v=b3;q=0.9', '': '', 'GET / HTTP/1.1': 'GET / HTTP/1.1', 'Accept-Encoding': ' gzip, deflate', 'Host': ' 192.168.1.240', 'Upgrade-Insecure-Requests': ' 1'}\n",
      "No Key Found\n",
      "Got a connection!: \n",
      "Got a connection from ('192.168.1.106', 38542)\n",
      "...Content = {'': ''}\n",
      "No Key Found\n",
      "................................................................"
     ]
    }
   ],
   "source": [
    "# Complete project details at https://RandomNerdTutorials.com\n",
    "\n",
    "\n",
    "addr_socket = socket.getaddrinfo('', 80)[0][4]\n",
    "# addr_socket = socket.getaddrinfo('192.168.43.34', 80)[0][4]\n",
    "# addr = socket.getaddrinfo('192.168.43.34', 80)\n",
    "led = Pin(2, Pin.OUT)\n",
    "key_tag = 'Sec-WebSocket-Key'\n",
    "guid = b'258EAFA5-E914-47DA-95CA-C5AB0DC85B11'\n",
    "\n",
    "\n",
    "def web_page():\n",
    "    if led.value() == 1:\n",
    "        gpio_state = \"ON\"\n",
    "    else:\n",
    "        gpio_state = \"OFF\"\n",
    "\n",
    "    html = \"\"\"<html><head> <title>ESP Web Server</title> <meta name = \"viewport\"\n",
    "    content=\"width=device-width, initial-scale=1\">\n",
    "    <link rel=\"icon\" href=\"data:,\"> <style>html{font-family: Helvetica;\n",
    "    display:inline-block; margin: 0px auto; text-align: center;}\n",
    "    h1{color: #0F3376; padding: 2vh;}p{font-size: 1.5rem;}.button{display:\n",
    "    inline-block; background-color: #e7bd3b; border: none;\n",
    "    border-radius: 4px; color: white; padding: 16px 40px; text-decoration:\n",
    "    none; font-size: 30px; margin: 2px; cursor: pointer;}\n",
    "    .button2{background-color: #4286f4;}</style></head><body>\n",
    "    <h1>ESP Web Server</h1>\n",
    "    <p>GPIO state: <strong>\"\"\" + gpio_state + \"\"\"</strong></p><p>\n",
    "    <a href=\"/?led=on\"><button class=\"button\">ON</button></a></p>\n",
    "    <p><a href=\"/?led=off\"><button class=\"button button2\">OFF</button>\n",
    "    </a></p></body></html>\"\"\"\n",
    "    return html\n",
    "\n",
    "\n",
    "html2 = \"\"\"<!DOCTYPE html>\n",
    "<html>\n",
    "<head> <title>ESP8266 Pins</title> </head>\n",
    "<body> <h1>ESP8266 Pins</h1>\n",
    "    <table border=\"1\"> <tr><th>Pin</th><th>Value</th></tr> %s </table>\n",
    "</body>\n",
    "</html>\n",
    "\"\"\"\n",
    "\n",
    "s=socket.socket(socket.AF_INET, socket.SOCK_STREAM)\n",
    "s.bind(('', 80))\n",
    "print('Bind: ', addr_socket)\n",
    "# print('Bind: %s' % addr[0])\n",
    "# print('Bind: %s' % addr[0][-1])\n",
    "s.listen(5)\n",
    "\n",
    "while True:\n",
    "    conn, addr = s.accept()\n",
    "    print('Got a connection!: ')\n",
    "    print('Got a connection from %s' % str(addr))\n",
    "    request=conn.recv(1024)\n",
    "#     conn.send(html2)\n",
    "#     request = request.decode()\n",
    "    request_meta = get_meta(request)\n",
    "    print('Content = %s' % request_meta)\n",
    "    if key_tag in request_meta:\n",
    "        print('Sec-Weboscket-Key: ', request_meta[key_tag])\n",
    "        key_hash = uhashlib.sha1(guid)\n",
    "        key_hash.update(request_meta[key_tag])\n",
    "#         key_hash = uhashlib.sha1(request_meta[key_tag])\n",
    "#         key_hash.update(guid)\n",
    "        key_sha1 = key_hash.digest()\n",
    "        key_sha1 = ubinascii.b2a_base64(key_sha1)\n",
    "        header1 = 'HTTP/1.1 101 Switching Protocols\\r\\n'\n",
    "        header2 = 'Upgrade: websocket\\r\\n'\n",
    "        header3 = 'Connection: Upgrade\\r\\n'\n",
    "        header_sec = 'Sec-WebSocket-Accept: {0}'.format(key_sha1)\n",
    "        header_end = '\\r\\n\\r\\n'\n",
    "        socketX_upgrade = bytes(header1+header2+header3+header_sec+header_end, 'utf8')\n",
    "        print('SHA1 Key: ', key_sha1)\n",
    "        conn.send(socketX_upgrade)\n",
    "    else:\n",
    "        print('No Key Found')\n",
    "          \n",
    "    \n",
    "    conn.close()\n",
    "\n",
    "print('Server closed: ')"
   ]
  },
  {
   "cell_type": "markdown",
   "metadata": {
    "Collapsed": "false"
   },
   "source": [
    "<br>\n",
    "<p>\n",
    "Format of getaddrinfo:  [(2, 1, 0, '192.168.43.34', ('192.168.43.34', 80))]\n",
    "</p>"
   ]
  }
 ],
 "metadata": {
  "kernelspec": {
   "display_name": "MicroPython - USB",
   "language": "micropython",
   "name": "micropython"
  },
  "language_info": {
   "codemirror_mode": "python",
   "file_extension": ".py",
   "mimetype": "text/python",
   "name": "micropython"
  }
 },
 "nbformat": 4,
 "nbformat_minor": 4
}
