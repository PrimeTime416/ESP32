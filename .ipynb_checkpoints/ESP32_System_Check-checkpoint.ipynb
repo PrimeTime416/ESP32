{
 "cells": [
  {
   "cell_type": "markdown",
   "metadata": {
    "Collapsed": "false"
   },
   "source": [
    "<h1>ESP32 Overview:</h1>\n",
    "<p>Getting to know your board:\n",
    "<br>This module will expose most of the hardware functionality of the <b>Generic</b> MCU.</p>\n",
    "<!-- <img src=\"Docs/pinoutDOIT32devkitv1.png\" width=\"800\"/> -->\n",
    "<a href=\"http://docs.micropython.org/en/latest/library/machine.html#module-machine\"> Machine Module </a>\n",
    "\n",
    "<br>\n",
    "<p>Device Summary<br>\n",
    "Microcontroller: Tensilica 32-bit Single-/Dual-core CPU Xtensa LX6</p>\n",
    "\n",
    "<li> Operating Voltage: 3.3V\n",
    "\n",
    "<li> Input Voltage: 7-12V\n",
    "\n",
    "<li> Digital I/O Pins (DIO): 25\n",
    "\n",
    "<li> Analog Input Pins (ADC): 6\n",
    "\n",
    "<li> Analog Outputs Pins (DAC): 2\n",
    "\n",
    "<li> UARTs: 3\n",
    "\n",
    "<li> SPIs: 2\n",
    "\n",
    "<li> I2Cs: 3\n",
    "\n",
    "<li> Flash Memory: 4 MB\n",
    "\n",
    "<li> SRAM: 520 KB\n",
    "\n",
    "<li> Clock Speed: 240 Mhz\n",
    "\n",
    "<li> Wi-Fi: IEEE 802.11 b/g/n/e/i:\n",
    "\n",
    "<li> Integrated TR switch, balun, LNA, power amplifier and matching network\n",
    "WEP or WPA/WPA2 authentication, or open networks"
   ]
  },
  {
   "cell_type": "markdown",
   "metadata": {},
   "source": [
    "<a href=\"Docs/ESP32_Feather/adafruit-huzzah32-esp32-feather.pdf#page=8\">\n",
    " <img alt=\"Qries\" src=\"Docs/ESP32_Feather/3405-Adafruit-HUZZAH32-Feather.gif\">\n",
    "</a>\n"
   ]
  },
  {
   "cell_type": "markdown",
   "metadata": {
    "Collapsed": "false"
   },
   "source": [
    "<div>    \n",
    "<!-- <p style=\"color:white;text-align:left\"> <font size=\"7\"> Getting Started </font><p> -->\n",
    "<h1 style=\"color:white;text-align:left\"> Getting Started </h1>\n",
    "<p> Please see link for a great blog on using MicroPython with Jupyter Lads:</p>\n",
    "<a href=\"https://towardsdatascience.com/micropython-on-esp-using-jupyter-6f366ff5ed9\">MicroPython on ESP Using Jupyter Notebook</a>\n",
    "<div>"
   ]
  },
  {
   "cell_type": "markdown",
   "metadata": {
    "Collapsed": "false",
    "toc-hr-collapsed": false
   },
   "source": [
    "<h1>Connecting to MCU using serial</h1>\n",
    "<p>Use <i>ls -a /dev/ttyUSB*</i> to see which port the MCU is connected to </p>"
   ]
  },
  {
   "cell_type": "code",
   "execution_count": 1,
   "metadata": {
    "Collapsed": "false"
   },
   "outputs": [
    {
     "name": "stdout",
     "output_type": "stream",
     "text": [
      "\u001b[34mConnecting to --port=/dev/ttyUSB0 --baud=115200 \u001b[0m\n",
      "\u001b[34mReady.\n",
      "\u001b[0m"
     ]
    }
   ],
   "source": [
    "%serialconnect to --port=/dev/ttyUSB0 --baud=115200"
   ]
  },
  {
   "cell_type": "code",
   "execution_count": 9,
   "metadata": {
    "Collapsed": "false"
   },
   "outputs": [
    {
     "name": "stdout",
     "output_type": "stream",
     "text": [
      "hello world\n"
     ]
    }
   ],
   "source": [
    "print(\"hello world\")"
   ]
  },
  {
   "cell_type": "markdown",
   "metadata": {},
   "source": [
    "<h1>Modules</h1>"
   ]
  },
  {
   "cell_type": "code",
   "execution_count": 3,
   "metadata": {
    "Collapsed": "false"
   },
   "outputs": [
    {
     "name": "stdout",
     "output_type": "stream",
     "text": [
      "__main__          gc                uasyncio/stream   upip_utarfile\n",
      "_boot             inisetup          ubinascii         upysh\n",
      "_onewire          machine           ubluetooth        urandom\n",
      "_thread           math              ucollections      ure\n",
      "_uasyncio         micropython       ucryptolib        urequests\n",
      "_webrepl          neopixel          uctypes           uselect\n",
      "apa106            network           uerrno            usocket\n",
      "btree             ntptime           uhashlib          ussl\n",
      "builtins          onewire           uhashlib          ustruct\n",
      "cmath             sys               uheapq            utime\n",
      "dht               uarray            uio               utimeq\n",
      "ds18x20           uasyncio/__init__ ujson             uwebsocket\n",
      "esp               uasyncio/core     umqtt/robust      uzlib\n",
      "esp32             uasyncio/event    umqtt/simple      webrepl\n",
      "flashbdev         uasyncio/funcs    uos               webrepl_setup\n",
      "framebuf          uasyncio/lock     upip              websocket_helper\n",
      "Plus any modules on the filesystem\n",
      "None\n"
     ]
    }
   ],
   "source": [
    "print(help('modules'))"
   ]
  },
  {
   "cell_type": "markdown",
   "metadata": {},
   "source": [
    "<h1>System Specific Functions And Modules: Sys</h1>\n",
    "<p>This module provides access to some variables used or maintained by the interpreter and to functions that interact strongly with the interpreter. It is always available.</p>"
   ]
  },
  {
   "cell_type": "code",
   "execution_count": 34,
   "metadata": {},
   "outputs": [
    {
     "name": "stdout",
     "output_type": "stream",
     "text": [
      "['__class__', '__name__', 'argv', 'byteorder', 'exit', 'implementation', 'maxsize', 'modules', 'path', 'platform', 'print_exception', 'stderr', 'stdin', 'stdout', 'version', 'version_info']\n",
      "Arguments Program Start With:  []\n",
      "System Byte Order:  little\n",
      "MicroPython Version:  (name='micropython', version=(1, 12, 0), mpy=10757)\n",
      "Maximum Integer Size:  2147483647\n",
      "Modules:  {'flashbdev': <module 'flashbdev' from 'flashbdev.py'>}\n",
      "Path:  ['', '/lib']\n",
      "Platform:  esp32\n",
      "Standard In Stream:  <io.FileIO 0>\n",
      "Standard Out Stream:  <io.FileIO 1>\n",
      "Standard Error Stream:  <io.FileIO 2>\n",
      "Python Implementation Version:  3.4.0\n",
      "Pythong Implementation Version Information:  (3, 4, 0)\n",
      "Bits count > 32 bits\n",
      "Bits count =  31\n"
     ]
    }
   ],
   "source": [
    "import sys\n",
    "print(dir(sys))\n",
    "\n",
    "print('Arguments Program Start With: ', sys.argv)\n",
    "print('System Byte Order: ', sys.byteorder)\n",
    "print('MicroPython Version: ', sys.implementation)\n",
    "print('Maximum Integer Size: ', sys.maxsize)\n",
    "print('Modules: ', sys.modules)\n",
    "print('Path: ', sys.path)\n",
    "print('Platform: ', sys.platform)\n",
    "print('Standard In Stream: ', sys.stdin)\n",
    "print('Standard Out Stream: ', sys.stdout)\n",
    "print('Standard Error Stream: ', sys.stderr)\n",
    "print('Python Implementation Version: ', sys.version)\n",
    "print('Pythong Implementation Version Information: ', sys.version_info)\n",
    "\n",
    "bits = 0\n",
    "v = sys.maxsize\n",
    "while v:\n",
    "    bits += 1\n",
    "    v >>= 1\n",
    "if bits >= 31:\n",
    "    # 64-bit (or more) platform\n",
    "    print(\"Bits count > 32 bits\")\n",
    "    ...\n",
    "else:\n",
    "    print(\"Bits count < 32 bits\")\n",
    "    # 32-bit (or less) platform\n",
    "    # Note that on 32-bit platform, value of bits may be less than 32\n",
    "    # (e.g. 31) due to peculiarities described above, so use \"> 16\",\n",
    "    # \"> 32\", \"> 64\" style of comparisons.\n",
    "print('Bits count = ', bits)"
   ]
  },
  {
   "cell_type": "markdown",
   "metadata": {},
   "source": [
    "<h1>Module: sys.std </h1>"
   ]
  },
  {
   "cell_type": "code",
   "execution_count": 47,
   "metadata": {},
   "outputs": [
    {
     "name": "stdout",
     "output_type": "stream",
     "text": [
      "['__class__', '__enter__', '__exit__', '__next__', 'close', 'read', 'readinto', 'readline', 'write', '__del__', 'buffer', 'readlines']\n",
      "['__class__', '__enter__', '__exit__', '__next__', 'close', 'read', 'readinto', 'readline', 'write', '__del__', 'buffer', 'readlines']\n",
      "['__class__', '__enter__', '__exit__', '__next__', 'close', 'read', 'readinto', 'readline', 'write', '__del__', 'buffer', 'readlines']\n",
      "test"
     ]
    },
    {
     "name": "stderr",
     "output_type": "stream",
     "text": [
      "Traceback (most recent call last):\n",
      "  File \"<stdin>\", line 8, in <module>\n",
      "OSError: [Errno 1] EPERM\n"
     ]
    }
   ],
   "source": [
    "from sys import stdin, stdout, stderr\n",
    "\n",
    "print(dir(stdin))\n",
    "print(dir(stdout))\n",
    "print(dir(stderr))\n",
    "\n",
    "stdout.write('test')\n",
    "# read_in = stdin.write(b'hello world')\n",
    "# read_in = stdin.read(10)\n",
    "print('From stdin: ',read_in)"
   ]
  },
  {
   "cell_type": "markdown",
   "metadata": {
    "Collapsed": "false"
   },
   "source": [
    "<h1>Change CPU Clock Frequency</h1>"
   ]
  },
  {
   "cell_type": "code",
   "execution_count": 35,
   "metadata": {
    "Collapsed": "false"
   },
   "outputs": [
    {
     "name": "stdout",
     "output_type": "stream",
     "text": [
      "240000000\n",
      "240000000\n"
     ]
    }
   ],
   "source": [
    "import machine \n",
    "print(machine.freq())\n",
    "machine.freq(240000000) # set the CPU frequency to 240 MHz\n",
    "print(machine.freq())"
   ]
  },
  {
   "cell_type": "markdown",
   "metadata": {
    "Collapsed": "false",
    "toc-hr-collapsed": false
   },
   "source": [
    "<h1>class Pin – control I/O pins</h1>"
   ]
  },
  {
   "cell_type": "markdown",
   "metadata": {
    "Collapsed": "false"
   },
   "source": [
    "<h1>class Time – MCU Timing Functions</h1>"
   ]
  },
  {
   "cell_type": "code",
   "execution_count": 16,
   "metadata": {
    "Collapsed": "false"
   },
   "outputs": [
    {
     "name": "stdout",
     "output_type": "stream",
     "text": [
      "['__class__', '__name__', 'ADC', 'DAC', 'DEEPSLEEP', 'DEEPSLEEP_RESET', 'EXT0_WAKE', 'EXT1_WAKE', 'HARD_RESET', 'I2C', 'PIN_WAKE', 'PWM', 'PWRON_RESET', 'Pin', 'RTC', 'SDCard', 'SLEEP', 'SOFT_RESET', 'SPI', 'Signal', 'TIMER_WAKE', 'TOUCHPAD_WAKE', 'Timer', 'TouchPad', 'UART', 'ULP_WAKE', 'WDT', 'WDT_RESET', 'deepsleep', 'disable_irq', 'enable_irq', 'freq', 'idle', 'lightsleep', 'mem16', 'mem32', 'mem8', 'reset', 'reset_cause', 'sleep', 'soft_reset', 'time_pulse_us', 'unique_id', 'wake_reason']\n"
     ]
    }
   ],
   "source": [
    "import machine\n",
    "print(dir(machine))"
   ]
  },
  {
   "cell_type": "markdown",
   "metadata": {
    "Collapsed": "false"
   },
   "source": [
    "<p>Changing the frequency of the MCU</p>"
   ]
  },
  {
   "cell_type": "markdown",
   "metadata": {
    "Collapsed": "false"
   },
   "source": [
    "<h1>Module: ESP:</h1>\n",
    "<p>Getting to know your board:\n",
    "<br>This module will expose most of the hardware functionality of the <b>ESP8266/ESP32</b> MCU.</p>\n",
    "<!-- <img src=\"Docs/pinoutDOIT32devkitv1.png\" width=\"800\"/> -->\n",
    "<a href=\"http://docs.micropython.org/en/latest/library/esp.html\"> Machine Module </a>"
   ]
  },
  {
   "cell_type": "code",
   "execution_count": 21,
   "metadata": {
    "Collapsed": "false"
   },
   "outputs": [
    {
     "name": "stdout",
     "output_type": "stream",
     "text": [
      "['__class__', '__name__', 'LOG_DEBUG', 'LOG_ERROR', 'LOG_INFO', 'LOG_NONE', 'LOG_VERBOSE', 'LOG_WARNING', 'dht_readinto', 'flash_erase', 'flash_read', 'flash_size', 'flash_user_start', 'flash_write', 'gpio_matrix_in', 'gpio_matrix_out', 'neopixel_write', 'osdebug']\n"
     ]
    }
   ],
   "source": [
    "import esp\n",
    "print(dir(esp))"
   ]
  },
  {
   "cell_type": "code",
   "execution_count": 27,
   "metadata": {
    "Collapsed": "false"
   },
   "outputs": [
    {
     "name": "stdout",
     "output_type": "stream",
     "text": [
      "<class 'module'>\n",
      "esp\n",
      "None\n",
      "None\n"
     ]
    }
   ],
   "source": [
    "print(esp.__class__)\n",
    "print(esp.__name__)\n",
    "print(esp.osdebug(None))\n",
    "print(esp.osdebug(0))"
   ]
  },
  {
   "cell_type": "code",
   "execution_count": 30,
   "metadata": {
    "Collapsed": "false"
   },
   "outputs": [
    {
     "name": "stdout",
     "output_type": "stream",
     "text": [
      "4194304\n",
      "2097152\n"
     ]
    }
   ],
   "source": [
    "print(esp.flash_size())\n",
    "print(esp.flash_user_start())"
   ]
  },
  {
   "cell_type": "markdown",
   "metadata": {
    "Collapsed": "false"
   },
   "source": [
    "<h1>Module: ESP32:</h1>\n",
    "<p>Getting to know your board:\n",
    "<br>This module will expose most of the hardware functionality of the <b>ESP32</b> MCU.</p>\n",
    "<!-- <img src=\"Docs/pinoutDOIT32devkitv1.png\" width=\"800\"/> -->\n",
    "<a href=\"http://docs.micropython.org/en/latest/library/esp32.html#module-esp32\"> Machine Module </a>"
   ]
  },
  {
   "cell_type": "code",
   "execution_count": 10,
   "metadata": {
    "Collapsed": "false"
   },
   "outputs": [
    {
     "name": "stdout",
     "output_type": "stream",
     "text": [
      "['__class__', '__name__', 'Partition', 'RMT', 'ULP', 'WAKEUP_ALL_LOW', 'WAKEUP_ANY_HIGH', 'hall_sensor', 'raw_temperature', 'wake_on_ext0', 'wake_on_ext1', 'wake_on_touch']\n"
     ]
    }
   ],
   "source": [
    "import esp32\n",
    "print(dir(esp32))"
   ]
  },
  {
   "cell_type": "code",
   "execution_count": 4,
   "metadata": {
    "Collapsed": "false"
   },
   "outputs": [
    {
     "name": "stdout",
     "output_type": "stream",
     "text": [
      "Hall Sensor:  48\n",
      "CPU Tempertur:  136\n"
     ]
    }
   ],
   "source": [
    "import esp32\n",
    "print('Hall Sensor: ', esp32.hall_sensor())     # read the internal hall sensor\n",
    "print('CPU Tempertur: ', esp32.raw_temperature()) # read the internal temperature of the MCU, in Farenheit\n",
    "# esp32.ULP()             # access to the Ultra-Low-Power Co-processor"
   ]
  },
  {
   "cell_type": "code",
   "execution_count": 5,
   "metadata": {
    "Collapsed": "false"
   },
   "outputs": [
    {
     "name": "stdout",
     "output_type": "stream",
     "text": [
      "0\n",
      "1\n",
      "0\n",
      "1\n",
      "[<Partition type=0, subtype=0, address=65536, size=1572864, label=factory, encrypted=0>]\n",
      "[<Partition type=1, subtype=2, address=36864, size=24576, label=nvs, encrypted=0>, <Partition type=1, subtype=1, address=61440, size=4096, label=phy_init, encrypted=0>, <Partition type=1, subtype=129, address=2097152, size=2097152, label=vfs, encrypted=0>]\n"
     ]
    }
   ],
   "source": [
    "# print(esp32.Partition.info())\n",
    "print(esp32.Partition.BOOT)\n",
    "print(esp32.Partition.RUNNING)\n",
    "print(esp32.Partition.TYPE_APP)\n",
    "print(esp32.Partition.TYPE_DATA)\n",
    "print(esp32.Partition.find(0))\n",
    "print(esp32.Partition.find(1))"
   ]
  }
 ],
 "metadata": {
  "kernelspec": {
   "display_name": "MicroPython - USB",
   "language": "micropython",
   "name": "micropython"
  },
  "language_info": {
   "codemirror_mode": "python",
   "file_extension": ".py",
   "mimetype": "text/python",
   "name": "micropython"
  },
  "toc-autonumbering": true,
  "toc-showcode": false,
  "toc-showmarkdowntxt": true,
  "toc-showtags": false
 },
 "nbformat": 4,
 "nbformat_minor": 4
}
