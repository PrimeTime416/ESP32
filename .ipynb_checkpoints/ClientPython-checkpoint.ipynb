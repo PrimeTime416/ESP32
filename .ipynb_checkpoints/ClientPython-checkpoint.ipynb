{
 "cells": [
  {
   "cell_type": "code",
   "execution_count": 21,
   "metadata": {},
   "outputs": [
    {
     "name": "stdout",
     "output_type": "stream",
     "text": [
      "b'I am SERVER\\n'\n"
     ]
    }
   ],
   "source": [
    "import socket\n",
    "sock = socket.socket(socket.AF_INET, socket.SOCK_STREAM)\n",
    "## Connect to an IP with Port, could be a URL\n",
    "sock.connect(('192.168.43.34', 80))\n",
    "## Send some data, this method can be called multiple times\n",
    "sock.send(b'Twenty-five bytes to send')\n",
    "## Receive up to 4096 bytes from a peer\n",
    "data = sock.recv(1024)\n",
    "print(data)\n",
    "## Close the socket connection, no more data transmission\n",
    "sock.close()"
   ]
  }
 ],
 "metadata": {
  "kernelspec": {
   "display_name": "Python 3",
   "language": "python",
   "name": "python3"
  },
  "language_info": {
   "codemirror_mode": {
    "name": "ipython",
    "version": 3
   },
   "file_extension": ".py",
   "mimetype": "text/x-python",
   "name": "python",
   "nbconvert_exporter": "python",
   "pygments_lexer": "ipython3",
   "version": "3.7.2"
  }
 },
 "nbformat": 4,
 "nbformat_minor": 4
}
