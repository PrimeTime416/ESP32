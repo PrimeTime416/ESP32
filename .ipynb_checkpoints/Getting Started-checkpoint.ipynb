{
 "cells": [
  {
   "cell_type": "markdown",
   "metadata": {},
   "source": [
    "<div>    \n",
    "<p style=\"color:white;text-align:center\"> <font size=\"7\"> Getting Started </font><p>\n",
    "<p> Please see link for a great blog on using MicroPython with Jupyter Lads:</p>\n",
    "<a href=\"https://towardsdatascience.com/micropython-on-esp-using-jupyter-6f366ff5ed9\">MicroPython on ESP Using Jupyter Notebook</a>\n",
    "<div>"
   ]
  },
  {
   "cell_type": "markdown",
   "metadata": {
    "toc-hr-collapsed": false
   },
   "source": [
    "<h1>Connecting to MCU using serial</h1>\n",
    "<p>Use <i>ls -a /dev/ttyUSB*</i> to see which port the MCU is connected to </p>"
   ]
  },
  {
   "cell_type": "code",
   "execution_count": 2,
   "metadata": {},
   "outputs": [
    {
     "name": "stdout",
     "output_type": "stream",
     "text": [
      "\u001b[34mConnecting to --port=/dev/ttyUSB0 --baud=115200 \u001b[0m\n",
      "\u001b[34mReady.\n",
      "\u001b[0m"
     ]
    }
   ],
   "source": [
    "%serialconnect to --port=/dev/ttyUSB0 --baud=115200"
   ]
  },
  {
   "cell_type": "code",
   "execution_count": 3,
   "metadata": {},
   "outputs": [
    {
     "name": "stdout",
     "output_type": "stream",
     "text": [
      "hello user1243\n"
     ]
    }
   ],
   "source": [
    "print(\"hello user1243\")"
   ]
  },
  {
   "cell_type": "markdown",
   "metadata": {},
   "source": [
    "<h1>Connecting to MCU GPIO</h1>\n",
    "<p> The <i>machine</i> library exposes most GPIO pins, its a good idea to consult your development board pin out. </p>\n",
    "<a href=\"http://docs.micropython.org/en/latest/library/machine.html\"> Machine Function Modules</a>"
   ]
  },
  {
   "cell_type": "code",
   "execution_count": 4,
   "metadata": {},
   "outputs": [
    {
     "name": "stdout",
     "output_type": "stream",
     "text": [
      "['__class__', '__name__', 'ADC', 'DEEPSLEEP', 'DEEPSLEEP_RESET', 'HARD_RESET', 'I2C', 'PWM', 'PWRON_RESET', 'Pin', 'RTC', 'SOFT_RESET', 'SPI', 'Signal', 'Timer', 'UART', 'WDT', 'WDT_RESET', 'deepsleep', 'disable_irq', 'enable_irq', 'freq', 'idle', 'mem16', 'mem32', 'mem8', 'reset', 'reset_cause', 'sleep', 'time_pulse_us', 'unique_id']\n"
     ]
    }
   ],
   "source": [
    "# Use dir to list all methods associate with library or class.\n",
    "import machine\n",
    "print(dir(machine))"
   ]
  },
  {
   "cell_type": "markdown",
   "metadata": {
    "toc-hr-collapsed": false
   },
   "source": [
    "<h1>class Pin – control I/O pins</h1>"
   ]
  },
  {
   "cell_type": "code",
   "execution_count": 4,
   "metadata": {},
   "outputs": [
    {
     "name": "stdout",
     "output_type": "stream",
     "text": [
      "['__class__', '__name__', 'IN', 'IRQ_FALLING', 'IRQ_RISING', 'OPEN_DRAIN', 'OUT', 'PULL_UP', 'init', 'irq', 'off', 'on', 'value']\n"
     ]
    }
   ],
   "source": [
    "print(dir(machine.Pin))"
   ]
  },
  {
   "cell_type": "code",
   "execution_count": 5,
   "metadata": {},
   "outputs": [],
   "source": [
    "# Connect variable name to MCU GPIO pin and set to output.\n",
    "led_blue = machine.Pin(2, machine.Pin.OUT)"
   ]
  },
  {
   "cell_type": "code",
   "execution_count": 6,
   "metadata": {},
   "outputs": [],
   "source": [
    "# Turn GPIO OFF\n",
    "led_blue.value(0)"
   ]
  },
  {
   "cell_type": "code",
   "execution_count": 7,
   "metadata": {},
   "outputs": [],
   "source": [
    "# Turn GPIO ON\n",
    "led_blue.value(1)"
   ]
  },
  {
   "cell_type": "code",
   "execution_count": 8,
   "metadata": {},
   "outputs": [],
   "source": [
    "# Turn GPIO OFF\n",
    "led_blue.off()"
   ]
  },
  {
   "cell_type": "code",
   "execution_count": 9,
   "metadata": {},
   "outputs": [],
   "source": [
    "# Turn GPIO ON\n",
    "led_blue.on()"
   ]
  },
  {
   "cell_type": "markdown",
   "metadata": {},
   "source": [
    "<p>Input: Reading GPIO</p>"
   ]
  },
  {
   "cell_type": "code",
   "execution_count": 25,
   "metadata": {},
   "outputs": [
    {
     "name": "stdout",
     "output_type": "stream",
     "text": [
      "1\n"
     ]
    }
   ],
   "source": [
    "import machine\n",
    "button_up = machine.Pin(13, machine.Pin.IN, machine.Pin.PULL_UP)\n",
    "print(button_up.value())"
   ]
  },
  {
   "cell_type": "code",
   "execution_count": 8,
   "metadata": {},
   "outputs": [
    {
     "name": "stdout",
     "output_type": "stream",
     "text": [
      "..\u001b[34m\n",
      "\n",
      "*** Sending Ctrl-C\n",
      "\n",
      "\u001b[0m"
     ]
    },
    {
     "name": "stderr",
     "output_type": "stream",
     "text": [
      "Traceback (most recent call last):\n",
      "  File \"<stdin>\", line 5, in <module>\n",
      "KeyboardInterrupt: \n"
     ]
    }
   ],
   "source": [
    "import machine\n",
    "button_up = machine.Pin(13, machine.Pin.IN, machine.Pin.PULL_UP)\n",
    "led_blue = machine.Pin(2, machine.Pin.OUT)\n",
    "while True :\n",
    "    led_blue.value(0) if button_up.value() == 0 else led_blue.value(1)"
   ]
  },
  {
   "cell_type": "markdown",
   "metadata": {},
   "source": [
    "<h1>class Time – MCU Timing Functions</h1>"
   ]
  },
  {
   "cell_type": "code",
   "execution_count": 10,
   "metadata": {},
   "outputs": [
    {
     "name": "stdout",
     "output_type": "stream",
     "text": [
      "..Time Cycle Completed\n"
     ]
    }
   ],
   "source": [
    "import machine\n",
    "from time import sleep\n",
    "\n",
    "led_blue = machine.Pin(2, machine.Pin.OUT)\n",
    "\n",
    "# Timing loop\n",
    "for i in range(14):\n",
    "    led_blue.off()\n",
    "    sleep(0.5)\n",
    "    led_blue.on()\n",
    "    sleep(0.5)\n",
    "print('Time Cycle Completed')"
   ]
  },
  {
   "cell_type": "markdown",
   "metadata": {},
   "source": [
    "<h1>class PWM – MCU Pulse Width Modulation</h1>"
   ]
  },
  {
   "cell_type": "code",
   "execution_count": null,
   "metadata": {},
   "outputs": [
    {
     "name": "stdout",
     "output_type": "stream",
     "text": [
      "20\n",
      "30\n",
      "40\n",
      "50\n",
      "60\n",
      "70\n",
      "80\n",
      "90\n",
      "100\n",
      "110\n",
      "120\n",
      "130\n",
      "140\n",
      "150\n",
      "160\n",
      "170\n",
      "180\n",
      "190\n",
      "200\n",
      "210\n",
      "220\n",
      "230\n",
      "240\n",
      "250\n",
      "260\n",
      "270\n",
      "280\n",
      "290\n",
      "300\n",
      "310\n",
      "320\n",
      "330\n",
      "340\n",
      "350\n",
      "360\n",
      "370\n",
      "380\n",
      "390\n",
      "400\n",
      "410\n",
      "420\n",
      "430\n",
      "440\n",
      "450\n",
      "460\n",
      "470\n",
      "480\n",
      "490\n",
      "500\n",
      "510\n",
      "520\n",
      "530\n",
      "540\n",
      "550\n",
      "560\n",
      "570\n",
      "580\n",
      "590\n",
      "600\n",
      "610\n",
      "620\n",
      "630\n",
      "640\n",
      "650\n",
      "660\n",
      "670\n",
      "680\n",
      "690\n",
      "700\n",
      "710\n",
      "720\n",
      "730\n",
      "740\n",
      "750\n",
      "760\n",
      "770\n",
      "780\n",
      "790\n",
      "800\n",
      "810\n",
      "820\n",
      "830\n",
      "840\n",
      "850\n",
      "860\n",
      "870\n",
      "880\n",
      "890\n",
      "900\n",
      "910\n",
      "920\n",
      "930\n",
      "940\n",
      "950\n",
      "960\n",
      "970\n",
      "980\n",
      "990\n",
      "1000\n",
      ".1010\n",
      "1020\n",
      "1030\n",
      "10\n",
      "20\n",
      "30\n",
      "40\n",
      "50\n",
      "......."
     ]
    }
   ],
   "source": [
    "import machine\n",
    "import time\n",
    "# button_up = machine.Pin(13, machine.Pin.IN, machine.Pin.PULL_UP)\n",
    "button_up = machine.Pin(13, machine.Pin.IN, machine.Pin.PULL_UP)\n",
    "# led_blue = machine.Pin(2, machine.Pin.OUT)\n",
    "frequencyX = 1000\n",
    "widthX = 10\n",
    "led_blue = machine.PWM(machine.Pin(2), frequencyX, duty=0)\n",
    "while widthX < 10000:\n",
    "    if button_up.value() == 1:\n",
    "        time.sleep(0.1)\n",
    "    else:\n",
    "        widthX += 10\n",
    "        led_blue.duty(widthX)\n",
    "        print(widthX)\n",
    "        time.sleep(0.1)\n",
    "        if widthX > 1023:\n",
    "            widthX = 0\n",
    "print(\"done\")"
   ]
  },
  {
   "cell_type": "code",
   "execution_count": 9,
   "metadata": {},
   "outputs": [
    {
     "name": "stdout",
     "output_type": "stream",
     "text": [
      "0\n",
      "0\n",
      "20\n",
      "0\n",
      "40\n",
      "0\n",
      "60\n",
      "0\n",
      "80\n",
      "0\n",
      "100\n",
      "0\n",
      "120\n",
      "0\n",
      "140\n",
      "0\n",
      "160\n",
      "0\n",
      "180\n",
      "0\n",
      "200\n",
      "0\n",
      "220\n",
      "0\n",
      "240\n",
      "0\n",
      "260\n",
      "0\n",
      "280\n",
      "0\n",
      "300\n",
      "0\n",
      "320\n",
      "0\n",
      "340\n",
      "0\n",
      "360\n",
      "0\n",
      "380\n",
      "0\n",
      "400\n",
      "0\n",
      "420\n",
      "0\n",
      "440\n",
      "0\n",
      "460\n",
      "0\n",
      "480\n",
      "0\n",
      "500\n",
      "0\n",
      "520\n",
      "0\n",
      "540\n",
      "0\n",
      ".560\n",
      "0\n",
      "580\n",
      "0\n",
      "600\n",
      "0\n",
      "620\n",
      "0\n",
      "640\n",
      "0\n",
      "660\n",
      "0\n",
      "680\n",
      "0\n",
      "700\n",
      "0\n",
      "720\n",
      "0\n",
      "740\n",
      "0\n",
      "760\n",
      "0\n",
      "780\n",
      "0\n",
      "800\n",
      "0\n",
      "820\n",
      "0\n",
      "840\n",
      "0\n",
      "860\n",
      "0\n",
      "880\n",
      "0\n",
      "900\n",
      "0\n",
      "920\n",
      "0\n",
      "940\n",
      "0\n",
      "960\n",
      "0\n",
      "980\n",
      "0\n",
      "1000\n",
      "0\n",
      "1020\n",
      "0\n"
     ]
    }
   ],
   "source": [
    "import time\n",
    "from machine import Pin, PWM\n",
    "\n",
    "pwm0 = PWM(Pin(2), freq=1000, duty=0)\n",
    "for i in range (0,1023,20):\n",
    "    pwm0.duty(i)\n",
    "#     time.sleep(0.1)\n",
    "    time.sleep(0.5)\n",
    "    print(pwm0.duty())\n",
    "    pwm0.duty(0)\n",
    "    print(pwm0.duty())\n",
    "    pwm0.deinit()"
   ]
  }
 ],
 "metadata": {
  "kernelspec": {
   "display_name": "MicroPython - USB",
   "language": "python",
   "name": "micropython"
  },
  "language_info": {
   "codemirror_mode": "python",
   "file_extension": ".py",
   "mimetype": "text/python",
   "name": "micropython"
  },
  "toc-autonumbering": true,
  "toc-showcode": false,
  "toc-showtags": false
 },
 "nbformat": 4,
 "nbformat_minor": 2
}
