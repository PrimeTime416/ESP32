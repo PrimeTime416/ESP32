{
 "cells": [
  {
   "cell_type": "markdown",
   "metadata": {
    "Collapsed": "false"
   },
   "source": [
    "<h1>Getting Started</h1>"
   ]
  },
  {
   "cell_type": "code",
   "execution_count": 2,
   "metadata": {
    "Collapsed": "false"
   },
   "outputs": [
    {
     "name": "stdout",
     "output_type": "stream",
     "text": [
      "%capture [--quiet] [--QUIET] outputfilename\n",
      "    records output to a file\n",
      "\n",
      "%comment\n",
      "    print this into output\n",
      "\n",
      "%disconnect [--raw]\n",
      "    disconnects from web/serial connection\n",
      "\n",
      "%esptool [--port PORT] {erase,esp32,esp8266} [binfile]\n",
      "    commands for flashing your esp-device\n",
      "\n",
      "%fetchfile [--binary] [--print] [--load] [--quiet] [--QUIET]\n",
      "                  sourcefilename [destinationfilename]\n",
      "    fetch and save a file from the device\n",
      "\n",
      "%ls [--recurse] [dirname]\n",
      "    list files on the device\n",
      "\n",
      "%lsmagic\n",
      "    list magic commands\n",
      "\n",
      "%mpy-cross [--set-exe SET_EXE] [pyfile]\n",
      "    cross-compile a .py file to a .mpy file\n",
      "\n",
      "%readbytes [--binary]\n",
      "    does serial.read_all()\n",
      "\n",
      "%rebootdevice\n",
      "    reboots device\n",
      "\n",
      "%sendtofile [--append] [--mkdir] [--binary] [--execute]\n",
      "                   [--source [SOURCE]] [--quiet] [--QUIET]\n",
      "                   [destinationfilename]\n",
      "    send cell contents or file/direcectory to the device\n",
      "\n",
      "%serialconnect [--raw] [--port PORT] [--baud BAUD] [--verbose]\n",
      "    connects to a device over USB wire\n",
      "\n",
      "%socketconnect [--raw] ipnumber portnumber\n",
      "    connects to a socket of a device over wifi\n",
      "\n",
      "%suppressendcode\n",
      "    doesn't send x04 or wait to read after sending the contents of the cell\n",
      "  (assists for debugging using %writebytes and %readbytes)\n",
      "\n",
      "%websocketconnect [--raw] [--password PASSWORD] [--verbose]\n",
      "                         [websocketurl]\n",
      "    connects to the webREPL websocket of an ESP8266 over wifi\n",
      "    websocketurl defaults to ws://192.168.4.1:8266 but be sure to be connected\n",
      "\n",
      "%writebytes [--binary] [--verbose] stringtosend\n",
      "    does serial.write() of the python quoted string given\n",
      "\n",
      "%%writefile [--append] [--execute] destinationfilename\n",
      "    write contents of cell to a file\n",
      "\n"
     ]
    }
   ],
   "source": [
    "%lsmagic"
   ]
  },
  {
   "cell_type": "markdown",
   "metadata": {
    "Collapsed": "false"
   },
   "source": [
    "<h1>Serial Connection</h1>"
   ]
  },
  {
   "cell_type": "code",
   "execution_count": 88,
   "metadata": {
    "Collapsed": "false"
   },
   "outputs": [
    {
     "name": "stdout",
     "output_type": "stream",
     "text": [
      "\u001b[34mConnecting to --port=/dev/ttyUSB0 --baud=115200 \u001b[0m\n",
      "\u001b[34mReady.\n",
      "\u001b[0m"
     ]
    }
   ],
   "source": [
    "%serialconnect --port /dev/ttyUSB0 --baud 115200"
   ]
  },
  {
   "cell_type": "code",
   "execution_count": 15,
   "metadata": {
    "Collapsed": "false"
   },
   "outputs": [
    {
     "name": "stdout",
     "output_type": "stream",
     "text": [
      "Listing directory '/'.\n",
      "      139    boot.py\n",
      "      119    run.py\n",
      "      321    test.py\n",
      "        0    test2.py\n",
      "        0    test3.py\n",
      "        0    test4.py\n"
     ]
    }
   ],
   "source": [
    "%ls"
   ]
  },
  {
   "cell_type": "markdown",
   "metadata": {
    "Collapsed": "false"
   },
   "source": [
    "<h1>List Modules on installed on specific MCU</h1>"
   ]
  },
  {
   "cell_type": "code",
   "execution_count": 3,
   "metadata": {
    "Collapsed": "false"
   },
   "outputs": [
    {
     "name": "stdout",
     "output_type": "stream",
     "text": [
      "__main__          gc                uctypes           urequests\n",
      "_boot             inisetup          uerrno            uselect\n",
      "_onewire          machine           uhashlib          usocket\n",
      "_thread           math              uhashlib          ussl\n",
      "_webrepl          micropython       uheapq            ustruct\n",
      "apa106            neopixel          uio               utime\n",
      "btree             network           ujson             utimeq\n",
      "builtins          ntptime           umqtt/robust      uwebsocket\n",
      "cmath             onewire           umqtt/simple      uzlib\n",
      "dht               sys               uos               webrepl\n",
      "ds18x20           uarray            upip              webrepl_setup\n",
      "esp               ubinascii         upip_utarfile     websocket_helper\n",
      "esp32             ubluetooth        upysh\n",
      "flashbdev         ucollections      urandom\n",
      "framebuf          ucryptolib        ure\n",
      "Plus any modules on the filesystem\n"
     ]
    }
   ],
   "source": [
    "help(\"modules\")"
   ]
  },
  {
   "cell_type": "markdown",
   "metadata": {
    "Collapsed": "false"
   },
   "source": [
    "<h1>%%writefile</h1> \n",
    "<p>[--append] [--execute] destination filename\n",
    "    write contents of cell to a file</p>\n",
    " <p>This magic command will only send the contents of the cell to the device, use the -e or --execute command to run the file on the MCU once copying is completed</p>"
   ]
  },
  {
   "cell_type": "code",
   "execution_count": null,
   "metadata": {
    "Collapsed": "false"
   },
   "outputs": [],
   "source": [
    "%%writefile -x test2.py\n",
    "import machine\n",
    "import time\n",
    "led_blue = machine.Pin(2, machine.Pin.OUT)\n",
    "led_blue.value(1)\n",
    "led_blue.value(0)\n",
    "print(\"hello world\")\n",
    "for i in range(1,12):\n",
    "    print(i)\n",
    "    \n",
    "# for i in range(0, 10):\n",
    "while True:\n",
    "    led_blue.value(1)\n",
    "    time.sleep(0.5)\n",
    "    led_blue.value(0)\n",
    "    time.sleep(0.5)\n",
    "    \n",
    "print(\"hello again :)\")"
   ]
  },
  {
   "cell_type": "markdown",
   "metadata": {
    "Collapsed": "false"
   },
   "source": [
    "<h1>%sendtofile</h1> \n",
    "<p>[--append] [--mkdir] [--binary] [--execute]\n",
    "                   [--source [SOURCE]] [--quiet] [--QUIET]\n",
    "                   [destinationfilename]\n",
    "    send cell contents or file/direcectory to the device</p>\n",
    "<p>This magic command will copy a file or cell to a destination file on the MCU, use the -e or --execute command to run the file on the MCU once copying is completed</p>"
   ]
  },
  {
   "cell_type": "code",
   "execution_count": null,
   "metadata": {
    "Collapsed": "false"
   },
   "outputs": [],
   "source": [
    "%sendtofile -x --source test2.py test4.py"
   ]
  },
  {
   "cell_type": "markdown",
   "metadata": {
    "Collapsed": "false"
   },
   "source": [
    "</br><p>This will copy the contents of the cell to a file and then run it.</p>"
   ]
  },
  {
   "cell_type": "code",
   "execution_count": 11,
   "metadata": {
    "Collapsed": "false"
   },
   "outputs": [
    {
     "name": "stdout",
     "output_type": "stream",
     "text": [
      "Sent 6 lines (119 bytes) to run.py.\n"
     ]
    }
   ],
   "source": [
    "%sendtofile -x  run.py\n",
    "import machine\n",
    "import time\n",
    "led_blue = machine.Pin(2, machine.Pin.OUT)\n",
    "led_blue.value(1)\n",
    "time.sleep(2)\n",
    "led_blue.value(0)"
   ]
  },
  {
   "cell_type": "markdown",
   "metadata": {
    "Collapsed": "false"
   },
   "source": [
    "<h1>%capture</h1> \n",
    "<p>[--quiet] [--QUIET] outputfilename records output</p>"
   ]
  },
  {
   "cell_type": "code",
   "execution_count": null,
   "metadata": {
    "Collapsed": "false"
   },
   "outputs": [],
   "source": [
    "%capture outfile.txt\n",
    "import machine\n",
    "import time\n",
    "led_blue = machine.Pin(2, machine.Pin.OUT)\n",
    "led_blue.value(1)\n",
    "led_blue.value(0)\n",
    "print(\"hello world\")\n",
    "for i in range(1,102):\n",
    "    print(i)\n",
    "    \n",
    "# for i in range(0, 10):\n",
    "while True:\n",
    "    led_blue.value(1)\n",
    "    time.sleep(0.5)\n",
    "    led_blue.value(0)\n",
    "    time.sleep(0.5)\n",
    "    \n",
    "print(\"hello again :)\")\n",
    "    "
   ]
  },
  {
   "cell_type": "markdown",
   "metadata": {
    "Collapsed": "false"
   },
   "source": [
    "<h1>%fetchfile</h1>\n",
    "<p> [--binary] [--print] [--load] [--quiet] [--QUIET]\n",
    "                  sourcefilename [destinationfilename]\n",
    "    fetch and save a file from the device</p>\n"
   ]
  },
  {
   "cell_type": "code",
   "execution_count": null,
   "metadata": {
    "Collapsed": "false"
   },
   "outputs": [
    {
     "name": "stdout",
     "output_type": "stream",
     "text": [
      "Fetched 321=321 bytes from test.py.\n",
      "Saving file to 'test3.py'"
     ]
    }
   ],
   "source": [
    "%fetchfile test.py test3.py"
   ]
  },
  {
   "cell_type": "code",
   "execution_count": null,
   "metadata": {
    "Collapsed": "false"
   },
   "outputs": [
    {
     "name": "stdout",
     "output_type": "stream",
     "text": [
      "# This file is executed on every boot (including wake-boot from deepsleep)\n",
      "#import esp\n",
      "#esp.osdebug(None)\n",
      "#import webrepl\n",
      "#webrepl.start()\n",
      "Saving file to 'test3.py'"
     ]
    }
   ],
   "source": [
    "# %ls\n",
    "# %fetchfile --print test.py\n",
    "# %fetchfile --load test.py\n",
    "# NOT WORKING FOR ME\n",
    "%fetchfile --print boot.py test3.py"
   ]
  },
  {
   "cell_type": "markdown",
   "metadata": {
    "Collapsed": "false"
   },
   "source": [
    "<h1>%mpy-cross</h1>\n",
    "<p>[--set-exe SET_EXE] [pyfile]\n",
    "    cross-compile a .py file to a .mpy file</p>\n"
   ]
  },
  {
   "cell_type": "code",
   "execution_count": 18,
   "metadata": {
    "Collapsed": "false"
   },
   "outputs": [
    {
     "name": "stdout",
     "output_type": "stream",
     "text": [
      "Listing directory '/'.\n",
      "      139    boot.py\n",
      "      119    run.py\n",
      "      321    test.py\n",
      "        0    test2.py\n",
      "        0    test3.py\n",
      "        0    test4.py\n"
     ]
    }
   ],
   "source": [
    "%ls\n",
    "# TODO: Did not work yet\n",
    "# %mpy-cross --set-exe SET_EXE test.py test33.mpy\n",
    "# NOT WORKING FOR ME\n",
    "%mpy-cross --set-exe SET_EXE test.py\n",
    "%ls"
   ]
  },
  {
   "cell_type": "markdown",
   "metadata": {
    "Collapsed": "false"
   },
   "source": [
    "<hr>\n",
    "<h1>class RTC – real time clock</h1>"
   ]
  },
  {
   "cell_type": "markdown",
   "metadata": {
    "Collapsed": "false"
   },
   "source": [
    "<br>\n",
    "<p>The 8-tuple has the following format:\n",
    "<br>weekday is 0-6 for Monday through Sunday.\n",
    "<br>subseconds counts down from 255 to 0\n",
    "<br>(year, month, day, weekday, hours, minutes, seconds, subseconds)</p>\n",
    "<li>(0) year includes the century (for example 2014).</li>\n",
    "<li>(1) month is 1-12</li>\n",
    "<li>(2) mday is 1-31 or yday 1-365/366</li>\n",
    "<li>(3) weekday is 0-6 for Mon-Sun <b><i>***Set to 0, being Auto Set by machine</i></b> </li>\n",
    "<li>(4) hour is 0-23</li>\n",
    "<li>(5) minute is 0-59</li>\n",
    "<li>(6) second is 0-59</li>\n",
    "<li>(7) subseconds</li>"
   ]
  },
  {
   "cell_type": "code",
   "execution_count": 3,
   "metadata": {
    "Collapsed": "false"
   },
   "outputs": [
    {
     "name": "stdout",
     "output_type": "stream",
     "text": [
      "['__class__', 'datetime', 'init', 'memory']\n",
      "(2020, 11, 30, 0, 0, 0, 0, 190)\n",
      "month 11\n",
      "weekday 0\n",
      "Monday 30, December 2020, 0:0:0\n"
     ]
    }
   ],
   "source": [
    "import machine\n",
    "\n",
    "rtc = machine.RTC()\n",
    "print(dir(rtc))\n",
    "datetime = rtc.datetime\n",
    "year = 2019\n",
    "month = 12\n",
    "day = 366\n",
    "weekday = 0\n",
    "hours = 0\n",
    "minutes = 0\n",
    "seconds = 0\n",
    "subseconds = 0\n",
    "\n",
    "datetime_format = \"{2} {3}, {1} {0}, {4}:{5}:{6}\"\n",
    "\n",
    "\n",
    "def get_time_date(getX, valueX):\n",
    "    weekday_list = ('Monday', 'Tuesday', 'Wednesday', 'Thursday', 'Friday', 'Saturday', 'Sunday')\n",
    "    month_list = ('January', 'February', 'March', 'April', 'May', 'June', 'July', 'August', 'September', 'Octber', 'December', 'January')\n",
    "    print(getX, valueX)\n",
    "    if getX == \"weekday\" : return weekday_list[valueX]\n",
    "    elif getX == \"month\" : return month_list[valueX - 1]\n",
    "\n",
    "\n",
    "rtc.init((year, month, day, weekday, hours, minutes, seconds, subseconds))\n",
    "\n",
    "print(rtc.datetime())\n",
    "# print(datetime_format.format(get_time_date('month', datetime()[1]), get_time_date('weekday', datetime()[2]), datetime()[1], datetime()[1], datetime()[1]))\n",
    "print(datetime_format.format(\n",
    "    datetime()[0], \n",
    "    get_time_date('month', datetime()[1]), \n",
    "    get_time_date('weekday', datetime()[3]), \n",
    "    datetime()[2], \n",
    "    datetime()[4], \n",
    "    datetime()[5],\n",
    "    datetime()[6],\n",
    "    datetime()[7],\n",
    "))"
   ]
  },
  {
   "cell_type": "code",
   "execution_count": 4,
   "metadata": {
    "Collapsed": "false"
   },
   "outputs": [
    {
     "name": "stdout",
     "output_type": "stream",
     "text": [
      "(2020, 11, 30, 0, 0, 0, 3, 915683)\n"
     ]
    }
   ],
   "source": [
    "print(rtc.datetime())"
   ]
  },
  {
   "cell_type": "markdown",
   "metadata": {
    "Collapsed": "false"
   },
   "source": [
    "<h1> Time: uTime:</h1>\n",
    "<p>Local Time:</p>\n",
    "<li>(0) year includes the century (for example 2014).</li>\n",
    "<li>(1) month is 1-12</li>\n",
    "<li>(2) mday is 1-31</li>\n",
    "<li>(3) hour is 0-23</li>\n",
    "<li>(4) minute is 0-59</li>\n",
    "<li>(5) second is 0-59</li>\n",
    "<li>(6) weekday is 0-6 for Mon-Sun</li>\n",
    "<li>(7) yearday is 1-366 <a href=\"https://www.epochconverter.com/daynumbers\">Year Day</a></li>\n"
   ]
  },
  {
   "cell_type": "code",
   "execution_count": 314,
   "metadata": {
    "Collapsed": "false"
   },
   "outputs": [
    {
     "name": "stdout",
     "output_type": "stream",
     "text": [
      "['__class__', '__name__', 'localtime', 'mktime', 'sleep', 'sleep_ms', 'sleep_us', 'ticks_add', 'ticks_cpu', 'ticks_diff', 'ticks_ms', 'ticks_us', 'time']\n",
      "633469020\n",
      "(2020, 1, 27, 19, 37, 0, 0, 27)\n",
      "470\n",
      "(2000, 1, 1, 0, 7, 50, 5, 1)\n",
      "(2020, 1, 27, 19, 44, 50, 0, 27)\n"
     ]
    }
   ],
   "source": [
    "import utime\n",
    "import machine\n",
    "print(dir(utime))\n",
    "\n",
    "set_time = utime.mktime((2020, 1, 27, 19, 37, 0, 0, 27))\n",
    "print(set_time)\n",
    "print(utime.localtime(set_time))\n",
    "\n",
    "print(utime.mktime(utime.localtime()))\n",
    "print(utime.localtime())\n",
    "print(utime.localtime(utime.ticks_add(set_time, utime.mktime(utime.localtime()))))\n",
    "\n",
    "# print(machine.RTC().datetime((2, 20 , 0, 0, 0, 0, 0, 0)))\n",
    "# print(machine.RTC().datetime((154644)))\n",
    "\n",
    "# print(utime.localtime())"
   ]
  },
  {
   "cell_type": "code",
   "execution_count": 264,
   "metadata": {
    "Collapsed": "false"
   },
   "outputs": [
    {
     "name": "stdout",
     "output_type": "stream",
     "text": [
      "(1956, 6, 21, 3, 18, 29, 52, 176501)\n",
      "(1956, 6, 21, 18, 29, 52, 3, 173)\n"
     ]
    }
   ],
   "source": [
    "print(machine.RTC().datetime())\n",
    "print(utime.localtime())\n"
   ]
  },
  {
   "cell_type": "code",
   "execution_count": 141,
   "metadata": {
    "Collapsed": "false"
   },
   "outputs": [
    {
     "name": "stdout",
     "output_type": "stream",
     "text": [
      "<class 'list'>\n",
      "{'Upgrade': ' websocket', 'User-Agent': ' Mozilla/5.0 (X11; Linux x86_64) AppleWebKit/537.36 (KHTML, like Gecko) Chrome/80.0.3987.87 Safari/537.36', 'Connection': ' Upgrade', 'GET / HTTP/1.1': 'GET / HTTP/1.1', 'Cache-Control': ' no-cache', 'Host': ' 192.168.43.34', 'Pragma': ' no-cache', 'Origin': ' chrome-extension', 'Accept-Language': ' en-GB,en-US;q=0.9,en;q=0.8,da;q=0.7', 'Sec-WebSocket-Key': ' 4Z+Bm7BJ83vLhD9JzjWEPg==', 'Sec-WebSocket-Extensions': ' permessage-deflate; client_max_window_bits', '': '', 'Accept-Encoding': ' gzip, deflate', 'Sec-WebSocket-Version': ' 13'}\n"
     ]
    }
   ],
   "source": [
    "# Make a dictionary out of a byte Object b''\n",
    "def get_meta(c):\n",
    "    c = c.decode(\"utf-8\")\n",
    "    holdX = c.split('\\r\\n')\n",
    "    print(type(holdX))\n",
    "    holdy = {}\n",
    "    for l in holdX:\n",
    "        dataX = len(l.split(':'))\n",
    "        if dataX > 1 :\n",
    "            holdy[str(l.split(':')[0])] = str(l.split(':')[1])\n",
    "        else:\n",
    "            holdy[str(l.split(':')[0])] = str(l.split(':')[0])\n",
    "\n",
    "    return holdy\n",
    "\n",
    "\n",
    "\n",
    "c = b'GET / HTTP/1.1\\r\\nHost: 192.168.43.34\\r\\nConnection: Upgrade\\r\\nPragma: no-cache\\r\\nCache-Control: no-cache\\r\\nUser-Agent: Mozilla/5.0 (X11; Linux x86_64) AppleWebKit/537.36 (KHTML, like Gecko) Chrome/80.0.3987.87 Safari/537.36\\r\\nUpgrade: websocket\\r\\nOrigin: chrome-extension://dpnkggieociffokefcfiocfkppakljgm\\r\\nSec-WebSocket-Version: 13\\r\\nAccept-Encoding: gzip, deflate\\r\\nAccept-Language: en-GB,en-US;q=0.9,en;q=0.8,da;q=0.7\\r\\nSec-WebSocket-Key: 4Z+Bm7BJ83vLhD9JzjWEPg==\\r\\nSec-WebSocket-Extensions: permessage-deflate; client_max_window_bits\\r\\n\\r\\n'\n",
    "print(get_meta(c))"
   ]
  }
 ],
 "metadata": {
  "kernelspec": {
   "display_name": "MicroPython - USB",
   "language": "micropython",
   "name": "micropython"
  },
  "language_info": {
   "codemirror_mode": "python",
   "file_extension": ".py",
   "mimetype": "text/python",
   "name": "micropython"
  },
  "toc-autonumbering": true,
  "toc-showcode": false,
  "toc-showmarkdowntxt": false
 },
 "nbformat": 4,
 "nbformat_minor": 4
}
