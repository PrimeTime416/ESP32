{
 "cells": [
  {
   "cell_type": "markdown",
   "metadata": {
    "Collapsed": "false"
   },
   "source": [
    "<h1>Getting Started</h1>"
   ]
  },
  {
   "cell_type": "code",
   "execution_count": 1,
   "metadata": {
    "Collapsed": "false"
   },
   "outputs": [
    {
     "name": "stdout",
     "output_type": "stream",
     "text": [
      "%capture [--quiet] [--QUIET] outputfilename\n",
      "    records output to a file\n",
      "\n",
      "%comment\n",
      "    print this into output\n",
      "\n",
      "%disconnect [--raw]\n",
      "    disconnects from web/serial connection\n",
      "\n",
      "%esptool [--port PORT] {erase,esp32,esp8266} [binfile]\n",
      "    commands for flashing your esp-device\n",
      "\n",
      "%fetchfile [--binary] [--print] [--quiet] [--QUIET]\n",
      "                  sourcefilename [destinationfilename]\n",
      "    fetch and save a file from the device\n",
      "\n",
      "%lsmagic\n",
      "    list magic commands\n",
      "\n",
      "%mpy-cross [--set-exe SET_EXE] [pyfile]\n",
      "    cross-compile a .py file to a .mpy file\n",
      "\n",
      "%readbytes [--binary]\n",
      "    does serial.read_all()\n",
      "\n",
      "%rebootdevice\n",
      "    reboots device\n",
      "\n",
      "%sendtofile [--append] [--mkdir] [--binary] [--execute]\n",
      "                   [--source [SOURCE]] [--quiet] [--QUIET]\n",
      "                   [destinationfilename]\n",
      "    send cell contents or file/direcectory to the device\n",
      "\n",
      "%serialconnect [--raw] [--port PORT] [--baud BAUD] [--verbose]\n",
      "    connects to a device over USB wire\n",
      "\n",
      "%socketconnect [--raw] ipnumber portnumber\n",
      "    connects to a socket of a device over wifi\n",
      "\n",
      "%suppressendcode\n",
      "    doesn't send x04 or wait to read after sending the contents of the cell\n",
      "  (assists for debugging using %writebytes and %readbytes)\n",
      "\n",
      "%websocketconnect [--raw] [--password PASSWORD] [--verbose]\n",
      "                         [websocketurl]\n",
      "    connects to the webREPL websocket of an ESP8266 over wifi\n",
      "    websocketurl defaults to ws://192.168.4.1:8266 but be sure to be connected\n",
      "\n",
      "%writebytes [--binary] [--verbose] stringtosend\n",
      "    does serial.write() of the python quoted string given\n",
      "\n",
      "%%writefile [--append] [--execute] destinationfilename\n",
      "    write contents of cell to a file\n",
      "\n"
     ]
    }
   ],
   "source": [
    "%lsmagic"
   ]
  },
  {
   "cell_type": "markdown",
   "metadata": {
    "Collapsed": "false"
   },
   "source": [
    "<h1>Serial Connection</h1>"
   ]
  },
  {
   "cell_type": "code",
   "execution_count": 2,
   "metadata": {
    "Collapsed": "false"
   },
   "outputs": [
    {
     "name": "stdout",
     "output_type": "stream",
     "text": [
      "\u001b[34mConnecting to --port=/dev/ttyUSB1 --baud=115200 \u001b[0m\n",
      "\u001b[34mReady.\n",
      "\u001b[0m"
     ]
    }
   ],
   "source": [
    "%serialconnect --port /dev/ttyUSB1 --baud 115200"
   ]
  },
  {
   "cell_type": "code",
   "execution_count": 8,
   "metadata": {
    "Collapsed": "false"
   },
   "outputs": [
    {
     "name": "stdout",
     "output_type": "stream",
     "text": [
      "\u001b[31mUnrecognized percentline ['%ls']\n",
      "\u001b[0m"
     ]
    }
   ],
   "source": [
    "%ls"
   ]
  },
  {
   "cell_type": "markdown",
   "metadata": {
    "Collapsed": "false"
   },
   "source": [
    "<h1>List Modules on installed on specific MCU</h1>"
   ]
  },
  {
   "cell_type": "code",
   "execution_count": 3,
   "metadata": {
    "Collapsed": "false"
   },
   "outputs": [
    {
     "name": "stdout",
     "output_type": "stream",
     "text": [
      "__main__          gc                uctypes           urequests\n",
      "_boot             inisetup          uerrno            uselect\n",
      "_onewire          machine           uhashlib          usocket\n",
      "_thread           math              uhashlib          ussl\n",
      "_webrepl          micropython       uheapq            ustruct\n",
      "apa106            neopixel          uio               utime\n",
      "btree             network           ujson             utimeq\n",
      "builtins          ntptime           umqtt/robust      uwebsocket\n",
      "cmath             onewire           umqtt/simple      uzlib\n",
      "dht               sys               uos               webrepl\n",
      "ds18x20           uarray            upip              webrepl_setup\n",
      "esp               ubinascii         upip_utarfile     websocket_helper\n",
      "esp32             ubluetooth        upysh\n",
      "flashbdev         ucollections      urandom\n",
      "framebuf          ucryptolib        ure\n",
      "Plus any modules on the filesystem\n"
     ]
    }
   ],
   "source": [
    "help(\"modules\")"
   ]
  },
  {
   "cell_type": "markdown",
   "metadata": {
    "Collapsed": "false"
   },
   "source": [
    "<h1>%%writefile</h1> \n",
    "<p>[--append] [--execute] destination filename\n",
    "    write contents of cell to a file</p>\n",
    " <p>This magic command will only send the contents of the cell to the device, use the -e or --execute command to run the file on the MCU once copying is completed</p>"
   ]
  },
  {
   "cell_type": "code",
   "execution_count": null,
   "metadata": {
    "Collapsed": "false"
   },
   "outputs": [],
   "source": [
    "%%writefile -x test2.py\n",
    "import machine\n",
    "import time\n",
    "led_blue = machine.Pin(2, machine.Pin.OUT)\n",
    "led_blue.value(1)\n",
    "led_blue.value(0)\n",
    "print(\"hello world\")\n",
    "for i in range(1,12):\n",
    "    print(i)\n",
    "    \n",
    "# for i in range(0, 10):\n",
    "while True:\n",
    "    led_blue.value(1)\n",
    "    time.sleep(0.5)\n",
    "    led_blue.value(0)\n",
    "    time.sleep(0.5)\n",
    "    \n",
    "print(\"hello again :)\")"
   ]
  },
  {
   "cell_type": "markdown",
   "metadata": {
    "Collapsed": "false"
   },
   "source": [
    "<h1>%sendtofile</h1> \n",
    "<p>[--append] [--mkdir] [--binary] [--execute]\n",
    "                   [--source [SOURCE]] [--quiet] [--QUIET]\n",
    "                   [destinationfilename]\n",
    "    send cell contents or file/direcectory to the device</p>\n",
    "<p>This magic command will copy a file or cell to a destination file on the MCU, use the -e or --execute command to run the file on the MCU once copying is completed</p>"
   ]
  },
  {
   "cell_type": "code",
   "execution_count": null,
   "metadata": {
    "Collapsed": "false"
   },
   "outputs": [],
   "source": [
    "%sendtofile -x --source test2.py test4.py"
   ]
  },
  {
   "cell_type": "markdown",
   "metadata": {
    "Collapsed": "false"
   },
   "source": [
    "</br><p>This will copy the contents of the cell to a file and then run it.</p>"
   ]
  },
  {
   "cell_type": "code",
   "execution_count": 11,
   "metadata": {
    "Collapsed": "false"
   },
   "outputs": [
    {
     "name": "stdout",
     "output_type": "stream",
     "text": [
      "Sent 6 lines (119 bytes) to run.py.\n"
     ]
    }
   ],
   "source": [
    "%sendtofile -x  run.py\n",
    "import machine\n",
    "import time\n",
    "led_blue = machine.Pin(2, machine.Pin.OUT)\n",
    "led_blue.value(1)\n",
    "time.sleep(2)\n",
    "led_blue.value(0)"
   ]
  },
  {
   "cell_type": "markdown",
   "metadata": {
    "Collapsed": "false"
   },
   "source": [
    "<h1>%capture</h1> \n",
    "<p>[--quiet] [--QUIET] outputfilename records output</p>"
   ]
  },
  {
   "cell_type": "code",
   "execution_count": null,
   "metadata": {
    "Collapsed": "false"
   },
   "outputs": [],
   "source": [
    "%capture outfile.txt\n",
    "import machine\n",
    "import time\n",
    "led_blue = machine.Pin(2, machine.Pin.OUT)\n",
    "led_blue.value(1)\n",
    "led_blue.value(0)\n",
    "print(\"hello world\")\n",
    "for i in range(1, 102):\n",
    "    print(i)\n",
    "\n",
    "# for i in range(0, 10):\n",
    "while True:\n",
    "    led_blue.value(1)\n",
    "    time.sleep(0.5)\n",
    "    led_blue.value(0)\n",
    "    time.sleep(0.5)\n",
    "\n",
    "print(\"hello again :)\")"
   ]
  },
  {
   "cell_type": "markdown",
   "metadata": {
    "Collapsed": "false"
   },
   "source": [
    "<h1>%fetchfile</h1>\n",
    "<p> [--binary] [--print] [--load] [--quiet] [--QUIET]\n",
    "                  sourcefilename [destinationfilename]\n",
    "    fetch and save a file from the device</p>\n"
   ]
  },
  {
   "cell_type": "code",
   "execution_count": null,
   "metadata": {
    "Collapsed": "false"
   },
   "outputs": [
    {
     "name": "stdout",
     "output_type": "stream",
     "text": [
      "Fetched 321=321 bytes from test.py.\n",
      "Saving file to 'test3.py'"
     ]
    }
   ],
   "source": [
    "%fetchfile test.py test3.py"
   ]
  },
  {
   "cell_type": "code",
   "execution_count": null,
   "metadata": {
    "Collapsed": "false"
   },
   "outputs": [
    {
     "name": "stdout",
     "output_type": "stream",
     "text": [
      "# This file is executed on every boot (including wake-boot from deepsleep)\n",
      "#import esp\n",
      "#esp.osdebug(None)\n",
      "#import webrepl\n",
      "#webrepl.start()\n",
      "Saving file to 'test3.py'"
     ]
    }
   ],
   "source": [
    "# %ls\n",
    "# %fetchfile --print test.py\n",
    "# %fetchfile --load test.py\n",
    "# NOT WORKING FOR ME\n",
    "%fetchfile --print boot.py test3.py"
   ]
  },
  {
   "cell_type": "markdown",
   "metadata": {
    "Collapsed": "false"
   },
   "source": [
    "<h1>%mpy-cross</h1>\n",
    "<p>[--set-exe SET_EXE] [pyfile]\n",
    "    cross-compile a .py file to a .mpy file</p>\n"
   ]
  },
  {
   "cell_type": "code",
   "execution_count": 18,
   "metadata": {
    "Collapsed": "false"
   },
   "outputs": [
    {
     "name": "stdout",
     "output_type": "stream",
     "text": [
      "Listing directory '/'.\n",
      "      139    boot.py\n",
      "      119    run.py\n",
      "      321    test.py\n",
      "        0    test2.py\n",
      "        0    test3.py\n",
      "        0    test4.py\n"
     ]
    }
   ],
   "source": [
    "%ls\n",
    "# TODO: Did not work yet\n",
    "# %mpy-cross --set-exe SET_EXE test.py test33.mpy\n",
    "# NOT WORKING FOR ME\n",
    "%mpy-cross --set-exe SET_EXE test.py\n",
    "%ls"
   ]
  },
  {
   "cell_type": "markdown",
   "metadata": {
    "Collapsed": "false"
   },
   "source": [
    "<hr>\n",
    "<h1>class RTC – real time clock</h1>"
   ]
  },
  {
   "cell_type": "markdown",
   "metadata": {
    "Collapsed": "false"
   },
   "source": [
    "<br>\n",
    "<p>The 8-tuple has the following format:\n",
    "<br>weekday is 0-6 for Monday through Sunday.\n",
    "<br>subseconds counts down from 255 to 0\n",
    "<br>(year, month, day, weekday, hours, minutes, seconds, subseconds)</p>\n",
    "<li>(0) year includes the century (for example 2014).</li>\n",
    "<li>(1) month is 1-12</li>\n",
    "<li>(2) mday is 1-31 or yday 1-365/366</li>\n",
    "<li>(3) weekday is 0-6 for Mon-Sun <b><i>***Set to 0, being Auto Set by machine</i></b> </li>\n",
    "<li>(4) hour is 0-23</li>\n",
    "<li>(5) minute is 0-59</li>\n",
    "<li>(6) second is 0-59</li>\n",
    "<li>(7) subseconds</li>"
   ]
  },
  {
   "cell_type": "code",
   "execution_count": 4,
   "metadata": {},
   "outputs": [],
   "source": [
    "def get_time_date():\n",
    "    import machine\n",
    "\n",
    "    rtc = machine.RTC()\n",
    "    datetime = rtc.datetime\n",
    "    datetime_format = \"{2} {3}, {1} {0}, {4}:{5}:{6}\"\n",
    "    weekday_list = ('Monday', 'Tuesday', 'Wednesday', 'Thursday', 'Friday', 'Saturday', 'Sunday')\n",
    "    month_list = ('January', 'February', 'March', 'April', 'May', 'June', 'July', 'August', 'September', 'Octber', 'December', 'January')\n",
    "    return (datetime_format.format(\n",
    "        datetime()[0],\n",
    "        month_list[datetime()[1] - 1],\n",
    "        weekday_list[datetime()[3]],\n",
    "        datetime()[2],\n",
    "        datetime()[4],\n",
    "        datetime()[5],\n",
    "        datetime()[6],\n",
    "        datetime()[7],\n",
    "    ))"
   ]
  },
  {
   "cell_type": "markdown",
   "metadata": {},
   "source": [
    "<br>\n",
    "<p>Set Time And Date<p>"
   ]
  },
  {
   "cell_type": "code",
   "execution_count": 5,
   "metadata": {
    "Collapsed": "false"
   },
   "outputs": [
    {
     "name": "stdout",
     "output_type": "stream",
     "text": [
      "Saturday 15, February 2020, 1:12:0\n"
     ]
    }
   ],
   "source": [
    "import machine\n",
    "rtc = machine.RTC()\n",
    "datetime = rtc.datetime\n",
    "\n",
    "year = 2020\n",
    "month = 2\n",
    "day = 15\n",
    "weekday = 0\n",
    "hours = 1\n",
    "minutes = 12\n",
    "seconds = 0\n",
    "subseconds = 0\n",
    "\n",
    "rtc.init((year, month, day, weekday, hours, minutes, seconds, subseconds))\n",
    "\n",
    "print(get_time_date())\n"
   ]
  },
  {
   "cell_type": "code",
   "execution_count": 6,
   "metadata": {
    "Collapsed": "false"
   },
   "outputs": [
    {
     "name": "stdout",
     "output_type": "stream",
     "text": [
      "(2020, 2, 15, 5, 1, 12, 14, 688717)\n",
      "Saturday 15, February 2020, 1:12:14\n"
     ]
    }
   ],
   "source": [
    "print(rtc.datetime())\n",
    "print(get_time_date())"
   ]
  },
  {
   "cell_type": "markdown",
   "metadata": {
    "Collapsed": "false"
   },
   "source": [
    "<h1> Time: uTime:</h1>\n",
    "<p>Local Time:</p>\n",
    "<li>(0) year includes the century (for example 2014).</li>\n",
    "<li>(1) month is 1-12</li>\n",
    "<li>(2) mday is 1-31</li>\n",
    "<li>(3) hour is 0-23</li>\n",
    "<li>(4) minute is 0-59</li>\n",
    "<li>(5) second is 0-59</li>\n",
    "<li>(6) weekday is 0-6 for Mon-Sun</li>\n",
    "<li>(7) yearday is 1-366 <a href=\"https://www.epochconverter.com/daynumbers\">Year Day</a></li>\n"
   ]
  },
  {
   "cell_type": "code",
   "execution_count": 7,
   "metadata": {
    "Collapsed": "false"
   },
   "outputs": [
    {
     "name": "stdout",
     "output_type": "stream",
     "text": [
      "['__class__', '__name__', 'localtime', 'mktime', 'sleep', 'sleep_ms', 'sleep_us', 'ticks_add', 'ticks_cpu', 'ticks_diff', 'ticks_ms', 'ticks_us', 'time']\n",
      "633469020\n",
      "(2020, 1, 27, 19, 37, 0, 0, 27)\n",
      "635044348\n",
      "(2020, 2, 15, 1, 12, 28, 5, 46)\n",
      "(2006, 3, 4, 7, 12, 24, 5, 63)\n"
     ]
    }
   ],
   "source": [
    "import utime\n",
    "import machine\n",
    "print(dir(utime))\n",
    "\n",
    "set_time = utime.mktime((2020, 1, 27, 19, 37, 0, 0, 27))\n",
    "print(set_time)\n",
    "print(utime.localtime(set_time))\n",
    "\n",
    "print(utime.mktime(utime.localtime()))\n",
    "print(utime.localtime())\n",
    "print(utime.localtime(utime.ticks_add(set_time, utime.mktime(utime.localtime()))))\n",
    "\n",
    "# print(machine.RTC().datetime((2, 20 , 0, 0, 0, 0, 0, 0)))\n",
    "# print(machine.RTC().datetime((154644)))\n",
    "\n",
    "# print(utime.localtime())"
   ]
  },
  {
   "cell_type": "code",
   "execution_count": 264,
   "metadata": {
    "Collapsed": "false"
   },
   "outputs": [
    {
     "name": "stdout",
     "output_type": "stream",
     "text": [
      "(1956, 6, 21, 3, 18, 29, 52, 176501)\n",
      "(1956, 6, 21, 18, 29, 52, 3, 173)\n"
     ]
    }
   ],
   "source": [
    "print(machine.RTC().datetime())\n",
    "print(utime.localtime())\n"
   ]
  },
  {
   "cell_type": "code",
   "execution_count": 141,
   "metadata": {
    "Collapsed": "false"
   },
   "outputs": [
    {
     "name": "stdout",
     "output_type": "stream",
     "text": [
      "<class 'list'>\n",
      "{'Upgrade': ' websocket', 'User-Agent': ' Mozilla/5.0 (X11; Linux x86_64) AppleWebKit/537.36 (KHTML, like Gecko) Chrome/80.0.3987.87 Safari/537.36', 'Connection': ' Upgrade', 'GET / HTTP/1.1': 'GET / HTTP/1.1', 'Cache-Control': ' no-cache', 'Host': ' 192.168.43.34', 'Pragma': ' no-cache', 'Origin': ' chrome-extension', 'Accept-Language': ' en-GB,en-US;q=0.9,en;q=0.8,da;q=0.7', 'Sec-WebSocket-Key': ' 4Z+Bm7BJ83vLhD9JzjWEPg==', 'Sec-WebSocket-Extensions': ' permessage-deflate; client_max_window_bits', '': '', 'Accept-Encoding': ' gzip, deflate', 'Sec-WebSocket-Version': ' 13'}\n"
     ]
    }
   ],
   "source": [
    "# Make a dictionary out of a byte Object b''\n",
    "\n",
    "def get_meta(c):\n",
    "    c = c.decode(\"utf-8\")\n",
    "    holdX = c.split('\\r\\n')\n",
    "    print(type(holdX))\n",
    "    holdy = {}\n",
    "    for l in holdX:\n",
    "        dataX = len(l.split(':'))\n",
    "        if dataX > 1:\n",
    "            holdy[str(l.split(':')[0])] = str(l.split(':')[1])\n",
    "        else:\n",
    "            holdy[str(l.split(':')[0])] = str(l.split(':')[0])\n",
    "\n",
    "    return holdy\n",
    "\n",
    "c = b'GET / HTTP/1.1\\r\\nHost: 192.168.43.34\\r\\nConnection: Upgrade\\r\\nPragma: no-cache\\r\\nCache-Control: no-cache\\r\\nUser-Agent: Mozilla/5.0 (X11; Linux x86_64) AppleWebKit/537.36 (KHTML, like Gecko) Chrome/80.0.3987.87 Safari/537.36\\r\\nUpgrade: websocket\\r\\nOrigin: chrome-extension://dpnkggieociffokefcfiocfkppakljgm\\r\\nSec-WebSocket-Version: 13\\r\\nAccept-Encoding: gzip, deflate\\r\\nAccept-Language: en-GB,en-US;q=0.9,en;q=0.8,da;q=0.7\\r\\nSec-WebSocket-Key: 4Z+Bm7BJ83vLhD9JzjWEPg==\\r\\nSec-WebSocket-Extensions: permessage-deflate; client_max_window_bits\\r\\n\\r\\n'\n",
    "print(get_meta(c))"
   ]
  },
  {
   "cell_type": "code",
   "execution_count": 8,
   "metadata": {
    "Collapsed": "false"
   },
   "outputs": [],
   "source": [
    "import uos"
   ]
  },
  {
   "cell_type": "code",
   "execution_count": 9,
   "metadata": {
    "Collapsed": "false"
   },
   "outputs": [
    {
     "name": "stdout",
     "output_type": "stream",
     "text": [
      "/\n"
     ]
    }
   ],
   "source": [
    "print(uos.getcwd())"
   ]
  },
  {
   "cell_type": "code",
   "execution_count": 10,
   "metadata": {
    "Collapsed": "false"
   },
   "outputs": [
    {
     "name": "stdout",
     "output_type": "stream",
     "text": [
      "('boot.py', 32768, 0, 139)\n",
      "(16384, 0, 0, 0, 0, 0, 0, 0, 0, 0)\n",
      "(4096, 4096, 506, 505, 505, 0, 0, 0, 0, 255)\n"
     ]
    }
   ],
   "source": [
    "files = uos.ilistdir()\n",
    "for f in files:\n",
    "    print(f)\n",
    "print(uos.stat('/'))\n",
    "\n",
    "print(uos.statvfs('/'))"
   ]
  },
  {
   "cell_type": "markdown",
   "metadata": {},
   "source": [
    "<br>\n",
    "<h1>Hash Lib</h1>\n",
    "<p>Should be used for non password security such as file verification not encryption</p>"
   ]
  },
  {
   "cell_type": "code",
   "execution_count": 13,
   "metadata": {},
   "outputs": [
    {
     "name": "stdout",
     "output_type": "stream",
     "text": [
      "__main__          gc                uctypes           urequests\n",
      "_boot             inisetup          uerrno            uselect\n",
      "_onewire          machine           uhashlib          usocket\n",
      "_thread           math              uhashlib          ussl\n",
      "_webrepl          micropython       uheapq            ustruct\n",
      "apa106            neopixel          uio               utime\n",
      "btree             network           ujson             utimeq\n",
      "builtins          ntptime           umqtt/robust      uwebsocket\n",
      "cmath             onewire           umqtt/simple      uzlib\n",
      "dht               sys               uos               webrepl\n",
      "ds18x20           uarray            upip              webrepl_setup\n",
      "esp               ubinascii         upip_utarfile     websocket_helper\n",
      "esp32             ubluetooth        upysh\n",
      "flashbdev         ucollections      urandom\n",
      "framebuf          ucryptolib        ure\n",
      "Plus any modules on the filesystem\n"
     ]
    }
   ],
   "source": [
    "help('modules')"
   ]
  },
  {
   "cell_type": "code",
   "execution_count": 27,
   "metadata": {},
   "outputs": [
    {
     "name": "stdout",
     "output_type": "stream",
     "text": [
      "object <module 'uhashlib'> is of type module\n",
      "  __name__ -- uhashlib\n",
      "  sha256 -- <class 'sha256'>\n",
      "  sha1 -- <class 'sha1'>\n",
      "object <class 'sha256'> is of type type\n",
      "  update -- <function>\n",
      "  digest -- <function>\n",
      "object <module 'ubinascii'> is of type module\n",
      "  __name__ -- ubinascii\n",
      "  hexlify -- <function>\n",
      "  unhexlify -- <function>\n",
      "  a2b_base64 -- <function>\n",
      "  b2a_base64 -- <function>\n",
      "  crc32 -- <function>\n"
     ]
    }
   ],
   "source": [
    "import uhashlib\n",
    "import ubinascii\n",
    "\n",
    "help(uhashlib)\n",
    "help(uhashlib.sha256)\n",
    "help(ubinascii)"
   ]
  },
  {
   "cell_type": "code",
   "execution_count": 33,
   "metadata": {},
   "outputs": [
    {
     "name": "stdout",
     "output_type": "stream",
     "text": [
      "b'\\x19Fw\\x88\\xbc\\x0c\\xf1\\x17\\x90\\xa0u\\xeaq\\x84R\\xce\\xcf\\x0ey\\xdbY\\xd1\\x96FpG^_\\xe2\\xe4\\xa6\\x11'\n",
      "b'\\x19Fw\\x88\\xbc\\x0c\\xf1\\x17\\x90\\xa0u\\xeaq\\x84R\\xce\\xcf\\x0ey\\xdbY\\xd1\\x96FpG^_\\xe2\\xe4\\xa6\\x11'\n",
      "b'19467788bc0cf11790a075ea718452cecf0e79db59d1964670475e5fe2e4a611'\n",
      "b'19467788bc0cf11790a075ea718452cecf0e79db59d1964670475e5fe2e4a611'\n"
     ]
    }
   ],
   "source": [
    "dataX = 'hash this'\n",
    "sha256_hash1 = uhashlib.sha256()\n",
    "sha256_hash2 = uhashlib.sha256(dataX)\n",
    "sha256_hash1.update(dataX)\n",
    "hash_key1 = sha256_hash1.digest()\n",
    "hash_key2 = sha256_hash2.digest()\n",
    "print(hash_key1)\n",
    "print(hash_key2)\n",
    "print(ubinascii.hexlify(hash_key1))\n",
    "print(ubinascii.hexlify(hash_key2))"
   ]
  },
  {
   "cell_type": "code",
   "execution_count": 34,
   "metadata": {},
   "outputs": [
    {
     "name": "stdout",
     "output_type": "stream",
     "text": [
      "b'v\\xe5\\xa7\\xef>\\xcc\\x835\\x8d\\xe6\\x81\\xa2j\\x01\\xcd\\xb2TI\\xfeP\\x91=y\\xd2(\\r\\xff\\r\\x8a\\xe7\\xa3)'\n",
      "b'v\\xe5\\xa7\\xef>\\xcc\\x835\\x8d\\xe6\\x81\\xa2j\\x01\\xcd\\xb2TI\\xfeP\\x91=y\\xd2(\\r\\xff\\r\\x8a\\xe7\\xa3)'\n",
      "b'76e5a7ef3ecc83358de681a26a01cdb25449fe50913d79d2280dff0d8ae7a329'\n",
      "b'76e5a7ef3ecc83358de681a26a01cdb25449fe50913d79d2280dff0d8ae7a329'\n"
     ]
    }
   ],
   "source": [
    "dataX = 'hash this'\n",
    "sha1_hash1 = uhashlib.sha1()\n",
    "sha1_hash2 = uhashlib.sha1(dataX)\n",
    "sha1_hash1.update(dataX)\n",
    "hash_key1 = sha256_hash1.digest()\n",
    "hash_key2 = sha256_hash2.digest()\n",
    "print(hash_key1)\n",
    "print(hash_key2)\n",
    "print(ubinascii.hexlify(hash_key1))\n",
    "print(ubinascii.hexlify(hash_key2))"
   ]
  },
  {
   "cell_type": "code",
   "execution_count": 50,
   "metadata": {},
   "outputs": [
    {
     "name": "stdout",
     "output_type": "stream",
     "text": [
      "User-Agent\n",
      "Accept\n",
      "Connection\n",
      "Cache-Control\n",
      "Accept-Language\n",
      "Accept-Encoding\n",
      "Host\n",
      "GET / HTTP/1.1\n",
      "Upgrade-Insecure-Requests\n",
      "\n",
      "Yes\n",
      "dict_keys(['User-Agent', 'Accept', 'Connection', 'Cache-Control', 'Accept-Language', 'Accept-Encoding', 'Host', 'GET / HTTP/1.1', 'Upgrade-Insecure-Requests', ''])\n",
      "dict_values([' Mozilla/5.0 (X11; Linux x86_64) AppleWebKit/537.36 (KHTML, like Gecko) Chrome/80.0.3987.106 Safari/537.36', ' text/html,application/xhtml+xml,application/xml;q=0.9,image/webp,image/apng,*/*;q=0.8,application/signed-exchange;v=b3;q=0.9', ' keep-alive', ' max-age=0', ' en-GB,en-US;q=0.9,en;q=0.8,da;q=0.7', ' gzip, deflate', ' 192.168.1.240', 'GET / HTTP/1.1', ' 1', ''])\n"
     ]
    }
   ],
   "source": [
    "Content = {'User-Agent': ' Mozilla/5.0 (X11; Linux x86_64) AppleWebKit/537.36 (KHTML, like Gecko) Chrome/80.0.3987.106 Safari/537.36', 'Accept': ' text/html,application/xhtml+xml,application/xml;q=0.9,image/webp,image/apng,*/*;q=0.8,application/signed-exchange;v=b3;q=0.9', 'Connection': ' keep-alive', 'Cache-Control': ' max-age=0', 'Accept-Language': ' en-GB,en-US;q=0.9,en;q=0.8,da;q=0.7', 'Accept-Encoding': ' gzip, deflate', 'Host': ' 192.168.1.240', 'GET / HTTP/1.1': 'GET / HTTP/1.1', 'Upgrade-Insecure-Requests': ' 1', '': ''}\n",
    "for i in Content:\n",
    "    print(i)\n",
    "\n",
    "if 'User-Agent' in Content:\n",
    "    print('Yes')\n",
    "else:\n",
    "    print('no')\n",
    "    \n",
    "\n",
    "print(Content.keys())\n",
    "print(Content.values())"
   ]
  },
  {
   "cell_type": "code",
   "execution_count": 61,
   "metadata": {},
   "outputs": [
    {
     "name": "stdout",
     "output_type": "stream",
     "text": [
      "b'HTTP/1.1 101 Switching Protocols\\r\\nUpgrade: websocket\\r\\nConnection: Upgrade\\r\\nSec-WebSocket-Accept: s3pPLMBiTxaQ9kYGzzhZRbK+xOo=\\r\\n\\r\\n'\n",
      "b'HTTP/1.1 101 Switching Protocols\\r\\nUpgrade: websocket\\r\\nConnection: Upgrade\\r\\nSec-WebSocket-Accept: s3pPLMBiTxaQ9kYGzzhZRbK+xOo=0000\\r\\n\\r\\n'\n"
     ]
    }
   ],
   "source": [
    "socketX_upgrade = bytes('HTTP/1.1 101 Switching Protocols\\r\\nUpgrade: websocket\\r\\nConnection: Upgrade\\r\\nSec-WebSocket-Accept: s3pPLMBiTxaQ9kYGzzhZRbK+xOo=\\r\\n\\r\\n', 'utf8')\n",
    "print(socketX_upgrade)\n",
    "header1 = 'HTTP/1.1 101 Switching Protocols\\r\\n'\n",
    "header2 = 'Upgrade: websocket\\r\\n'\n",
    "header3 = 'Connection: Upgrade\\r\\n'\n",
    "header_sec = 'Sec-WebSocket-Accept: {0}\\r\\n\\r\\n'.format('s3pPLMBiTxaQ9kYGzzhZRbK+xOo=')\n",
    "socketX_upgrade = bytes(header1+header2+header3+header_sec, 'utf8')\n",
    "print(socketX_upgrade)"
   ]
  },
  {
   "cell_type": "code",
   "execution_count": 12,
   "metadata": {},
   "outputs": [
    {
     "name": "stdout",
     "output_type": "stream",
     "text": [
      "['__class__', '__name__', 'main', '__file__', 'errno', 'gc', 'help', 'sys', 'usocket', 'ussl', 'uzlib', 'os', 'json', 'tarfile', 'debug', 'index_urls', 'install_path', 'cleanup_files', 'gzdict_sz', 'file_buf', 'NotFoundError', 'op_split', 'op_basename', '_makedirs', 'save_file', 'install_tar', 'expandhome', 'warn_ussl', 'url_open', 'get_pkg_metadata', 'fatal', 'install_pkg', 'install', 'get_install_path', 'cleanup']\n",
      "Installing to: /lib/\n",
      "Error installing 'https://github.com/micropython/micropython-lib/uasyncio': list index out of range, packages may be partially installed\n"
     ]
    }
   ],
   "source": [
    "import upip\n",
    "print(dir(upip))\n",
    "upip.install('https://github.com/micropython/micropython-lib/uasyncio')"
   ]
  }
 ],
 "metadata": {
  "kernelspec": {
   "display_name": "MicroPython - USB",
   "language": "python",
   "name": "micropython"
  },
  "language_info": {
   "codemirror_mode": "python",
   "file_extension": ".py",
   "mimetype": "text/python",
   "name": "micropython"
  },
  "toc-autonumbering": true,
  "toc-showcode": false,
  "toc-showmarkdowntxt": false
 },
 "nbformat": 4,
 "nbformat_minor": 4
}
