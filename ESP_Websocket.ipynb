{
 "cells": [
  {
   "cell_type": "code",
   "execution_count": 62,
   "metadata": {
    "Collapsed": "false"
   },
   "outputs": [
    {
     "name": "stdout",
     "output_type": "stream",
     "text": [
      "\u001b[34mConnecting to --port=/dev/ttyUSB0 --baud=115200 \u001b[0m\n",
      "\u001b[34mReady.\n",
      "\u001b[0m"
     ]
    }
   ],
   "source": [
    "%serialconnect to --port=/dev/ttyUSB0 --baud=115200"
   ]
  },
  {
   "cell_type": "code",
   "execution_count": 63,
   "metadata": {
    "Collapsed": "false"
   },
   "outputs": [],
   "source": [
    "# Complete project details at https://RandomNerdTutorials.com\n",
    "\n",
    "try:\n",
    "  import usocket as socket\n",
    "except:\n",
    "  import socket\n",
    "\n",
    "from machine import Pin\n",
    "import network\n",
    "\n",
    "import esp\n",
    "esp.osdebug(None)\n",
    "\n",
    "import utime\n",
    "\n",
    "import gc\n",
    "gc.collect()\n",
    "\n"
   ]
  },
  {
   "cell_type": "code",
   "execution_count": 64,
   "metadata": {
    "Collapsed": "false"
   },
   "outputs": [
    {
     "name": "stdout",
     "output_type": "stream",
     "text": [
      "Station Up:  False\n",
      "Acess Point Up:  False\n"
     ]
    }
   ],
   "source": [
    "sta_if = network.WLAN(network.STA_IF)\n",
    "ap_if = network.WLAN(network.AP_IF)\n",
    "print('Station Up: ', sta_if.active())\n",
    "print('Acess Point Up: ', ap_if.active())"
   ]
  },
  {
   "cell_type": "code",
   "execution_count": 65,
   "metadata": {
    "Collapsed": "false"
   },
   "outputs": [],
   "source": [
    "def connectX(typeX):\n",
    "    typeX.active(True)\n",
    "    print('Station Up: ', sta_if.active())\n",
    "    print('Acess Point Up: ', ap_if.active())\n",
    "    \n",
    "def scanX():\n",
    "    print('Status: %s\\n' % sta_if.status())\n",
    "    station_default = False\n",
    "    stations_list = sta_if.scan()\n",
    "    for i, n in enumerate(stations_list, start=0):\n",
    "        print('%s) %s' %(i, n))\n",
    "        if (n[0]) == b'SM-A1kerr':\n",
    "            station_default = True\n",
    "\n",
    "    if station_default == False:\n",
    "        print('*** PLEASE ENABLE DEFAULT STATION! ***')\n",
    "    return stations_list\n",
    "    "
   ]
  },
  {
   "cell_type": "code",
   "execution_count": 66,
   "metadata": {
    "Collapsed": "false"
   },
   "outputs": [
    {
     "name": "stdout",
     "output_type": "stream",
     "text": [
      "Station Up:  True\n",
      "Acess Point Up:  False\n",
      "Status: 1000\n",
      "\n",
      "0) (b'SM-A1kerr', b'\\x8e\\xf5\\xa3\\xa2\\x7fn', 1, -33, 3, False)\n",
      "1) (b'DIRECT-AD-HP OfficeJet Pro 7740', b'\\x1a`$i)\\xad', 6, -65, 3, False)\n",
      "2) (b'Sheridan Secure Access', b\"\\xa8\\xbd'\\x94d \", 11, -73, 5, False)\n",
      "3) (b'Staff Wireless', b\"\\xa8\\xbd'\\x94d!\", 11, -73, 5, False)\n",
      "4) (b'Public Wireless', b'\\xa8\\xbd\\'\\x94d\"', 11, -73, 0, False)\n",
      "5) (b'Sheridan Secure Access', b\"\\xa8\\xbd'\\x94o@\", 6, -77, 5, False)\n",
      "6) (b'Sheridan Secure Access', b\"\\xa8\\xbd'\\x94c\\xc0\", 1, -86, 5, False)\n",
      "7) (b'Sheridan Secure Access', b'\\xb0\\xb8g\\xbdz\\x00', 1, -86, 5, False)\n",
      "8) (b'Public Wireless', b'\\xb0\\xb8g\\xbdz\\x02', 1, -86, 0, False)\n",
      "9) (b'Staff Wireless', b\"\\xa8\\xbd'\\x93AA\", 11, -87, 5, False)\n",
      "10) (b'Sheridan Secure Access', b\"\\xa8\\xbd'\\x93A@\", 11, -88, 5, False)\n"
     ]
    }
   ],
   "source": [
    "connectX(sta_if)\n",
    "stations_list = []\n",
    "\n",
    "\n",
    "if sta_if.active():\n",
    "#     print('Station Up: ', sta_if.active())\n",
    "    stations_list = scanX()\n",
    "#     print(stations_list)\n",
    "#     print(sta_if.status())\n",
    "elif ap_if.active():\n",
    "    print('Acess Point Up: ', ap_if.active())"
   ]
  },
  {
   "cell_type": "code",
   "execution_count": 67,
   "metadata": {
    "Collapsed": "false"
   },
   "outputs": [
    {
     "name": "stdout",
     "output_type": "stream",
     "text": [
      "Connecting to:  b'SM-A1kerr'\n",
      "Trying to connet to server!\n",
      "Trying to connet to server!\n",
      ".Status: 1010\n",
      "\n",
      "Is connected:  True\n",
      "Connected to:  SM-A1kerr\n",
      "ifconfig:  ('192.168.43.34', '255.255.255.0', '192.168.43.1', '192.168.43.1')\n"
     ]
    }
   ],
   "source": [
    "print('Connecting to: ', stations_list[0][0])\n",
    "while not(sta_if.isconnected()):\n",
    "    print('Trying to connet to server!')\n",
    "    sta_if.connect(stations_list[0][0], '9054830760')\n",
    "    utime.sleep(2)\n",
    "\n",
    "print('Status: %s\\n' % sta_if.status())\n",
    "print('Is connected: ', sta_if.isconnected())\n",
    "print('Connected to: ', sta_if.config('essid'))\n",
    "print('ifconfig: ', sta_if.ifconfig())\n"
   ]
  },
  {
   "cell_type": "markdown",
   "metadata": {
    "Collapsed": "false"
   },
   "source": [
    "<br>\n",
    "<p>\n",
    "Format of getaddrinfo:  [(2, 1, 0, '192.168.43.34', ('192.168.43.34', 80))]\n",
    "</p>"
   ]
  },
  {
   "cell_type": "code",
   "execution_count": 68,
   "metadata": {
    "Collapsed": "false"
   },
   "outputs": [
    {
     "name": "stdout",
     "output_type": "stream",
     "text": [
      "Bind:  ('192.168.43.34', 80)\n",
      ".Got a connection!: \n",
      "Got a connection from ('192.168.43.84', 50512)\n",
      "Content = b'Twenty-five bytes to send'\n",
      "..........................Got a connection!: \n",
      "Got a connection from ('192.168.43.84', 50866)\n",
      "Content = b'\\x16\\x03\\x01\\x02\\x00\\x01\\x00\\x01\\xfc\\x03\\x03\\x99_\\xc0\\x16\\x17\\xc1\\x0e\\xb6\\xa4m\\x8b&\\xc5\\xb4>\\x16\\x86}\\xea\\xe1\\x7fO\\x065\\x08_\\x1a\\x85+\\xfeW\\xa9 7d\\xe1\\x0e\\xee\\x14\\xb9\\x85L\\\\hqE\\x86\\x05\\xb5\\xad\\x93q8e\\x8d\\xf6\\xe7\\xe2[\\xd7\\xcdp\\xc3+\\xc3\\x00\"\\n\\n\\x13\\x03\\x13\\x01\\x13\\x02\\xcc\\xa9\\xcc\\xa8\\xc0+\\xc0/\\xc0,\\xc00\\xc0\\x13\\xc0\\x14\\x00\\x9c\\x00\\x9d\\x00/\\x005\\x00\\n\\x01\\x00\\x01\\x91JJ\\x00\\x00\\x00\\x17\\x00\\x00\\xff\\x01\\x00\\x01\\x00\\x00\\n\\x00\\n\\x00\\x08\\x9a\\x9a\\x00\\x1d\\x00\\x17\\x00\\x18\\x00\\x0b\\x00\\x02\\x01\\x00\\x00#\\x00\\x00\\x00\\x05\\x00\\x05\\x01\\x00\\x00\\x00\\x00\\x00\\r\\x00\\x14\\x00\\x12\\x04\\x03\\x08\\x04\\x04\\x01\\x05\\x03\\x08\\x05\\x05\\x01\\x08\\x06\\x06\\x01\\x02\\x01\\x00\\x12\\x00\\x00\\x003\\x00+\\x00)\\x9a\\x9a\\x00\\x01\\x00\\x00\\x1d\\x00 `E{\\xf7\\x98\\x11\\xb4p\\xc7\\xd4\\xe4\\xf0%\\xc9\\xfb\\x9a\\xa1\\x98\\x89\\x05\\xaax\\x98b\\xc0\\x1e\\x832m\\x86TW\\x00-\\x00\\x02\\x01\\x01\\x00+\\x00\\x0b\\n\\n\\n\\x03\\x04\\x03\\x03\\x03\\x02\\x03\\x01\\x00\\x1b\\x00\\x03\\x02\\x00\\x02\\xca\\xca\\x00\\x01\\x00\\x00\\x15\\x00\\xf3\\x00\\x00\\x00\\x00\\x00\\x00\\x00\\x00\\x00\\x00\\x00\\x00\\x00\\x00\\x00\\x00\\x00\\x00\\x00\\x00\\x00\\x00\\x00\\x00\\x00\\x00\\x00\\x00\\x00\\x00\\x00\\x00\\x00\\x00\\x00\\x00\\x00\\x00\\x00\\x00\\x00\\x00\\x00\\x00\\x00\\x00\\x00\\x00\\x00\\x00\\x00\\x00\\x00\\x00\\x00\\x00\\x00\\x00\\x00\\x00\\x00\\x00\\x00\\x00\\x00\\x00\\x00\\x00\\x00\\x00\\x00\\x00\\x00\\x00\\x00\\x00\\x00\\x00\\x00\\x00\\x00\\x00\\x00\\x00\\x00\\x00\\x00\\x00\\x00\\x00\\x00\\x00\\x00\\x00\\x00\\x00\\x00\\x00\\x00\\x00\\x00\\x00\\x00\\x00\\x00\\x00\\x00\\x00\\x00\\x00\\x00\\x00\\x00\\x00\\x00\\x00\\x00\\x00\\x00\\x00\\x00\\x00\\x00\\x00\\x00\\x00\\x00\\x00\\x00\\x00\\x00\\x00\\x00\\x00\\x00\\x00\\x00\\x00\\x00\\x00\\x00\\x00\\x00\\x00\\x00\\x00\\x00\\x00\\x00\\x00\\x00\\x00\\x00\\x00\\x00\\x00\\x00\\x00\\x00\\x00\\x00\\x00\\x00\\x00\\x00\\x00\\x00\\x00\\x00\\x00\\x00\\x00\\x00\\x00\\x00\\x00\\x00\\x00\\x00\\x00\\x00\\x00\\x00\\x00\\x00\\x00\\x00\\x00\\x00\\x00\\x00\\x00\\x00\\x00\\x00\\x00\\x00\\x00\\x00\\x00\\x00\\x00\\x00\\x00\\x00\\x00\\x00\\x00\\x00\\x00\\x00\\x00\\x00\\x00\\x00\\x00\\x00\\x00\\x00\\x00\\x00\\x00\\x00\\x00\\x00\\x00\\x00\\x00\\x00\\x00\\x00\\x00\\x00\\x00\\x00\\x00\\x00\\x00\\x00\\x00\\x00\\x00\\x00'\n",
      ".................................................Got a connection!: \n",
      "Got a connection from ('192.168.43.84', 53146)\n",
      "Content = b'GET / HTTP/1.1\\r\\nHost: 192.168.43.34\\r\\nConnection: Upgrade\\r\\nPragma: no-cache\\r\\nCache-Control: no-cache\\r\\nUser-Agent: Mozilla/5.0 (X11; Linux x86_64) AppleWebKit/537.36 (KHTML, like Gecko) Chrome/80.0.3987.87 Safari/537.36\\r\\nUpgrade: websocket\\r\\nOrigin: chrome-extension://dpnkggieociffokefcfiocfkppakljgm\\r\\nSec-WebSocket-Version: 13\\r\\nAccept-Encoding: gzip, deflate\\r\\nAccept-Language: en-GB,en-US;q=0.9,en;q=0.8,da;q=0.7\\r\\nSec-WebSocket-Key: AVqF93Q7bIJYGNbYS4REfg==\\r\\nSec-WebSocket-Extensions: permessage-deflate; client_max_window_bits\\r\\n\\r\\n'\n",
      "...................................................................................................................................................................................................................................................................................................................................................................................................................................\u001b[34m\n",
      "\n",
      "*** Sending Ctrl-C\n",
      "\n",
      "\u001b[0m"
     ]
    },
    {
     "name": "stderr",
     "output_type": "stream",
     "text": [
      "Traceback (most recent call last):\n",
      "  File \"<stdin>\", line 43, in <module>\n",
      "KeyboardInterrupt: \n"
     ]
    }
   ],
   "source": [
    "# Complete project details at https://RandomNerdTutorials.com\n",
    "\n",
    "import socket\n",
    "addr_socket = socket.getaddrinfo('192.168.43.34', 80)[0][4]\n",
    "# addr = socket.getaddrinfo('192.168.43.34', 80)\n",
    "led = Pin(2, Pin.OUT)\n",
    "\n",
    "def web_page():\n",
    "  if led.value() == 1:\n",
    "    gpio_state=\"ON\"\n",
    "  else:\n",
    "    gpio_state=\"OFF\"\n",
    "  \n",
    "  html = \"\"\"<html><head> <title>ESP Web Server</title> <meta name=\"viewport\" content=\"width=device-width, initial-scale=1\">\n",
    "  <link rel=\"icon\" href=\"data:,\"> <style>html{font-family: Helvetica; display:inline-block; margin: 0px auto; text-align: center;}\n",
    "  h1{color: #0F3376; padding: 2vh;}p{font-size: 1.5rem;}.button{display: inline-block; background-color: #e7bd3b; border: none; \n",
    "  border-radius: 4px; color: white; padding: 16px 40px; text-decoration: none; font-size: 30px; margin: 2px; cursor: pointer;}\n",
    "  .button2{background-color: #4286f4;}</style></head><body> <h1>ESP Web Server</h1> \n",
    "  <p>GPIO state: <strong>\"\"\" + gpio_state + \"\"\"</strong></p><p><a href=\"/?led=on\"><button class=\"button\">ON</button></a></p>\n",
    "  <p><a href=\"/?led=off\"><button class=\"button button2\">OFF</button></a></p></body></html>\"\"\"\n",
    "  return html\n",
    "\n",
    "html2 = \"\"\"<!DOCTYPE html>\n",
    "<html>\n",
    "    <head> <title>ESP8266 Pins</title> </head>\n",
    "    <body> <h1>ESP8266 Pins</h1>\n",
    "        <table border=\"1\"> <tr><th>Pin</th><th>Value</th></tr> %s </table>\n",
    "    </body>\n",
    "</html>\n",
    "\"\"\"\n",
    "\n",
    "s = socket.socket(socket.AF_INET, socket.SOCK_STREAM)\n",
    "# s.bind(('', 80))\n",
    "# s.bind(addr)\n",
    "s.bind(('192.168.43.34', 80))\n",
    "print('Bind: ', addr_socket)\n",
    "# print('Bind: %s' % addr[0])\n",
    "# print('Bind: %s' % addr[0][-1])\n",
    "s.listen(5)\n",
    "\n",
    "while True:\n",
    "    # #      clientX = s.accept()\n",
    "    conn, addr = s.accept()\n",
    "    print('Got a connection!: ')\n",
    "    #      print('Address: %s' % addr[0])\n",
    "    #      print('Address: %s' % addr[1])\n",
    "    # #      print(clientX[1])\n",
    "    # #      print(' %s' % str(addr))\n",
    "    print('Got a connection from %s' % str(addr))\n",
    "    request = conn.recv(1024)\n",
    "    request = str(request)\n",
    "    print('Content = %s' % request)\n",
    "    conn.send(\"I am SERVER\\n\")\n",
    "    conn.close()\n",
    "    #   led_on = request.find('/?led=on')\n",
    "    #   led_off = request.find('/?led=off')\n",
    "    #   if led_on == 6:\n",
    "    #     print('LED ON')\n",
    "    #     led.value(1)\n",
    "    #   if led_off == 6:\n",
    "    #     print('LED OFF')\n",
    "    #     led.value(0)\n",
    "    #   response = web_page()\n",
    "#      conn.send('HTTP/1.1 200 OK\\n')\n",
    "#      conn.send('Content-Type: text/html\\n')\n",
    "#      conn.send('Connection: close\\n\\n')\n",
    "    #   conn.sendall(response)\n",
    "print('Server closed: ')\n",
    "        "
   ]
  }
 ],
 "metadata": {
  "kernelspec": {
   "display_name": "MicroPython - USB",
   "language": "micropython",
   "name": "micropython"
  },
  "language_info": {
   "codemirror_mode": "python",
   "file_extension": ".py",
   "mimetype": "text/python",
   "name": "micropython"
  }
 },
 "nbformat": 4,
 "nbformat_minor": 4
}
