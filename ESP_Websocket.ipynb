{
 "cells": [
  {
   "cell_type": "code",
   "execution_count": 248,
   "metadata": {
    "Collapsed": "false"
   },
   "outputs": [
    {
     "name": "stdout",
     "output_type": "stream",
     "text": [
      "\u001b[34mConnecting to --port=/dev/ttyUSB0 --baud=115200 \u001b[0m\n",
      "\u001b[34mReady.\n",
      "\u001b[0m"
     ]
    }
   ],
   "source": [
    "%serialconnect to --port=/dev/ttyUSB0 --baud=115200"
   ]
  },
  {
   "cell_type": "code",
   "execution_count": 249,
   "metadata": {
    "Collapsed": "false"
   },
   "outputs": [],
   "source": [
    "# Complete project details at https://RandomNerdTutorials.com\n",
    "\n",
    "try:\n",
    "  import usocket as socket\n",
    "except:\n",
    "  import socket\n",
    "\n",
    "from machine import Pin\n",
    "import network\n",
    "\n",
    "import esp\n",
    "esp.osdebug(None)\n",
    "\n",
    "import gc\n",
    "gc.collect()\n",
    "\n"
   ]
  },
  {
   "cell_type": "code",
   "execution_count": 250,
   "metadata": {
    "Collapsed": "false"
   },
   "outputs": [
    {
     "name": "stdout",
     "output_type": "stream",
     "text": [
      "Station Up:  False\n",
      "Acess Point Up:  False\n"
     ]
    }
   ],
   "source": [
    "sta_if = network.WLAN(network.STA_IF)\n",
    "ap_if = network.WLAN(network.AP_IF)\n",
    "print('Station Up: ', sta_if.active())\n",
    "print('Acess Point Up: ', ap_if.active())"
   ]
  },
  {
   "cell_type": "code",
   "execution_count": 251,
   "metadata": {
    "Collapsed": "false"
   },
   "outputs": [],
   "source": [
    "def connectX(typeX):\n",
    "    typeX.active(True)\n",
    "    print('Station Up: ', sta_if.active())\n",
    "    print('Acess Point Up: ', ap_if.active())\n",
    "    \n",
    "def scanX():\n",
    "    print('Status: %s\\n' % sta_if.status())\n",
    "    stations_list = sta_if.scan()\n",
    "    for i, n in enumerate(stations_list, start=0):\n",
    "        print('%s) %s' %(i, n))\n",
    "    return stations_list\n",
    "    "
   ]
  },
  {
   "cell_type": "code",
   "execution_count": 252,
   "metadata": {
    "Collapsed": "false"
   },
   "outputs": [
    {
     "name": "stdout",
     "output_type": "stream",
     "text": [
      "Station Up:  True\n",
      "Acess Point Up:  False\n",
      "Status: 1000\n",
      "\n",
      "0) (b'SM-A1kerr', b'\\x8e\\xf5\\xa3\\xa2\\x7fn', 1, -43, 3, False)\n",
      "1) (b'notes', b'\\x04\\xbd\\x88\\xc4\\x80c', 1, -51, 3, False)\n",
      "2) (b'Starbucks WiFi', b'\\x04\\xbd\\x88\\xc4\\x80`', 1, -53, 0, False)\n",
      "3) (b'BELL297', b'4\\x8a\\xaejI\\xf6', 6, -55, 3, False)\n",
      "4) (b'BELL534', b'D\\xe9\\xddF\\x0er', 6, -56, 3, False)\n",
      "5) (b'BELL438', b'\\x007\\xb7\\xeb\\xc6\\xf6', 1, -58, 3, False)\n",
      "6) (b'BELL438-V', b'\\x027\\xb7\\xeb\\xc6\\xf6', 1, -58, 3, False)\n",
      "7) (b'FreshiiStore#1258', b'\\x02\\xc7\\xbf\\xeb\\xddD', 6, -68, 3, False)\n",
      "8) (b'FreshiiGuest', b'\\x12\\xc7\\xbf\\xeb\\xddD', 6, -72, 0, False)\n",
      "9) (b'Unoapp', b'P\\xc7\\xbf\\xeb\\xddD', 6, -73, 3, False)\n",
      "10) (b'DIRECT-8A-HP OfficeJet Pro 8710', b'\\xac\\xe2\\xd3\\xc6\\x91\\x91', 6, -75, 3, False)\n",
      "11) (b'BELL086-V', b'\\n\\x1ex\\tp\\xee', 6, -89, 3, False)\n",
      "12) (b'BELL461', b'@e\\xa3\\xae\\xb4v', 11, -90, 3, False)\n"
     ]
    }
   ],
   "source": [
    "connectX(sta_if)\n",
    "stations_list = []\n",
    "\n",
    "\n",
    "if sta_if.active():\n",
    "#     print('Station Up: ', sta_if.active())\n",
    "    stations_list = scanX()\n",
    "#     print(stations_list)\n",
    "#     print(sta_if.status())\n",
    "elif ap_if.active():\n",
    "    print('Acess Point Up: ', ap_if.active())"
   ]
  },
  {
   "cell_type": "code",
   "execution_count": 254,
   "metadata": {
    "Collapsed": "false"
   },
   "outputs": [
    {
     "name": "stdout",
     "output_type": "stream",
     "text": [
      "Connecting to:  b'SM-A1kerr'\n",
      "Status: 1010\n",
      "\n",
      "Is connected:  True\n",
      "Connected to:  SM-A1kerr\n",
      "ifconfig:  ('192.168.43.34', '255.255.255.0', '192.168.43.1', '192.168.43.1')\n"
     ]
    }
   ],
   "source": [
    "print('Connecting to: ', stations_list[0][0])\n",
    "sta_if.connect(stations_list[0][0], '9054830760')\n",
    "print('Status: %s\\n' % sta_if.status())\n",
    "print('Is connected: ', sta_if.isconnected())\n",
    "print('Connected to: ', sta_if.config('essid'))\n",
    "print('ifconfig: ', sta_if.ifconfig())\n"
   ]
  },
  {
   "cell_type": "code",
   "execution_count": 107,
   "metadata": {
    "Collapsed": "false"
   },
   "outputs": [
    {
     "name": "stdout",
     "output_type": "stream",
     "text": [
      "ifconfig:  ('0.0.0.0', '0.0.0.0', '0.0.0.0', '0.0.0.0')\n"
     ]
    }
   ],
   "source": [
    "print('ifconfig: ', sta_if.ifconfig())"
   ]
  },
  {
   "cell_type": "markdown",
   "metadata": {
    "Collapsed": "false"
   },
   "source": [
    "<br>\n",
    "<p>\n",
    "Format of getaddrinfo:  [(2, 1, 0, '192.168.43.34', ('192.168.43.34', 80))]\n",
    "</p>"
   ]
  },
  {
   "cell_type": "code",
   "execution_count": 260,
   "metadata": {
    "Collapsed": "false"
   },
   "outputs": [
    {
     "name": "stdout",
     "output_type": "stream",
     "text": [
      "Bind:  ('192.168.43.34', 80)\n"
     ]
    }
   ],
   "source": [
    "# Complete project details at https://RandomNerdTutorials.com\n",
    "\n",
    "import socket\n",
    "addr_socket = socket.getaddrinfo('192.168.43.34', 80)[0][4]\n",
    "# addr = socket.getaddrinfo('192.168.43.34', 80)\n",
    "led = Pin(2, Pin.OUT)\n",
    "\n",
    "def web_page():\n",
    "  if led.value() == 1:\n",
    "    gpio_state=\"ON\"\n",
    "  else:\n",
    "    gpio_state=\"OFF\"\n",
    "  \n",
    "  html = \"\"\"<html><head> <title>ESP Web Server</title> <meta name=\"viewport\" content=\"width=device-width, initial-scale=1\">\n",
    "  <link rel=\"icon\" href=\"data:,\"> <style>html{font-family: Helvetica; display:inline-block; margin: 0px auto; text-align: center;}\n",
    "  h1{color: #0F3376; padding: 2vh;}p{font-size: 1.5rem;}.button{display: inline-block; background-color: #e7bd3b; border: none; \n",
    "  border-radius: 4px; color: white; padding: 16px 40px; text-decoration: none; font-size: 30px; margin: 2px; cursor: pointer;}\n",
    "  .button2{background-color: #4286f4;}</style></head><body> <h1>ESP Web Server</h1> \n",
    "  <p>GPIO state: <strong>\"\"\" + gpio_state + \"\"\"</strong></p><p><a href=\"/?led=on\"><button class=\"button\">ON</button></a></p>\n",
    "  <p><a href=\"/?led=off\"><button class=\"button button2\">OFF</button></a></p></body></html>\"\"\"\n",
    "  return html\n",
    "\n",
    "html2 = \"\"\"<!DOCTYPE html>\n",
    "<html>\n",
    "    <head> <title>ESP8266 Pins</title> </head>\n",
    "    <body> <h1>ESP8266 Pins</h1>\n",
    "        <table border=\"1\"> <tr><th>Pin</th><th>Value</th></tr> %s </table>\n",
    "    </body>\n",
    "</html>\n",
    "\"\"\"\n",
    "\n",
    "s = socket.socket(socket.AF_INET, socket.SOCK_STREAM)\n",
    "# s.bind(('', 80))\n",
    "# s.bind(addr)\n",
    "# s.bind(('192.168.43.34', 80))\n",
    "print('Bind: ', addr_socket)\n",
    "# print('Bind: %s' % addr[0])\n",
    "# print('Bind: %s' % addr[0][-1])\n",
    "# s.listen(5)\n",
    "\n",
    "# while True:\n",
    "# #      clientX = s.accept()\n",
    "#      conn, addr = s.accept()\n",
    "#      print('Got a connection!: ')\n",
    "#      print('Address: %s' % addr[0])\n",
    "#      print('Address: %s' % addr[1])\n",
    "# #      print(clientX[1])\n",
    "# #      print(' %s' % str(addr))\n",
    "#      print('Got a connection from %s' % str(addr))\n",
    "#      request = conn.recv(1024)\n",
    "#      request = str(request)\n",
    "#      print('Content = %s' % request)\n",
    "    #   led_on = request.find('/?led=on')\n",
    "    #   led_off = request.find('/?led=off')\n",
    "    #   if led_on == 6:\n",
    "    #     print('LED ON')\n",
    "    #     led.value(1)\n",
    "    #   if led_off == 6:\n",
    "    #     print('LED OFF')\n",
    "    #     led.value(0)\n",
    "    #   response = web_page()\n",
    "#      conn.send('HTTP/1.1 200 OK\\n')\n",
    "#      conn.send('Content-Type: text/html\\n')\n",
    "#      conn.send('Connection: close\\n\\n')\n",
    "    #   conn.sendall(response)\n",
    "    #   conn.close()"
   ]
  }
 ],
 "metadata": {
  "kernelspec": {
   "display_name": "MicroPython - USB",
   "language": "micropython",
   "name": "micropython"
  },
  "language_info": {
   "codemirror_mode": "python",
   "file_extension": ".py",
   "mimetype": "text/python",
   "name": "micropython"
  }
 },
 "nbformat": 4,
 "nbformat_minor": 4
}
