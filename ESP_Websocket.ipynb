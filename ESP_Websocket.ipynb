{
 "cells": [
  {
   "cell_type": "code",
   "execution_count": 31,
   "metadata": {
    "Collapsed": "false"
   },
   "outputs": [
    {
     "name": "stdout",
     "output_type": "stream",
     "text": [
      "\u001b[34mConnecting to --port=/dev/ttyUSB1 --baud=115200 \u001b[0m\n",
      "\u001b[34mReady.\n",
      "\u001b[0m"
     ]
    }
   ],
   "source": [
    "%serialconnect to --port=/dev/ttyUSB1 --baud=115200"
   ]
  },
  {
   "cell_type": "code",
   "execution_count": 32,
   "metadata": {
    "Collapsed": "false"
   },
   "outputs": [],
   "source": [
    "# All imports \n",
    "import usocket as socket\n",
    "from machine import Pin\n",
    "import network\n",
    "import esp\n",
    "import utime\n",
    "import ujson\n",
    "import gc\n",
    "import socket\n",
    "import uhashlib\n",
    "import ubinascii\n",
    "\n",
    "esp.osdebug(None)\n",
    "gc.collect()"
   ]
  },
  {
   "cell_type": "code",
   "execution_count": 33,
   "metadata": {
    "Collapsed": "false"
   },
   "outputs": [
    {
     "name": "stdout",
     "output_type": "stream",
     "text": [
      "Station Up:  False\n",
      "Acess Point Up:  False\n"
     ]
    }
   ],
   "source": [
    "sta_if = network.WLAN(network.STA_IF)\n",
    "ap_if = network.WLAN(network.AP_IF)\n",
    "print('Station Up: ', sta_if.active())\n",
    "print('Acess Point Up: ', ap_if.active())"
   ]
  },
  {
   "cell_type": "code",
   "execution_count": 34,
   "metadata": {
    "Collapsed": "false"
   },
   "outputs": [],
   "source": [
    "\n",
    "def connectX(typeX):\n",
    "    typeX.active(True)\n",
    "    print('Station Up: ', sta_if.active())\n",
    "    print('Acess Point Up: ', ap_if.active())\n",
    "\n",
    "\n",
    "def scanX():\n",
    "    print('Status: %s\\n' % sta_if.status())\n",
    "    station_default = False\n",
    "    stations_list = sta_if.scan()\n",
    "    print('\\ntest1: ', stations_list)\n",
    "    for i, n in enumerate(stations_list, start=0):\n",
    "        if n[0] == b'SM-A1kerr' or n[0] == b'Atalyah':\n",
    "            print('\\nFOUND SID!: ', n[0])\n",
    "            station_default = True\n",
    "\n",
    "    if station_default is False:\n",
    "        print('\\n*** PLEASE ENABLE A DEFAULT STATION! ***')\n",
    "    return stations_list\n",
    "\n",
    "\n",
    "# Make a dictionary out of a byte Object b''\n",
    "def get_meta(c):\n",
    "    c = c.decode(\"utf-8\")\n",
    "    holdX = c.split('\\r\\n')\n",
    "    print(type(holdX))\n",
    "    holdy = {}\n",
    "    for l in holdX:\n",
    "        dataX = len(l.split(':'))\n",
    "        if dataX > 1:\n",
    "            holdy[str(l.split(':')[0])] = str(l.split(':')[1])\n",
    "        else:\n",
    "            holdy[str(l.split(':')[0])] = str(l.split(':')[0])\n",
    "\n",
    "    return holdy\n"
   ]
  },
  {
   "cell_type": "code",
   "execution_count": 35,
   "metadata": {
    "Collapsed": "false"
   },
   "outputs": [
    {
     "name": "stdout",
     "output_type": "stream",
     "text": [
      "Station Up:  True\n",
      "Acess Point Up:  False\n",
      "Status: 1000\n",
      "\n",
      "\n",
      "test1:  [(b'VIRGIN463', b'\\xa8\\x9a\\x93\\x1d\\xf8\\x9e', 1, -41, 3, False), (b'Atalyah', b'\\x08`n\\xbc\\x02\\t', 6, -41, 3, False), (b'ASUS2_4_PRIMETIME_905', b'\\x08`n\\xbc\\x02\\x08', 6, -42, 3, False), (b'dlink_2_4GHz_PrimeTime', b'@\\x9b\\xcd\\xa0ih', 11, -49, 4, False), (b'BELL366', b'\\x90r\\x82\\xfe\\x8e&', 6, -67, 3, False), (b'BELL915', b'@\\xf2\\x01\\xf8\\x94W', 1, -75, 3, False), (b'C3D998B14F48', b'\\\\\\x8f\\xe0\\x04\\xe1\\xcb', 1, -76, 3, False), (b'Family1', b'B\\xf2\\x01\\xf8\\x94W', 1, -76, 3, False), (b'dlink-B2F6', b'\\xf8\\xe9\\x03\\xb8\\xb2\\xf6', 1, -80, 4, False), (b'SmartRG-bb48', b'\\xe8,m\\x10\\xbbL', 11, -93, 3, False)]\n",
      "\n",
      "FOUND SID!:  b'Atalyah'\n"
     ]
    }
   ],
   "source": [
    "connectX(sta_if)\n",
    "stations_list = []\n",
    "\n",
    "\n",
    "if sta_if.active():\n",
    "    stations_list = scanX()\n",
    "elif ap_if.active():\n",
    "    print('Acess Point Up: ', ap_if.active())"
   ]
  },
  {
   "cell_type": "code",
   "execution_count": 36,
   "metadata": {
    "Collapsed": "false"
   },
   "outputs": [
    {
     "name": "stdout",
     "output_type": "stream",
     "text": [
      "Connecting to: b'VIRGIN463'\n",
      "Trying to connet to server!\n",
      "b'Atalyah'\n",
      "Trying to connet to server!\n",
      "b'Atalyah'\n",
      "Status: 1010\n",
      " \n",
      "Is connected: True \n",
      "Connected to: Atalyah \n",
      "ifconfig: ('192.168.1.240', '255.255.255.0', '192.168.1.1', '192.168.1.1')\n"
     ]
    }
   ],
   "source": [
    "print('Connecting to: {0}'.format(stations_list[0][0]))\n",
    "while not (sta_if.isconnected()):\n",
    "    print('Trying to connet to server!')\n",
    "#     if 'Atalyah' in stations_list : \n",
    "#     print(stations_list[0][0])\n",
    "    for x in stations_list:\n",
    "#         print(x)\n",
    "        if b'Atalyah' in x or b'SM-A1kerr' in x:\n",
    "            print(x[0])\n",
    "            sta_if.connect(x[0], '9054830760')\n",
    "    utime.sleep(1)\n",
    "\n",
    "\n",
    "print('Status: {0}\\n'.format(sta_if.status(), sta_if.isconnected()),\n",
    "      ('\\nIs connected: {0}'.format(sta_if.isconnected())),\n",
    "      ('\\nConnected to: {0}'.format(sta_if.config('essid'))),\n",
    "      ('\\nifconfig: {0}'.format(sta_if.ifconfig()))\n",
    "      )"
   ]
  },
  {
   "cell_type": "markdown",
   "metadata": {
    "Collapsed": "false"
   },
   "source": [
    "<br>\n",
    "<h1>Websocket Return Header Format</h1>\n",
    "<p>\n",
    "HTTP/1.1 101 Switching Protocols<br>\n",
    "Upgrade: websocket<br>\n",
    "Connection: Upgrade<br>\n",
    "Sec-WebSocket-Accept: s3pPLMBiTxaQ9kYGzzhZRbK+xOo=<br>\n",
    "(remember each header line ends with \\r\\n and put an extra \\r\\n after the last one to indicate the end of the header)\n",
    "</p>\n",
    "<p>\n",
    "-hashed key- The server takes the value of Sec-WebSocket-Key sent in handshake request and then appends Globally Unique Identifier (GUID, [RFC4122]) “258EAFA5-E914-47DA-95CA-C5AB0DC85B11” takes SHA-1 of the new value, and is then base64 encoded. This is unlikely to be used by network endpoints that do not understand the WebSocket Protocol.\n",
    "</p>"
   ]
  },
  {
   "cell_type": "code",
   "execution_count": 7,
   "metadata": {},
   "outputs": [
    {
     "name": "stdout",
     "output_type": "stream",
     "text": [
      "[(2, 1, 0, '0.0.0.0', ('0.0.0.0', 80))]\n"
     ]
    }
   ],
   "source": [
    "print(socket.getaddrinfo('', 80))"
   ]
  },
  {
   "cell_type": "code",
   "execution_count": 37,
   "metadata": {
    "Collapsed": "false"
   },
   "outputs": [
    {
     "name": "stdout",
     "output_type": "stream",
     "text": [
      ".Got a connection!: \n",
      "Got a connection from ('192.168.1.208', 45362)\n",
      "<class 'list'>\n",
      "Content = {'User-Agent': ' Mozilla/5.0 (X11; Linux x86_64) AppleWebKit/537.36 (KHTML, like Gecko) Chrome/80.0.3987.106 Safari/537.36', 'Accept': ' text/html,application/xhtml+xml,application/xml;q=0.9,image/webp,image/apng,*/*;q=0.8,application/signed-exchange;v=b3;q=0.9', 'Connection': ' keep-alive', 'Cache-Control': ' max-age=0', 'Accept-Language': ' en-GB,en-US;q=0.9,en;q=0.8,da;q=0.7', 'Accept-Encoding': ' gzip, deflate', 'Host': ' 192.168.1.240', 'GET / HTTP/1.1': 'GET / HTTP/1.1', 'Upgrade-Insecure-Requests': ' 1', '': ''}\n",
      "No Key Found\n",
      "..............\u001b[34m\n",
      "\n",
      "*** Sending Ctrl-C\n",
      "\n",
      "\u001b[0m"
     ]
    },
    {
     "name": "stderr",
     "output_type": "stream",
     "text": [
      "Traceback (most recent call last):\n",
      "  File \"<stdin>\", line 52, in <module>\n",
      "KeyboardInterrupt: \n"
     ]
    }
   ],
   "source": [
    "# Complete project details at https://RandomNerdTutorials.com\n",
    "\n",
    "\n",
    "addr_socket = socket.getaddrinfo('', 80)[0][4]\n",
    "# addr_socket = socket.getaddrinfo('192.168.43.34', 80)[0][4]\n",
    "# addr = socket.getaddrinfo('192.168.43.34', 80)\n",
    "led = Pin(2, Pin.OUT)\n",
    "key_tag = 'Sec-WebSocket-Key'\n",
    "guid = b'258EAFA5-E914-47DA-95CA-C5AB0DC85B11'\n",
    "\n",
    "\n",
    "def web_page():\n",
    "    if led.value() == 1:\n",
    "        gpio_state = \"ON\"\n",
    "    else:\n",
    "        gpio_state = \"OFF\"\n",
    "\n",
    "    html = \"\"\"<html><head> <title>ESP Web Server</title> <meta name = \"viewport\"\n",
    "    content=\"width=device-width, initial-scale=1\">\n",
    "    <link rel=\"icon\" href=\"data:,\"> <style>html{font-family: Helvetica;\n",
    "    display:inline-block; margin: 0px auto; text-align: center;}\n",
    "    h1{color: #0F3376; padding: 2vh;}p{font-size: 1.5rem;}.button{display:\n",
    "    inline-block; background-color: #e7bd3b; border: none;\n",
    "    border-radius: 4px; color: white; padding: 16px 40px; text-decoration:\n",
    "    none; font-size: 30px; margin: 2px; cursor: pointer;}\n",
    "    .button2{background-color: #4286f4;}</style></head><body>\n",
    "    <h1>ESP Web Server</h1>\n",
    "    <p>GPIO state: <strong>\"\"\" + gpio_state + \"\"\"</strong></p><p>\n",
    "    <a href=\"/?led=on\"><button class=\"button\">ON</button></a></p>\n",
    "    <p><a href=\"/?led=off\"><button class=\"button button2\">OFF</button>\n",
    "    </a></p></body></html>\"\"\"\n",
    "    return html\n",
    "\n",
    "\n",
    "html2 = \"\"\"<!DOCTYPE html>\n",
    "<html>\n",
    "<head> <title>ESP8266 Pins</title> </head>\n",
    "<body> <h1>ESP8266 Pins</h1>\n",
    "    <table border=\"1\"> <tr><th>Pin</th><th>Value</th></tr> %s </table>\n",
    "</body>\n",
    "</html>\n",
    "\"\"\"\n",
    "\n",
    "s=socket.socket(socket.AF_INET, socket.SOCK_STREAM)\n",
    "s.bind(('', 80))\n",
    "print('Bind: ', addr_socket)\n",
    "# print('Bind: %s' % addr[0])\n",
    "# print('Bind: %s' % addr[0][-1])\n",
    "s.listen(5)\n",
    "\n",
    "while True:\n",
    "    conn, addr = s.accept()\n",
    "    print('Got a connection!: ')\n",
    "    print('Got a connection from %s' % str(addr))\n",
    "    request=conn.recv(1024)\n",
    "#     conn.send(html2)\n",
    "#     request = request.decode()\n",
    "    request_meta = get_meta(request)\n",
    "    print('Content = %s' % request_meta)\n",
    "    if key_tag in request_meta:\n",
    "        print('Sec-Weboscket-Key: ', request_meta[key_tag])\n",
    "        key_hash = uhashlib.sha1(guid)\n",
    "        key_hash.update(request_meta[key_tag])\n",
    "#         key_hash = uhashlib.sha1(request_meta[key_tag])\n",
    "#         key_hash.update(guid)\n",
    "        key_sha1 = key_hash.digest()\n",
    "        key_sha1 = ubinascii.b2a_base64(key_sha1)\n",
    "        header1 = 'HTTP/1.1 101 Switching Protocols\\r\\n'\n",
    "        header2 = 'Upgrade: websocket\\r\\n'\n",
    "        header3 = 'Connection: Upgrade\\r\\n'\n",
    "        header_sec = 'Sec-WebSocket-Accept: {0}'.format(key_sha1)\n",
    "        header_end = '\\r\\n\\r\\n'\n",
    "        socketX_upgrade = bytes(header1+header2+header3+header_sec+header_end, 'utf8')\n",
    "        print('SHA1 Key: ', key_sha1)\n",
    "        conn.send(socketX_upgrade)\n",
    "    else:\n",
    "        print('No Key Found')\n",
    "          \n",
    "    \n",
    "    conn.close()\n",
    "\n",
    "print('Server closed: ')"
   ]
  },
  {
   "cell_type": "markdown",
   "metadata": {
    "Collapsed": "false"
   },
   "source": [
    "<br>\n",
    "<p>\n",
    "Format of getaddrinfo:  [(2, 1, 0, '192.168.43.34', ('192.168.43.34', 80))]\n",
    "</p>"
   ]
  }
 ],
 "metadata": {
  "kernelspec": {
   "display_name": "MicroPython - USB",
   "language": "python",
   "name": "micropython"
  },
  "language_info": {
   "codemirror_mode": "python",
   "file_extension": ".py",
   "mimetype": "text/python",
   "name": "micropython"
  }
 },
 "nbformat": 4,
 "nbformat_minor": 4
}
