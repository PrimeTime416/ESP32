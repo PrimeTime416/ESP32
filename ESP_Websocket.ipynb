{
 "cells": [
  {
   "cell_type": "code",
   "execution_count": 1,
   "metadata": {
    "Collapsed": "false"
   },
   "outputs": [
    {
     "name": "stdout",
     "output_type": "stream",
     "text": [
      "\u001b[34mConnecting to --port=/dev/ttyUSB0 --baud=115200 \u001b[0m\n",
      "\u001b[34mReady.\n",
      "\u001b[0m"
     ]
    }
   ],
   "source": [
    "%serialconnect to --port=/dev/ttyUSB0 --baud=115200"
   ]
  },
  {
   "cell_type": "code",
   "execution_count": 2,
   "metadata": {
    "Collapsed": "false"
   },
   "outputs": [],
   "source": [
    "# Complete project details at https://RandomNerdTutorials.com\n",
    "\n",
    "try:\n",
    "  import usocket as socket\n",
    "except:\n",
    "  import socket\n",
    "\n",
    "from machine import Pin\n",
    "import network\n",
    "\n",
    "import esp\n",
    "esp.osdebug(None)\n",
    "\n",
    "import utime\n",
    "\n",
    "import ujson\n",
    "\n",
    "import gc\n",
    "gc.collect()\n",
    "\n"
   ]
  },
  {
   "cell_type": "code",
   "execution_count": 3,
   "metadata": {
    "Collapsed": "false"
   },
   "outputs": [
    {
     "name": "stdout",
     "output_type": "stream",
     "text": [
      "Station Up:  False\n",
      "Acess Point Up:  False\n"
     ]
    }
   ],
   "source": [
    "sta_if = network.WLAN(network.STA_IF)\n",
    "ap_if = network.WLAN(network.AP_IF)\n",
    "print('Station Up: ', sta_if.active())\n",
    "print('Acess Point Up: ', ap_if.active())"
   ]
  },
  {
   "cell_type": "code",
   "execution_count": 6,
   "metadata": {
    "Collapsed": "false"
   },
   "outputs": [],
   "source": [
    "def connectX(typeX):\n",
    "    typeX.active(True)\n",
    "    print('Station Up: ', sta_if.active())\n",
    "    print('Acess Point Up: ', ap_if.active())\n",
    "    \n",
    "def scanX():\n",
    "    print('Status: %s\\n' % sta_if.status())\n",
    "    station_default = False\n",
    "    stations_list = sta_if.scan()\n",
    "    for i, n in enumerate(stations_list, start=0):\n",
    "        print('%s) %s' %(i, n))\n",
    "        if (n[0]) == b'SM-A1kerr':\n",
    "            station_default = True\n",
    "\n",
    "    if station_default == False:\n",
    "        print('\\n*** PLEASE ENABLE DEFAULT STATION! ***')\n",
    "    return stations_list\n",
    "    \n",
    "# Make a dictionary out of a byte Object b''\n",
    "def get_meta(c):\n",
    "    c = c.decode(\"utf-8\")\n",
    "    holdX = c.split('\\r\\n')\n",
    "    print(type(holdX))\n",
    "    holdy = {}\n",
    "    for l in holdX:\n",
    "        dataX = len(l.split(':'))\n",
    "        if dataX > 1 :\n",
    "            holdy[str(l.split(':')[0])] = str(l.split(':')[1])\n",
    "        else:\n",
    "            holdy[str(l.split(':')[0])] = str(l.split(':')[0])\n",
    "\n",
    "    return holdy\n"
   ]
  },
  {
   "cell_type": "code",
   "execution_count": 8,
   "metadata": {
    "Collapsed": "false"
   },
   "outputs": [
    {
     "name": "stdout",
     "output_type": "stream",
     "text": [
      "Station Up:  True\n",
      "Acess Point Up:  False\n",
      "Status: 1000\n",
      "\n",
      ".0) (b'SM-A1kerr', b'\\x8e\\xf5\\xa3\\xa2\\x7fn', 1, -44, 3, False)\n",
      "1) (b'BPL_Wireless_2018', b'\\xe8\\xed\\xf3\\xd8.4', 6, -58, 0, False)\n",
      "2) (b'BPL_Wireless', b'\\xe8\\xed\\xf3\\xd8.0', 6, -60, 0, False)\n",
      "3) (b'BPL_Wireless', b'4\\xdb\\xfd\\n\\x88\\xa0', 1, -82, 0, False)\n",
      "4) (b'BPL_Wireless_2018', b'4\\xdb\\xfd\\n\\x88\\xa4', 1, -82, 0, False)\n",
      "5) (b'BPL_Wireless_2018', b',6\\xf8\\xb6#\\xc4', 6, -91, 0, False)\n"
     ]
    }
   ],
   "source": [
    "connectX(sta_if)\n",
    "stations_list = []\n",
    "\n",
    "\n",
    "if sta_if.active():\n",
    "    stations_list = scanX()\n",
    "elif ap_if.active():\n",
    "    print('Acess Point Up: ', ap_if.active())"
   ]
  },
  {
   "cell_type": "code",
   "execution_count": 9,
   "metadata": {
    "Collapsed": "false"
   },
   "outputs": [
    {
     "name": "stdout",
     "output_type": "stream",
     "text": [
      "Connecting to:  b'SM-A1kerr'\n",
      "Trying to connet to server!\n",
      "Trying to connet to server!\n",
      "Trying to connet to server!\n",
      ".Status: 1010\n",
      "\n",
      "Is connected:  True\n",
      "Connected to:  SM-A1kerr\n",
      "ifconfig:  ('192.168.43.34', '255.255.255.0', '192.168.43.1', '192.168.43.1')\n"
     ]
    }
   ],
   "source": [
    "print('Connecting to: ', stations_list[0][0])\n",
    "while not(sta_if.isconnected()):\n",
    "    print('Trying to connet to server!')\n",
    "    sta_if.connect(stations_list[0][0], '9054830760')\n",
    "    utime.sleep(2)\n",
    "\n",
    "print('Status: %s\\n' % sta_if.status())\n",
    "print('Is connected: ', sta_if.isconnected())\n",
    "print('Connected to: ', sta_if.config('essid'))\n",
    "print('ifconfig: ', sta_if.ifconfig())\n"
   ]
  },
  {
   "cell_type": "markdown",
   "metadata": {
    "Collapsed": "false"
   },
   "source": [
    "<br>\n",
    "<h1>Websocket Return Header Format</h1>\n",
    "<p>\n",
    "HTTP/1.1 101 Switching Protocols<br>\n",
    "Upgrade: websocket<br>\n",
    "Connection: Upgrade<br>\n",
    "Sec-WebSocket-Accept: s3pPLMBiTxaQ9kYGzzhZRbK+xOo=<br>\n",
    "(remember each header line ends with \\r\\n and put an extra \\r\\n after the last one to indicate the end of the header)\n",
    "</p>\n",
    "<p>\n",
    "-hashed key- The server takes the value of Sec-WebSocket-Key sent in handshake request and then appends Globally Unique Identifier (GUID, [RFC4122]) “258EAFA5-E914-47DA-95CA-C5AB0DC85B11” takes SHA-1 of the new value, and is then base64 encoded. This is unlikely to be used by network endpoints that do not understand the WebSocket Protocol.\n",
    "</p>"
   ]
  },
  {
   "cell_type": "code",
   "execution_count": 10,
   "metadata": {
    "Collapsed": "false"
   },
   "outputs": [
    {
     "name": "stdout",
     "output_type": "stream",
     "text": [
      "Bind:  ('192.168.43.34', 80)\n",
      "Upgrage Header:  b'HTTP/1.1 101 Switching Protocols\\r\\nUpgrade: websocket\\r\\nConnection: Upgrade\\r\\nSec-WebSocket-Accept: s3pPLMBiTxaQ9kYGzzhZRbK+xOo=\\r\\n\\r\\n'\n",
      "..............................................Got a connection!: \n",
      "Got a connection from ('192.168.43.84', 49450)\n",
      "<class 'list'>\n",
      "Content = {'Upgrade': ' websocket', 'User-Agent': ' Mozilla/5.0 (X11; Linux x86_64) AppleWebKit/537.36 (KHTML, like Gecko) Chrome/80.0.3987.87 Safari/537.36', 'Connection': ' Upgrade', 'GET / HTTP/1.1': 'GET / HTTP/1.1', 'Cache-Control': ' no-cache', 'Host': ' 192.168.43.34', 'Pragma': ' no-cache', 'Origin': ' null', 'Accept-Language': ' en-GB,en-US;q=0.9,en;q=0.8,da;q=0.7', 'Sec-WebSocket-Key': ' P07Y2lZ6ND6sgPGtcdT3vQ==', 'Sec-WebSocket-Extensions': ' permessage-deflate; client_max_window_bits', '': '', 'Accept-Encoding': ' gzip, deflate', 'Sec-WebSocket-Version': ' 13'}\n",
      "Got a connection!: \n",
      "Got a connection from ('192.168.43.84', 49452)\n",
      "<class 'list'>\n",
      "Content = {'Upgrade': ' websocket', 'User-Agent': ' Mozilla/5.0 (X11; Linux x86_64) AppleWebKit/537.36 (KHTML, like Gecko) Chrome/80.0.3987.87 Safari/537.36', 'Connection': ' Upgrade', 'GET / HTTP/1.1': 'GET / HTTP/1.1', 'Cache-Control': ' no-cache', 'Host': ' 192.168.43.34', 'Pragma': ' no-cache', 'Origin': ' null', 'Accept-Language': ' en-GB,en-US;q=0.9,en;q=0.8,da;q=0.7', 'Sec-WebSocket-Key': ' hiRZzK5T9/f1HbCOd8uVmg==', 'Sec-WebSocket-Extensions': ' permessage-deflate; client_max_window_bits', '': '', 'Accept-Encoding': ' gzip, deflate', 'Sec-WebSocket-Version': ' 13'}\n",
      "Got a connection!: \n",
      "Got a connection from ('192.168.43.84', 49454)\n",
      "<class 'list'>\n",
      "Content = {'Upgrade': ' websocket', 'User-Agent': ' Mozilla/5.0 (X11; Linux x86_64) AppleWebKit/537.36 (KHTML, like Gecko) Chrome/80.0.3987.87 Safari/537.36', 'Connection': ' Upgrade', 'GET / HTTP/1.1': 'GET / HTTP/1.1', 'Cache-Control': ' no-cache', 'Host': ' 192.168.43.34', 'Pragma': ' no-cache', 'Origin': ' null', 'Accept-Language': ' en-GB,en-US;q=0.9,en;q=0.8,da;q=0.7', 'Sec-WebSocket-Key': ' PujD31N9j3flcS5V+vNWPA==', 'Sec-WebSocket-Extensions': ' permessage-deflate; client_max_window_bits', '': '', 'Accept-Encoding': ' gzip, deflate', 'Sec-WebSocket-Version': ' 13'}\n",
      "..Got a connection!: \n",
      "Got a connection from ('192.168.43.84', 49552)\n",
      "<class 'list'>\n",
      "Content = {'Upgrade': ' websocket', 'User-Agent': ' Mozilla/5.0 (X11; Linux x86_64) AppleWebKit/537.36 (KHTML, like Gecko) Chrome/80.0.3987.87 Safari/537.36', 'Connection': ' Upgrade', 'GET / HTTP/1.1': 'GET / HTTP/1.1', 'Cache-Control': ' no-cache', 'Host': ' 192.168.43.34', 'Pragma': ' no-cache', 'Origin': ' null', 'Accept-Language': ' en-GB,en-US;q=0.9,en;q=0.8,da;q=0.7', 'Sec-WebSocket-Key': ' +IhnfLUwbBdOe/bF7e6Ucg==', 'Sec-WebSocket-Extensions': ' permessage-deflate; client_max_window_bits', '': '', 'Accept-Encoding': ' gzip, deflate', 'Sec-WebSocket-Version': ' 13'}\n",
      "...............................................\u001b[34m\n",
      "\n",
      "*** Sending Ctrl-C\n",
      "\n",
      "\u001b[0m"
     ]
    },
    {
     "name": "stderr",
     "output_type": "stream",
     "text": [
      "Traceback (most recent call last):\n",
      "  File \"<stdin>\", line 45, in <module>\n",
      "KeyboardInterrupt: \n"
     ]
    }
   ],
   "source": [
    "# Complete project details at https://RandomNerdTutorials.com\n",
    "\n",
    "import socket\n",
    "addr_socket = socket.getaddrinfo('192.168.43.34', 80)[0][4]\n",
    "# addr = socket.getaddrinfo('192.168.43.34', 80)\n",
    "led = Pin(2, Pin.OUT)\n",
    "\n",
    "def web_page():\n",
    "  if led.value() == 1:\n",
    "    gpio_state=\"ON\"\n",
    "  else:\n",
    "    gpio_state=\"OFF\"\n",
    "  \n",
    "  html = \"\"\"<html><head> <title>ESP Web Server</title> <meta name=\"viewport\" content=\"width=device-width, initial-scale=1\">\n",
    "  <link rel=\"icon\" href=\"data:,\"> <style>html{font-family: Helvetica; display:inline-block; margin: 0px auto; text-align: center;}\n",
    "  h1{color: #0F3376; padding: 2vh;}p{font-size: 1.5rem;}.button{display: inline-block; background-color: #e7bd3b; border: none; \n",
    "  border-radius: 4px; color: white; padding: 16px 40px; text-decoration: none; font-size: 30px; margin: 2px; cursor: pointer;}\n",
    "  .button2{background-color: #4286f4;}</style></head><body> <h1>ESP Web Server</h1> \n",
    "  <p>GPIO state: <strong>\"\"\" + gpio_state + \"\"\"</strong></p><p><a href=\"/?led=on\"><button class=\"button\">ON</button></a></p>\n",
    "  <p><a href=\"/?led=off\"><button class=\"button button2\">OFF</button></a></p></body></html>\"\"\"\n",
    "  return html\n",
    "\n",
    "html2 = \"\"\"<!DOCTYPE html>\n",
    "<html>\n",
    "    <head> <title>ESP8266 Pins</title> </head>\n",
    "    <body> <h1>ESP8266 Pins</h1>\n",
    "        <table border=\"1\"> <tr><th>Pin</th><th>Value</th></tr> %s </table>\n",
    "    </body>\n",
    "</html>\n",
    "\"\"\"\n",
    "\n",
    "s = socket.socket(socket.AF_INET, socket.SOCK_STREAM)\n",
    "# s.bind(('', 80))\n",
    "# s.bind(addr)\n",
    "s.bind(('192.168.43.34', 80))\n",
    "print('Bind: ', addr_socket)\n",
    "# print('Bind: %s' % addr[0])\n",
    "# print('Bind: %s' % addr[0][-1])\n",
    "s.listen(5)\n",
    "socketX_upgrade = bytes('HTTP/1.1 101 Switching Protocols\\r\\nUpgrade: websocket\\r\\nConnection: Upgrade\\r\\nSec-WebSocket-Accept: s3pPLMBiTxaQ9kYGzzhZRbK+xOo=\\r\\n\\r\\n', 'utf8')\n",
    "print('Upgrage Header: ', socketX_upgrade)\n",
    "\n",
    "while True:\n",
    "    # #      clientX = s.accept()\n",
    "    conn, addr = s.accept()\n",
    "    print('Got a connection!: ')\n",
    "    #      print('Address: %s' % addr[0])\n",
    "    #      print('Address: %s' % addr[1])\n",
    "    # #      print(clientX[1])\n",
    "    # #      print(' %s' % str(addr))\n",
    "    print('Got a connection from %s' % str(addr))\n",
    "    request = conn.recv(1024)\n",
    "#     request = request.decode()\n",
    "    print('Content = %s' % get_meta(request))\n",
    "#     print('Decode Content = %s' % request.decode().split(':')[0])\n",
    "    conn.send(socketX_upgrade)\n",
    "#     conn.send(\"I am SERVER\\n\")\n",
    "    conn.close()\n",
    "    #   led_on = request.find('/?led=on')\n",
    "    #   led_off = request.find('/?led=off')\n",
    "    #   if led_on == 6:\n",
    "    #     print('LED ON')\n",
    "    #     led.value(1)\n",
    "    #   if led_off == 6:\n",
    "    #     print('LED OFF')\n",
    "    #     led.value(0)\n",
    "    #   response = web_page()\n",
    "#      conn.send('HTTP/1.1 200 OK\\n')\n",
    "#      conn.send('Content-Type: text/html\\n')\n",
    "#      conn.send('Connection: close\\n\\n')\n",
    "    #   conn.sendall(response)\n",
    "print('Server closed: ')\n",
    "        "
   ]
  },
  {
   "cell_type": "markdown",
   "metadata": {
    "Collapsed": "false"
   },
   "source": [
    "<br>\n",
    "<p>\n",
    "Format of getaddrinfo:  [(2, 1, 0, '192.168.43.34', ('192.168.43.34', 80))]\n",
    "</p>"
   ]
  }
 ],
 "metadata": {
  "kernelspec": {
   "display_name": "MicroPython - USB",
   "language": "micropython",
   "name": "micropython"
  },
  "language_info": {
   "codemirror_mode": "python",
   "file_extension": ".py",
   "mimetype": "text/python",
   "name": "micropython"
  }
 },
 "nbformat": 4,
 "nbformat_minor": 4
}
