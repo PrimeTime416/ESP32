{
 "cells": [
  {
   "cell_type": "markdown",
   "metadata": {
    "Collapsed": "false"
   },
   "source": [
    "<div>    \n",
    "<p style=\"color:white;text-align:center\"> <font size=\"7\"> Getting Started </font><p>\n",
    "<p> Please see link for a great blog on using MicroPython with Jupyter Lads:</p>\n",
    "<a href=\"https://towardsdatascience.com/micropython-on-esp-using-jupyter-6f366ff5ed9\">MicroPython on ESP Using Jupyter Notebook</a>\n",
    "<div>"
   ]
  },
  {
   "cell_type": "markdown",
   "metadata": {
    "Collapsed": "false",
    "toc-hr-collapsed": false
   },
   "source": [
    "<h1>Connecting to MCU using serial</h1>\n",
    "<p>Use <i>ls -a /dev/ttyUSB*</i> to see which port the MCU is connected to </p>"
   ]
  },
  {
   "cell_type": "code",
   "execution_count": 2,
   "metadata": {
    "Collapsed": "false"
   },
   "outputs": [
    {
     "name": "stdout",
     "output_type": "stream",
     "text": [
      "\u001b[34mConnecting to --port=/dev/ttyUSB0 --baud=115200 \u001b[0m\n",
      "\u001b[34mReady.\n",
      "\u001b[0m"
     ]
    }
   ],
   "source": [
    "%serialconnect to --port=/dev/ttyUSB0 --baud=115200"
   ]
  },
  {
   "cell_type": "code",
   "execution_count": 2,
   "metadata": {
    "Collapsed": "false"
   },
   "outputs": [
    {
     "name": "stdout",
     "output_type": "stream",
     "text": [
      "hello user1243\n"
     ]
    }
   ],
   "source": [
    "print(\"hello user1243\")"
   ]
  },
  {
   "cell_type": "code",
   "execution_count": 3,
   "metadata": {
    "Collapsed": "false"
   },
   "outputs": [
    {
     "name": "stdout",
     "output_type": "stream",
     "text": [
      "__main__          gc                uctypes           urequests\n",
      "_boot             inisetup          uerrno            uselect\n",
      "_onewire          machine           uhashlib          usocket\n",
      "_thread           math              uhashlib          ussl\n",
      "_webrepl          micropython       uheapq            ustruct\n",
      "apa106            neopixel          uio               utime\n",
      "btree             network           ujson             utimeq\n",
      "builtins          ntptime           umqtt/robust      uwebsocket\n",
      "cmath             onewire           umqtt/simple      uzlib\n",
      "dht               sys               uos               webrepl\n",
      "ds18x20           uarray            upip              webrepl_setup\n",
      "esp               ubinascii         upip_utarfile     websocket_helper\n",
      "esp32             ubluetooth        upysh\n",
      "flashbdev         ucollections      urandom\n",
      "framebuf          ucryptolib        ure\n",
      "Plus any modules on the filesystem\n",
      "None\n"
     ]
    }
   ],
   "source": [
    "print(help('modules'))"
   ]
  },
  {
   "cell_type": "markdown",
   "metadata": {
    "Collapsed": "false"
   },
   "source": [
    "<h1>Connecting to MCU GPIO</h1>\n",
    "<p> The <i>machine</i> library exposes most GPIO pins, its a good idea to consult your development board pin out. </p>\n",
    "<a href=\"http://docs.micropython.org/en/latest/library/machine.html\"> Machine Function Modules</a>"
   ]
  },
  {
   "cell_type": "code",
   "execution_count": 3,
   "metadata": {
    "Collapsed": "false"
   },
   "outputs": [
    {
     "name": "stdout",
     "output_type": "stream",
     "text": [
      "['__class__', '__name__', 'ADC', 'DAC', 'DEEPSLEEP', 'DEEPSLEEP_RESET', 'EXT0_WAKE', 'EXT1_WAKE', 'HARD_RESET', 'I2C', 'PIN_WAKE', 'PWM', 'PWRON_RESET', 'Pin', 'RTC', 'SDCard', 'SLEEP', 'SOFT_RESET', 'SPI', 'Signal', 'TIMER_WAKE', 'TOUCHPAD_WAKE', 'Timer', 'TouchPad', 'UART', 'ULP_WAKE', 'WDT', 'WDT_RESET', 'deepsleep', 'disable_irq', 'enable_irq', 'freq', 'idle', 'lightsleep', 'mem16', 'mem32', 'mem8', 'reset', 'reset_cause', 'sleep', 'soft_reset', 'time_pulse_us', 'unique_id', 'wake_reason']\n"
     ]
    }
   ],
   "source": [
    "# Use dir to list all methods associate with library or class.\n",
    "import machine\n",
    "print(dir(machine))"
   ]
  },
  {
   "cell_type": "markdown",
   "metadata": {
    "Collapsed": "false",
    "toc-hr-collapsed": false
   },
   "source": [
    "<h1>class Pin – control I/O pins</h1>\n",
    "<p>This list all the different functions available for the Pin class</p>"
   ]
  },
  {
   "cell_type": "code",
   "execution_count": 5,
   "metadata": {
    "Collapsed": "false"
   },
   "outputs": [
    {
     "name": "stdout",
     "output_type": "stream",
     "text": [
      "['__class__', '__name__', 'value', '__bases__', 'IN', 'IRQ_FALLING', 'IRQ_RISING', 'OPEN_DRAIN', 'OUT', 'PULL_DOWN', 'PULL_HOLD', 'PULL_UP', 'WAKE_HIGH', 'WAKE_LOW', 'init', 'irq', 'off', 'on']\n"
     ]
    }
   ],
   "source": [
    "print(dir(machine.Pin))"
   ]
  },
  {
   "cell_type": "markdown",
   "metadata": {},
   "source": [
    "<h1>Set the pin(s) to output</h1>"
   ]
  },
  {
   "cell_type": "code",
   "execution_count": 15,
   "metadata": {
    "Collapsed": "false"
   },
   "outputs": [],
   "source": [
    "mcu_led_red = machine.Pin(13, machine.Pin.OUT) #Adafruit Development Board\n",
    "led_red = machine.Pin(12, machine.Pin.OUT) #Adafruit Development Board\n",
    "led_green = machine.Pin(27, machine.Pin.OUT) #Adafruit Development Board\n",
    "led_blue = machine.Pin(33, machine.Pin.OUT) #Adafruit Development Board"
   ]
  },
  {
   "cell_type": "markdown",
   "metadata": {},
   "source": [
    "<h1>Set the pin(s) to FALSE state</h1>\n",
    "<p>Please note depending on the pin mode this may turn the LED OFF or ON</p>"
   ]
  },
  {
   "cell_type": "code",
   "execution_count": 22,
   "metadata": {
    "Collapsed": "false"
   },
   "outputs": [],
   "source": [
    "# Turn GPIO OFF\n",
    "mcu_led_red.value(0)\n",
    "led_red.value(0)\n",
    "led_green.value(0)\n",
    "led_blue.value(0)"
   ]
  },
  {
   "cell_type": "markdown",
   "metadata": {},
   "source": [
    "<h1>Set the pin(s) to TRUE state</h1>\n",
    "<p>Please note depending on the pin mode this may turn the LED OFF or ON</p>"
   ]
  },
  {
   "cell_type": "code",
   "execution_count": 23,
   "metadata": {
    "Collapsed": "false"
   },
   "outputs": [],
   "source": [
    "# Turn GPIO ON\n",
    "mcu_led_red.value(1)\n",
    "led_red.value(1)\n",
    "led_green.value(1)\n",
    "led_blue.value(1)"
   ]
  },
  {
   "cell_type": "markdown",
   "metadata": {},
   "source": [
    "<h1>Set the pin(s) to OFF state</h1>\n",
    "<p>Please note depending on the pin mode this may turn the LED OFF or ON</p>"
   ]
  },
  {
   "cell_type": "code",
   "execution_count": 9,
   "metadata": {
    "Collapsed": "false"
   },
   "outputs": [],
   "source": [
    "# Turn GPIO OFF\n",
    "mcu_led_red.off()\n",
    "led_red.off()"
   ]
  },
  {
   "cell_type": "markdown",
   "metadata": {},
   "source": [
    "<h1>Set the pin(s) to ON state</h1>\n",
    "<p>Please note depending on the pin mode this may turn the LED OFF or ON</p>"
   ]
  },
  {
   "cell_type": "code",
   "execution_count": 10,
   "metadata": {
    "Collapsed": "false"
   },
   "outputs": [],
   "source": [
    "# Turn GPIO ON\n",
    "mcu_led_red.on()\n",
    "led_red.on()"
   ]
  },
  {
   "cell_type": "markdown",
   "metadata": {
    "Collapsed": "false"
   },
   "source": [
    "<p>Input: Reading GPIO</p>"
   ]
  },
  {
   "cell_type": "markdown",
   "metadata": {
    "Collapsed": "false"
   },
   "source": [
    "<h1>class Time – MCU Timing Functions</h1>"
   ]
  },
  {
   "cell_type": "code",
   "execution_count": 24,
   "metadata": {
    "Collapsed": "false"
   },
   "outputs": [
    {
     "name": "stdout",
     "output_type": "stream",
     "text": [
      "...Time Cycle Completed\n"
     ]
    }
   ],
   "source": [
    "import machine\n",
    "from time import sleep\n",
    "\n",
    "mcu_led_red = machine.Pin(13, machine.Pin.OUT) #Adafruit Development Board\n",
    "led_red = machine.Pin(12, machine.Pin.OUT) #Adafruit Development Board\n",
    "\n",
    "# Timing loop\n",
    "for i in range(14):\n",
    "    mcu_led_red.off()\n",
    "    sleep(0.5)\n",
    "    mcu_led_red.on()\n",
    "    sleep(0.5)\n",
    "print('Time Cycle Completed')\n",
    "mcu_led_red.off()\n",
    "led_red.on()"
   ]
  },
  {
   "cell_type": "markdown",
   "metadata": {
    "Collapsed": "false"
   },
   "source": [
    "<h1>class PWM – MCU Pulse Width Modulation</h1>\n",
    "<p>Read the section on PWM in the link below for more information</p>\n",
    "<a href='http://docs.micropython.org/en/latest/esp32/quickref.html?highlight=pwm'>http://docs.micropython.org/en/latest/esp32/quickref.html?highlight=pwm</a>"
   ]
  },
  {
   "cell_type": "code",
   "execution_count": 35,
   "metadata": {
    "Collapsed": "false"
   },
   "outputs": [
    {
     "name": "stdout",
     "output_type": "stream",
     "text": [
      "...Time Cycle Completed\n"
     ]
    }
   ],
   "source": [
    "import time\n",
    "from machine import Pin, PWM\n",
    "\n",
    "pwm0 = PWM(Pin(13), freq=60, duty=0)\n",
    "for i in range (0,1023,20):\n",
    "    pwm0.duty(i)\n",
    "    time.sleep(0.25)\n",
    "\n",
    "pwm0.deinit()\n",
    "print('Time Cycle Completed')"
   ]
  },
  {
   "cell_type": "markdown",
   "metadata": {},
   "source": [
    "<!DOCTYPE html>\n",
    "<html>\n",
    "   <head>\n",
    "      <title>HTML Image as link</title>\n",
    "   </head>\n",
    "   <body>\n",
    "      The following image works as a link:<br>\n",
    "<!--          <img alt=\"Qries\" src=\"../Docs/socket-server.png\"> -->\n",
    "       <a href=\"../Docs/ESP32_Feather/adafruit-huzzah32-esp32-feather.pdf#page=8\">\n",
    "         <img alt=\"Qries\" src=\"../Docs/ESP32_Feather/3405-Adafruit-HUZZAH32-Feather.gif\">\n",
    "       </a>\n",
    "<!--          <img alt=\"Qries\" src=\"../Docs/socket-server.png\"> -->\n",
    "<!--          <img alt=\"Qries\" src=\"../Docs/socket-server.png\"> -->\n",
    "<!--        <iframe src=\"../Docs/ESP32_Feather/adafruit-huzzah32-esp32-feather.pdf\" width=\"1000\" height=\"800\" frameborder=\"0\" allowfullscreen> -->\n",
    "<!--        </iframe> -->\n",
    "<!--        <object width=\"400\" height=\"500\" type=\"application/pdf\" data=\"../Docs/ESP32_Feather/adafruit-huzzah32-esp32-feather.pdf?#zoom=85&scrollbar=0&toolbar=0&navpanes=0\"> -->\n",
    "<!--             <p>Insert your error message here, if the PDF cannot be displayed.</p> -->\n",
    "<!--         </object> -->\n",
    "<!--        <embed src=\"https://drive.google.com/viewerng/ -->\n",
    "<!-- viewer?embedded=true&url=../Docs/ESP32_Feather/adafruit-huzzah32-esp32-feather.pdf\" width=\"500\" height=\"375\"> -->\n",
    "   </body>\n",
    "</html>"
   ]
  },
  {
   "cell_type": "code",
   "execution_count": null,
   "metadata": {},
   "outputs": [],
   "source": []
  }
 ],
 "metadata": {
  "kernelspec": {
   "display_name": "MicroPython - USB",
   "language": "python",
   "name": "micropython"
  },
  "language_info": {
   "codemirror_mode": "python",
   "file_extension": ".py",
   "mimetype": "text/python",
   "name": "micropython"
  },
  "toc-autonumbering": true,
  "toc-showcode": false,
  "toc-showmarkdowntxt": true,
  "toc-showtags": false
 },
 "nbformat": 4,
 "nbformat_minor": 4
}
