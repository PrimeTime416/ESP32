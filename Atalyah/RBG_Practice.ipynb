{
 "cells": [
  {
   "cell_type": "markdown",
   "metadata": {
    "Collapsed": "false"
   },
   "source": [
    "<div>    \n",
    "<p style=\"color:white;text-align:center\"> <font size=\"7\"> Getting Started </font><p>\n",
    "<p> Please see link for a great blog on using MicroPython with Jupyter Lads:</p>\n",
    "<a href=\"https://towardsdatascience.com/micropython-on-esp-using-jupyter-6f366ff5ed9\">MicroPython on ESP Using Jupyter Notebook</a>\n",
    "<div>"
   ]
  },
  {
   "cell_type": "markdown",
   "metadata": {
    "Collapsed": "false",
    "toc-hr-collapsed": false
   },
   "source": [
    "<h1>Connecting to MCU using serial</h1>\n",
    "<p>Use <i>ls -a /dev/ttyUSB*</i> to see which port the MCU is connected to </p>"
   ]
  },
  {
   "cell_type": "code",
   "execution_count": 2,
   "metadata": {
    "Collapsed": "false"
   },
   "outputs": [
    {
     "name": "stdout",
     "output_type": "stream",
     "text": [
      "\u001b[34mConnecting to --port=/dev/ttyUSB0 --baud=115200 \u001b[0m\n",
      "\u001b[34mReady.\n",
      "\u001b[0m"
     ]
    }
   ],
   "source": [
    "%serialconnect to --port=/dev/ttyUSB0 --baud=115200"
   ]
  },
  {
   "cell_type": "code",
   "execution_count": 2,
   "metadata": {
    "Collapsed": "false"
   },
   "outputs": [
    {
     "name": "stdout",
     "output_type": "stream",
     "text": [
      "hello user1243\n"
     ]
    }
   ],
   "source": [
    "print(\"hello user1243\")"
   ]
  },
  {
   "cell_type": "code",
   "execution_count": 3,
   "metadata": {
    "Collapsed": "false"
   },
   "outputs": [
    {
     "name": "stdout",
     "output_type": "stream",
     "text": [
      "__main__          gc                uctypes           urequests\n",
      "_boot             inisetup          uerrno            uselect\n",
      "_onewire          machine           uhashlib          usocket\n",
      "_thread           math              uhashlib          ussl\n",
      "_webrepl          micropython       uheapq            ustruct\n",
      "apa106            neopixel          uio               utime\n",
      "btree             network           ujson             utimeq\n",
      "builtins          ntptime           umqtt/robust      uwebsocket\n",
      "cmath             onewire           umqtt/simple      uzlib\n",
      "dht               sys               uos               webrepl\n",
      "ds18x20           uarray            upip              webrepl_setup\n",
      "esp               ubinascii         upip_utarfile     websocket_helper\n",
      "esp32             ubluetooth        upysh\n",
      "flashbdev         ucollections      urandom\n",
      "framebuf          ucryptolib        ure\n",
      "Plus any modules on the filesystem\n",
      "None\n"
     ]
    }
   ],
   "source": [
    "print(help('modules'))"
   ]
  },
  {
   "cell_type": "markdown",
   "metadata": {
    "Collapsed": "false"
   },
   "source": [
    "<h1>Connecting to MCU GPIO</h1>\n",
    "<p> The <i>machine</i> library exposes most GPIO pins, its a good idea to consult your development board pin out. </p>\n",
    "<a href=\"http://docs.micropython.org/en/latest/library/machine.html\"> Machine Function Modules</a>"
   ]
  },
  {
   "cell_type": "code",
   "execution_count": 5,
   "metadata": {
    "Collapsed": "false"
   },
   "outputs": [
    {
     "name": "stdout",
     "output_type": "stream",
     "text": [
      "['__class__', '__name__', 'ADC', 'DAC', 'DEEPSLEEP', 'DEEPSLEEP_RESET', 'EXT0_WAKE', 'EXT1_WAKE', 'HARD_RESET', 'I2C', 'PIN_WAKE', 'PWM', 'PWRON_RESET', 'Pin', 'RTC', 'SDCard', 'SLEEP', 'SOFT_RESET', 'SPI', 'Signal', 'TIMER_WAKE', 'TOUCHPAD_WAKE', 'Timer', 'TouchPad', 'UART', 'ULP_WAKE', 'WDT', 'WDT_RESET', 'deepsleep', 'disable_irq', 'enable_irq', 'freq', 'idle', 'lightsleep', 'mem16', 'mem32', 'mem8', 'reset', 'reset_cause', 'sleep', 'soft_reset', 'time_pulse_us', 'unique_id', 'wake_reason']\n"
     ]
    }
   ],
   "source": [
    "# Use dir to list all methods associate with library or class.\n",
    "import machine\n",
    "print(dir(machine))"
   ]
  },
  {
   "cell_type": "markdown",
   "metadata": {
    "Collapsed": "false",
    "toc-hr-collapsed": false
   },
   "source": [
    "<h1>class Pin – control I/O pins</h1>\n",
    "<p>This list all the different functions available for the Pin class</p>"
   ]
  },
  {
   "cell_type": "code",
   "execution_count": 5,
   "metadata": {
    "Collapsed": "false"
   },
   "outputs": [
    {
     "name": "stdout",
     "output_type": "stream",
     "text": [
      "['__class__', '__name__', 'value', '__bases__', 'IN', 'IRQ_FALLING', 'IRQ_RISING', 'OPEN_DRAIN', 'OUT', 'PULL_DOWN', 'PULL_HOLD', 'PULL_UP', 'WAKE_HIGH', 'WAKE_LOW', 'init', 'irq', 'off', 'on']\n"
     ]
    }
   ],
   "source": [
    "print(dir(machine.Pin))"
   ]
  },
  {
   "cell_type": "markdown",
   "metadata": {},
   "source": [
    "<h1>Set the pin(s) to output</h1>"
   ]
  },
  {
   "cell_type": "code",
   "execution_count": 6,
   "metadata": {
    "Collapsed": "false"
   },
   "outputs": [],
   "source": [
    "Pin = machine.Pin\n",
    "Signal = machine.Signal\n",
    "mcu_led_red = machine.Pin(13, Pin.OUT) #Adafruit Development Board\n",
    "led_red = machine.Pin(12, Pin.OUT,pull=Pin.PULL_DOWN, value=0) #Adafruit Development Board\n",
    "led_green = machine.Pin(27, Pin.OUT, pull=Pin.PULL_DOWN, value=0) #Adafruit Development Board\n",
    "led_blue = machine.Pin(33, Pin.OUT, pull=Pin.PULL_DOWN, value=0) #Adafruit Development Board"
   ]
  },
  {
   "cell_type": "markdown",
   "metadata": {},
   "source": [
    "<h1>Set the pin(s) to FALSE state</h1>\n",
    "<p>Please note depending on the pin mode this may turn the LED OFF or ON</p>"
   ]
  },
  {
   "cell_type": "code",
   "execution_count": 7,
   "metadata": {
    "Collapsed": "false"
   },
   "outputs": [],
   "source": [
    "# Turn GPIO OFF\n",
    "mcu_led_red.value(0)\n",
    "led_red.value(0)\n",
    "led_green.value(0)\n",
    "led_blue.value(0)"
   ]
  },
  {
   "cell_type": "markdown",
   "metadata": {},
   "source": [
    "<h1>Set the pin(s) to TRUE state</h1>\n",
    "<p>Please note depending on the pin mode this may turn the LED OFF or ON</p>"
   ]
  },
  {
   "cell_type": "code",
   "execution_count": 8,
   "metadata": {
    "Collapsed": "false"
   },
   "outputs": [],
   "source": [
    "# Turn GPIO ON\n",
    "mcu_led_red.value(1)\n",
    "led_red.value(1)\n",
    "led_green.value(1)\n",
    "led_blue.value(1)"
   ]
  },
  {
   "cell_type": "code",
   "execution_count": 9,
   "metadata": {},
   "outputs": [],
   "source": [
    "def led_rbg(r, b, g):\n",
    "    \n",
    "    led_r = Signal(led_red, invert=True)\n",
    "    led_g = Signal(led_green, invert=True)\n",
    "    led_b = Signal(led_blue, invert=True)\n",
    "    \n",
    "    led_r.value(r)\n",
    "    led_g.value(g)\n",
    "    led_b.value(b)"
   ]
  },
  {
   "cell_type": "code",
   "execution_count": 10,
   "metadata": {},
   "outputs": [],
   "source": [
    "led_rbg(1,0,1)"
   ]
  },
  {
   "cell_type": "markdown",
   "metadata": {},
   "source": [
    "<h1>Set the pin(s) to OFF state</h1>\n",
    "<p>Please note depending on the pin mode this may turn the LED OFF or ON</p>"
   ]
  },
  {
   "cell_type": "code",
   "execution_count": 11,
   "metadata": {
    "Collapsed": "false"
   },
   "outputs": [],
   "source": [
    "# Turn GPIO OFF\n",
    "mcu_led_red.off()\n",
    "led_red.off()"
   ]
  },
  {
   "cell_type": "markdown",
   "metadata": {},
   "source": [
    "<h1>Set the pin(s) to ON state</h1>\n",
    "<p>Please note depending on the pin mode this may turn the LED OFF or ON</p>"
   ]
  },
  {
   "cell_type": "code",
   "execution_count": 12,
   "metadata": {
    "Collapsed": "false"
   },
   "outputs": [],
   "source": [
    "# Turn GPIO ON\n",
    "mcu_led_red.on()\n",
    "led_red.on()"
   ]
  },
  {
   "cell_type": "markdown",
   "metadata": {
    "Collapsed": "false"
   },
   "source": [
    "<p>Input: Reading GPIO</p>"
   ]
  },
  {
   "cell_type": "markdown",
   "metadata": {
    "Collapsed": "false"
   },
   "source": [
    "<h1>class Time – MCU Timing Functions</h1>"
   ]
  },
  {
   "cell_type": "code",
   "execution_count": 24,
   "metadata": {
    "Collapsed": "false"
   },
   "outputs": [
    {
     "name": "stdout",
     "output_type": "stream",
     "text": [
      "...Time Cycle Completed\n"
     ]
    }
   ],
   "source": [
    "import machine\n",
    "from time import sleep\n",
    "\n",
    "mcu_led_red = machine.Pin(13, machine.Pin.OUT) #Adafruit Development Board\n",
    "led_red = machine.Pin(12, machine.Pin.OUT) #Adafruit Development Board\n",
    "\n",
    "# Timing loop\n",
    "for i in range(14):\n",
    "    mcu_led_red.off()\n",
    "    sleep(0.5)\n",
    "    mcu_led_red.on()\n",
    "    sleep(0.5)\n",
    "print('Time Cycle Completed')\n",
    "mcu_led_red.off()\n",
    "led_red.on()"
   ]
  },
  {
   "cell_type": "markdown",
   "metadata": {
    "Collapsed": "false"
   },
   "source": [
    "<h1>class PWM – MCU Pulse Width Modulation</h1>\n",
    "<p>Read the section on PWM in the link below for more information</p>\n",
    "<a href='http://docs.micropython.org/en/latest/esp32/quickref.html?highlight=pwm'>http://docs.micropython.org/en/latest/esp32/quickref.html?highlight=pwm</a>"
   ]
  },
  {
   "cell_type": "code",
   "execution_count": 35,
   "metadata": {
    "Collapsed": "false"
   },
   "outputs": [
    {
     "name": "stdout",
     "output_type": "stream",
     "text": [
      "...Time Cycle Completed\n"
     ]
    }
   ],
   "source": [
    "import time\n",
    "from machine import Pin, PWM\n",
    "\n",
    "pwm0 = PWM(Pin(13), freq=60, duty=0)\n",
    "for i in range (0,1023,20):\n",
    "    pwm0.duty(i)\n",
    "    time.sleep(0.25)\n",
    "\n",
    "pwm0.deinit()\n",
    "print('Time Cycle Completed')"
   ]
  },
  {
   "cell_type": "markdown",
   "metadata": {},
   "source": [
    "<!DOCTYPE html>\n",
    "<html>\n",
    "   <head>\n",
    "      <title>HTML Image as link</title>\n",
    "   </head>\n",
    "   <body>\n",
    "      The following image works as a link:<br>\n",
    "<!--          <img alt=\"Qries\" src=\"../Docs/socket-server.png\"> -->\n",
    "       <a href=\"../Docs/ESP32_Feather/adafruit-huzzah32-esp32-feather.pdf#page=8\">\n",
    "         <img alt=\"Qries\" src=\"../Docs/ESP32_Feather/3405-Adafruit-HUZZAH32-Feather.gif\">\n",
    "       </a>\n",
    "<!--          <img alt=\"Qries\" src=\"../Docs/socket-server.png\"> -->\n",
    "<!--          <img alt=\"Qries\" src=\"../Docs/socket-server.png\"> -->\n",
    "<!--        <iframe src=\"../Docs/ESP32_Feather/adafruit-huzzah32-esp32-feather.pdf\" width=\"1000\" height=\"800\" frameborder=\"0\" allowfullscreen> -->\n",
    "<!--        </iframe> -->\n",
    "<!--        <object width=\"400\" height=\"500\" type=\"application/pdf\" data=\"../Docs/ESP32_Feather/adafruit-huzzah32-esp32-feather.pdf?#zoom=85&scrollbar=0&toolbar=0&navpanes=0\"> -->\n",
    "<!--             <p>Insert your error message here, if the PDF cannot be displayed.</p> -->\n",
    "<!--         </object> -->\n",
    "<!--        <embed src=\"https://drive.google.com/viewerng/ -->\n",
    "<!-- viewer?embedded=true&url=../Docs/ESP32_Feather/adafruit-huzzah32-esp32-feather.pdf\" width=\"500\" height=\"375\"> -->\n",
    "   </body>\n",
    "</html>"
   ]
  },
  {
   "cell_type": "markdown",
   "metadata": {},
   "source": [
    "<h1>Making A LED Class</h1>"
   ]
  },
  {
   "cell_type": "code",
   "execution_count": 499,
   "metadata": {},
   "outputs": [],
   "source": [
    "class LedRGB():\n",
    "    from machine import Pin, Signal, PWM, Timer\n",
    "    import time\n",
    "    toggle = 0\n",
    "    \n",
    "    def __init__(self, pin_red, pin_green, pin_blue):\n",
    "        \n",
    "        self.p_red = pin_red\n",
    "        self.p_green = pin_green\n",
    "        self.p_blue = pin_blue\n",
    "        print('LED Initalize')\n",
    "        print('Red Pin: ', self.p_red)\n",
    "        print('Green Pin: ', self.p_green)\n",
    "        print('Blue Pin: ', self.p_blue)\n",
    "        \n",
    "        led_red = self.Pin(self.p_red, self.Pin.OUT,pull=self.Pin.PULL_DOWN, value=1)\n",
    "        led_green = self.Pin(self.p_green, self.Pin.OUT, pull=self.Pin.PULL_DOWN, value=1)\n",
    "        led_blue = self.Pin(self.p_blue, self.Pin.OUT, pull=self.Pin.PULL_DOWN, value=1)\n",
    "        \n",
    "        self.led_red = self.Signal(led_red, invert=True)\n",
    "        self.led_green = self.Signal(led_green, invert=True)\n",
    "        self.led_blue = self.Signal(led_blue, invert=True)\n",
    "        \n",
    "    def led_set(self, rgb=[1, 1 ,1]):\n",
    "        self.PWM(self.Pin(self.p_red)).deinit()\n",
    "        self.PWM(self.Pin(self.p_green)).deinit()\n",
    "        self.PWM(self.Pin(self.p_blue)).deinit()\n",
    "        self.rgb = rgb\n",
    "        print('RGB Set To: ', rgb)\n",
    "        self.led_red.value(self.rgb[0])\n",
    "        self.led_green.value(self.rgb[1])\n",
    "        self.led_blue.value(self.rgb[2])\n",
    "        \n",
    "#     http://docs.micropython.org/en/latest/esp32/quickref.html?highlight=pwm\n",
    "#     https://docs.espressif.com/projects/esp-idf/en/latest/esp32/api-reference/peripherals/ledc.html#ledc-api-change-pwm-frequency\n",
    "\n",
    "    def get_duty(self, percent):\n",
    "        return int(1023 - percent / 100 * 1023 + 0.5)\n",
    "\n",
    "    def led_pwm(self, rgb=[0, 0, 0], frequency=120):\n",
    "        \n",
    "        led_red = self.PWM(self.Pin(self.p_red), frequency, self.get_duty(rgb[0]))\n",
    "        led_green =self.PWM(self.Pin(self.p_green), frequency, self.get_duty(rgb[1]))\n",
    "        led_blue = self.PWM(self.Pin(self.p_blue), frequency, self.get_duty(rgb[2]))\n",
    "    \n",
    "        for index, led in enumerate([led_red, led_green, led_blue], start=0):\n",
    "            self.time.sleep_ms(25)\n",
    "            print(led)\n",
    "            \n",
    "    def led_timer(self):\n",
    "        led_green = self.Pin(self.p_green, self.Pin.OUT, pull=self.Pin.PULL_DOWN )\n",
    "#         print('Toggle: ', self.toggle)\n",
    "        led_green.value(int(not led_green.value()))\n",
    "        print('LED: ', led_green.value())\n",
    "#         return not toggle\n",
    "        \n",
    "\n",
    "        \n",
    "        \n"
   ]
  },
  {
   "cell_type": "code",
   "execution_count": 503,
   "metadata": {},
   "outputs": [
    {
     "name": "stdout",
     "output_type": "stream",
     "text": [
      "LED Initalize\n",
      "Red Pin:  12\n",
      "Green Pin:  27\n",
      "Blue Pin:  33\n",
      "LED:  0\n",
      "None\n"
     ]
    }
   ],
   "source": [
    "toggle = 0\n",
    "led1 = LedRGB(pin_red=12, pin_green=27, pin_blue=33)\n",
    "toggle =  led1.led_timer()\n",
    "print(toggle)\n",
    "# print(led1.Pin)"
   ]
  },
  {
   "cell_type": "code",
   "execution_count": 512,
   "metadata": {},
   "outputs": [
    {
     "name": "stdout",
     "output_type": "stream",
     "text": [
      "LED:  1\n"
     ]
    }
   ],
   "source": [
    "# toggle =  led1.led_timer()\n",
    "led1.led_timer()\n",
    "# led1.led_timer()\n",
    "# print(toggle)"
   ]
  },
  {
   "cell_type": "code",
   "execution_count": 11,
   "metadata": {},
   "outputs": [
    {
     "name": "stdout",
     "output_type": "stream",
     "text": [
      "Interrupt has occurred: 1\n",
      "Interrupt has occurred: 2\n",
      "Interrupt has occurred: 3\n",
      "Interrupt has occurred: 4\n",
      ".Interrupt has occurred: 5\n",
      "Interrupt has occurred: 6\n",
      "Interrupt has occurred: 7\n",
      "Interrupt has occurred: 8\n",
      "Interrupt has occurred: 9\n",
      "Interrupt has occurred: 10\n",
      "Interrupt has occurred: 11\n",
      "Interrupt has occurred: 12\n",
      "Interrupt has occurred: 13\n",
      "Interrupt has occurred: 14\n",
      ".Interrupt has occurred: 15\n",
      "\u001b[34m\n",
      "\n",
      "*** Sending Ctrl-C\n",
      "\n",
      "\u001b[0m"
     ]
    },
    {
     "name": "stderr",
     "output_type": "stream",
     "text": [
      "Traceback (most recent call last):\n",
      "  File \"<stdin>\", line 15, in <module>\n",
      "KeyboardInterrupt: \n"
     ]
    }
   ],
   "source": [
    "import machine\n",
    " \n",
    "interruptCounter = 0\n",
    "totalInterruptsCounter = 0\n",
    " \n",
    "timer = machine.Timer(0)  \n",
    " \n",
    "def handleInterrupt(timer):\n",
    "  global interruptCounter\n",
    "  interruptCounter = interruptCounter+1\n",
    " \n",
    "timer.init(period=1000, mode=machine.Timer.PERIODIC, callback=handleInterrupt)\n",
    " \n",
    "while True:\n",
    "  if interruptCounter>0:\n",
    "    state = machine.disable_irq()\n",
    "    interruptCounter = interruptCounter-1\n",
    "    machine.enable_irq(state)\n",
    " \n",
    "    totalInterruptsCounter = totalInterruptsCounter+1\n",
    "    print(\"Interrupt has occurred: \" + str(totalInterruptsCounter))\n"
   ]
  },
  {
   "cell_type": "markdown",
   "metadata": {},
   "source": [
    "<p>Set Attributes</p>"
   ]
  },
  {
   "cell_type": "code",
   "execution_count": 18,
   "metadata": {},
   "outputs": [
    {
     "name": "stdout",
     "output_type": "stream",
     "text": [
      "LED Initalize\n",
      "Red Pin:  12\n",
      "Green Pin:  27\n",
      "Blue Pin:  33\n",
      "12\n",
      "RGB Set To:  [1, 1, 1]\n",
      "<class 'Pin'>\n"
     ]
    }
   ],
   "source": [
    "led1 = LedRGB(pin_red=12, pin_green=27, pin_blue=33)\n",
    "print(led1.p_red)\n",
    "led1.led_set([1,1,1])\n",
    "print(led1.Pin)"
   ]
  },
  {
   "cell_type": "code",
   "execution_count": 4,
   "metadata": {},
   "outputs": [
    {
     "name": "stdout",
     "output_type": "stream",
     "text": [
      "RGB Set To:  [1, 0, 0]\n"
     ]
    }
   ],
   "source": [
    "led1.led_set([1,0,0])"
   ]
  },
  {
   "cell_type": "code",
   "execution_count": 5,
   "metadata": {},
   "outputs": [
    {
     "name": "stdout",
     "output_type": "stream",
     "text": [
      "RGB Set To:  [0, 1, 0]\n"
     ]
    }
   ],
   "source": [
    "led1.led_set([0,1,0])"
   ]
  },
  {
   "cell_type": "code",
   "execution_count": 6,
   "metadata": {},
   "outputs": [
    {
     "name": "stdout",
     "output_type": "stream",
     "text": [
      "RGB Set To:  [0, 0, 1]\n"
     ]
    }
   ],
   "source": [
    "led1.led_set([0,0,1])"
   ]
  },
  {
   "cell_type": "code",
   "execution_count": 19,
   "metadata": {},
   "outputs": [
    {
     "name": "stdout",
     "output_type": "stream",
     "text": [
      "RGB Set To:  [0, 0, 0]\n"
     ]
    }
   ],
   "source": [
    "led1.led_set([0,0,0])"
   ]
  },
  {
   "cell_type": "code",
   "execution_count": 33,
   "metadata": {},
   "outputs": [
    {
     "name": "stdout",
     "output_type": "stream",
     "text": [
      "PWM(12, freq=120, duty=716)\n",
      "PWM(27, freq=120, duty=1023)\n",
      "PWM(33, freq=120, duty=256)\n"
     ]
    }
   ],
   "source": [
    "led1.led_pwm([30,0,75], 120)"
   ]
  },
  {
   "cell_type": "code",
   "execution_count": 159,
   "metadata": {},
   "outputs": [
    {
     "name": "stdout",
     "output_type": "stream",
     "text": [
      "object <module 'utime'> is of type module\n",
      "  __name__ -- utime\n",
      "  localtime -- <function>\n",
      "  mktime -- <function>\n",
      "  time -- <function>\n",
      "  sleep -- <function>\n",
      "  sleep_ms -- <function>\n",
      "  sleep_us -- <function>\n",
      "  ticks_ms -- <function>\n",
      "  ticks_us -- <function>\n",
      "  ticks_cpu -- <function>\n",
      "  ticks_add -- <function>\n",
      "  ticks_diff -- <function>\n"
     ]
    }
   ],
   "source": [
    "import time\n",
    "time.sleep(1)\n",
    "help(time)"
   ]
  },
  {
   "cell_type": "code",
   "execution_count": 36,
   "metadata": {},
   "outputs": [],
   "source": [
    "from machine import Timer\n",
    "\n",
    "tim = Timer(-1)\n",
    "tim.init(period=5000, mode=Timer.ONE_SHOT, callback=lambda t:print(1))\n",
    "tim.init(period=2000, mode=Timer.PERIODIC, callback=lambda t:print(2))"
   ]
  },
  {
   "cell_type": "code",
   "execution_count": 10,
   "metadata": {},
   "outputs": [
    {
     "name": "stdout",
     "output_type": "stream",
     "text": [
      "10\n"
     ]
    }
   ],
   "source": [
    "t = lambda a, b:a*b\n",
    "print(t(2,5))"
   ]
  },
  {
   "cell_type": "code",
   "execution_count": 12,
   "metadata": {},
   "outputs": [
    {
     "name": "stdout",
     "output_type": "stream",
     "text": [
      "8\n"
     ]
    }
   ],
   "source": [
    "t = lambda a, b:a**b\n",
    "print(t(2,3))"
   ]
  },
  {
   "cell_type": "code",
   "execution_count": 14,
   "metadata": {},
   "outputs": [],
   "source": [
    "some_num = [2, 4, 6, 8]"
   ]
  },
  {
   "cell_type": "code",
   "execution_count": 21,
   "metadata": {},
   "outputs": [
    {
     "name": "stdout",
     "output_type": "stream",
     "text": [
      "[4, 8, 12, 16]\n"
     ]
    }
   ],
   "source": [
    "double = list(map(lambda x: x + x, some_num))\n",
    "print(double)"
   ]
  },
  {
   "cell_type": "code",
   "execution_count": 25,
   "metadata": {},
   "outputs": [
    {
     "name": "stdout",
     "output_type": "stream",
     "text": [
      "['THIS IS', 'COOL']\n"
     ]
    }
   ],
   "source": [
    "my_string = ['This is', 'cool']\n",
    "cap = list(map(lambda x: str.upper(x), my_string))\n",
    "print(cap)"
   ]
  },
  {
   "cell_type": "code",
   "execution_count": 49,
   "metadata": {},
   "outputs": [
    {
     "name": "stdout",
     "output_type": "stream",
     "text": [
      "[30, 32, 33, 35, 37, 39]\n",
      "[35, 39, 32, 37, 30, 33]\n",
      "None\n",
      "[30, 32, 33, 35, 37, 39]\n",
      "[39, 37, 35, 33, 32, 30]\n",
      "[30, 32, 33, 35, 37, 39]\n",
      "['__class__', 'append', 'clear', 'copy', 'count', 'extend', 'index', 'insert', 'pop', 'remove', 'reverse', 'sort']\n"
     ]
    }
   ],
   "source": [
    "import builtins\n",
    "attendance = [35, 39, 32, 37, 30, 33]\n",
    "print(sorted(attendance))\n",
    "print(attendance)\n",
    "print(attendance.sort(key=lambda x: x * 1.5))\n",
    "print(attendance)\n",
    "print(sorted(attendance, reverse=True))\n",
    "print(sorted(attendance, reverse=False))\n",
    "print(dir(attendance))"
   ]
  },
  {
   "cell_type": "code",
   "execution_count": null,
   "metadata": {},
   "outputs": [],
   "source": []
  },
  {
   "cell_type": "code",
   "execution_count": 53,
   "metadata": {},
   "outputs": [
    {
     "name": "stdout",
     "output_type": "stream",
     "text": [
      "[('9A', 30), ('9B', 37), ('9C', 32), ('9D', 39), ('9E', 35)]\n",
      "[('9A', 30), ('9C', 32), ('9E', 35), ('9B', 37), ('9D', 39)]\n"
     ]
    }
   ],
   "source": [
    "rooms = [('9E', 35), ('9D', 39), ('9C', 32), ('9B', 37), ('9A',30)]\n",
    "print(sorted(rooms, key=lambda x: x[0]))\n",
    "print(sorted(rooms, key=lambda x: x[1]))"
   ]
  }
 ],
 "metadata": {
  "kernelspec": {
   "display_name": "MicroPython - USB",
   "language": "python",
   "name": "micropython"
  },
  "language_info": {
   "codemirror_mode": "python",
   "file_extension": ".py",
   "mimetype": "text/python",
   "name": "micropython"
  },
  "toc-autonumbering": true,
  "toc-showcode": false,
  "toc-showmarkdowntxt": true,
  "toc-showtags": false
 },
 "nbformat": 4,
 "nbformat_minor": 4
}
