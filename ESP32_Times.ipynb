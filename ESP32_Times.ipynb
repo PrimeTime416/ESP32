{
 "cells": [
  {
   "cell_type": "code",
   "execution_count": 2,
   "metadata": {
    "Collapsed": "false"
   },
   "outputs": [
    {
     "name": "stdout",
     "output_type": "stream",
     "text": [
      "\u001b[34mConnecting to --port=/dev/ttyUSB0 --baud=115200 \u001b[0m\n",
      "\u001b[34mReady.\n",
      "\u001b[0m"
     ]
    }
   ],
   "source": [
    "%serialconnect to --port=/dev/ttyUSB0 --baud=115200"
   ]
  },
  {
   "cell_type": "code",
   "execution_count": null,
   "metadata": {},
   "outputs": [],
   "source": []
  },
  {
   "cell_type": "code",
   "execution_count": null,
   "metadata": {},
   "outputs": [
    {
     "name": "stdout",
     "output_type": "stream",
     "text": [
      "<bound_method>\n",
      "Timer(3ffe5fe0; alarm_en=1, auto_reload=1, counter_en=1)\n",
      ".Timer(3ffe5fe0; alarm_en=1, auto_reload=1, counter_en=1)\n",
      "Interrupt has occurred: 1\n",
      "..Timer(3ffe5fe0; alarm_en=1, auto_reload=1, counter_en=1)\n",
      "Interrupt has occurred: 2\n",
      "..Timer(3ffe5fe0; alarm_en=1, auto_reload=1, counter_en=1)\n",
      "Interrupt has occurred: 3\n",
      "..Timer(3ffe5fe0; alarm_en=1, auto_reload=1, counter_en=1)\n",
      "Interrupt has occurred: 4\n",
      "..Timer(3ffe5fe0; alarm_en=1, auto_reload=1, counter_en=1)\n",
      "Interrupt has occurred: 5\n",
      "..Timer(3ffe5fe0; alarm_en=1, auto_reload=1, counter_en=1)\n",
      "Interrupt has occurred: 6\n",
      "..Timer(3ffe5fe0; alarm_en=1, auto_reload=1, counter_en=1)\n",
      "Interrupt has occurred: 7\n",
      "..Timer(3ffe5fe0; alarm_en=1, auto_reload=1, counter_en=1)\n",
      "Interrupt has occurred: 8\n",
      "..Timer(3ffe5fe0; alarm_en=1, auto_reload=1, counter_en=1)\n",
      "Interrupt has occurred: 9\n",
      "..Timer(3ffe5fe0; alarm_en=1, auto_reload=1, counter_en=1)\n",
      "Interrupt has occurred: 10\n",
      ".Timer(3ffe5fe0; alarm_en=1, auto_reload=1, counter_en=1)\n",
      "Interrupt has occurred: 11\n",
      "..Timer(3ffe5fe0; alarm_en=1, auto_reload=1, counter_en=1)\n",
      "Interrupt has occurred: 12\n",
      "..Timer(3ffe5fe0; alarm_en=1, auto_reload=1, counter_en=1)\n",
      "Interrupt has occurred: 13\n",
      "..Timer(3ffe5fe0; alarm_en=1, auto_reload=1, counter_en=1)\n",
      "Interrupt has occurred: 14\n",
      "..Timer(3ffe5fe0; alarm_en=1, auto_reload=1, counter_en=1)\n",
      "Interrupt has occurred: 15\n",
      "..Timer(3ffe5fe0; alarm_en=1, auto_reload=1, counter_en=1)\n",
      "Interrupt has occurred: 16\n"
     ]
    }
   ],
   "source": [
    "import machine\n",
    " \n",
    "interruptCounter = 0\n",
    "totalInterruptsCounter = 0\n",
    " \n",
    "timer = machine.Timer(0)  \n",
    "print(timer.value)\n",
    " \n",
    "def handleInterrupt(timer):\n",
    "  global interruptCounter\n",
    "  interruptCounter = interruptCounter+1\n",
    "  print(timer)\n",
    " \n",
    "timer.init(period=10000, mode=machine.Timer.PERIODIC, callback=handleInterrupt)\n",
    "print(timer)\n",
    " \n",
    "while True:\n",
    "  if interruptCounter>0:\n",
    "    state = machine.disable_irq()\n",
    "    interruptCounter = interruptCounter-1\n",
    "    machine.enable_irq(state)\n",
    " \n",
    "    totalInterruptsCounter = totalInterruptsCounter+1\n",
    "    print(\"Interrupt has occurred: \" + str(totalInterruptsCounter))\n"
   ]
  }
 ],
 "metadata": {
  "kernelspec": {
   "display_name": "MicroPython - USB",
   "language": "python",
   "name": "micropython"
  },
  "language_info": {
   "codemirror_mode": "python",
   "file_extension": ".py",
   "mimetype": "text/python",
   "name": "micropython"
  }
 },
 "nbformat": 4,
 "nbformat_minor": 4
}
