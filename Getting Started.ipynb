{
 "cells": [
  {
   "cell_type": "markdown",
   "metadata": {
    "Collapsed": "false"
   },
   "source": [
    "<div>    \n",
    "<p style=\"color:white;text-align:center\"> <font size=\"7\"> Getting Started </font><p>\n",
    "<p> Please see link for a great blog on using MicroPython with Jupyter Lads:</p>\n",
    "<a href=\"https://towardsdatascience.com/micropython-on-esp-using-jupyter-6f366ff5ed9\">MicroPython on ESP Using Jupyter Notebook</a>\n",
    "<div>"
   ]
  },
  {
   "cell_type": "markdown",
   "metadata": {
    "Collapsed": "false",
    "toc-hr-collapsed": false
   },
   "source": [
    "<h1>Connecting to MCU using serial</h1>\n",
    "<p>Use <i>ls -a /dev/ttyUSB*</i> to see which port the MCU is connected to </p>"
   ]
  },
  {
   "cell_type": "code",
   "execution_count": 14,
   "metadata": {
    "Collapsed": "false"
   },
   "outputs": [
    {
     "name": "stdout",
     "output_type": "stream",
     "text": [
      "\u001b[34mConnecting to --port=/dev/ttyUSB0 --baud=115200 \u001b[0m\n",
      "\u001b[34mReady.\n",
      "\u001b[0m"
     ]
    }
   ],
   "source": [
    "%serialconnect to --port=/dev/ttyUSB0 --baud=115200"
   ]
  },
  {
   "cell_type": "code",
   "execution_count": 3,
   "metadata": {
    "Collapsed": "false"
   },
   "outputs": [
    {
     "name": "stdout",
     "output_type": "stream",
     "text": [
      "hello user1243\n"
     ]
    }
   ],
   "source": [
    "print(\"hello user1243\")"
   ]
  },
  {
   "cell_type": "markdown",
   "metadata": {
    "Collapsed": "false"
   },
   "source": [
    "<h1>Connecting to MCU GPIO</h1>\n",
    "<p> The <i>machine</i> library exposes most GPIO pins, its a good idea to consult your development board pin out. </p>\n",
    "<a href=\"http://docs.micropython.org/en/latest/library/machine.html\"> Machine Function Modules</a>"
   ]
  },
  {
   "cell_type": "code",
   "execution_count": 4,
   "metadata": {
    "Collapsed": "false"
   },
   "outputs": [
    {
     "name": "stdout",
     "output_type": "stream",
     "text": [
      "['__class__', '__name__', 'ADC', 'DAC', 'DEEPSLEEP', 'DEEPSLEEP_RESET', 'EXT0_WAKE', 'EXT1_WAKE', 'HARD_RESET', 'I2C', 'PIN_WAKE', 'PWM', 'PWRON_RESET', 'Pin', 'RTC', 'SDCard', 'SLEEP', 'SOFT_RESET', 'SPI', 'Signal', 'TIMER_WAKE', 'TOUCHPAD_WAKE', 'Timer', 'TouchPad', 'UART', 'ULP_WAKE', 'WDT', 'WDT_RESET', 'deepsleep', 'disable_irq', 'enable_irq', 'freq', 'idle', 'lightsleep', 'mem16', 'mem32', 'mem8', 'reset', 'reset_cause', 'sleep', 'soft_reset', 'time_pulse_us', 'unique_id', 'wake_reason']\n"
     ]
    }
   ],
   "source": [
    "# Use dir to list all methods associate with library or class.\n",
    "import machine\n",
    "print(dir(machine))"
   ]
  },
  {
   "cell_type": "markdown",
   "metadata": {
    "Collapsed": "false",
    "toc-hr-collapsed": false
   },
   "source": [
    "<h1>class Pin – control I/O pins</h1>"
   ]
  },
  {
   "cell_type": "code",
   "execution_count": 5,
   "metadata": {
    "Collapsed": "false"
   },
   "outputs": [
    {
     "name": "stdout",
     "output_type": "stream",
     "text": [
      "['__class__', '__name__', 'value', '__bases__', 'IN', 'IRQ_FALLING', 'IRQ_RISING', 'OPEN_DRAIN', 'OUT', 'PULL_DOWN', 'PULL_HOLD', 'PULL_UP', 'WAKE_HIGH', 'WAKE_LOW', 'init', 'irq', 'off', 'on']\n"
     ]
    }
   ],
   "source": [
    "print(dir(machine.Pin))"
   ]
  },
  {
   "cell_type": "code",
   "execution_count": 6,
   "metadata": {
    "Collapsed": "false"
   },
   "outputs": [],
   "source": [
    "# Connect variable name to MCU GPIO pin and set to output.\n",
    "led_blue = machine.Pin(2, machine.Pin.OUT)"
   ]
  },
  {
   "cell_type": "code",
   "execution_count": 6,
   "metadata": {
    "Collapsed": "false"
   },
   "outputs": [],
   "source": [
    "# Turn GPIO OFF\n",
    "led_blue.value(0)"
   ]
  },
  {
   "cell_type": "code",
   "execution_count": 7,
   "metadata": {
    "Collapsed": "false"
   },
   "outputs": [],
   "source": [
    "# Turn GPIO ON\n",
    "led_blue.value(1)"
   ]
  },
  {
   "cell_type": "code",
   "execution_count": 8,
   "metadata": {
    "Collapsed": "false"
   },
   "outputs": [],
   "source": [
    "# Turn GPIO OFF\n",
    "led_blue.off()"
   ]
  },
  {
   "cell_type": "code",
   "execution_count": 9,
   "metadata": {
    "Collapsed": "false"
   },
   "outputs": [],
   "source": [
    "# Turn GPIO ON\n",
    "led_blue.on()"
   ]
  },
  {
   "cell_type": "markdown",
   "metadata": {
    "Collapsed": "false"
   },
   "source": [
    "<p>Input: Reading GPIO</p>"
   ]
  },
  {
   "cell_type": "code",
   "execution_count": 25,
   "metadata": {
    "Collapsed": "false"
   },
   "outputs": [
    {
     "name": "stdout",
     "output_type": "stream",
     "text": [
      "1\n"
     ]
    }
   ],
   "source": [
    "import machine\n",
    "button_up = machine.Pin(13, machine.Pin.IN, machine.Pin.PULL_UP)\n",
    "print(button_up.value())"
   ]
  },
  {
   "cell_type": "code",
   "execution_count": 8,
   "metadata": {
    "Collapsed": "false"
   },
   "outputs": [
    {
     "name": "stdout",
     "output_type": "stream",
     "text": [
      "..\u001b[34m\n",
      "\n",
      "*** Sending Ctrl-C\n",
      "\n",
      "\u001b[0m"
     ]
    },
    {
     "name": "stderr",
     "output_type": "stream",
     "text": [
      "Traceback (most recent call last):\n",
      "  File \"<stdin>\", line 5, in <module>\n",
      "KeyboardInterrupt: \n"
     ]
    }
   ],
   "source": [
    "import machine\n",
    "button_up = machine.Pin(13, machine.Pin.IN, machine.Pin.PULL_UP)\n",
    "led_blue = machine.Pin(2, machine.Pin.OUT)\n",
    "while True :\n",
    "    led_blue.value(0) if button_up.value() == 0 else led_blue.value(1)"
   ]
  },
  {
   "cell_type": "markdown",
   "metadata": {
    "Collapsed": "false"
   },
   "source": [
    "<h1>class Time – MCU Timing Functions</h1>"
   ]
  },
  {
   "cell_type": "code",
   "execution_count": 9,
   "metadata": {
    "Collapsed": "false"
   },
   "outputs": [
    {
     "name": "stdout",
     "output_type": "stream",
     "text": [
      "..Time Cycle Completed\n"
     ]
    }
   ],
   "source": [
    "import machine\n",
    "from time import sleep\n",
    "\n",
    "led_blue = machine.Pin(2, machine.Pin.OUT)\n",
    "\n",
    "# Timing loop\n",
    "for i in range(14):\n",
    "    led_blue.off()\n",
    "    sleep(0.5)\n",
    "    led_blue.on()\n",
    "    sleep(0.5)\n",
    "print('Time Cycle Completed')"
   ]
  },
  {
   "cell_type": "markdown",
   "metadata": {
    "Collapsed": "false"
   },
   "source": [
    "<h1>class PWM – MCU Pulse Width Modulation</h1>"
   ]
  },
  {
   "cell_type": "code",
   "execution_count": 10,
   "metadata": {
    "Collapsed": "false"
   },
   "outputs": [
    {
     "name": "stdout",
     "output_type": "stream",
     "text": [
      "....\u001b[34m\n",
      "\n",
      "*** Sending Ctrl-C\n",
      "\n",
      "\u001b[0m"
     ]
    },
    {
     "name": "stderr",
     "output_type": "stream",
     "text": [
      "Traceback (most recent call last):\n",
      "  File \"<stdin>\", line 11, in <module>\n",
      "KeyboardInterrupt: \n"
     ]
    }
   ],
   "source": [
    "import machine\n",
    "import time\n",
    "# button_up = machine.Pin(13, machine.Pin.IN, machine.Pin.PULL_UP)\n",
    "button_up = machine.Pin(13, machine.Pin.IN, machine.Pin.PULL_UP)\n",
    "# led_blue = machine.Pin(2, machine.Pin.OUT)\n",
    "frequencyX = 1000\n",
    "widthX = 10\n",
    "led_blue = machine.PWM(machine.Pin(2), frequencyX, duty=0)\n",
    "while widthX < 10000:\n",
    "    if button_up.value() == 1:\n",
    "        time.sleep(0.1)\n",
    "    else:\n",
    "        widthX += 10\n",
    "        led_blue.duty(widthX)\n",
    "#         print(widthX)\n",
    "        time.sleep(0.1)\n",
    "        if widthX > 1023:\n",
    "            widthX = 0\n",
    "print(\"done\")"
   ]
  },
  {
   "cell_type": "code",
   "execution_count": null,
   "metadata": {
    "Collapsed": "false"
   },
   "outputs": [],
   "source": [
    "import time\n",
    "from machine import Pin, PWM\n",
    "\n",
    "pwm0 = PWM(Pin(2), freq=1000, duty=0)\n",
    "for i in range (0,1023,20):\n",
    "    pwm0.duty(i)\n",
    "#     time.sleep(0.1)\n",
    "    time.sleep(0.5)\n",
    "    print(pwm0.duty())\n",
    "    pwm0.duty(0)\n",
    "    print(pwm0.duty())\n",
    "    pwm0.deinit()"
   ]
  },
  {
   "cell_type": "markdown",
   "metadata": {
    "Collapsed": "false"
   },
   "source": [
    "<h1>Module: Machine:</h1>\n",
    "<p>Getting to know your board:\n",
    "<br>This module will expose most of the hardware functionality of the <b>Generic</b> MCU.</p>\n",
    "<!-- <img src=\"Docs/pinoutDOIT32devkitv1.png\" width=\"800\"/> -->\n",
    "<a href=\"http://docs.micropython.org/en/latest/library/machine.html#module-machine\"> Machine Module </a>\n",
    "\n",
    "<br>\n",
    "<p>Device Summary<br>\n",
    "Microcontroller: Tensilica 32-bit Single-/Dual-core CPU Xtensa LX6</p>\n",
    "\n",
    "<li> Operating Voltage: 3.3V\n",
    "\n",
    "<li> Input Voltage: 7-12V\n",
    "\n",
    "<li> Digital I/O Pins (DIO): 25\n",
    "\n",
    "<li> Analog Input Pins (ADC): 6\n",
    "\n",
    "<li> Analog Outputs Pins (DAC): 2\n",
    "\n",
    "<li> UARTs: 3\n",
    "\n",
    "<li> SPIs: 2\n",
    "\n",
    "<li> I2Cs: 3\n",
    "\n",
    "<li> Flash Memory: 4 MB\n",
    "\n",
    "<li> SRAM: 520 KB\n",
    "\n",
    "<li> Clock Speed: 240 Mhz\n",
    "\n",
    "<li> Wi-Fi: IEEE 802.11 b/g/n/e/i:\n",
    "\n",
    "<li> Integrated TR switch, balun, LNA, power amplifier and matching network\n",
    "WEP or WPA/WPA2 authentication, or open networks"
   ]
  },
  {
   "cell_type": "code",
   "execution_count": 16,
   "metadata": {
    "Collapsed": "false"
   },
   "outputs": [
    {
     "name": "stdout",
     "output_type": "stream",
     "text": [
      "['__class__', '__name__', 'ADC', 'DAC', 'DEEPSLEEP', 'DEEPSLEEP_RESET', 'EXT0_WAKE', 'EXT1_WAKE', 'HARD_RESET', 'I2C', 'PIN_WAKE', 'PWM', 'PWRON_RESET', 'Pin', 'RTC', 'SDCard', 'SLEEP', 'SOFT_RESET', 'SPI', 'Signal', 'TIMER_WAKE', 'TOUCHPAD_WAKE', 'Timer', 'TouchPad', 'UART', 'ULP_WAKE', 'WDT', 'WDT_RESET', 'deepsleep', 'disable_irq', 'enable_irq', 'freq', 'idle', 'lightsleep', 'mem16', 'mem32', 'mem8', 'reset', 'reset_cause', 'sleep', 'soft_reset', 'time_pulse_us', 'unique_id', 'wake_reason']\n"
     ]
    }
   ],
   "source": [
    "import machine\n",
    "print(dir(machine))"
   ]
  },
  {
   "cell_type": "markdown",
   "metadata": {
    "Collapsed": "false"
   },
   "source": [
    "<p>Changing the frequency of the MCU</p>"
   ]
  },
  {
   "cell_type": "code",
   "execution_count": 20,
   "metadata": {
    "Collapsed": "false"
   },
   "outputs": [
    {
     "name": "stdout",
     "output_type": "stream",
     "text": [
      "160000000\n",
      "240000000\n"
     ]
    }
   ],
   "source": [
    "import machine \n",
    "print(machine.freq())\n",
    "machine.freq(240000000) # set the CPU frequency to 240 MHz\n",
    "print(machine.freq())"
   ]
  },
  {
   "cell_type": "markdown",
   "metadata": {
    "Collapsed": "false"
   },
   "source": [
    "<h1>Module: ESP:</h1>\n",
    "<p>Getting to know your board:\n",
    "<br>This module will expose most of the hardware functionality of the <b>ESP8266/ESP32</b> MCU.</p>\n",
    "<!-- <img src=\"Docs/pinoutDOIT32devkitv1.png\" width=\"800\"/> -->\n",
    "<a href=\"http://docs.micropython.org/en/latest/library/esp.html\"> Machine Module </a>"
   ]
  },
  {
   "cell_type": "code",
   "execution_count": 21,
   "metadata": {
    "Collapsed": "false"
   },
   "outputs": [
    {
     "name": "stdout",
     "output_type": "stream",
     "text": [
      "['__class__', '__name__', 'LOG_DEBUG', 'LOG_ERROR', 'LOG_INFO', 'LOG_NONE', 'LOG_VERBOSE', 'LOG_WARNING', 'dht_readinto', 'flash_erase', 'flash_read', 'flash_size', 'flash_user_start', 'flash_write', 'gpio_matrix_in', 'gpio_matrix_out', 'neopixel_write', 'osdebug']\n"
     ]
    }
   ],
   "source": [
    "import esp\n",
    "print(dir(esp))"
   ]
  },
  {
   "cell_type": "code",
   "execution_count": 27,
   "metadata": {
    "Collapsed": "false"
   },
   "outputs": [
    {
     "name": "stdout",
     "output_type": "stream",
     "text": [
      "<class 'module'>\n",
      "esp\n",
      "None\n",
      "None\n"
     ]
    }
   ],
   "source": [
    "print(esp.__class__)\n",
    "print(esp.__name__)\n",
    "print(esp.osdebug(None))\n",
    "print(esp.osdebug(0))"
   ]
  },
  {
   "cell_type": "code",
   "execution_count": 30,
   "metadata": {
    "Collapsed": "false"
   },
   "outputs": [
    {
     "name": "stdout",
     "output_type": "stream",
     "text": [
      "4194304\n",
      "2097152\n"
     ]
    }
   ],
   "source": [
    "print(esp.flash_size())\n",
    "print(esp.flash_user_start())"
   ]
  },
  {
   "cell_type": "markdown",
   "metadata": {
    "Collapsed": "false"
   },
   "source": [
    "<h1>Module: ESP32:</h1>\n",
    "<p>Getting to know your board:\n",
    "<br>This module will expose most of the hardware functionality of the <b>ESP32</b> MCU.</p>\n",
    "<!-- <img src=\"Docs/pinoutDOIT32devkitv1.png\" width=\"800\"/> -->\n",
    "<a href=\"http://docs.micropython.org/en/latest/library/esp32.html#module-esp32\"> Machine Module </a>"
   ]
  },
  {
   "cell_type": "code",
   "execution_count": 67,
   "metadata": {
    "Collapsed": "false"
   },
   "outputs": [
    {
     "name": "stdout",
     "output_type": "stream",
     "text": [
      "Hall Sensor:  87\n",
      "CPU Tempertur:  116\n"
     ]
    }
   ],
   "source": [
    "import esp32\n",
    "print('Hall Sensor: ', esp32.hall_sensor())     # read the internal hall sensor\n",
    "print('CPU Tempertur: ', esp32.raw_temperature()) # read the internal temperature of the MCU, in Farenheit\n",
    "# esp32.ULP()             # access to the Ultra-Low-Power Co-processor"
   ]
  },
  {
   "cell_type": "code",
   "execution_count": null,
   "metadata": {
    "Collapsed": "false"
   },
   "outputs": [],
   "source": []
  }
 ],
 "metadata": {
  "kernelspec": {
   "display_name": "MicroPython - USB",
   "language": "micropython",
   "name": "micropython"
  },
  "language_info": {
   "codemirror_mode": "python",
   "file_extension": ".py",
   "mimetype": "text/python",
   "name": "micropython"
  },
  "toc-autonumbering": true,
  "toc-showcode": false,
  "toc-showmarkdowntxt": true,
  "toc-showtags": false
 },
 "nbformat": 4,
 "nbformat_minor": 4
}
