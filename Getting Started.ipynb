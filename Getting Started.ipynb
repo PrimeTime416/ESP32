{
 "cells": [
  {
   "cell_type": "markdown",
   "metadata": {
    "Collapsed": "false"
   },
   "source": [
    "<div>    \n",
    "<p style=\"color:white;text-align:center\"> <font size=\"7\"> Getting Started </font><p>\n",
    "<p> Please see link for a great blog on using MicroPython with Jupyter Lads:</p>\n",
    "<a href=\"https://towardsdatascience.com/micropython-on-esp-using-jupyter-6f366ff5ed9\">MicroPython on ESP Using Jupyter Notebook</a>\n",
    "<div>"
   ]
  },
  {
   "cell_type": "markdown",
   "metadata": {
    "Collapsed": "false",
    "toc-hr-collapsed": false
   },
   "source": [
    "<h1>Connecting to MCU using serial</h1>\n",
    "<p>Use <i>ls -a /dev/ttyUSB*</i> to see which port the MCU is connected to </p>"
   ]
  },
  {
   "cell_type": "code",
   "execution_count": 1,
   "metadata": {
    "Collapsed": "false"
   },
   "outputs": [
    {
     "name": "stdout",
     "output_type": "stream",
     "text": [
      "\u001b[34mConnecting to --port=/dev/ttyUSB0 --baud=115200 \u001b[0m\n",
      "\u001b[34mReady.\n",
      "\u001b[0m"
     ]
    }
   ],
   "source": [
    "%serialconnect to --port=/dev/ttyUSB0 --baud=115200"
   ]
  },
  {
   "cell_type": "code",
   "execution_count": 3,
   "metadata": {
    "Collapsed": "false"
   },
   "outputs": [
    {
     "name": "stdout",
     "output_type": "stream",
     "text": [
      "hello user1243\n"
     ]
    }
   ],
   "source": [
    "print(\"hello user1243\")"
   ]
  },
  {
   "cell_type": "code",
   "execution_count": 26,
   "metadata": {
    "Collapsed": "false"
   },
   "outputs": [
    {
     "name": "stdout",
     "output_type": "stream",
     "text": [
      "__main__          gc                uctypes           urequests\n",
      "_boot             inisetup          uerrno            uselect\n",
      "_onewire          machine           uhashlib          usocket\n",
      "_thread           math              uhashlib          ussl\n",
      "_webrepl          micropython       uheapq            ustruct\n",
      "apa106            neopixel          uio               utime\n",
      "btree             network           ujson             utimeq\n",
      "builtins          ntptime           umqtt/robust      uwebsocket\n",
      "cmath             onewire           umqtt/simple      uzlib\n",
      "dht               sys               uos               webrepl\n",
      "ds18x20           uarray            upip              webrepl_setup\n",
      "esp               ubinascii         upip_utarfile     websocket_helper\n",
      "esp32             ubluetooth        upysh\n",
      "flashbdev         ucollections      urandom\n",
      "framebuf          ucryptolib        ure\n",
      "Plus any modules on the filesystem\n",
      "None\n"
     ]
    }
   ],
   "source": [
    "print(help('modules'))"
   ]
  },
  {
   "cell_type": "markdown",
   "metadata": {
    "Collapsed": "false"
   },
   "source": [
    "<h1>Connecting to MCU GPIO</h1>\n",
    "<p> The <i>machine</i> library exposes most GPIO pins, its a good idea to consult your development board pin out. </p>\n",
    "<a href=\"http://docs.micropython.org/en/latest/library/machine.html\"> Machine Function Modules</a>"
   ]
  },
  {
   "cell_type": "code",
   "execution_count": 4,
   "metadata": {
    "Collapsed": "false"
   },
   "outputs": [
    {
     "name": "stdout",
     "output_type": "stream",
     "text": [
      "['__class__', '__name__', 'ADC', 'DAC', 'DEEPSLEEP', 'DEEPSLEEP_RESET', 'EXT0_WAKE', 'EXT1_WAKE', 'HARD_RESET', 'I2C', 'PIN_WAKE', 'PWM', 'PWRON_RESET', 'Pin', 'RTC', 'SDCard', 'SLEEP', 'SOFT_RESET', 'SPI', 'Signal', 'TIMER_WAKE', 'TOUCHPAD_WAKE', 'Timer', 'TouchPad', 'UART', 'ULP_WAKE', 'WDT', 'WDT_RESET', 'deepsleep', 'disable_irq', 'enable_irq', 'freq', 'idle', 'lightsleep', 'mem16', 'mem32', 'mem8', 'reset', 'reset_cause', 'sleep', 'soft_reset', 'time_pulse_us', 'unique_id', 'wake_reason']\n"
     ]
    }
   ],
   "source": [
    "# Use dir to list all methods associate with library or class.\n",
    "import machine\n",
    "print(dir(machine))"
   ]
  },
  {
   "cell_type": "markdown",
   "metadata": {
    "Collapsed": "false",
    "toc-hr-collapsed": false
   },
   "source": [
    "<h1>class Pin – control I/O pins</h1>"
   ]
  },
  {
   "cell_type": "code",
   "execution_count": 5,
   "metadata": {
    "Collapsed": "false"
   },
   "outputs": [
    {
     "name": "stdout",
     "output_type": "stream",
     "text": [
      "['__class__', '__name__', 'value', '__bases__', 'IN', 'IRQ_FALLING', 'IRQ_RISING', 'OPEN_DRAIN', 'OUT', 'PULL_DOWN', 'PULL_HOLD', 'PULL_UP', 'WAKE_HIGH', 'WAKE_LOW', 'init', 'irq', 'off', 'on']\n"
     ]
    }
   ],
   "source": [
    "print(dir(machine.Pin))"
   ]
  },
  {
   "cell_type": "code",
   "execution_count": 6,
   "metadata": {
    "Collapsed": "false"
   },
   "outputs": [],
   "source": [
    "# Connect variable name to MCU GPIO pin and set to output.\n",
    "led_blue = machine.Pin(2, machine.Pin.OUT)"
   ]
  },
  {
   "cell_type": "code",
   "execution_count": 6,
   "metadata": {
    "Collapsed": "false"
   },
   "outputs": [],
   "source": [
    "# Turn GPIO OFF\n",
    "led_blue.value(0)"
   ]
  },
  {
   "cell_type": "code",
   "execution_count": 7,
   "metadata": {
    "Collapsed": "false"
   },
   "outputs": [],
   "source": [
    "# Turn GPIO ON\n",
    "led_blue.value(1)"
   ]
  },
  {
   "cell_type": "code",
   "execution_count": 8,
   "metadata": {
    "Collapsed": "false"
   },
   "outputs": [],
   "source": [
    "# Turn GPIO OFF\n",
    "led_blue.off()"
   ]
  },
  {
   "cell_type": "code",
   "execution_count": 9,
   "metadata": {
    "Collapsed": "false"
   },
   "outputs": [],
   "source": [
    "# Turn GPIO ON\n",
    "led_blue.on()"
   ]
  },
  {
   "cell_type": "markdown",
   "metadata": {
    "Collapsed": "false"
   },
   "source": [
    "<p>Input: Reading GPIO</p>"
   ]
  },
  {
   "cell_type": "code",
   "execution_count": 25,
   "metadata": {
    "Collapsed": "false"
   },
   "outputs": [
    {
     "name": "stdout",
     "output_type": "stream",
     "text": [
      "1\n"
     ]
    }
   ],
   "source": [
    "import machine\n",
    "button_up = machine.Pin(13, machine.Pin.IN, machine.Pin.PULL_UP)\n",
    "print(button_up.value())"
   ]
  },
  {
   "cell_type": "code",
   "execution_count": 8,
   "metadata": {
    "Collapsed": "false"
   },
   "outputs": [
    {
     "name": "stdout",
     "output_type": "stream",
     "text": [
      "..\u001b[34m\n",
      "\n",
      "*** Sending Ctrl-C\n",
      "\n",
      "\u001b[0m"
     ]
    },
    {
     "name": "stderr",
     "output_type": "stream",
     "text": [
      "Traceback (most recent call last):\n",
      "  File \"<stdin>\", line 5, in <module>\n",
      "KeyboardInterrupt: \n"
     ]
    }
   ],
   "source": [
    "import machine\n",
    "button_up = machine.Pin(13, machine.Pin.IN, machine.Pin.PULL_UP)\n",
    "led_blue = machine.Pin(2, machine.Pin.OUT)\n",
    "while True :\n",
    "    led_blue.value(0) if button_up.value() == 0 else led_blue.value(1)"
   ]
  },
  {
   "cell_type": "markdown",
   "metadata": {
    "Collapsed": "false"
   },
   "source": [
    "<h1>class Time – MCU Timing Functions</h1>"
   ]
  },
  {
   "cell_type": "code",
   "execution_count": 9,
   "metadata": {
    "Collapsed": "false"
   },
   "outputs": [
    {
     "name": "stdout",
     "output_type": "stream",
     "text": [
      "..Time Cycle Completed\n"
     ]
    }
   ],
   "source": [
    "import machine\n",
    "from time import sleep\n",
    "\n",
    "led_blue = machine.Pin(2, machine.Pin.OUT)\n",
    "\n",
    "# Timing loop\n",
    "for i in range(14):\n",
    "    led_blue.off()\n",
    "    sleep(0.5)\n",
    "    led_blue.on()\n",
    "    sleep(0.5)\n",
    "print('Time Cycle Completed')"
   ]
  },
  {
   "cell_type": "markdown",
   "metadata": {
    "Collapsed": "false"
   },
   "source": [
    "<h1>class PWM – MCU Pulse Width Modulation</h1>"
   ]
  },
  {
   "cell_type": "code",
   "execution_count": 10,
   "metadata": {
    "Collapsed": "false"
   },
   "outputs": [
    {
     "name": "stdout",
     "output_type": "stream",
     "text": [
      "....\u001b[34m\n",
      "\n",
      "*** Sending Ctrl-C\n",
      "\n",
      "\u001b[0m"
     ]
    },
    {
     "name": "stderr",
     "output_type": "stream",
     "text": [
      "Traceback (most recent call last):\n",
      "  File \"<stdin>\", line 11, in <module>\n",
      "KeyboardInterrupt: \n"
     ]
    }
   ],
   "source": [
    "import machine\n",
    "import time\n",
    "# button_up = machine.Pin(13, machine.Pin.IN, machine.Pin.PULL_UP)\n",
    "button_up = machine.Pin(13, machine.Pin.IN, machine.Pin.PULL_UP)\n",
    "# led_blue = machine.Pin(2, machine.Pin.OUT)\n",
    "frequencyX = 1000\n",
    "widthX = 10\n",
    "led_blue = machine.PWM(machine.Pin(2), frequencyX, duty=0)\n",
    "while widthX < 10000:\n",
    "    if button_up.value() == 1:\n",
    "        time.sleep(0.1)\n",
    "    else:\n",
    "        widthX += 10\n",
    "        led_blue.duty(widthX)\n",
    "#         print(widthX)\n",
    "        time.sleep(0.1)\n",
    "        if widthX > 1023:\n",
    "            widthX = 0\n",
    "print(\"done\")"
   ]
  },
  {
   "cell_type": "code",
   "execution_count": null,
   "metadata": {
    "Collapsed": "false"
   },
   "outputs": [],
   "source": [
    "import time\n",
    "from machine import Pin, PWM\n",
    "\n",
    "pwm0 = PWM(Pin(2), freq=1000, duty=0)\n",
    "for i in range (0,1023,20):\n",
    "    pwm0.duty(i)\n",
    "#     time.sleep(0.1)\n",
    "    time.sleep(0.5)\n",
    "    print(pwm0.duty())\n",
    "    pwm0.duty(0)\n",
    "    print(pwm0.duty())\n",
    "    pwm0.deinit()"
   ]
  },
  {
   "cell_type": "markdown",
   "metadata": {
    "Collapsed": "false"
   },
   "source": [
    "<h1>Module: Machine:</h1>\n",
    "<p>Getting to know your board:\n",
    "<br>This module will expose most of the hardware functionality of the <b>Generic</b> MCU.</p>\n",
    "<!-- <img src=\"Docs/pinoutDOIT32devkitv1.png\" width=\"800\"/> -->\n",
    "<a href=\"http://docs.micropython.org/en/latest/library/machine.html#module-machine\"> Machine Module </a>\n",
    "\n",
    "<br>\n",
    "<p>Device Summary<br>\n",
    "Microcontroller: Tensilica 32-bit Single-/Dual-core CPU Xtensa LX6</p>\n",
    "\n",
    "<li> Operating Voltage: 3.3V\n",
    "\n",
    "<li> Input Voltage: 7-12V\n",
    "\n",
    "<li> Digital I/O Pins (DIO): 25\n",
    "\n",
    "<li> Analog Input Pins (ADC): 6\n",
    "\n",
    "<li> Analog Outputs Pins (DAC): 2\n",
    "\n",
    "<li> UARTs: 3\n",
    "\n",
    "<li> SPIs: 2\n",
    "\n",
    "<li> I2Cs: 3\n",
    "\n",
    "<li> Flash Memory: 4 MB\n",
    "\n",
    "<li> SRAM: 520 KB\n",
    "\n",
    "<li> Clock Speed: 240 Mhz\n",
    "\n",
    "<li> Wi-Fi: IEEE 802.11 b/g/n/e/i:\n",
    "\n",
    "<li> Integrated TR switch, balun, LNA, power amplifier and matching network\n",
    "WEP or WPA/WPA2 authentication, or open networks"
   ]
  },
  {
   "cell_type": "code",
   "execution_count": 16,
   "metadata": {
    "Collapsed": "false"
   },
   "outputs": [
    {
     "name": "stdout",
     "output_type": "stream",
     "text": [
      "['__class__', '__name__', 'ADC', 'DAC', 'DEEPSLEEP', 'DEEPSLEEP_RESET', 'EXT0_WAKE', 'EXT1_WAKE', 'HARD_RESET', 'I2C', 'PIN_WAKE', 'PWM', 'PWRON_RESET', 'Pin', 'RTC', 'SDCard', 'SLEEP', 'SOFT_RESET', 'SPI', 'Signal', 'TIMER_WAKE', 'TOUCHPAD_WAKE', 'Timer', 'TouchPad', 'UART', 'ULP_WAKE', 'WDT', 'WDT_RESET', 'deepsleep', 'disable_irq', 'enable_irq', 'freq', 'idle', 'lightsleep', 'mem16', 'mem32', 'mem8', 'reset', 'reset_cause', 'sleep', 'soft_reset', 'time_pulse_us', 'unique_id', 'wake_reason']\n"
     ]
    }
   ],
   "source": [
    "import machine\n",
    "print(dir(machine))"
   ]
  },
  {
   "cell_type": "markdown",
   "metadata": {
    "Collapsed": "false"
   },
   "source": [
    "<p>Changing the frequency of the MCU</p>"
   ]
  },
  {
   "cell_type": "code",
   "execution_count": 20,
   "metadata": {
    "Collapsed": "false"
   },
   "outputs": [
    {
     "name": "stdout",
     "output_type": "stream",
     "text": [
      "160000000\n",
      "240000000\n"
     ]
    }
   ],
   "source": [
    "import machine \n",
    "print(machine.freq())\n",
    "machine.freq(240000000) # set the CPU frequency to 240 MHz\n",
    "print(machine.freq())"
   ]
  },
  {
   "cell_type": "markdown",
   "metadata": {
    "Collapsed": "false"
   },
   "source": [
    "<h1>Module: ESP:</h1>\n",
    "<p>Getting to know your board:\n",
    "<br>This module will expose most of the hardware functionality of the <b>ESP8266/ESP32</b> MCU.</p>\n",
    "<!-- <img src=\"Docs/pinoutDOIT32devkitv1.png\" width=\"800\"/> -->\n",
    "<a href=\"http://docs.micropython.org/en/latest/library/esp.html\"> Machine Module </a>"
   ]
  },
  {
   "cell_type": "code",
   "execution_count": 21,
   "metadata": {
    "Collapsed": "false"
   },
   "outputs": [
    {
     "name": "stdout",
     "output_type": "stream",
     "text": [
      "['__class__', '__name__', 'LOG_DEBUG', 'LOG_ERROR', 'LOG_INFO', 'LOG_NONE', 'LOG_VERBOSE', 'LOG_WARNING', 'dht_readinto', 'flash_erase', 'flash_read', 'flash_size', 'flash_user_start', 'flash_write', 'gpio_matrix_in', 'gpio_matrix_out', 'neopixel_write', 'osdebug']\n"
     ]
    }
   ],
   "source": [
    "import esp\n",
    "print(dir(esp))"
   ]
  },
  {
   "cell_type": "code",
   "execution_count": 27,
   "metadata": {
    "Collapsed": "false"
   },
   "outputs": [
    {
     "name": "stdout",
     "output_type": "stream",
     "text": [
      "<class 'module'>\n",
      "esp\n",
      "None\n",
      "None\n"
     ]
    }
   ],
   "source": [
    "print(esp.__class__)\n",
    "print(esp.__name__)\n",
    "print(esp.osdebug(None))\n",
    "print(esp.osdebug(0))"
   ]
  },
  {
   "cell_type": "code",
   "execution_count": 30,
   "metadata": {
    "Collapsed": "false"
   },
   "outputs": [
    {
     "name": "stdout",
     "output_type": "stream",
     "text": [
      "4194304\n",
      "2097152\n"
     ]
    }
   ],
   "source": [
    "print(esp.flash_size())\n",
    "print(esp.flash_user_start())"
   ]
  },
  {
   "cell_type": "markdown",
   "metadata": {
    "Collapsed": "false"
   },
   "source": [
    "<h1>Module: ESP32:</h1>\n",
    "<p>Getting to know your board:\n",
    "<br>This module will expose most of the hardware functionality of the <b>ESP32</b> MCU.</p>\n",
    "<!-- <img src=\"Docs/pinoutDOIT32devkitv1.png\" width=\"800\"/> -->\n",
    "<a href=\"http://docs.micropython.org/en/latest/library/esp32.html#module-esp32\"> Machine Module </a>"
   ]
  },
  {
   "cell_type": "code",
   "execution_count": 10,
   "metadata": {
    "Collapsed": "false"
   },
   "outputs": [
    {
     "name": "stdout",
     "output_type": "stream",
     "text": [
      "['__class__', '__name__', 'Partition', 'RMT', 'ULP', 'WAKEUP_ALL_LOW', 'WAKEUP_ANY_HIGH', 'hall_sensor', 'raw_temperature', 'wake_on_ext0', 'wake_on_ext1', 'wake_on_touch']\n"
     ]
    }
   ],
   "source": [
    "import esp32\n",
    "print(dir(esp32))"
   ]
  },
  {
   "cell_type": "code",
   "execution_count": 9,
   "metadata": {
    "Collapsed": "false"
   },
   "outputs": [
    {
     "name": "stdout",
     "output_type": "stream",
     "text": [
      "Hall Sensor:  83\n",
      "CPU Tempertur:  113\n"
     ]
    }
   ],
   "source": [
    "import esp32\n",
    "print('Hall Sensor: ', esp32.hall_sensor())     # read the internal hall sensor\n",
    "print('CPU Tempertur: ', esp32.raw_temperature()) # read the internal temperature of the MCU, in Farenheit\n",
    "# esp32.ULP()             # access to the Ultra-Low-Power Co-processor"
   ]
  },
  {
   "cell_type": "code",
   "execution_count": 23,
   "metadata": {
    "Collapsed": "false"
   },
   "outputs": [
    {
     "name": "stdout",
     "output_type": "stream",
     "text": [
      "0\n",
      "1\n",
      "0\n",
      "1\n",
      "[<Partition type=0, subtype=0, address=65536, size=1572864, label=factory, encrypted=0>]\n",
      "[<Partition type=1, subtype=2, address=36864, size=24576, label=nvs, encrypted=0>, <Partition type=1, subtype=1, address=61440, size=4096, label=phy_init, encrypted=0>, <Partition type=1, subtype=129, address=2097152, size=2097152, label=vfs, encrypted=0>]\n"
     ]
    }
   ],
   "source": [
    "# print(esp32.Partition.info())\n",
    "print(esp32.Partition.BOOT)\n",
    "print(esp32.Partition.RUNNING)\n",
    "print(esp32.Partition.TYPE_APP)\n",
    "print(esp32.Partition.TYPE_DATA)\n",
    "print(esp32.Partition.find(0))\n",
    "print(esp32.Partition.find(1))"
   ]
  },
  {
   "cell_type": "markdown",
   "metadata": {
    "Collapsed": "false"
   },
   "source": [
    "<h1>Module: Networking:</h1>\n",
    "<p>Getting to know your board:\n",
    "<br>This module will allow for station and access point connect of <b>ESP32</b> MCU.</p>\n",
    "<!-- <img src=\"Docs/pinoutDOIT32devkitv1.png\" width=\"800\"/> -->\n",
    "<a href=\"http://docs.micropython.org/en/latest/library/network.html#module-network\"> Machine Module </a>\n",
    "<br>\n",
    "<a href=\"http://docs.micropython.org/en/latest/esp8266/tutorial/network_basics.html?highlight=sta_if\">Networking Basics</a>\n",
    "<br>\n",
    "<br>\n",
    "<p>\n",
    "The network module is used to configure the WiFi connection. There are two WiFi interfaces, one for the station (when the ESP connects to a router <b>'STA_IF'</b>) and one for the access point (for other devices to connect to the ESP <b>'AP_IF'</b>). Create instances of these objects using:\n",
    "</p>"
   ]
  },
  {
   "cell_type": "code",
   "execution_count": 89,
   "metadata": {
    "Collapsed": "false"
   },
   "outputs": [
    {
     "name": "stdout",
     "output_type": "stream",
     "text": [
      "['__class__', '__init__', '__name__', 'AP_IF', 'AUTH_MAX', 'AUTH_OPEN', 'AUTH_WEP', 'AUTH_WPA2_PSK', 'AUTH_WPA_PSK', 'AUTH_WPA_WPA2_PSK', 'ETH_CLOCK_GPIO0_IN', 'ETH_CLOCK_GPIO16_OUT', 'ETH_CLOCK_GPIO17_OUT', 'LAN', 'MODE_11B', 'MODE_11G', 'MODE_11N', 'PHY_LAN8720', 'PHY_TLK110', 'PPP', 'STAT_ASSOC_FAIL', 'STAT_BEACON_TIMEOUT', 'STAT_CONNECTING', 'STAT_GOT_IP', 'STAT_HANDSHAKE_TIMEOUT', 'STAT_IDLE', 'STAT_NO_AP_FOUND', 'STAT_WRONG_PASSWORD', 'STA_IF', 'WLAN', 'phy_mode']\n"
     ]
    }
   ],
   "source": [
    "import network\n",
    "print(dir(network))"
   ]
  },
  {
   "cell_type": "code",
   "execution_count": 90,
   "metadata": {
    "Collapsed": "false"
   },
   "outputs": [
    {
     "name": "stdout",
     "output_type": "stream",
     "text": [
      "['__class__']\n",
      "0\n",
      "1\n"
     ]
    }
   ],
   "source": [
    "print(dir(network.WLAN))\n",
    "print(network.STA_IF)\n",
    "print(network.AP_IF)"
   ]
  },
  {
   "cell_type": "code",
   "execution_count": 91,
   "metadata": {
    "Collapsed": "false"
   },
   "outputs": [
    {
     "name": "stdout",
     "output_type": "stream",
     "text": [
      "Station Up:  False\n",
      "Acess Point Up:  False\n"
     ]
    }
   ],
   "source": [
    "import network\n",
    "\n",
    "sta_if = network.WLAN(network.STA_IF)\n",
    "ap_if = network.WLAN(network.AP_IF)\n",
    "print('Station Up: ', sta_if.active())\n",
    "print('Acess Point Up: ', ap_if.active())"
   ]
  },
  {
   "cell_type": "code",
   "execution_count": 92,
   "metadata": {
    "Collapsed": "false"
   },
   "outputs": [
    {
     "name": "stdout",
     "output_type": "stream",
     "text": [
      "Station Up:  True\n",
      "Acess Point Up:  False\n"
     ]
    }
   ],
   "source": [
    "sta_if.active(True)\n",
    "print('Station Up: ', sta_if.active())\n",
    "print('Acess Point Up: ', ap_if.active())\n",
    "# print(sta_if.scan())"
   ]
  },
  {
   "cell_type": "code",
   "execution_count": 93,
   "metadata": {
    "Collapsed": "false"
   },
   "outputs": [
    {
     "name": "stdout",
     "output_type": "stream",
     "text": [
      "1000\n",
      "(b'SM-A1kerr', b'\\x8e\\xf5\\xa3\\xa2\\x7fn', 1, -49, 3, False)\n",
      "(b'Sheridan Secure Access', b\"\\xa8\\xbd'\\x94d \", 1, -68, 5, False)\n",
      "(b'Staff Wireless', b\"\\xa8\\xbd'\\x94d!\", 1, -68, 5, False)\n",
      "(b'Public Wireless', b'\\xa8\\xbd\\'\\x94d\"', 1, -68, 0, False)\n",
      "(b'DIRECT-AD-HP OfficeJet Pro 7740', b'\\x1a`$i)\\xad', 6, -70, 3, False)\n",
      "(b'DIRECT-39-HP OfficeJet Pro 8740', b'\\xb6\\xb6\\x86\\xac\\xfa9', 6, -82, 3, False)\n",
      "(b'Sheridan Secure Access', b\"\\xa8\\xbd'\\x93A@\", 6, -83, 5, False)\n",
      "(b'Sheridan Secure Access', b\"\\xa8\\xbd'\\x94p\\xa0\", 11, -83, 5, False)\n",
      "(b'Staff Wireless', b\"\\xa8\\xbd'\\x94p\\xa1\", 11, -83, 5, False)\n",
      "(b'Public Wireless', b\"\\xa8\\xbd'\\x94p\\xa2\", 11, -83, 0, False)\n",
      "(b'Sheridan Secure Access', b\"\\xa8\\xbd'\\x94o@\", 6, -84, 5, False)\n",
      "(b'Public Wireless', b\"\\xa8\\xbd'\\x93AB\", 6, -86, 0, False)\n",
      "(b'Staff Wireless', b\"\\xa8\\xbd'\\x94c\\xc1\", 11, -89, 5, False)\n"
     ]
    }
   ],
   "source": [
    "print(sta_if.status())\n",
    "stations_list = sta_if.scan()\n",
    "for n in stations_list:\n",
    "    print(n)"
   ]
  },
  {
   "cell_type": "code",
   "execution_count": 96,
   "metadata": {
    "Collapsed": "false"
   },
   "outputs": [
    {
     "name": "stdout",
     "output_type": "stream",
     "text": [
      "b'SM-A1kerr'\n",
      "None\n",
      "1010\n"
     ]
    }
   ],
   "source": [
    "print(stations_list[0][0])\n",
    "print(sta_if.connect(stations_list[0][0], '9054830760'))\n",
    "print(sta_if.status())"
   ]
  },
  {
   "cell_type": "markdown",
   "metadata": {
    "Collapsed": "false"
   },
   "source": [
    "<br>\n",
    "<p>ifconfig:\n",
    "<br>\n",
    "The returned values are: (IP address, netmask, gateway, DNS).</p>"
   ]
  },
  {
   "cell_type": "code",
   "execution_count": 97,
   "metadata": {
    "Collapsed": "false"
   },
   "outputs": [
    {
     "name": "stdout",
     "output_type": "stream",
     "text": [
      "Is connected:  True\n",
      "Connected to:  SM-A1kerr\n",
      "ifconfig:  ('192.168.43.34', '255.255.255.0', '192.168.43.1', '192.168.43.1')\n"
     ]
    }
   ],
   "source": [
    "print('Is connected: ', sta_if.isconnected())\n",
    "print('Connected to: ', sta_if.config('essid'))\n",
    "print('ifconfig: ', sta_if.ifconfig())"
   ]
  },
  {
   "cell_type": "code",
   "execution_count": null,
   "metadata": {
    "Collapsed": "false"
   },
   "outputs": [],
   "source": []
  },
  {
   "cell_type": "markdown",
   "metadata": {
    "Collapsed": "false"
   },
   "source": [
    "<h1>:Network - TCP sockets</h1>\n",
    "<p>Getting to know your board:\n",
    "<br>This module will allow for station and access point connect of <b>ESP32</b> MCU.</p>\n",
    "<!-- <img src=\"Docs/pinoutDOIT32devkitv1.png\" width=\"800\"/> -->\n",
    "<a href=\"http://docs.micropython.org/en/latest/library/network.html#module-network\"> Machine Module </a>\n",
    "<br>\n",
    "<a href=\"http://docs.micropython.org/en/latest/esp8266/tutorial/network_basics.html?highlight=sta_if\">Networking Basics</a>\n",
    "<br>\n",
    "<br>\n",
    "<p>\n",
    "The network module is used to configure the WiFi connection. There are two WiFi interfaces, one for the station (when the ESP connects to a router <b>'STA_IF'</b>) and one for the access point (for other devices to connect to the ESP <b>'AP_IF'</b>). Create instances of these objects using:\n",
    "</p>"
   ]
  },
  {
   "cell_type": "code",
   "execution_count": 59,
   "metadata": {
    "Collapsed": "false"
   },
   "outputs": [
    {
     "name": "stdout",
     "output_type": "stream",
     "text": [
      "['__class__', '__init__', '__name__', 'AF_INET', 'AF_INET6', 'IPPROTO_IP', 'IPPROTO_TCP', 'IPPROTO_UDP', 'IP_ADD_MEMBERSHIP', 'SOCK_DGRAM', 'SOCK_RAW', 'SOCK_STREAM', 'SOL_SOCKET', 'SO_REUSEADDR', 'getaddrinfo', 'socket']\n",
      "('128.138.140.44', 13)\n",
      "\n",
      "58882 20-02-03 21:21:33 00 0 0 561.5 UTC(NIST) * \n"
     ]
    }
   ],
   "source": [
    "import usocket\n",
    "\n",
    "print(dir(usocket))\n",
    "# sockaddr = usocket.getaddrinfo(\"google.com\", 80)[0][-1]\n",
    "sockaddr = usocket.getaddrinfo(\"india.colorado.edu\", 13)[0][-1]\n",
    "# sockaddr = usocket.getaddrinfo(\"freechess.org\", 5000)[0][-1]\n",
    "# sockaddr = usocket.getaddrinfo(\"india.colorado.edu\", 13)\n",
    "print(sockaddr)\n",
    "s = usocket.socket()\n",
    "s.connect(sockaddr)\n",
    "# while True:\n",
    "#     data = s.recv(500)\n",
    "data = s.read(100)\n",
    "#     print(s.recv(500))\n",
    "print(str(data, 'utf8'), end='')\n",
    "s.close()"
   ]
  },
  {
   "cell_type": "code",
   "execution_count": 64,
   "metadata": {
    "Collapsed": "false"
   },
   "outputs": [
    {
     "name": "stdout",
     "output_type": "stream",
     "text": [
      "usocket:  ['__class__', '__init__', '__name__', 'AF_INET', 'AF_INET6', 'IPPROTO_IP', 'IPPROTO_TCP', 'IPPROTO_UDP', 'IP_ADD_MEMBERSHIP', 'SOCK_DGRAM', 'SOCK_RAW', 'SOCK_STREAM', 'SOL_SOCKET', 'SO_REUSEADDR', 'getaddrinfo', 'socket']\n",
      "\n",
      "socket:  ['__class__', '__init__', '__name__', 'AF_INET', 'AF_INET6', 'IPPROTO_IP', 'IPPROTO_TCP', 'IPPROTO_UDP', 'IP_ADD_MEMBERSHIP', 'SOCK_DGRAM', 'SOCK_RAW', 'SOCK_STREAM', 'SOL_SOCKET', 'SO_REUSEADDR', 'getaddrinfo', 'socket']\n"
     ]
    }
   ],
   "source": [
    "import usocket\n",
    "import socket\n",
    "\n",
    "print('usocket: ', dir(usocket))\n",
    "print('\\nsocket: ', dir(socket))"
   ]
  },
  {
   "cell_type": "code",
   "execution_count": 79,
   "metadata": {
    "Collapsed": "false"
   },
   "outputs": [
    {
     "name": "stdout",
     "output_type": "stream",
     "text": [
      "HTTP/1.0 301 Moved Permanently\n",
      "Location: http://www.google.com/\n",
      "Content-Type: text/html; charset=UTF-8\n",
      "Date: Mon, 03 Feb 2020 21:33:56 GMT\n",
      "Expires: Wed, 04 Mar 2020 21:33:56 GMT\n",
      "Cache-Control: public, max-age=2592000\n",
      "Server: gws\n",
      "Content-Length: 219\n",
      "X-XSS-Protection: 0\n",
      "X-Frame-Options: SAMEORIGIN\n",
      "\n",
      "<HTML><HEAD><meta http-equiv=\"content-type\" content=\"text/html;charset=utf-8\">\n",
      "<TITLE>301 Moved</TITLE></HEAD><BODY>\n",
      "<H1>301 Moved</H1>\n",
      "The document has moved\n",
      "<A HREF=\"http://www.google.com/\">here</A>.\n",
      "</BODY></HTML>\n"
     ]
    }
   ],
   "source": [
    "def http_get(url):\n",
    "    import socket\n",
    "    _, _, host, path = url.split('/', 3)\n",
    "    addr = socket.getaddrinfo(host, 80)[0][-1]\n",
    "    s = socket.socket()\n",
    "    s.connect(addr)\n",
    "    s.send(bytes('GET /%s HTTP/1.0\\r\\nHost: %s\\r\\n\\r\\n' % (path, host), 'utf8'))\n",
    "    while True:\n",
    "        data = s.recv(500)\n",
    "        if data:\n",
    "            print(str(data, 'utf8'), end='')\n",
    "        else:\n",
    "            break\n",
    "    s.close()\n",
    "\n",
    "# http_get('http://micropython.org/ks/test.html')\n",
    "http_get('http://google.com/')"
   ]
  },
  {
   "cell_type": "code",
   "execution_count": 98,
   "metadata": {
    "Collapsed": "false"
   },
   "outputs": [
    {
     "name": "stdout",
     "output_type": "stream",
     "text": [
      "listening on ('192.168.43.34', 80)\n",
      "..........................................................\u001b[34m\n",
      "\n",
      "*** Sending Ctrl-C\n",
      "\n",
      "\u001b[0m"
     ]
    },
    {
     "name": "stderr",
     "output_type": "stream",
     "text": [
      "Traceback (most recent call last):\n",
      "  File \"<stdin>\", line 23, in <module>\n",
      "KeyboardInterrupt: \n"
     ]
    }
   ],
   "source": [
    "import machine\n",
    "pins = [machine.Pin(i, machine.Pin.IN) for i in (0, 2, 4, 5, 12, 13, 14, 15)]\n",
    "\n",
    "html = \"\"\"<!DOCTYPE html>\n",
    "<html>\n",
    "    <head> <title>ESP8266 Pins</title> </head>\n",
    "    <body> <h1>ESP8266 Pins</h1>\n",
    "        <table border=\"1\"> <tr><th>Pin</th><th>Value</th></tr> %s </table>\n",
    "    </body>\n",
    "</html>\n",
    "\"\"\"\n",
    "\n",
    "import socket\n",
    "addr = socket.getaddrinfo('192.168.43.34', 80)[0][-1]\n",
    "\n",
    "s = socket.socket()\n",
    "s.bind(addr)\n",
    "s.listen(1)\n",
    "\n",
    "print('listening on', addr)\n",
    "\n",
    "while True:\n",
    "    cl, addr = s.accept()\n",
    "    print('client connected from', addr)\n",
    "    cl_file = cl.makefile('rwb', 0)\n",
    "    while True:\n",
    "        line = cl_file.readline()\n",
    "        if not line or line == b'\\r\\n':\n",
    "            break\n",
    "    rows = ['<tr><td>%s</td><td>%d</td></tr>' % (str(p), p.value()) for p in pins]\n",
    "    response = html % '\\n'.join(rows)\n",
    "    cl.send(response)\n",
    "    cl.close()"
   ]
  },
  {
   "cell_type": "markdown",
   "metadata": {
    "Collapsed": "false"
   },
   "source": [
    "<h1>Example: Webserver:</h1>\n",
    "<p>This is a realy well done example of how to configure a ESP webserver:\n",
    "<br>This module will allow for station and access point connect of <b>ESP32</b> MCU.</p>\n",
    "<a href=\"https://randomnerdtutorials.com/esp32-esp8266-micropython-web-server/\"> Machine Module </a>\n",
    "<br>\n",
    "<!-- <a href=\"http://docs.micropython.org/en/latest/esp8266/tutorial/network_basics.html?highlight=sta_if\">Networking Basics</a> -->\n",
    "<br>\n",
    "<br>\n",
    "<img src=\"Docs/socket-server.png\" width=\"400\"/>\n",
    "<p>\n",
    "The network module is used to configure the WiFi connection. There are two WiFi interfaces, one for the station (when the ESP connects to a router <b>'STA_IF'</b>) and one for the access point (for other devices to connect to the ESP <b>'AP_IF'</b>). Create instances of these objects using:\n",
    "</p>"
   ]
  },
  {
   "cell_type": "markdown",
   "metadata": {
    "Collapsed": "false"
   },
   "source": [
    "<br>\n",
    "<p>Importing all needed modules:</p>"
   ]
  },
  {
   "cell_type": "code",
   "execution_count": 2,
   "metadata": {
    "Collapsed": "false"
   },
   "outputs": [],
   "source": [
    "# Complete project details at https://RandomNerdTutorials.com\n",
    "\n",
    "try:\n",
    "  import usocket as socket\n",
    "except:\n",
    "  import socket\n",
    "\n",
    "from machine import Pin\n",
    "import network\n",
    "\n",
    "import esp\n",
    "esp.osdebug(None)\n",
    "\n",
    "import gc\n",
    "gc.collect()\n",
    "\n"
   ]
  },
  {
   "cell_type": "markdown",
   "metadata": {
    "Collapsed": "false"
   },
   "source": [
    "<br>\n",
    "<p>Connecting to a WIFI:</p>"
   ]
  },
  {
   "cell_type": "code",
   "execution_count": 3,
   "metadata": {
    "Collapsed": "false"
   },
   "outputs": [
    {
     "name": "stdout",
     "output_type": "stream",
     "text": [
      "1000\n",
      "(b'SM-A1kerr', b'\\x8e\\xf5\\xa3\\xa2\\x7fn', 1, -37, 3, False)\n",
      "(b'Sheridan Secure Access', b\"\\xa8\\xbd'\\x94d \", 1, -73, 5, False)\n",
      "(b'Staff Wireless', b\"\\xa8\\xbd'\\x94d!\", 1, -73, 5, False)\n",
      "(b'Public Wireless', b'\\xa8\\xbd\\'\\x94d\"', 1, -73, 0, False)\n",
      "(b'DIRECT-AD-HP OfficeJet Pro 7740', b'\\x1a`$i)\\xad', 6, -74, 3, False)\n",
      "(b'Sheridan Secure Access', b\"\\xa8\\xbd'\\x93A@\", 6, -82, 5, False)\n",
      "(b'Staff Wireless', b\"\\xa8\\xbd'\\x93AA\", 6, -82, 5, False)\n",
      "(b'Public Wireless', b\"\\xa8\\xbd'\\x93AB\", 6, -83, 0, False)\n",
      "(b'Sheridan Secure Access', b\"\\xa8\\xbd'\\x94p\\xa0\", 11, -83, 5, False)\n",
      "(b'Public Wireless', b\"\\xa8\\xbd'\\x94p\\xa2\", 11, -83, 0, False)\n",
      "(b'Staff Wireless', b\"\\xa8\\xbd'\\x94p\\xa1\", 11, -83, 5, False)\n",
      "(b'Sheridan Secure Access', b\"\\xa8\\xbd'\\x94o@\", 6, -87, 5, False)\n",
      "(b'Public Wireless', b\"\\xa8\\xbd'\\x94oB\", 6, -87, 0, False)\n",
      "1001\n",
      "\n",
      "Connection successful\n",
      "Station Up:  True\n",
      "Connected to SID:  SM-A1kerr\n",
      "ifconfig:  ('192.168.43.34', '255.255.255.0', '192.168.43.1', '192.168.43.1')\n"
     ]
    }
   ],
   "source": [
    "station = network.WLAN(network.STA_IF)\n",
    "station.active(True)\n",
    "print(station.status())\n",
    "\n",
    "stations_list = station.scan()\n",
    "for n in stations_list:\n",
    "    print(n)\n",
    "\n",
    "# ssid = stations_list[0][0]\n",
    "ssid = 'SM-A1kerr'\n",
    "password = '9054830760'\n",
    "\n",
    "station.connect(ssid, password)\n",
    "print(station.status())\n",
    "\n",
    "# This will block the code from continuing until the station is up and running\n",
    "while station.isconnected() == False:\n",
    "  pass\n",
    "\n",
    "print('\\nConnection successful')\n",
    "print('Station Up: ', station.active())\n",
    "print('Connected to SID: ', station.config('essid'))\n",
    "print('ifconfig: ', station.ifconfig())\n",
    "\n",
    "led = Pin(2, Pin.OUT)"
   ]
  },
  {
   "cell_type": "markdown",
   "metadata": {
    "Collapsed": "false"
   },
   "source": [
    "<br>\n",
    "<p>Make webserver using sockets:</p>"
   ]
  },
  {
   "cell_type": "code",
   "execution_count": 4,
   "metadata": {
    "Collapsed": "false"
   },
   "outputs": [
    {
     "name": "stdout",
     "output_type": "stream",
     "text": [
      "..............Got a connection from ('192.168.43.1', 45544)\n",
      "Content = b'GET / HTTP/1.1\\r\\nHost: 192.168.43.34\\r\\nConnection: keep-alive\\r\\nUpgrade-Insecure-Requests: 1\\r\\nUser-Agent: Mozilla/5.0 (Linux; Android 8.0.0; SM-G930W8) AppleWebKit/537.36 (KHTML, like Gecko) Chrome/79.0.3945.136 Mobile Safari/537.36\\r\\nAccept: text/html,application/xhtml+xml,application/xml;q=0.9,image/webp,image/apng,*/*;q=0.8,application/signed-exchange;v=b3;q=0.9\\r\\nAccept-Encoding: gzip, deflate\\r\\nAccept-Language: en-GB,en-US;q=0.9,en;q=0.8,da;q=0.7\\r\\n\\r\\n'\n",
      "Got a connection from ('192.168.43.1', 45545)\n",
      "...Content = b''\n",
      "Got a connection from ('192.168.43.1', 45546)\n",
      "Content = b'GET /?led=on HTTP/1.1\\r\\nHost: 192.168.43.34\\r\\nConnection: keep-alive\\r\\nUpgrade-Insecure-Requests: 1\\r\\nUser-Agent: Mozilla/5.0 (Linux; Android 8.0.0; SM-G930W8) AppleWebKit/537.36 (KHTML, like Gecko) Chrome/79.0.3945.136 Mobile Safari/537.36\\r\\nAccept: text/html,application/xhtml+xml,application/xml;q=0.9,image/webp,image/apng,*/*;q=0.8,application/signed-exchange;v=b3;q=0.9\\r\\nReferer: http://192.168.43.34/\\r\\nAccept-Encoding: gzip, deflate\\r\\nAccept-Language: en-GB,en-US;q=0.9,en;q=0.8,da;q=0.7\\r\\n\\r\\n'\n",
      "LED ON\n",
      "Got a connection from ('192.168.43.1', 45547)\n",
      ".Content = b'GET /?led=off HTTP/1.1\\r\\nHost: 192.168.43.34\\r\\nConnection: keep-alive\\r\\nUpgrade-Insecure-Requests: 1\\r\\nUser-Agent: Mozilla/5.0 (Linux; Android 8.0.0; SM-G930W8) AppleWebKit/537.36 (KHTML, like Gecko) Chrome/79.0.3945.136 Mobile Safari/537.36\\r\\nAccept: text/html,application/xhtml+xml,application/xml;q=0.9,image/webp,image/apng,*/*;q=0.8,application/signed-exchange;v=b3;q=0.9\\r\\nReferer: http://192.168.43.34/?led=on\\r\\nAccept-Encoding: gzip, deflate\\r\\nAccept-Language: en-GB,en-US;q=0.9,en;q=0.8,da;q=0.7\\r\\n\\r\\n'\n",
      "LED OFF\n",
      "Got a connection from ('192.168.43.1', 45548)\n",
      "Content = b'GET /?led=on HTTP/1.1\\r\\nHost: 192.168.43.34\\r\\nConnection: keep-alive\\r\\nUpgrade-Insecure-Requests: 1\\r\\nUser-Agent: Mozilla/5.0 (Linux; Android 8.0.0; SM-G930W8) AppleWebKit/537.36 (KHTML, like Gecko) Chrome/79.0.3945.136 Mobile Safari/537.36\\r\\nAccept: text/html,application/xhtml+xml,application/xml;q=0.9,image/webp,image/apng,*/*;q=0.8,application/signed-exchange;v=b3;q=0.9\\r\\nReferer: http://192.168.43.34/?led=off\\r\\nAccept-Encoding: gzip, deflate\\r\\nAccept-Language: en-GB,en-US;q=0.9,en;q=0.8,da;q=0.7\\r\\n\\r\\n'\n",
      "LED ON\n",
      "Got a connection from ('192.168.43.1', 45549)\n",
      "Content = b'GET /?led=off HTTP/1.1\\r\\nHost: 192.168.43.34\\r\\nConnection: keep-alive\\r\\nUpgrade-Insecure-Requests: 1\\r\\nUser-Agent: Mozilla/5.0 (Linux; Android 8.0.0; SM-G930W8) AppleWebKit/537.36 (KHTML, like Gecko) Chrome/79.0.3945.136 Mobile Safari/537.36\\r\\nAccept: text/html,application/xhtml+xml,application/xml;q=0.9,image/webp,image/apng,*/*;q=0.8,application/signed-exchange;v=b3;q=0.9\\r\\nReferer: http://192.168.43.34/?led=on\\r\\nAccept-Encoding: gzip, deflate\\r\\nAccept-Language: en-GB,en-US;q=0.9,en;q=0.8,da;q=0.7\\r\\n\\r\\n'\n",
      "LED OFF\n",
      "Got a connection from ('192.168.43.1', 45550)\n",
      "Content = b'GET /?led=on HTTP/1.1\\r\\nHost: 192.168.43.34\\r\\nConnection: keep-alive\\r\\nUpgrade-Insecure-Requests: 1\\r\\nUser-Agent: Mozilla/5.0 (Linux; Android 8.0.0; SM-G930W8) AppleWebKit/537.36 (KHTML, like Gecko) Chrome/79.0.3945.136 Mobile Safari/537.36\\r\\nAccept: text/html,application/xhtml+xml,application/xml;q=0.9,image/webp,image/apng,*/*;q=0.8,application/signed-exchange;v=b3;q=0.9\\r\\nReferer: http://192.168.43.34/?led=off\\r\\nAccept-Encoding: gzip, deflate\\r\\nAccept-Language: en-GB,en-US;q=0.9,en;q=0.8,da;q=0.7\\r\\n\\r\\n'\n",
      "LED ON\n",
      "Got a connection from ('192.168.43.1', 45551)\n",
      "Content = b'GET /?led=off HTTP/1.1\\r\\nHost: 192.168.43.34\\r\\nConnection: keep-alive\\r\\nUpgrade-Insecure-Requests: 1\\r\\nUser-Agent: Mozilla/5.0 (Linux; Android 8.0.0; SM-G930W8) AppleWebKit/537.36 (KHTML, like Gecko) Chrome/79.0.3945.136 Mobile Safari/537.36\\r\\nAccept: text/html,application/xhtml+xml,application/xml;q=0.9,image/webp,image/apng,*/*;q=0.8,application/signed-exchange;v=b3;q=0.9\\r\\nReferer: http://192.168.43.34/?led=on\\r\\nAccept-Encoding: gzip, deflate\\r\\nAccept-Language: en-GB,en-US;q=0.9,en;q=0.8,da;q=0.7\\r\\n\\r\\n'\n",
      "LED OFF\n",
      "Got a connection from ('192.168.43.1', 45552)\n",
      ".....Content = b''\n",
      "Got a connection from ('192.168.43.1', 45557)\n",
      "Content = b'GET /?led=on HTTP/1.1\\r\\nHost: 192.168.43.34\\r\\nConnection: keep-alive\\r\\nUpgrade-Insecure-Requests: 1\\r\\nUser-Agent: Mozilla/5.0 (Linux; Android 8.0.0; SM-G930W8) AppleWebKit/537.36 (KHTML, like Gecko) Chrome/79.0.3945.136 Mobile Safari/537.36\\r\\nAccept: text/html,application/xhtml+xml,application/xml;q=0.9,image/webp,image/apng,*/*;q=0.8,application/signed-exchange;v=b3;q=0.9\\r\\nReferer: http://192.168.43.34/?led=off\\r\\nAccept-Encoding: gzip, deflate\\r\\nAccept-Language: en-GB,en-US;q=0.9,en;q=0.8,da;q=0.7\\r\\n\\r\\n'\n",
      "LED ON\n",
      "Got a connection from ('192.168.43.1', 45558)\n",
      ".Content = b'GET /?led=off HTTP/1.1\\r\\nHost: 192.168.43.34\\r\\nConnection: keep-alive\\r\\nUpgrade-Insecure-Requests: 1\\r\\nUser-Agent: Mozilla/5.0 (Linux; Android 8.0.0; SM-G930W8) AppleWebKit/537.36 (KHTML, like Gecko) Chrome/79.0.3945.136 Mobile Safari/537.36\\r\\nAccept: text/html,application/xhtml+xml,application/xml;q=0.9,image/webp,image/apng,*/*;q=0.8,application/signed-exchange;v=b3;q=0.9\\r\\nReferer: http://192.168.43.34/?led=on\\r\\nAccept-Encoding: gzip, deflate\\r\\nAccept-Language: en-GB,en-US;q=0.9,en;q=0.8,da;q=0.7\\r\\n\\r\\n'\n",
      "LED OFF\n",
      "Got a connection from ('192.168.43.1', 45560)\n",
      "Content = b'GET /?led=on HTTP/1.1\\r\\nHost: 192.168.43.34\\r\\nConnection: keep-alive\\r\\nUpgrade-Insecure-Requests: 1\\r\\nUser-Agent: Mozilla/5.0 (Linux; Android 8.0.0; SM-G930W8) AppleWebKit/537.36 (KHTML, like Gecko) Chrome/79.0.3945.136 Mobile Safari/537.36\\r\\nAccept: text/html,application/xhtml+xml,application/xml;q=0.9,image/webp,image/apng,*/*;q=0.8,application/signed-exchange;v=b3;q=0.9\\r\\nReferer: http://192.168.43.34/?led=off\\r\\nAccept-Encoding: gzip, deflate\\r\\nAccept-Language: en-GB,en-US;q=0.9,en;q=0.8,da;q=0.7\\r\\n\\r\\n'\n",
      "LED ON\n",
      "Got a connection from ('192.168.43.1', 45561)\n",
      "Content = b'GET /?led=off HTTP/1.1\\r\\nHost: 192.168.43.34\\r\\nConnection: keep-alive\\r\\nUpgrade-Insecure-Requests: 1\\r\\nUser-Agent: Mozilla/5.0 (Linux; Android 8.0.0; SM-G930W8) AppleWebKit/537.36 (KHTML, like Gecko) Chrome/79.0.3945.136 Mobile Safari/537.36\\r\\nAccept: text/html,application/xhtml+xml,application/xml;q=0.9,image/webp,image/apng,*/*;q=0.8,application/signed-exchange;v=b3;q=0.9\\r\\nReferer: http://192.168.43.34/?led=on\\r\\nAccept-Encoding: gzip, deflate\\r\\nAccept-Language: en-GB,en-US;q=0.9,en;q=0.8,da;q=0.7\\r\\n\\r\\n'\n",
      "LED OFF\n",
      "Got a connection from ('192.168.43.1', 45562)\n",
      "..Content = b'GET /?led=on HTTP/1.1\\r\\nHost: 192.168.43.34\\r\\nConnection: keep-alive\\r\\nUpgrade-Insecure-Requests: 1\\r\\nUser-Agent: Mozilla/5.0 (Linux; Android 8.0.0; SM-G930W8) AppleWebKit/537.36 (KHTML, like Gecko) Chrome/79.0.3945.136 Mobile Safari/537.36\\r\\nAccept: text/html,application/xhtml+xml,application/xml;q=0.9,image/webp,image/apng,*/*;q=0.8,application/signed-exchange;v=b3;q=0.9\\r\\nReferer: http://192.168.43.34/?led=off\\r\\nAccept-Encoding: gzip, deflate\\r\\nAccept-Language: en-GB,en-US;q=0.9,en;q=0.8,da;q=0.7\\r\\n\\r\\n'\n",
      "LED ON\n",
      "Got a connection from ('192.168.43.1', 45563)\n",
      ".Content = b'GET /?led=off HTTP/1.1\\r\\nHost: 192.168.43.34\\r\\nConnection: keep-alive\\r\\nUpgrade-Insecure-Requests: 1\\r\\nUser-Agent: Mozilla/5.0 (Linux; Android 8.0.0; SM-G930W8) AppleWebKit/537.36 (KHTML, like Gecko) Chrome/79.0.3945.136 Mobile Safari/537.36\\r\\nAccept: text/html,application/xhtml+xml,application/xml;q=0.9,image/webp,image/apng,*/*;q=0.8,application/signed-exchange;v=b3;q=0.9\\r\\nReferer: http://192.168.43.34/?led=on\\r\\nAccept-Encoding: gzip, deflate\\r\\nAccept-Language: en-GB,en-US;q=0.9,en;q=0.8,da;q=0.7\\r\\n\\r\\n'\n",
      "LED OFF\n",
      "Got a connection from ('192.168.43.1', 45564)\n",
      ".....................................Content = b''\n",
      "Got a connection from ('192.168.43.1', 45567)\n",
      "Content = b'GET /?led=on HTTP/1.1\\r\\nHost: 192.168.43.34\\r\\nConnection: keep-alive\\r\\nUpgrade-Insecure-Requests: 1\\r\\nUser-Agent: Mozilla/5.0 (Linux; Android 8.0.0; SM-G930W8) AppleWebKit/537.36 (KHTML, like Gecko) Chrome/79.0.3945.136 Mobile Safari/537.36\\r\\nAccept: text/html,application/xhtml+xml,application/xml;q=0.9,image/webp,image/apng,*/*;q=0.8,application/signed-exchange;v=b3;q=0.9\\r\\nReferer: http://192.168.43.34/?led=off\\r\\nAccept-Encoding: gzip, deflate\\r\\nAccept-Language: en-GB,en-US;q=0.9,en;q=0.8,da;q=0.7\\r\\n\\r\\n'\n",
      "LED ON\n",
      "Got a connection from ('192.168.43.1', 45568)\n",
      "Content = b'GET /?led=off HTTP/1.1\\r\\nHost: 192.168.43.34\\r\\nConnection: keep-alive\\r\\nUpgrade-Insecure-Requests: 1\\r\\nUser-Agent: Mozilla/5.0 (Linux; Android 8.0.0; SM-G930W8) AppleWebKit/537.36 (KHTML, like Gecko) Chrome/79.0.3945.136 Mobile Safari/537.36\\r\\nAccept: text/html,application/xhtml+xml,application/xml;q=0.9,image/webp,image/apng,*/*;q=0.8,application/signed-exchange;v=b3;q=0.9\\r\\nReferer: http://192.168.43.34/?led=on\\r\\nAccept-Encoding: gzip, deflate\\r\\nAccept-Language: en-GB,en-US;q=0.9,en;q=0.8,da;q=0.7\\r\\n\\r\\n'\n",
      "LED OFF\n",
      "Got a connection from ('192.168.43.1', 45569)\n",
      ".Content = b'GET /?led=on HTTP/1.1\\r\\nHost: 192.168.43.34\\r\\nConnection: keep-alive\\r\\nUpgrade-Insecure-Requests: 1\\r\\nUser-Agent: Mozilla/5.0 (Linux; Android 8.0.0; SM-G930W8) AppleWebKit/537.36 (KHTML, like Gecko) Chrome/79.0.3945.136 Mobile Safari/537.36\\r\\nAccept: text/html,application/xhtml+xml,application/xml;q=0.9,image/webp,image/apng,*/*;q=0.8,application/signed-exchange;v=b3;q=0.9\\r\\nReferer: http://192.168.43.34/?led=off\\r\\nAccept-Encoding: gzip, deflate\\r\\nAccept-Language: en-GB,en-US;q=0.9,en;q=0.8,da;q=0.7\\r\\n\\r\\n'\n",
      "LED ON\n",
      "Got a connection from ('192.168.43.1', 45570)\n",
      "Content = b'GET /?led=off HTTP/1.1\\r\\nHost: 192.168.43.34\\r\\nConnection: keep-alive\\r\\nUpgrade-Insecure-Requests: 1\\r\\nUser-Agent: Mozilla/5.0 (Linux; Android 8.0.0; SM-G930W8) AppleWebKit/537.36 (KHTML, like Gecko) Chrome/79.0.3945.136 Mobile Safari/537.36\\r\\nAccept: text/html,application/xhtml+xml,application/xml;q=0.9,image/webp,image/apng,*/*;q=0.8,application/signed-exchange;v=b3;q=0.9\\r\\nReferer: http://192.168.43.34/?led=on\\r\\nAccept-Encoding: gzip, deflate\\r\\nAccept-Language: en-GB,en-US;q=0.9,en;q=0.8,da;q=0.7\\r\\n\\r\\n'\n",
      "LED OFF\n",
      "Got a connection from ('192.168.43.1', 45571)\n",
      "Content = b'GET /?led=on HTTP/1.1\\r\\nHost: 192.168.43.34\\r\\nConnection: keep-alive\\r\\nUpgrade-Insecure-Requests: 1\\r\\nUser-Agent: Mozilla/5.0 (Linux; Android 8.0.0; SM-G930W8) AppleWebKit/537.36 (KHTML, like Gecko) Chrome/79.0.3945.136 Mobile Safari/537.36\\r\\nAccept: text/html,application/xhtml+xml,application/xml;q=0.9,image/webp,image/apng,*/*;q=0.8,application/signed-exchange;v=b3;q=0.9\\r\\nReferer: http://192.168.43.34/?led=off\\r\\nAccept-Encoding: gzip, deflate\\r\\nAccept-Language: en-GB,en-US;q=0.9,en;q=0.8,da;q=0.7\\r\\n\\r\\n'\n",
      "LED ON\n",
      "Got a connection from ('192.168.43.1', 45572)\n",
      ".Content = b'GET /?led=off HTTP/1.1\\r\\nHost: 192.168.43.34\\r\\nConnection: keep-alive\\r\\nUpgrade-Insecure-Requests: 1\\r\\nUser-Agent: Mozilla/5.0 (Linux; Android 8.0.0; SM-G930W8) AppleWebKit/537.36 (KHTML, like Gecko) Chrome/79.0.3945.136 Mobile Safari/537.36\\r\\nAccept: text/html,application/xhtml+xml,application/xml;q=0.9,image/webp,image/apng,*/*;q=0.8,application/signed-exchange;v=b3;q=0.9\\r\\nReferer: http://192.168.43.34/?led=on\\r\\nAccept-Encoding: gzip, deflate\\r\\nAccept-Language: en-GB,en-US;q=0.9,en;q=0.8,da;q=0.7\\r\\n\\r\\n'\n",
      "LED OFF\n",
      "Got a connection from ('192.168.43.1', 45573)\n",
      "Content = b'GET /?led=on HTTP/1.1\\r\\nHost: 192.168.43.34\\r\\nConnection: keep-alive\\r\\nUpgrade-Insecure-Requests: 1\\r\\nUser-Agent: Mozilla/5.0 (Linux; Android 8.0.0; SM-G930W8) AppleWebKit/537.36 (KHTML, like Gecko) Chrome/79.0.3945.136 Mobile Safari/537.36\\r\\nAccept: text/html,application/xhtml+xml,application/xml;q=0.9,image/webp,image/apng,*/*;q=0.8,application/signed-exchange;v=b3;q=0.9\\r\\nReferer: http://192.168.43.34/?led=off\\r\\nAccept-Encoding: gzip, deflate\\r\\nAccept-Language: en-GB,en-US;q=0.9,en;q=0.8,da;q=0.7\\r\\n\\r\\n'\n",
      "LED ON\n",
      "Got a connection from ('192.168.43.1', 45574)\n",
      "Content = b'GET /?led=off HTTP/1.1\\r\\nHost: 192.168.43.34\\r\\nConnection: keep-alive\\r\\nUpgrade-Insecure-Requests: 1\\r\\nUser-Agent: Mozilla/5.0 (Linux; Android 8.0.0; SM-G930W8) AppleWebKit/537.36 (KHTML, like Gecko) Chrome/79.0.3945.136 Mobile Safari/537.36\\r\\nAccept: text/html,application/xhtml+xml,application/xml;q=0.9,image/webp,image/apng,*/*;q=0.8,application/signed-exchange;v=b3;q=0.9\\r\\nReferer: http://192.168.43.34/?led=on\\r\\nAccept-Encoding: gzip, deflate\\r\\nAccept-Language: en-GB,en-US;q=0.9,en;q=0.8,da;q=0.7\\r\\n\\r\\n'\n",
      "LED OFF\n",
      "Got a connection from ('192.168.43.1', 45575)\n",
      "Content = b'GET /?led=on HTTP/1.1\\r\\nHost: 192.168.43.34\\r\\nConnection: keep-alive\\r\\nUpgrade-Insecure-Requests: 1\\r\\nUser-Agent: Mozilla/5.0 (Linux; Android 8.0.0; SM-G930W8) AppleWebKit/537.36 (KHTML, like Gecko) Chrome/79.0.3945.136 Mobile Safari/537.36\\r\\nAccept: text/html,application/xhtml+xml,application/xml;q=0.9,image/webp,image/apng,*/*;q=0.8,application/signed-exchange;v=b3;q=0.9\\r\\nReferer: http://192.168.43.34/?led=off\\r\\nAccept-Encoding: gzip, deflate\\r\\nAccept-Language: en-GB,en-US;q=0.9,en;q=0.8,da;q=0.7\\r\\n\\r\\n'\n",
      "LED ON\n",
      "Got a connection from ('192.168.43.1', 45576)\n",
      ".Content = b'GET /?led=off HTTP/1.1\\r\\nHost: 192.168.43.34\\r\\nConnection: keep-alive\\r\\nUpgrade-Insecure-Requests: 1\\r\\nUser-Agent: Mozilla/5.0 (Linux; Android 8.0.0; SM-G930W8) AppleWebKit/537.36 (KHTML, like Gecko) Chrome/79.0.3945.136 Mobile Safari/537.36\\r\\nAccept: text/html,application/xhtml+xml,application/xml;q=0.9,image/webp,image/apng,*/*;q=0.8,application/signed-exchange;v=b3;q=0.9\\r\\nReferer: http://192.168.43.34/?led=on\\r\\nAccept-Encoding: gzip, deflate\\r\\nAccept-Language: en-GB,en-US;q=0.9,en;q=0.8,da;q=0.7\\r\\n\\r\\n'\n",
      "LED OFF\n",
      "Got a connection from ('192.168.43.1', 45577)\n",
      "Content = b'GET /?led=on HTTP/1.1\\r\\nHost: 192.168.43.34\\r\\nConnection: keep-alive\\r\\nUpgrade-Insecure-Requests: 1\\r\\nUser-Agent: Mozilla/5.0 (Linux; Android 8.0.0; SM-G930W8) AppleWebKit/537.36 (KHTML, like Gecko) Chrome/79.0.3945.136 Mobile Safari/537.36\\r\\nAccept: text/html,application/xhtml+xml,application/xml;q=0.9,image/webp,image/apng,*/*;q=0.8,application/signed-exchange;v=b3;q=0.9\\r\\nReferer: http://192.168.43.34/?led=off\\r\\nAccept-Encoding: gzip, deflate\\r\\nAccept-Language: en-GB,en-US;q=0.9,en;q=0.8,da;q=0.7\\r\\n\\r\\n'\n",
      "LED ON\n",
      "Got a connection from ('192.168.43.1', 45578)\n",
      "Content = b'GET /?led=off HTTP/1.1\\r\\nHost: 192.168.43.34\\r\\nConnection: keep-alive\\r\\nUpgrade-Insecure-Requests: 1\\r\\nUser-Agent: Mozilla/5.0 (Linux; Android 8.0.0; SM-G930W8) AppleWebKit/537.36 (KHTML, like Gecko) Chrome/79.0.3945.136 Mobile Safari/537.36\\r\\nAccept: text/html,application/xhtml+xml,application/xml;q=0.9,image/webp,image/apng,*/*;q=0.8,application/signed-exchange;v=b3;q=0.9\\r\\nReferer: http://192.168.43.34/?led=on\\r\\nAccept-Encoding: gzip, deflate\\r\\nAccept-Language: en-GB,en-US;q=0.9,en;q=0.8,da;q=0.7\\r\\n\\r\\n'\n",
      "LED OFF\n",
      "Got a connection from ('192.168.43.1', 45579)\n",
      "Content = b'GET /?led=on HTTP/1.1\\r\\nHost: 192.168.43.34\\r\\nConnection: keep-alive\\r\\nUpgrade-Insecure-Requests: 1\\r\\nUser-Agent: Mozilla/5.0 (Linux; Android 8.0.0; SM-G930W8) AppleWebKit/537.36 (KHTML, like Gecko) Chrome/79.0.3945.136 Mobile Safari/537.36\\r\\nAccept: text/html,application/xhtml+xml,application/xml;q=0.9,image/webp,image/apng,*/*;q=0.8,application/signed-exchange;v=b3;q=0.9\\r\\nReferer: http://192.168.43.34/?led=off\\r\\nAccept-Encoding: gzip, deflate\\r\\nAccept-Language: en-GB,en-US;q=0.9,en;q=0.8,da;q=0.7\\r\\n\\r\\n'\n",
      "LED ON\n",
      "Got a connection from ('192.168.43.1', 45580)\n",
      ".Content = b'GET /?led=off HTTP/1.1\\r\\nHost: 192.168.43.34\\r\\nConnection: keep-alive\\r\\nUpgrade-Insecure-Requests: 1\\r\\nUser-Agent: Mozilla/5.0 (Linux; Android 8.0.0; SM-G930W8) AppleWebKit/537.36 (KHTML, like Gecko) Chrome/79.0.3945.136 Mobile Safari/537.36\\r\\nAccept: text/html,application/xhtml+xml,application/xml;q=0.9,image/webp,image/apng,*/*;q=0.8,application/signed-exchange;v=b3;q=0.9\\r\\nReferer: http://192.168.43.34/?led=on\\r\\nAccept-Encoding: gzip, deflate\\r\\nAccept-Language: en-GB,en-US;q=0.9,en;q=0.8,da;q=0.7\\r\\n\\r\\n'\n",
      "LED OFF\n",
      "Got a connection from ('192.168.43.1', 45581)\n",
      "Content = b'GET /?led=on HTTP/1.1\\r\\nHost: 192.168.43.34\\r\\nConnection: keep-alive\\r\\nUpgrade-Insecure-Requests: 1\\r\\nUser-Agent: Mozilla/5.0 (Linux; Android 8.0.0; SM-G930W8) AppleWebKit/537.36 (KHTML, like Gecko) Chrome/79.0.3945.136 Mobile Safari/537.36\\r\\nAccept: text/html,application/xhtml+xml,application/xml;q=0.9,image/webp,image/apng,*/*;q=0.8,application/signed-exchange;v=b3;q=0.9\\r\\nReferer: http://192.168.43.34/?led=off\\r\\nAccept-Encoding: gzip, deflate\\r\\nAccept-Language: en-GB,en-US;q=0.9,en;q=0.8,da;q=0.7\\r\\n\\r\\n'\n",
      "LED ON\n",
      "Got a connection from ('192.168.43.1', 45582)\n",
      "Content = b'GET /?led=off HTTP/1.1\\r\\nHost: 192.168.43.34\\r\\nConnection: keep-alive\\r\\nUpgrade-Insecure-Requests: 1\\r\\nUser-Agent: Mozilla/5.0 (Linux; Android 8.0.0; SM-G930W8) AppleWebKit/537.36 (KHTML, like Gecko) Chrome/79.0.3945.136 Mobile Safari/537.36\\r\\nAccept: text/html,application/xhtml+xml,application/xml;q=0.9,image/webp,image/apng,*/*;q=0.8,application/signed-exchange;v=b3;q=0.9\\r\\nReferer: http://192.168.43.34/?led=on\\r\\nAccept-Encoding: gzip, deflate\\r\\nAccept-Language: en-GB,en-US;q=0.9,en;q=0.8,da;q=0.7\\r\\n\\r\\n'\n",
      "LED OFF\n",
      "Got a connection from ('192.168.43.1', 45583)\n",
      "............\u001b[34m\n",
      "\n",
      "*** Sending Ctrl-C\n",
      "\n",
      "\u001b[0m"
     ]
    },
    {
     "name": "stderr",
     "output_type": "stream",
     "text": [
      "Traceback (most recent call last):\n",
      "  File \"<stdin>\", line 25, in <module>\n",
      "KeyboardInterrupt: \n"
     ]
    }
   ],
   "source": [
    "# Complete project details at https://RandomNerdTutorials.com\n",
    "\n",
    "def web_page():\n",
    "  if led.value() == 1:\n",
    "    gpio_state=\"ON\"\n",
    "  else:\n",
    "    gpio_state=\"OFF\"\n",
    "  \n",
    "  html = \"\"\"<html><head> <title>ESP Web Server</title> <meta name=\"viewport\" content=\"width=device-width, initial-scale=1\">\n",
    "  <link rel=\"icon\" href=\"data:,\"> <style>html{font-family: Helvetica; display:inline-block; margin: 0px auto; text-align: center;}\n",
    "  h1{color: #0F3376; padding: 2vh;}p{font-size: 1.5rem;}.button{display: inline-block; background-color: #e7bd3b; border: none; \n",
    "  border-radius: 4px; color: white; padding: 16px 40px; text-decoration: none; font-size: 30px; margin: 2px; cursor: pointer;}\n",
    "  .button2{background-color: #4286f4;}</style></head><body> <h1>ESP Web Server</h1> \n",
    "  <p>GPIO state: <strong>\"\"\" + gpio_state + \"\"\"</strong></p><p><a href=\"/?led=on\"><button class=\"button\">ON</button></a></p>\n",
    "  <p><a href=\"/?led=off\"><button class=\"button button2\">OFF</button></a></p></body></html>\"\"\"\n",
    "  return html\n",
    "\n",
    "s = socket.socket(socket.AF_INET, socket.SOCK_STREAM)\n",
    "s.bind(('', 80))\n",
    "s.listen(5)\n",
    "\n",
    "while True:\n",
    "  conn, addr = s.accept()\n",
    "  print('Got a connection from %s' % str(addr))\n",
    "  request = conn.recv(1024)\n",
    "  request = str(request)\n",
    "  print('Content = %s' % request)\n",
    "  led_on = request.find('/?led=on')\n",
    "  led_off = request.find('/?led=off')\n",
    "  if led_on == 6:\n",
    "    print('LED ON')\n",
    "    led.value(1)\n",
    "  if led_off == 6:\n",
    "    print('LED OFF')\n",
    "    led.value(0)\n",
    "  response = web_page()\n",
    "  conn.send('HTTP/1.1 200 OK\\n')\n",
    "  conn.send('Content-Type: text/html\\n')\n",
    "  conn.send('Connection: close\\n\\n')\n",
    "  conn.sendall(response)\n",
    "  conn.close()"
   ]
  }
 ],
 "metadata": {
  "kernelspec": {
   "display_name": "MicroPython - USB",
   "language": "micropython",
   "name": "micropython"
  },
  "language_info": {
   "codemirror_mode": "python",
   "file_extension": ".py",
   "mimetype": "text/python",
   "name": "micropython"
  },
  "toc-autonumbering": true,
  "toc-showcode": false,
  "toc-showmarkdowntxt": true,
  "toc-showtags": false
 },
 "nbformat": 4,
 "nbformat_minor": 4
}
