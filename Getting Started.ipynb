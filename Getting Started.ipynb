{
 "cells": [
  {
   "cell_type": "markdown",
   "metadata": {
    "Collapsed": "false"
   },
   "source": [
    "<div>    \n",
    "<p style=\"color:white;text-align:center\"> <font size=\"7\"> Getting Started </font><p>\n",
    "<p> Please see link for a great blog on using MicroPython with Jupyter Lads:</p>\n",
    "<a href=\"https://towardsdatascience.com/micropython-on-esp-using-jupyter-6f366ff5ed9\">MicroPython on ESP Using Jupyter Notebook</a>\n",
    "<div>"
   ]
  },
  {
   "cell_type": "markdown",
   "metadata": {
    "Collapsed": "false",
    "toc-hr-collapsed": false
   },
   "source": [
    "<h1>Connecting to MCU using serial</h1>\n",
    "<p>Use <i>ls -a /dev/ttyUSB*</i> to see which port the MCU is connected to </p>"
   ]
  },
  {
   "cell_type": "code",
   "execution_count": 1,
   "metadata": {
    "Collapsed": "false"
   },
   "outputs": [
    {
     "name": "stdout",
     "output_type": "stream",
     "text": [
      "\u001b[34mConnecting to --port=/dev/ttyUSB0 --baud=115200 \u001b[0m\n",
      "\u001b[34mReady.\n",
      "\u001b[0m"
     ]
    }
   ],
   "source": [
    "%serialconnect to --port=/dev/ttyUSB0 --baud=115200"
   ]
  },
  {
   "cell_type": "code",
   "execution_count": 2,
   "metadata": {
    "Collapsed": "false"
   },
   "outputs": [
    {
     "name": "stdout",
     "output_type": "stream",
     "text": [
      "hello user1243\n"
     ]
    }
   ],
   "source": [
    "print(\"hello user1243\")"
   ]
  },
  {
   "cell_type": "code",
   "execution_count": 26,
   "metadata": {
    "Collapsed": "false"
   },
   "outputs": [
    {
     "name": "stdout",
     "output_type": "stream",
     "text": [
      "__main__          gc                uctypes           urequests\n",
      "_boot             inisetup          uerrno            uselect\n",
      "_onewire          machine           uhashlib          usocket\n",
      "_thread           math              uhashlib          ussl\n",
      "_webrepl          micropython       uheapq            ustruct\n",
      "apa106            neopixel          uio               utime\n",
      "btree             network           ujson             utimeq\n",
      "builtins          ntptime           umqtt/robust      uwebsocket\n",
      "cmath             onewire           umqtt/simple      uzlib\n",
      "dht               sys               uos               webrepl\n",
      "ds18x20           uarray            upip              webrepl_setup\n",
      "esp               ubinascii         upip_utarfile     websocket_helper\n",
      "esp32             ubluetooth        upysh\n",
      "flashbdev         ucollections      urandom\n",
      "framebuf          ucryptolib        ure\n",
      "Plus any modules on the filesystem\n",
      "None\n"
     ]
    }
   ],
   "source": [
    "print(help('modules'))"
   ]
  },
  {
   "cell_type": "markdown",
   "metadata": {
    "Collapsed": "false"
   },
   "source": [
    "<h1>Connecting to MCU GPIO</h1>\n",
    "<p> The <i>machine</i> library exposes most GPIO pins, its a good idea to consult your development board pin out. </p>\n",
    "<a href=\"http://docs.micropython.org/en/latest/library/machine.html\"> Machine Function Modules</a>"
   ]
  },
  {
   "cell_type": "code",
   "execution_count": 4,
   "metadata": {
    "Collapsed": "false"
   },
   "outputs": [
    {
     "name": "stdout",
     "output_type": "stream",
     "text": [
      "['__class__', '__name__', 'ADC', 'DAC', 'DEEPSLEEP', 'DEEPSLEEP_RESET', 'EXT0_WAKE', 'EXT1_WAKE', 'HARD_RESET', 'I2C', 'PIN_WAKE', 'PWM', 'PWRON_RESET', 'Pin', 'RTC', 'SDCard', 'SLEEP', 'SOFT_RESET', 'SPI', 'Signal', 'TIMER_WAKE', 'TOUCHPAD_WAKE', 'Timer', 'TouchPad', 'UART', 'ULP_WAKE', 'WDT', 'WDT_RESET', 'deepsleep', 'disable_irq', 'enable_irq', 'freq', 'idle', 'lightsleep', 'mem16', 'mem32', 'mem8', 'reset', 'reset_cause', 'sleep', 'soft_reset', 'time_pulse_us', 'unique_id', 'wake_reason']\n"
     ]
    }
   ],
   "source": [
    "# Use dir to list all methods associate with library or class.\n",
    "import machine\n",
    "print(dir(machine))"
   ]
  },
  {
   "cell_type": "markdown",
   "metadata": {
    "Collapsed": "false",
    "toc-hr-collapsed": false
   },
   "source": [
    "<h1>class Pin – control I/O pins</h1>"
   ]
  },
  {
   "cell_type": "code",
   "execution_count": 5,
   "metadata": {
    "Collapsed": "false"
   },
   "outputs": [
    {
     "name": "stdout",
     "output_type": "stream",
     "text": [
      "['__class__', '__name__', 'value', '__bases__', 'IN', 'IRQ_FALLING', 'IRQ_RISING', 'OPEN_DRAIN', 'OUT', 'PULL_DOWN', 'PULL_HOLD', 'PULL_UP', 'WAKE_HIGH', 'WAKE_LOW', 'init', 'irq', 'off', 'on']\n"
     ]
    }
   ],
   "source": [
    "print(dir(machine.Pin))"
   ]
  },
  {
   "cell_type": "code",
   "execution_count": 6,
   "metadata": {
    "Collapsed": "false"
   },
   "outputs": [],
   "source": [
    "# Connect variable name to MCU GPIO pin and set to output.\n",
    "led_blue = machine.Pin(2, machine.Pin.OUT)"
   ]
  },
  {
   "cell_type": "code",
   "execution_count": 6,
   "metadata": {
    "Collapsed": "false"
   },
   "outputs": [],
   "source": [
    "# Turn GPIO OFF\n",
    "led_blue.value(0)"
   ]
  },
  {
   "cell_type": "code",
   "execution_count": 7,
   "metadata": {
    "Collapsed": "false"
   },
   "outputs": [],
   "source": [
    "# Turn GPIO ON\n",
    "led_blue.value(1)"
   ]
  },
  {
   "cell_type": "code",
   "execution_count": 8,
   "metadata": {
    "Collapsed": "false"
   },
   "outputs": [],
   "source": [
    "# Turn GPIO OFF\n",
    "led_blue.off()"
   ]
  },
  {
   "cell_type": "code",
   "execution_count": 9,
   "metadata": {
    "Collapsed": "false"
   },
   "outputs": [],
   "source": [
    "# Turn GPIO ON\n",
    "led_blue.on()"
   ]
  },
  {
   "cell_type": "markdown",
   "metadata": {
    "Collapsed": "false"
   },
   "source": [
    "<p>Input: Reading GPIO</p>"
   ]
  },
  {
   "cell_type": "code",
   "execution_count": 25,
   "metadata": {
    "Collapsed": "false"
   },
   "outputs": [
    {
     "name": "stdout",
     "output_type": "stream",
     "text": [
      "1\n"
     ]
    }
   ],
   "source": [
    "import machine\n",
    "button_up = machine.Pin(13, machine.Pin.IN, machine.Pin.PULL_UP)\n",
    "print(button_up.value())"
   ]
  },
  {
   "cell_type": "code",
   "execution_count": 8,
   "metadata": {
    "Collapsed": "false"
   },
   "outputs": [
    {
     "name": "stdout",
     "output_type": "stream",
     "text": [
      "..\u001b[34m\n",
      "\n",
      "*** Sending Ctrl-C\n",
      "\n",
      "\u001b[0m"
     ]
    },
    {
     "name": "stderr",
     "output_type": "stream",
     "text": [
      "Traceback (most recent call last):\n",
      "  File \"<stdin>\", line 5, in <module>\n",
      "KeyboardInterrupt: \n"
     ]
    }
   ],
   "source": [
    "import machine\n",
    "button_up = machine.Pin(13, machine.Pin.IN, machine.Pin.PULL_UP)\n",
    "led_blue = machine.Pin(2, machine.Pin.OUT)\n",
    "while True :\n",
    "    led_blue.value(0) if button_up.value() == 0 else led_blue.value(1)"
   ]
  },
  {
   "cell_type": "markdown",
   "metadata": {
    "Collapsed": "false"
   },
   "source": [
    "<h1>class Time – MCU Timing Functions</h1>"
   ]
  },
  {
   "cell_type": "code",
   "execution_count": 9,
   "metadata": {
    "Collapsed": "false"
   },
   "outputs": [
    {
     "name": "stdout",
     "output_type": "stream",
     "text": [
      "..Time Cycle Completed\n"
     ]
    }
   ],
   "source": [
    "import machine\n",
    "from time import sleep\n",
    "\n",
    "led_blue = machine.Pin(2, machine.Pin.OUT)\n",
    "\n",
    "# Timing loop\n",
    "for i in range(14):\n",
    "    led_blue.off()\n",
    "    sleep(0.5)\n",
    "    led_blue.on()\n",
    "    sleep(0.5)\n",
    "print('Time Cycle Completed')"
   ]
  },
  {
   "cell_type": "markdown",
   "metadata": {
    "Collapsed": "false"
   },
   "source": [
    "<h1>class PWM – MCU Pulse Width Modulation</h1>"
   ]
  },
  {
   "cell_type": "code",
   "execution_count": 10,
   "metadata": {
    "Collapsed": "false"
   },
   "outputs": [
    {
     "name": "stdout",
     "output_type": "stream",
     "text": [
      "....\u001b[34m\n",
      "\n",
      "*** Sending Ctrl-C\n",
      "\n",
      "\u001b[0m"
     ]
    },
    {
     "name": "stderr",
     "output_type": "stream",
     "text": [
      "Traceback (most recent call last):\n",
      "  File \"<stdin>\", line 11, in <module>\n",
      "KeyboardInterrupt: \n"
     ]
    }
   ],
   "source": [
    "import machine\n",
    "import time\n",
    "# button_up = machine.Pin(13, machine.Pin.IN, machine.Pin.PULL_UP)\n",
    "button_up = machine.Pin(13, machine.Pin.IN, machine.Pin.PULL_UP)\n",
    "# led_blue = machine.Pin(2, machine.Pin.OUT)\n",
    "frequencyX = 1000\n",
    "widthX = 10\n",
    "led_blue = machine.PWM(machine.Pin(2), frequencyX, duty=0)\n",
    "while widthX < 10000:\n",
    "    if button_up.value() == 1:\n",
    "        time.sleep(0.1)\n",
    "    else:\n",
    "        widthX += 10\n",
    "        led_blue.duty(widthX)\n",
    "#         print(widthX)\n",
    "        time.sleep(0.1)\n",
    "        if widthX > 1023:\n",
    "            widthX = 0\n",
    "print(\"done\")"
   ]
  },
  {
   "cell_type": "code",
   "execution_count": null,
   "metadata": {
    "Collapsed": "false"
   },
   "outputs": [],
   "source": [
    "import time\n",
    "from machine import Pin, PWM\n",
    "\n",
    "pwm0 = PWM(Pin(2), freq=1000, duty=0)\n",
    "for i in range (0,1023,20):\n",
    "    pwm0.duty(i)\n",
    "#     time.sleep(0.1)\n",
    "    time.sleep(0.5)\n",
    "    print(pwm0.duty())\n",
    "    pwm0.duty(0)\n",
    "    print(pwm0.duty())\n",
    "    pwm0.deinit()"
   ]
  },
  {
   "cell_type": "markdown",
   "metadata": {
    "Collapsed": "false"
   },
   "source": [
    "<h1>Module: Machine:</h1>\n",
    "<p>Getting to know your board:\n",
    "<br>This module will expose most of the hardware functionality of the <b>Generic</b> MCU.</p>\n",
    "<!-- <img src=\"Docs/pinoutDOIT32devkitv1.png\" width=\"800\"/> -->\n",
    "<a href=\"http://docs.micropython.org/en/latest/library/machine.html#module-machine\"> Machine Module </a>\n",
    "\n",
    "<br>\n",
    "<p>Device Summary<br>\n",
    "Microcontroller: Tensilica 32-bit Single-/Dual-core CPU Xtensa LX6</p>\n",
    "\n",
    "<li> Operating Voltage: 3.3V\n",
    "\n",
    "<li> Input Voltage: 7-12V\n",
    "\n",
    "<li> Digital I/O Pins (DIO): 25\n",
    "\n",
    "<li> Analog Input Pins (ADC): 6\n",
    "\n",
    "<li> Analog Outputs Pins (DAC): 2\n",
    "\n",
    "<li> UARTs: 3\n",
    "\n",
    "<li> SPIs: 2\n",
    "\n",
    "<li> I2Cs: 3\n",
    "\n",
    "<li> Flash Memory: 4 MB\n",
    "\n",
    "<li> SRAM: 520 KB\n",
    "\n",
    "<li> Clock Speed: 240 Mhz\n",
    "\n",
    "<li> Wi-Fi: IEEE 802.11 b/g/n/e/i:\n",
    "\n",
    "<li> Integrated TR switch, balun, LNA, power amplifier and matching network\n",
    "WEP or WPA/WPA2 authentication, or open networks"
   ]
  },
  {
   "cell_type": "code",
   "execution_count": 16,
   "metadata": {
    "Collapsed": "false"
   },
   "outputs": [
    {
     "name": "stdout",
     "output_type": "stream",
     "text": [
      "['__class__', '__name__', 'ADC', 'DAC', 'DEEPSLEEP', 'DEEPSLEEP_RESET', 'EXT0_WAKE', 'EXT1_WAKE', 'HARD_RESET', 'I2C', 'PIN_WAKE', 'PWM', 'PWRON_RESET', 'Pin', 'RTC', 'SDCard', 'SLEEP', 'SOFT_RESET', 'SPI', 'Signal', 'TIMER_WAKE', 'TOUCHPAD_WAKE', 'Timer', 'TouchPad', 'UART', 'ULP_WAKE', 'WDT', 'WDT_RESET', 'deepsleep', 'disable_irq', 'enable_irq', 'freq', 'idle', 'lightsleep', 'mem16', 'mem32', 'mem8', 'reset', 'reset_cause', 'sleep', 'soft_reset', 'time_pulse_us', 'unique_id', 'wake_reason']\n"
     ]
    }
   ],
   "source": [
    "import machine\n",
    "print(dir(machine))"
   ]
  },
  {
   "cell_type": "markdown",
   "metadata": {
    "Collapsed": "false"
   },
   "source": [
    "<p>Changing the frequency of the MCU</p>"
   ]
  },
  {
   "cell_type": "code",
   "execution_count": 20,
   "metadata": {
    "Collapsed": "false"
   },
   "outputs": [
    {
     "name": "stdout",
     "output_type": "stream",
     "text": [
      "160000000\n",
      "240000000\n"
     ]
    }
   ],
   "source": [
    "import machine \n",
    "print(machine.freq())\n",
    "machine.freq(240000000) # set the CPU frequency to 240 MHz\n",
    "print(machine.freq())"
   ]
  },
  {
   "cell_type": "markdown",
   "metadata": {
    "Collapsed": "false"
   },
   "source": [
    "<h1>Module: ESP:</h1>\n",
    "<p>Getting to know your board:\n",
    "<br>This module will expose most of the hardware functionality of the <b>ESP8266/ESP32</b> MCU.</p>\n",
    "<!-- <img src=\"Docs/pinoutDOIT32devkitv1.png\" width=\"800\"/> -->\n",
    "<a href=\"http://docs.micropython.org/en/latest/library/esp.html\"> Machine Module </a>"
   ]
  },
  {
   "cell_type": "code",
   "execution_count": 21,
   "metadata": {
    "Collapsed": "false"
   },
   "outputs": [
    {
     "name": "stdout",
     "output_type": "stream",
     "text": [
      "['__class__', '__name__', 'LOG_DEBUG', 'LOG_ERROR', 'LOG_INFO', 'LOG_NONE', 'LOG_VERBOSE', 'LOG_WARNING', 'dht_readinto', 'flash_erase', 'flash_read', 'flash_size', 'flash_user_start', 'flash_write', 'gpio_matrix_in', 'gpio_matrix_out', 'neopixel_write', 'osdebug']\n"
     ]
    }
   ],
   "source": [
    "import esp\n",
    "print(dir(esp))"
   ]
  },
  {
   "cell_type": "code",
   "execution_count": 27,
   "metadata": {
    "Collapsed": "false"
   },
   "outputs": [
    {
     "name": "stdout",
     "output_type": "stream",
     "text": [
      "<class 'module'>\n",
      "esp\n",
      "None\n",
      "None\n"
     ]
    }
   ],
   "source": [
    "print(esp.__class__)\n",
    "print(esp.__name__)\n",
    "print(esp.osdebug(None))\n",
    "print(esp.osdebug(0))"
   ]
  },
  {
   "cell_type": "code",
   "execution_count": 30,
   "metadata": {
    "Collapsed": "false"
   },
   "outputs": [
    {
     "name": "stdout",
     "output_type": "stream",
     "text": [
      "4194304\n",
      "2097152\n"
     ]
    }
   ],
   "source": [
    "print(esp.flash_size())\n",
    "print(esp.flash_user_start())"
   ]
  },
  {
   "cell_type": "markdown",
   "metadata": {
    "Collapsed": "false"
   },
   "source": [
    "<h1>Module: ESP32:</h1>\n",
    "<p>Getting to know your board:\n",
    "<br>This module will expose most of the hardware functionality of the <b>ESP32</b> MCU.</p>\n",
    "<!-- <img src=\"Docs/pinoutDOIT32devkitv1.png\" width=\"800\"/> -->\n",
    "<a href=\"http://docs.micropython.org/en/latest/library/esp32.html#module-esp32\"> Machine Module </a>"
   ]
  },
  {
   "cell_type": "code",
   "execution_count": 10,
   "metadata": {
    "Collapsed": "false"
   },
   "outputs": [
    {
     "name": "stdout",
     "output_type": "stream",
     "text": [
      "['__class__', '__name__', 'Partition', 'RMT', 'ULP', 'WAKEUP_ALL_LOW', 'WAKEUP_ANY_HIGH', 'hall_sensor', 'raw_temperature', 'wake_on_ext0', 'wake_on_ext1', 'wake_on_touch']\n"
     ]
    }
   ],
   "source": [
    "import esp32\n",
    "print(dir(esp32))"
   ]
  },
  {
   "cell_type": "code",
   "execution_count": 9,
   "metadata": {
    "Collapsed": "false"
   },
   "outputs": [
    {
     "name": "stdout",
     "output_type": "stream",
     "text": [
      "Hall Sensor:  83\n",
      "CPU Tempertur:  113\n"
     ]
    }
   ],
   "source": [
    "import esp32\n",
    "print('Hall Sensor: ', esp32.hall_sensor())     # read the internal hall sensor\n",
    "print('CPU Tempertur: ', esp32.raw_temperature()) # read the internal temperature of the MCU, in Farenheit\n",
    "# esp32.ULP()             # access to the Ultra-Low-Power Co-processor"
   ]
  },
  {
   "cell_type": "code",
   "execution_count": 23,
   "metadata": {
    "Collapsed": "false"
   },
   "outputs": [
    {
     "name": "stdout",
     "output_type": "stream",
     "text": [
      "0\n",
      "1\n",
      "0\n",
      "1\n",
      "[<Partition type=0, subtype=0, address=65536, size=1572864, label=factory, encrypted=0>]\n",
      "[<Partition type=1, subtype=2, address=36864, size=24576, label=nvs, encrypted=0>, <Partition type=1, subtype=1, address=61440, size=4096, label=phy_init, encrypted=0>, <Partition type=1, subtype=129, address=2097152, size=2097152, label=vfs, encrypted=0>]\n"
     ]
    }
   ],
   "source": [
    "# print(esp32.Partition.info())\n",
    "print(esp32.Partition.BOOT)\n",
    "print(esp32.Partition.RUNNING)\n",
    "print(esp32.Partition.TYPE_APP)\n",
    "print(esp32.Partition.TYPE_DATA)\n",
    "print(esp32.Partition.find(0))\n",
    "print(esp32.Partition.find(1))"
   ]
  },
  {
   "cell_type": "markdown",
   "metadata": {
    "Collapsed": "false"
   },
   "source": [
    "<h1>Module: Networking:</h1>\n",
    "<p>Getting to know your board:\n",
    "<br>This module will allow for station and access point connect of <b>ESP32</b> MCU.</p>\n",
    "<!-- <img src=\"Docs/pinoutDOIT32devkitv1.png\" width=\"800\"/> -->\n",
    "<a href=\"http://docs.micropython.org/en/latest/library/network.html#module-network\"> Machine Module </a>\n",
    "<br>\n",
    "<a href\"http://docs.micropython.org/en/latest/esp8266/tutorial/network_basics.html?highlight=sta_if\">Networking Basics</a>\n",
    "<br>\n",
    "<br>\n",
    "<p>\n",
    "The network module is used to configure the WiFi connection. There are two WiFi interfaces, one for the station (when the ESP connects to a router <b>'STA_IF'</b>) and one for the access point (for other devices to connect to the ESP <b>'AP_IF'</b>). Create instances of these objects using:\n",
    "</p>"
   ]
  },
  {
   "cell_type": "code",
   "execution_count": 27,
   "metadata": {
    "Collapsed": "false"
   },
   "outputs": [
    {
     "name": "stdout",
     "output_type": "stream",
     "text": [
      "['__class__', '__init__', '__name__', 'AP_IF', 'AUTH_MAX', 'AUTH_OPEN', 'AUTH_WEP', 'AUTH_WPA2_PSK', 'AUTH_WPA_PSK', 'AUTH_WPA_WPA2_PSK', 'ETH_CLOCK_GPIO0_IN', 'ETH_CLOCK_GPIO16_OUT', 'ETH_CLOCK_GPIO17_OUT', 'LAN', 'MODE_11B', 'MODE_11G', 'MODE_11N', 'PHY_LAN8720', 'PHY_TLK110', 'PPP', 'STAT_ASSOC_FAIL', 'STAT_BEACON_TIMEOUT', 'STAT_CONNECTING', 'STAT_GOT_IP', 'STAT_HANDSHAKE_TIMEOUT', 'STAT_IDLE', 'STAT_NO_AP_FOUND', 'STAT_WRONG_PASSWORD', 'STA_IF', 'WLAN', 'phy_mode']\n"
     ]
    }
   ],
   "source": [
    "import network\n",
    "print(dir(network))"
   ]
  },
  {
   "cell_type": "code",
   "execution_count": 38,
   "metadata": {
    "Collapsed": "false"
   },
   "outputs": [
    {
     "name": "stdout",
     "output_type": "stream",
     "text": [
      "['__class__']\n",
      "0\n",
      "1\n"
     ]
    }
   ],
   "source": [
    "print(dir(network.WLAN))\n",
    "print(network.STA_IF)\n",
    "print(network.AP_IF)"
   ]
  },
  {
   "cell_type": "code",
   "execution_count": 55,
   "metadata": {
    "Collapsed": "false"
   },
   "outputs": [
    {
     "name": "stdout",
     "output_type": "stream",
     "text": [
      "Station Up:  False\n",
      "Acess Point Up:  False\n"
     ]
    }
   ],
   "source": [
    "import network\n",
    "\n",
    "sta_if = network.WLAN(network.STA_IF)\n",
    "ap_if = network.WLAN(network.AP_IF)\n",
    "print('Station Up: ', sta_if.active())\n",
    "print('Acess Point Up: ', ap_if.active())"
   ]
  },
  {
   "cell_type": "code",
   "execution_count": 56,
   "metadata": {
    "Collapsed": "false"
   },
   "outputs": [
    {
     "name": "stdout",
     "output_type": "stream",
     "text": [
      "\n",
      "Brownout detector was triggered\n",
      "\n",
      "ets Jun  8 2016 00:22:57\n",
      "\n",
      "rst:0xc (SW_CPU_RESET),boot:0x13 (SPI_FAST_FLASH_BOOT)\n",
      "configsip: 0, SPIWP:0xee\n",
      "clk_drv:0x00,q_drv:0x00,d_drv:0x00,cs0_drv:0x00,hd_drv:0x00,wp_drv:0x00\n",
      "mode:DIO, clock div:2\n",
      "load:0x3fff0018,len:4\n",
      "load:0x3fff001c,len:5008\n",
      "ho 0 tail 12 room 4\n",
      "load:0x40078000,len:10600\n",
      "ho 0 tail 12 room 4\n",
      "load:0x40080400,len:5684\n",
      "entry 0x400806bc\n",
      "MicroPython v1.12-68-g3032ae115 on 2020-01-20; ESP32 module with ESP32\n",
      "Type \"help()\" for more information.\n",
      ">>>[reboot detected 0]repl is in normal command mode\n",
      "[\\r\\x03\\x03] b'\\r\\n>>> '\n",
      "[\\r\\x01] b'\\r\\n>>> \\r\\nraw REPL; CTRL-B to exit\\r\\n>' "
     ]
    }
   ],
   "source": [
    "sta_if.active(True)\n",
    "# print(sta_if.scan())"
   ]
  }
 ],
 "metadata": {
  "kernelspec": {
   "display_name": "MicroPython - USB",
   "language": "micropython",
   "name": "micropython"
  },
  "language_info": {
   "codemirror_mode": "python",
   "file_extension": ".py",
   "mimetype": "text/python",
   "name": "micropython"
  },
  "toc-autonumbering": true,
  "toc-showcode": false,
  "toc-showmarkdowntxt": true,
  "toc-showtags": false
 },
 "nbformat": 4,
 "nbformat_minor": 4
}
