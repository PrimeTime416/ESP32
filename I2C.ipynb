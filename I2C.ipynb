{
 "cells": [
  {
   "cell_type": "markdown",
   "metadata": {},
   "source": [
    "<h1>Serial Connect: </h1>"
   ]
  },
  {
   "cell_type": "code",
   "execution_count": 31,
   "metadata": {},
   "outputs": [
    {
     "name": "stdout",
     "output_type": "stream",
     "text": [
      "\u001b[34mConnecting to --port=/dev/ttyUSB0 --baud=115200 \u001b[0m\n",
      "\u001b[34mReady.\n",
      "\u001b[0m"
     ]
    }
   ],
   "source": [
    "%serialconnect to --port=/dev/ttyUSB0 --baud=115200"
   ]
  },
  {
   "cell_type": "code",
   "execution_count": 58,
   "metadata": {},
   "outputs": [
    {
     "name": "stdout",
     "output_type": "stream",
     "text": [
      "['__class__', '__name__', 'readinto', 'start', 'stop', 'write', '__bases__', 'init', 'readfrom', 'readfrom_into', 'readfrom_mem', 'readfrom_mem_into', 'scan', 'writeto', 'writeto_mem', 'writevto']\n"
     ]
    }
   ],
   "source": [
    "import esp32, machine\n",
    "# print(help('modules'))\n",
    "print(dir(machine.I2C))\n",
    "# print(dir(esp32))"
   ]
  },
  {
   "cell_type": "markdown",
   "metadata": {},
   "source": [
    "<h1>Class SPI:</h1>\n",
    "<p>\n",
    "Here are specifications from Espressif about the ESP32 (https://adafru.it/wew)\n",
    "    <ul>\n",
    "        <li>240 MHz dual core Tensilica LX6 microcontroller with 600 DMIPS</li>\n",
    "        <li>Integrated 520 KB SRAM</li>\n",
    "        <li>Integrated 802.11b/g/n HT40 Wi-Fi transceiver, baseband, stack and LWIP</li>\n",
    "        <li>Integrated dual mode Bluetooth (classic and BLE)</li>\n",
    "        <li>4 MByte flash</li>\n",
    "        <li>On-board PCB antenna</li>\n",
    "        <li>Ultra-low noise analog amplifier</li>\n",
    "        <li>Hall sensor</li>\n",
    "        <li>10x capacitive touch interface</li>\n",
    "        <li>32 kHz crystal oscillator</li>\n",
    "        <li>3 x UARTs (only two are configured by default in the Feather Arduino IDE support, one UART is used for\n",
    "        bootloading/debug)</li>\n",
    "        <b style='color:red'><li>3 x SPI (only one is configured by default in the Feather Arduino IDE support)</li></b>\n",
    "        <b style='color:red'><li>2 x I2C (only one is configured by default in the Feather Arduino IDE support)</li></b>\n",
    "        <li>12 x ADC input channels</li>\n",
    "        <li>2 x I2S Audio</li>\n",
    "        <li>2 x DAC</li>\n",
    "        <li>PWM/timer input/output available on every GPIO pin</li>\n",
    "        <li>OpenOCD debug interface with 32 kB TRAX buffer</li>\n",
    "        <li>SDIO master/slave 50 MHz</li>\n",
    "        <li>SD-card interface supp</li>\n",
    "    </ul>\n",
    "</p>"
   ]
  },
  {
   "cell_type": "code",
   "execution_count": 47,
   "metadata": {},
   "outputs": [
    {
     "name": "stdout",
     "output_type": "stream",
     "text": [
      "0x38 56\n",
      "0x39 57\n"
     ]
    }
   ],
   "source": [
    "from machine import Pin, I2C\n",
    "\n",
    "i2c = I2C(0, scl=Pin(22), sda=Pin(23), freq=100000)\n",
    "for i in i2c.scan():\n",
    "    print(hex(i), i)           # scan for slave devices\n"
   ]
  },
  {
   "cell_type": "code",
   "execution_count": null,
   "metadata": {},
   "outputs": [],
   "source": []
  }
 ],
 "metadata": {
  "kernelspec": {
   "display_name": "MicroPython - USB",
   "language": "python",
   "name": "micropython"
  },
  "language_info": {
   "codemirror_mode": "python",
   "file_extension": ".py",
   "mimetype": "text/python",
   "name": "micropython"
  }
 },
 "nbformat": 4,
 "nbformat_minor": 4
}
