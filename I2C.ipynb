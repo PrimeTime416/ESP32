{
 "cells": [
  {
   "cell_type": "markdown",
   "metadata": {},
   "source": [
    "<h1>Serial Connect: </h1>"
   ]
  },
  {
   "cell_type": "markdown",
   "metadata": {},
   "source": [
    "<p>MUST: MicroPython Kernel</p>"
   ]
  },
  {
   "cell_type": "code",
   "execution_count": 3,
   "metadata": {},
   "outputs": [
    {
     "name": "stdout",
     "output_type": "stream",
     "text": [
      "\u001b[31mSerial Port to not availalbe\u001b[0m"
     ]
    }
   ],
   "source": [
    "%serialconnect to --port=/dev/ttyUSB1 --baud=115200"
   ]
  },
  {
   "cell_type": "markdown",
   "metadata": {},
   "source": [
    "<p>MUST: MicroPython upydevice Kernel</p>\n",
    "<a href=></a>"
   ]
  },
  {
   "cell_type": "code",
   "execution_count": 6,
   "metadata": {},
   "outputs": [
    {
     "name": "stdout",
     "output_type": "stream",
     "text": [
      "\u001b[32m\n",
      " ** Serial connected **\n",
      "\n",
      "\u001b[0m/dev/ttyUSB0\n",
      "\n",
      "MicroPython v1.12-357-g740946736 on 2020-04-10; ESP32 module (spiram) with ESP32\n",
      "Type \"help()\" for more information.\n"
     ]
    }
   ],
   "source": [
    "%serialconnect /dev/ttyUSB0 115200"
   ]
  },
  {
   "cell_type": "markdown",
   "metadata": {},
   "source": [
    "<h1>PCF8574A Remote 8-Bit I/O Expander for I2C Bus</h1>\n",
    "<a href='http://www.ti.com/lit/ds/symlink/pcf8574a.pdf'> PCF8574AN Datasheet </a>\n",
    "\n",
    "<img src=\"Docs/PCF8574AN_Port_Extender/PCF8574AN_apl1.png\"/>\n",
    "<img src=\"Docs/PCF8574AN_Port_Extender/PCF8574AN_Pins.png\"/>\n",
    "<img src=\"Docs/ESP32_Feather/Adafruit HUZZAH32 - ESP32 Feather I2C.png\"/>"
   ]
  },
  {
   "cell_type": "markdown",
   "metadata": {},
   "source": [
    "<a href=\"Docs/ESP32_Feather/adafruit-huzzah32-esp32-feather.pdf#page=8\">\n",
    " <img alt=\"Qries\" src=\"Docs/ESP32_Feather/3405-Adafruit-HUZZAH32-Feather.gif\">\n",
    "</a>\n",
    "\n",
    "<img src=\"Docs/ESP32 Port Extender Project/20200410_210343.jpg\" width='800'/>\n",
    "<img src=\"Docs/ESP32 Port Extender Project/20200410_210354.jpg\" width='800'/>\n",
    "<img src=\"Docs/ESP32 Port Extender Project/20200410_210441.jpg\" width='800'/>\n",
    "<img src=\"Docs/ESP32 Port Extender Project/20200410_210453.jpg\" width='800'/>\n",
    "\n",
    "<!-- <video width=\"400\" src=\"Docs/ESP32 Port Extender Project/blink1.mp4\" type=\"video/mp4\" controls> -->\n",
    "<video width=\"400\" src=\"Docs/ESP32 Port Extender Project/blink2.mp4\" type=\"video/mp4\" controls>\n",
    "  Your browser does not support HTML5 video.\n",
    "</video>\n",
    "\n",
    "<!-- <style> -->\n",
    "<!-- video {\n",
    "  position: absolute;\n",
    "  transform: rotate(90deg);\n",
    "\n",
    "  transform-origin: bottom left;\n",
    "  width: 100vh;\n",
    "  height: 100vw;\n",
    "  margin-top: -100vw;\n",
    "  object-fit: cover;\n",
    "\n",
    "  z-index: 4;\n",
    "  visibility: visible;\n",
    "} -->\n",
    "\n",
    "<!-- </style> -->"
   ]
  },
  {
   "cell_type": "code",
   "execution_count": 3,
   "metadata": {},
   "outputs": [
    {
     "name": "stdout",
     "output_type": "stream",
     "text": [
      "['__class__', '__name__', 'readinto', 'start', 'stop', 'write', '__bases__', 'init', 'readfrom', 'readfrom_into', 'readfrom_mem', 'readfrom_mem_into', 'scan', 'writeto', 'writeto_mem', 'writevto']\n"
     ]
    }
   ],
   "source": [
    "import esp32, machine\n",
    "# print(help('modules'))\n",
    "print(dir(machine.I2C))\n",
    "# print(dir(esp32))"
   ]
  },
  {
   "cell_type": "markdown",
   "metadata": {},
   "source": [
    "<h1>Class SPI:</h1>\n",
    "<p>\n",
    "Here are specifications from Espressif about the ESP32 (https://adafru.it/wew)\n",
    "    <ul>\n",
    "        <li>240 MHz dual core Tensilica LX6 microcontroller with 600 DMIPS</li>\n",
    "        <li>Integrated 520 KB SRAM</li>\n",
    "        <li>Integrated 802.11b/g/n HT40 Wi-Fi transceiver, baseband, stack and LWIP</li>\n",
    "        <li>Integrated dual mode Bluetooth (classic and BLE)</li>\n",
    "        <li>4 MByte flash</li>\n",
    "        <li>On-board PCB antenna</li>\n",
    "        <li>Ultra-low noise analog amplifier</li>\n",
    "        <li>Hall sensor</li>\n",
    "        <li>10x capacitive touch interface</li>\n",
    "        <li>32 kHz crystal oscillator</li>\n",
    "        <li>3 x UARTs (only two are configured by default in the Feather Arduino IDE support, one UART is used for\n",
    "        bootloading/debug)</li>\n",
    "        <b style='color:red'><li>3 x SPI (only one is configured by default in the Feather Arduino IDE support)</li></b>\n",
    "        <b style='color:red'><li>2 x I2C (only one is configured by default in the Feather Arduino IDE support)</li></b>\n",
    "        <li>12 x ADC input channels</li>\n",
    "        <li>2 x I2S Audio</li>\n",
    "        <li>2 x DAC</li>\n",
    "        <li>PWM/timer input/output available on every GPIO pin</li>\n",
    "        <li>OpenOCD debug interface with 32 kB TRAX buffer</li>\n",
    "        <li>SDIO master/slave 50 MHz</li>\n",
    "        <li>SD-card interface supp</li>\n",
    "    </ul>\n",
    "</p>"
   ]
  },
  {
   "cell_type": "code",
   "execution_count": 4,
   "metadata": {},
   "outputs": [
    {
     "name": "stdout",
     "output_type": "stream",
     "text": [
      "0x38 56\n",
      "0x39 57\n"
     ]
    }
   ],
   "source": [
    "from machine import Pin, I2C\n",
    "\n",
    "i2c = I2C(0, scl=Pin(22), sda=Pin(23), freq=100000)\n",
    "for i in i2c.scan():\n",
    "    print(hex(i), i)           # scan for slave devices\n"
   ]
  },
  {
   "cell_type": "code",
   "execution_count": 5,
   "metadata": {},
   "outputs": [],
   "source": [
    "# i2c.writeto(56, b'\\x0f')\n",
    "# i2c.writeto(0x38, b'\\x0f')\n",
    "i2c.writeto(0x38, int(0b00001111).to_bytes(2,'little'))"
   ]
  },
  {
   "cell_type": "code",
   "execution_count": 6,
   "metadata": {},
   "outputs": [],
   "source": [
    "# i2c.writeto(56, b'\\xf0')\n",
    "i2c.writeto(56, b'\\xFF')"
   ]
  },
  {
   "cell_type": "code",
   "execution_count": 7,
   "metadata": {},
   "outputs": [
    {
     "name": "stdout",
     "output_type": "stream",
     "text": [
      "First x =  0b11111111\n",
      "bytearray(b'\\xff')\n",
      "-xP =  bytearray(b'\\xff')\n",
      "-x =  0b11111110\n",
      "-xP =  bytearray(b'\\xfe')\n",
      "-x =  0b11111100\n",
      "-xP =  bytearray(b'\\xfc')\n",
      "-x =  0b11111000\n",
      "-xP =  bytearray(b'\\xf8')\n",
      "-x =  0b11110000\n",
      "-xP =  bytearray(b'\\xf0')\n",
      "-x =  0b11100000\n",
      "-xP =  bytearray(b'\\xe0')\n",
      "-x =  0b11000000\n",
      "-xP =  bytearray(b'\\xc0')\n",
      "-x =  0b10000000\n",
      "-xP =  bytearray(b'\\x80')\n",
      "-x =  0b0\n",
      "b'\\x00\\x0f'\n"
     ]
    }
   ],
   "source": [
    "import time, uctypes\n",
    "# for i in int(0x0102040810204080).to_bytes(8,'big'):\n",
    "x = 0b1111_1111\n",
    "print('First x = ', bin(x))\n",
    "x = bytearray([x]) \n",
    "print(x)\n",
    "# x = 1\n",
    "for i in range(8):\n",
    "#     print(i)\n",
    "#     x = x >> 1\n",
    "    print('-xP = ', (x))\n",
    "#     print('-x = ', bin(x))\n",
    "    x[0] = x[0] << 1\n",
    "#     holdX = int((x)).to_bytes(1, 'big')\n",
    "#     holdInt = int.from_bytes(holdX,1, 'big')\n",
    "#     print('-xP = ', (x))\n",
    "    print('-x = ', bin(x[0]))\n",
    "#     print('x =   ', bin(holdInt))\n",
    "#     print('bytes = ', holdX)\n",
    "#     print('int = ', holdInt, '\\n')\n",
    "    \n",
    "    time.sleep(1)\n",
    "#     i2c.writeto(0x38, int(x).to_bytes(1,'big'))\n",
    "    i2c.writeto(0x38, x)\n",
    "    \n",
    "print(int(0b00001111).to_bytes(2,'big'))"
   ]
  },
  {
   "cell_type": "markdown",
   "metadata": {},
   "source": [
    "<br/><p>Write to SPI</p>"
   ]
  },
  {
   "cell_type": "code",
   "execution_count": 4,
   "metadata": {},
   "outputs": [
    {
     "name": "stdout",
     "output_type": "stream",
     "text": [
      "0x38 56\n",
      "0x39 57\n",
      "First x =  0b11111111\n",
      "Toggle =  False\n",
      "x =  0b11111110 254\n",
      "x =  0b11111100 252\n",
      "x =  0b11111000 248\n",
      "x =  0b11110000 240\n",
      "x =  0b11100000 224\n",
      "x =  0b11000000 192\n",
      "x =  0b10000000 128\n",
      "x =  0b0 0\n",
      "First x =  0b11111111\n",
      "Toggle =  -1\n",
      "x =  0b1111111 127\n",
      "x =  0b111111 63\n",
      "x =  0b11111 31\n",
      "x =  0b1111 15\n",
      "x =  0b111 7\n",
      "x =  0b11 3\n",
      "x =  0b1 1\n",
      "x =  0b0 0\n",
      "First x =  0b11111111\n",
      "Toggle =  0\n",
      "x =  0b11111110 254\n",
      "x =  0b11111100 252\n",
      "x =  0b11111000 248\n",
      "x =  0b11110000 240\n",
      "x =  0b11100000 224\n",
      "x =  0b11000000 192\n",
      "x =  0b10000000 128\n",
      "x =  0b0 0\n",
      "First x =  0b11111111\n",
      "Toggle =  -1\n",
      "x =  0b1111111 127\n",
      "x =  0b111111 63\n",
      "x =  0b11111 31\n",
      "x =  0b1111 15\n",
      "x =  0b111 7\n",
      "x =  0b11 3\n",
      "x =  0b1 1\n",
      "x =  0b0 0\n",
      "First x =  0b11111111\n",
      "Toggle =  0\n",
      "x =  0b11111110 254\n",
      "x =  0b11111100 252\n",
      "x =  0b11111000 248\n",
      "x =  0b11110000 240\n",
      "x =  0b11100000 224\n",
      "x =  0b11000000 192\n",
      "x =  0b10000000 128\n",
      "x =  0b0 0\n",
      "First x =  0b11111111\n",
      "Toggle =  -1\n",
      "x =  0b1111111 127\n",
      "x =  0b111111 63\n",
      "x =  0b11111 31\n",
      "x =  0b1111 15\n",
      "x =  0b111 7\n",
      "x =  0b11 3\n",
      "x =  0b1 1\n",
      "x =  0b0 0\n",
      "First x =  0b11111111\n",
      "Toggle =  0\n",
      "x =  0b11111110 254\n",
      "x =  0b11111100 252\n",
      "x =  0b11111000 248\n",
      "x =  0b11110000 240\n",
      "x =  0b11100000 224\n",
      "x =  0b11000000 192\n",
      "x =  0b10000000 128\n",
      "x =  0b0 0\n",
      "First x =  0b11111111\n",
      "Toggle =  -1\n",
      "x =  0b1111111 127\n",
      "x =  0b111111 63\n",
      "x =  0b11111 31\n",
      "x =  0b1111 15\n",
      "x =  0b111 7\n",
      "x =  0b11 3\n",
      "x =  0b1 1\n",
      "x =  0b0 0\n",
      "First x =  0b11111111\n",
      "Toggle =  0\n",
      "x =  0b11111110 254\n",
      "x =  0b11111100 252\n",
      "x =  0b11111000 248\n",
      "x =  0b11110000 240\n",
      "x =  0b11100000 224\n",
      "x =  0b11000000 192\n",
      "x =  0b10000000 128\n",
      "x =  0b0 0\n",
      "First x =  0b11111111\n",
      "Toggle =  -1\n",
      "x =  0b1111111 127\n",
      "x =  0b111111 63\n",
      "x =  0b11111 31\n",
      "x =  0b1111 15\n",
      "x =  0b111 7\n",
      "x =  0b11 3\n",
      "x =  0b1 1\n",
      "x =  0b0 0\n"
     ]
    }
   ],
   "source": [
    "from machine import Pin, I2C\n",
    "import time, uctypes\n",
    "\n",
    "i2c = I2C(0, scl=Pin(22), sda=Pin(23), freq=100000)\n",
    "for i in i2c.scan():\n",
    "    print(hex(i), i)           # scan for slave devices\n",
    "    \n",
    "def spi_led(patern=0b1111_1111, up_down=False, speed=0.15):\n",
    "    x = patern\n",
    "    print('First x = ', bin(x))\n",
    "    x = bytearray([x]) \n",
    "    print('Toggle = ',  up_down)\n",
    "    \n",
    "    for i in range(8):\n",
    "        if up_down < 0: \n",
    "            x[0] = x[0] >> 1\n",
    "        else:\n",
    "            x[0] = x[0] << 1\n",
    "\n",
    "        print('x = ', bin(x[0]), int(x[0]))\n",
    "        time.sleep(speed)\n",
    "        i2c.writeto(0x38, x)\n",
    "\n",
    "\n",
    "toggle = False\n",
    "for x in range(10):\n",
    "    spi_led(0b1111_1111, toggle, 0.10)\n",
    "    toggle = ~toggle"
   ]
  },
  {
   "cell_type": "markdown",
   "metadata": {},
   "source": [
    "<br/><p>Read from SPI</p>"
   ]
  },
  {
   "cell_type": "code",
   "execution_count": 59,
   "metadata": {},
   "outputs": [
    {
     "name": "stdout",
     "output_type": "stream",
     "text": [
      "['0x38', '0x39']\n"
     ]
    }
   ],
   "source": [
    "from machine import Pin, I2C\n",
    "import time, uctypes\n",
    "\n",
    "i2c = I2C(0, scl=Pin(22), sda=Pin(23), freq=100000)\n",
    "i2c_addr = list(map(lambda addr: hex(addr), i2c.scan()))\n",
    "print (i2c_addr)\n",
    "\n",
    "# def spi_led(patern=0b1111_1111, up_down=False, speed=0.15):\n",
    "#     x = patern\n",
    "#     print('First x = ', bin(x))\n",
    "#     x = bytearray([x]) \n",
    "#     print('Toggle = ',  up_down)\n",
    "    \n",
    "#     for i in range(8):\n",
    "#         if up_down < 0: \n",
    "#             x[0] = x[0] >> 1\n",
    "#         else:\n",
    "#             x[0] = x[0] << 1\n",
    "\n",
    "#         print('x = ', bin(x[0]), int(x[0]))\n",
    "#         time.sleep(speed)\n",
    "#         i2c.writeto(0x38, x)\n",
    "\n",
    "\n",
    "# toggle = False\n",
    "# for x in range(10):\n",
    "#     spi_led(0b1111_1111, toggle, 0.10)\n",
    "#     toggle = ~toggle\n",
    "\n"
   ]
  },
  {
   "cell_type": "code",
   "execution_count": 46,
   "metadata": {},
   "outputs": [
    {
     "name": "stdout",
     "output_type": "stream",
     "text": [
      "<map>\n",
      "[39.2, 36.5, 37.3, 37.8]\n"
     ]
    }
   ],
   "source": [
    "Celsius = [39.2, 36.5, 37.3, 37.8]\n",
    "Fahrenheit = map(lambda x: (float(9)/5)*x + 32, Celsius)\n",
    "print(Fahrenheit)\n",
    "C = list(map(lambda x: (float(5)/9)*(x-32), Fahrenheit))\n",
    "print(C)"
   ]
  },
  {
   "cell_type": "code",
   "execution_count": 45,
   "metadata": {},
   "outputs": [
    {
     "name": "stdout",
     "output_type": "stream",
     "text": [
      "[2, 4, 6]\n"
     ]
    }
   ],
   "source": [
    "x = [1, 2, 3]\n",
    "def add(x):\n",
    "    return x*2\n",
    "y = map(add, x)\n",
    "print(list(y))"
   ]
  },
  {
   "cell_type": "markdown",
   "metadata": {},
   "source": [
    "<h1>Built In Class: Int</h1>\n",
    "<p>\n",
    "The byteorder argument determines the byte order used to represent the integer. If byteorder is \"big\", the most significant byte is at the beginning of the byte array. If byteorder is \"little\", the most significant byte is at the end of the byte array. To request the native byte order of the host system, use sys.byteorder as the byte order value.\n",
    "</p>\n",
    "<a href='https://en.wikiversity.org/wiki/Python_Concepts/Bytes_objects_and_Bytearrays'> Python Concepts/Bytes objects and Bytearrays</a>\n",
    "</br>\n",
    "<a href='https://www.devdungeon.com/content/working-binary-data-python'>Working with Binary Data in Python</a>"
   ]
  },
  {
   "cell_type": "code",
   "execution_count": null,
   "metadata": {},
   "outputs": [],
   "source": [
    "one_byte = int.to_bytes(0b00001111,1,1)\n",
    "print(one_byte)\n",
    "i2c.writeto(56, one_byte)"
   ]
  },
  {
   "cell_type": "code",
   "execution_count": null,
   "metadata": {},
   "outputs": [],
   "source": [
    "print(int.to_bytes(0b1111000000000111,2, 1))\n",
    "print(int(0b1111000000000111).to_bytes(2, 'little'))"
   ]
  },
  {
   "cell_type": "code",
   "execution_count": null,
   "metadata": {},
   "outputs": [],
   "source": [
    "import time, uctypes\n",
    "x = 0b00001111\n",
    "y = '0b00001111'\n",
    "# z = bytes([0b10101010])\n",
    "# z = bytes([0xf0])\n",
    "# z = bytes(b'\\x0f')\n",
    "z = b'\\x0f'\n",
    "test = z\n",
    "\n",
    "print(test)\n",
    "print(dir(uctypes))\n",
    "print(uctypes.UINT8)\n",
    "# i2c.writeto(56, bin(y))\n",
    "\n",
    "# i2c.writeto(0x38, int(y).to_bytes(1,'big'))\n",
    "# i2c.writeto(0x38, int(test).to_bytes(1,'big'))\n",
    "i2c.writeto(0x38, test)\n"
   ]
  }
 ],
 "metadata": {
  "kernelspec": {
   "display_name": "MicroPython upydevice kernel",
   "language": "python",
   "name": "micropython-upydevice"
  },
  "language_info": {
   "codemirror_mode": "python",
   "file_extension": ".py",
   "mimetype": "text/x-python",
   "name": "python",
   "pygments_lexer": "python"
  },
  "toc-autonumbering": true,
  "toc-showcode": true,
  "toc-showmarkdowntxt": false
 },
 "nbformat": 4,
 "nbformat_minor": 4
}
