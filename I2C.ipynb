{
 "cells": [
  {
   "cell_type": "markdown",
   "metadata": {},
   "source": [
    "<h1>Serial Connect: </h1>"
   ]
  },
  {
   "cell_type": "code",
   "execution_count": 34,
   "metadata": {},
   "outputs": [
    {
     "name": "stdout",
     "output_type": "stream",
     "text": [
      "\u001b[34mConnecting to --port=/dev/ttyUSB1 --baud=115200 \u001b[0m\n",
      "\u001b[34mReady.\n",
      "\u001b[0m"
     ]
    }
   ],
   "source": [
    "%serialconnect to --port=/dev/ttyUSB1 --baud=115200"
   ]
  },
  {
   "cell_type": "markdown",
   "metadata": {},
   "source": [
    "<h1>PCF8574A Remote 8-Bit I/O Expander for I2C Bus</h1>\n",
    "<a href='http://www.ti.com/lit/ds/symlink/pcf8574a.pdf'> PCF8574AN Datasheet </a>\n",
    "\n",
    "<img src=\"Docs/PCF8574AN_Port_Extender/PCF8574AN_apl1.png\"/>\n",
    "<img src=\"Docs/PCF8574AN_Port_Extender/PCF8574AN_Pins.png\"/>\n",
    "<img src=\"Docs/ESP32_Feather/Adafruit HUZZAH32 - ESP32 Feather I2C.png\"/>"
   ]
  },
  {
   "cell_type": "markdown",
   "metadata": {},
   "source": [
    "<a href=\"Docs/ESP32_Feather/adafruit-huzzah32-esp32-feather.pdf#page=8\">\n",
    " <img alt=\"Qries\" src=\"Docs/ESP32_Feather/3405-Adafruit-HUZZAH32-Feather.gif\">\n",
    "</a>\n"
   ]
  },
  {
   "cell_type": "code",
   "execution_count": 3,
   "metadata": {},
   "outputs": [
    {
     "name": "stdout",
     "output_type": "stream",
     "text": [
      "['__class__', '__name__', 'readinto', 'start', 'stop', 'write', '__bases__', 'init', 'readfrom', 'readfrom_into', 'readfrom_mem', 'readfrom_mem_into', 'scan', 'writeto', 'writeto_mem', 'writevto']\n"
     ]
    }
   ],
   "source": [
    "import esp32, machine\n",
    "# print(help('modules'))\n",
    "print(dir(machine.I2C))\n",
    "# print(dir(esp32))"
   ]
  },
  {
   "cell_type": "markdown",
   "metadata": {},
   "source": [
    "<h1>Class SPI:</h1>\n",
    "<p>\n",
    "Here are specifications from Espressif about the ESP32 (https://adafru.it/wew)\n",
    "    <ul>\n",
    "        <li>240 MHz dual core Tensilica LX6 microcontroller with 600 DMIPS</li>\n",
    "        <li>Integrated 520 KB SRAM</li>\n",
    "        <li>Integrated 802.11b/g/n HT40 Wi-Fi transceiver, baseband, stack and LWIP</li>\n",
    "        <li>Integrated dual mode Bluetooth (classic and BLE)</li>\n",
    "        <li>4 MByte flash</li>\n",
    "        <li>On-board PCB antenna</li>\n",
    "        <li>Ultra-low noise analog amplifier</li>\n",
    "        <li>Hall sensor</li>\n",
    "        <li>10x capacitive touch interface</li>\n",
    "        <li>32 kHz crystal oscillator</li>\n",
    "        <li>3 x UARTs (only two are configured by default in the Feather Arduino IDE support, one UART is used for\n",
    "        bootloading/debug)</li>\n",
    "        <b style='color:red'><li>3 x SPI (only one is configured by default in the Feather Arduino IDE support)</li></b>\n",
    "        <b style='color:red'><li>2 x I2C (only one is configured by default in the Feather Arduino IDE support)</li></b>\n",
    "        <li>12 x ADC input channels</li>\n",
    "        <li>2 x I2S Audio</li>\n",
    "        <li>2 x DAC</li>\n",
    "        <li>PWM/timer input/output available on every GPIO pin</li>\n",
    "        <li>OpenOCD debug interface with 32 kB TRAX buffer</li>\n",
    "        <li>SDIO master/slave 50 MHz</li>\n",
    "        <li>SD-card interface supp</li>\n",
    "    </ul>\n",
    "</p>"
   ]
  },
  {
   "cell_type": "code",
   "execution_count": 35,
   "metadata": {},
   "outputs": [
    {
     "name": "stdout",
     "output_type": "stream",
     "text": [
      "0x38 56\n",
      "0x39 57\n"
     ]
    }
   ],
   "source": [
    "from machine import Pin, I2C\n",
    "\n",
    "i2c = I2C(0, scl=Pin(22), sda=Pin(23), freq=100000)\n",
    "for i in i2c.scan():\n",
    "    print(hex(i), i)           # scan for slave devices\n"
   ]
  },
  {
   "cell_type": "code",
   "execution_count": null,
   "metadata": {},
   "outputs": [],
   "source": [
    "# i2c.writeto(56, b'\\x0f')\n",
    "# i2c.writeto(0x38, b'\\x0f')\n",
    "i2c.writeto(0x38, int(0b00001111).to_bytes(2,'little'))"
   ]
  },
  {
   "cell_type": "code",
   "execution_count": null,
   "metadata": {},
   "outputs": [],
   "source": [
    "# i2c.writeto(56, b'\\xf0')\n",
    "i2c.writeto(56, b'\\xFF')"
   ]
  },
  {
   "cell_type": "code",
   "execution_count": null,
   "metadata": {},
   "outputs": [],
   "source": [
    "import time, uctypes\n",
    "# for i in int(0x0102040810204080).to_bytes(8,'big'):\n",
    "x = 0b1111_1111\n",
    "print('First x = ', bin(x))\n",
    "# x = bytearray([0xff]) \n",
    "x = bytearray([x]) \n",
    "print(x)\n",
    "# x = 1\n",
    "for i in range(8):\n",
    "#     print(i)\n",
    "#     x = x >> 1\n",
    "    print('-xP = ', (x))\n",
    "#     print('-x = ', bin(x))\n",
    "    x[0] = x[0] << 1\n",
    "#     holdX = int((x)).to_bytes(1, 'big')\n",
    "#     holdInt = int.from_bytes(holdX,1, 'big')\n",
    "#     print('-xP = ', (x))\n",
    "    print('-x = ', bin(x[0]))\n",
    "#     print('x =   ', bin(holdInt))\n",
    "#     print('bytes = ', holdX)\n",
    "#     print('int = ', holdInt, '\\n')\n",
    "    \n",
    "    time.sleep(1)\n",
    "#     i2c.writeto(0x38, int(x).to_bytes(1,'big'))\n",
    "    i2c.writeto(0x38, x)\n",
    "    \n",
    "print(int(0b00001111).to_bytes(2,'big'))"
   ]
  },
  {
   "cell_type": "code",
   "execution_count": 59,
   "metadata": {},
   "outputs": [
    {
     "name": "stdout",
     "output_type": "stream",
     "text": [
      "First x =  0b11111111\n",
      "x =  0b11111110 254\n",
      "x =  0b11111100 252\n",
      "x =  0b11111000 248\n",
      "x =  0b11110000 240\n",
      "x =  0b11100000 224\n",
      "x =  0b11000000 192\n",
      "x =  0b10000000 128\n",
      "x =  0b0 0\n"
     ]
    }
   ],
   "source": [
    "import time, uctypes\n",
    "\n",
    "x = 0b1111_1111\n",
    "print('First x = ', bin(x))\n",
    "x = bytearray([x]) \n",
    "# print(x)\n",
    "up_down = 0\n",
    "\n",
    "for i in range(8):\n",
    "    if up_down is 1: \n",
    "        x[0] = x[0] >> 1\n",
    "    else:\n",
    "        x[0] = x[0] << 1\n",
    "        \n",
    "    print('x = ', bin(x[0]), int(x[0]))\n",
    "    time.sleep(0.15)\n",
    "    i2c.writeto(0x38, x)"
   ]
  },
  {
   "cell_type": "markdown",
   "metadata": {},
   "source": [
    "<h1>Built In Class: Int</h1>\n",
    "<p>\n",
    "The byteorder argument determines the byte order used to represent the integer. If byteorder is \"big\", the most significant byte is at the beginning of the byte array. If byteorder is \"little\", the most significant byte is at the end of the byte array. To request the native byte order of the host system, use sys.byteorder as the byte order value.\n",
    "</p>\n",
    "<a href='https://en.wikiversity.org/wiki/Python_Concepts/Bytes_objects_and_Bytearrays'> Python Concepts/Bytes objects and Bytearrays</a>\n",
    "</br>\n",
    "<a href='https://www.devdungeon.com/content/working-binary-data-python'>Working with Binary Data in Python</a>"
   ]
  },
  {
   "cell_type": "code",
   "execution_count": null,
   "metadata": {},
   "outputs": [],
   "source": [
    "one_byte = int.to_bytes(0b00001111,1,1)\n",
    "print(one_byte)\n",
    "i2c.writeto(56, one_byte)"
   ]
  },
  {
   "cell_type": "code",
   "execution_count": null,
   "metadata": {},
   "outputs": [],
   "source": [
    "print(int.to_bytes(0b1111000000000111,2, 1))\n",
    "print(int(0b1111000000000111).to_bytes(2, 'little'))"
   ]
  },
  {
   "cell_type": "code",
   "execution_count": null,
   "metadata": {},
   "outputs": [],
   "source": [
    "import time, uctypes\n",
    "x = 0b00001111\n",
    "y = '0b00001111'\n",
    "# z = bytes([0b10101010])\n",
    "# z = bytes([0xf0])\n",
    "# z = bytes(b'\\x0f')\n",
    "z = b'\\x0f'\n",
    "test = z\n",
    "\n",
    "print(test)\n",
    "print(dir(uctypes))\n",
    "print(uctypes.UINT8)\n",
    "# i2c.writeto(56, bin(y))\n",
    "\n",
    "# i2c.writeto(0x38, int(y).to_bytes(1,'big'))\n",
    "# i2c.writeto(0x38, int(test).to_bytes(1,'big'))\n",
    "i2c.writeto(0x38, test)"
   ]
  },
  {
   "cell_type": "markdown",
   "metadata": {},
   "source": [
    "<h1>Working with Binary Data in Python</h1>\n",
    "<a href='https://www.devdungeon.com/content/working-binary-data-python'>Working with Binary Data in Python</a>\n"
   ]
  },
  {
   "cell_type": "code",
   "execution_count": null,
   "metadata": {},
   "outputs": [],
   "source": [
    "# Create empty bytes\n",
    "empty_bytes = bytes(4)\n",
    "print(type(empty_bytes))\n",
    "print(empty_bytes)"
   ]
  },
  {
   "cell_type": "code",
   "execution_count": null,
   "metadata": {},
   "outputs": [],
   "source": [
    "# Cast bytes to bytearray\n",
    "mutable_bytes = bytearray(b'\\x00\\x0F')\n",
    "\n",
    "# Bytearray allows modification\n",
    "mutable_bytes[0] = 255\n",
    "mutable_bytes.append(255)\n",
    "print(mutable_bytes)\n",
    "\n",
    "# Cast bytearray back to bytes\n",
    "immutable_bytes = bytes(mutable_bytes)\n",
    "print(immutable_bytes)"
   ]
  },
  {
   "cell_type": "code",
   "execution_count": 32,
   "metadata": {},
   "outputs": [
    {
     "name": "stdout",
     "output_type": "stream",
     "text": [
      "<class 'bytes'>\n",
      "b'Hello, world! ascii\\n'\n",
      "<class 'bytes'>\n",
      "b'Hello, world! ascii\\nHello, world! utf-8\\n'\n",
      "<class 'bytearray'>\n",
      "bytearray(b'Hello, world! ascii\\nHello, world! utf-8\\n')\n",
      "b'ello, world! ascii\\nHello, world! utf-8\\n'\n",
      "bytearray(b'\\xffello, world! ascii\\nHello, world! utf-8\\n')\n"
     ]
    }
   ],
   "source": [
    "import uio as io\n",
    "\n",
    "binary_stream = io.BytesIO()\n",
    "# Binary data and strings are different types, so a str\n",
    "# must be encoded to binary using ascii, utf-8, or other.\n",
    "binary_stream.write(\"Hello, world! ascii\\n\".encode('ascii'))\n",
    "\n",
    "# Move cursor back to the beginning of the buffer\n",
    "binary_stream.seek(0)\n",
    "\n",
    "# Read all data from the buffer\n",
    "stream_data = binary_stream.read()\n",
    "\n",
    "# The stream_data is type 'bytes', immutable\n",
    "print(type(stream_data))\n",
    "print(stream_data)\n",
    "\n",
    "\n",
    "binary_stream.write(\"Hello, world! utf-8\\n\".encode('utf-8'))\n",
    "\n",
    "# Move cursor back to the beginning of the buffer\n",
    "binary_stream.seek(0)\n",
    "\n",
    "# Read all data from the buffer\n",
    "stream_data = binary_stream.read()\n",
    "\n",
    "# The stream_data is type 'bytes', immutable\n",
    "print(type(stream_data))\n",
    "print(stream_data)\n",
    "\n",
    "# To modify the actual contents of the existing buffer\n",
    "# use getbuffer() to get an object you can modify.\n",
    "# Modifying this object updates the underlying BytesIO buffer\n",
    "mutable_buffer = bytearray(binary_stream.getvalue())\n",
    "# mutable_buffer = binary_stream.getbuffer()\n",
    "print(type(mutable_buffer))  # class 'memoryview'\n",
    "print(mutable_buffer)  # class 'memoryview'\n",
    "mutable_buffer[0] = 0xFF\n",
    "\n",
    "# Re-read the original stream. Contents will be modified\n",
    "# because we modified the mutable buffer\n",
    "binary_stream.seek(1)\n",
    "print(binary_stream.read())\n",
    "print(mutable_buffer)"
   ]
  }
 ],
 "metadata": {
  "kernelspec": {
   "display_name": "MicroPython - USB",
   "language": "micropython",
   "name": "micropython"
  },
  "language_info": {
   "codemirror_mode": "python",
   "file_extension": ".py",
   "mimetype": "text/python",
   "name": "micropython"
  },
  "toc-autonumbering": true,
  "toc-showcode": true,
  "toc-showmarkdowntxt": false
 },
 "nbformat": 4,
 "nbformat_minor": 4
}
