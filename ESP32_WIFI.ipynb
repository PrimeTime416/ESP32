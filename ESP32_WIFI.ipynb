{
 "cells": [
  {
   "cell_type": "code",
   "execution_count": 2,
   "metadata": {
    "Collapsed": "false"
   },
   "outputs": [
    {
     "name": "stdout",
     "output_type": "stream",
     "text": [
      "\u001b[34mConnecting to --port=/dev/ttyUSB0 --baud=115200 \u001b[0m\n",
      "\u001b[34mReady.\n",
      "\u001b[0m"
     ]
    }
   ],
   "source": [
    "%serialconnect to --port=/dev/ttyUSB0 --baud=115200"
   ]
  },
  {
   "cell_type": "code",
   "execution_count": 3,
   "metadata": {
    "Collapsed": "false"
   },
   "outputs": [],
   "source": [
    "# Complete project details at https://RandomNerdTutorials.com\n",
    "\n",
    "try:\n",
    "    import usocket as socket\n",
    "except:\n",
    "    import socket\n",
    "\n",
    "from machine import Pin\n",
    "import network\n",
    "\n",
    "import esp\n",
    "esp.osdebug(None)\n",
    "\n",
    "import gc\n",
    "gc.collect()\n",
    "\n"
   ]
  },
  {
   "cell_type": "code",
   "execution_count": 4,
   "metadata": {
    "Collapsed": "false"
   },
   "outputs": [
    {
     "name": "stdout",
     "output_type": "stream",
     "text": [
      "Station Up:  False\n",
      "Acess Point Up:  False\n"
     ]
    }
   ],
   "source": [
    "sta_if = network.WLAN(network.STA_IF)\n",
    "ap_if = network.WLAN(network.AP_IF)\n",
    "print('Station Up: ', sta_if.active())\n",
    "print('Acess Point Up: ', ap_if.active())"
   ]
  },
  {
   "cell_type": "code",
   "execution_count": 5,
   "metadata": {
    "Collapsed": "false"
   },
   "outputs": [
    {
     "name": "stdout",
     "output_type": "stream",
     "text": [
      "Station Up:  False\n",
      "Acess Point Up:  True\n"
     ]
    }
   ],
   "source": [
    "ap_if.active(True)\n",
    "print('Station Up: ', sta_if.active())\n",
    "print('Acess Point Up: ', ap_if.active())"
   ]
  },
  {
   "cell_type": "code",
   "execution_count": 6,
   "metadata": {
    "Collapsed": "false"
   },
   "outputs": [
    {
     "name": "stdout",
     "output_type": "stream",
     "text": [
      "('192.168.4.1', '255.255.255.0', '192.168.4.1', '0.0.0.0')\n"
     ]
    }
   ],
   "source": [
    "print(ap_if.ifconfig())"
   ]
  },
  {
   "cell_type": "code",
   "execution_count": 9,
   "metadata": {
    "Collapsed": "false"
   },
   "outputs": [
    {
     "name": "stdout",
     "output_type": "stream",
     "text": [
      "listening on ('192.168.4.1', 80)\n",
      ".......client connected from ('192.168.4.2', 60619)\n",
      "client connected from ('192.168.4.2', 60620)\n",
      "...................................\u001b[34m\n",
      "\n",
      "*** Sending Ctrl-C\n",
      "\n",
      "\u001b[0m"
     ]
    },
    {
     "name": "stderr",
     "output_type": "stream",
     "text": [
      "Traceback (most recent call last):\n",
      "  File \"<stdin>\", line 23, in <module>\n",
      "KeyboardInterrupt: \n"
     ]
    }
   ],
   "source": [
    "# import machine\n",
    "# pins = [machine.Pin(i, machine.Pin.IN) for i in (0, 2, 4, 5, 12, 13, 14, 15)]\n",
    "\n",
    "# html = \"\"\"<!DOCTYPE html>\n",
    "# <html>\n",
    "#     <head> <title>ESP8266 Pins</title> </head>\n",
    "#     <body> <h1>ESP8266 Pins</h1>\n",
    "#         <table border=\"1\"> <tr><th>Pin</th><th>Value</th></tr> %s </table>\n",
    "#     </body>\n",
    "# </html>\n",
    "# \"\"\"\n",
    "\n",
    "# import socket\n",
    "# addr = socket.getaddrinfo('192.168.4.1', 80)[0][-1]\n",
    "\n",
    "# s = socket.socket()\n",
    "# s.bind(addr)\n",
    "# s.listen(1)\n",
    "\n",
    "# print('listening on', addr)\n",
    "\n",
    "# while True:\n",
    "#     cl, addr = s.accept()\n",
    "#     print('client connected from', addr)\n",
    "#     cl_file = cl.makefile('rwb', 0)\n",
    "#     while True:\n",
    "#         line = cl_file.readline()\n",
    "#         if not line or line == b'\\r\\n':\n",
    "#             break\n",
    "#     rows = ['<tr><td>%s</td><td>%d</td></tr>' % (str(p), p.value()) for p in pins]\n",
    "#     response = html % '\\n'.join(rows)\n",
    "#     cl.send(response)\n",
    "#     cl.close()"
   ]
  },
  {
   "cell_type": "code",
   "execution_count": 6,
   "metadata": {
    "Collapsed": "false"
   },
   "outputs": [
    {
     "name": "stdout",
     "output_type": "stream",
     "text": [
      ".......Got a connection from ('192.168.4.2', 36796)\n",
      "Content = b''\n",
      "Got a connection from ('192.168.4.2', 36797)\n",
      "Content = b''\n",
      "Got a connection from ('192.168.4.2', 36804)\n",
      "Content = b'GET /?led=on HTTP/1.1\\r\\nHost: 192.168.4.1\\r\\nConnection: keep-alive\\r\\nUpgrade-Insecure-Requests: 1\\r\\nUser-Agent: Mozilla/5.0 (Linux; Android 8.0.0; SM-G930W8) AppleWebKit/537.36 (KHTML, like Gecko) Chrome/79.0.3945.136 Mobile Safari/537.36\\r\\nAccept: text/html,application/xhtml+xml,application/xml;q=0.9,image/webp,image/apng,*/*;q=0.8,application/signed-exchange;v=b3;q=0.9\\r\\nReferer: http://192.168.4.1/?led=on\\r\\nAccept-Encoding: gzip, deflate\\r\\nAccept-Language: en-GB,en-US;q=0.9,en;q=0.8,da;q=0.7\\r\\n\\r\\n'\n",
      "LED ON\n",
      "Got a connection from ('192.168.4.2', 36805)\n",
      "Content = b'GET /?led=on HTTP/1.1\\r\\nHost: 192.168.4.1\\r\\nConnection: keep-alive\\r\\nUpgrade-Insecure-Requests: 1\\r\\nUser-Agent: Mozilla/5.0 (Linux; Android 8.0.0; SM-G930W8) AppleWebKit/537.36 (KHTML, like Gecko) Chrome/79.0.3945.136 Mobile Safari/537.36\\r\\nAccept: text/html,application/xhtml+xml,application/xml;q=0.9,image/webp,image/apng,*/*;q=0.8,application/signed-exchange;v=b3;q=0.9\\r\\nReferer: http://192.168.4.1/?led=on\\r\\nAccept-Encoding: gzip, deflate\\r\\nAccept-Language: en-GB,en-US;q=0.9,en;q=0.8,da;q=0.7\\r\\n\\r\\n'\n",
      "LED ON\n",
      "Got a connection from ('192.168.4.2', 36806)\n",
      "Content = b'GET /?led=off HTTP/1.1\\r\\nHost: 192.168.4.1\\r\\nConnection: keep-alive\\r\\nUpgrade-Insecure-Requests: 1\\r\\nUser-Agent: Mozilla/5.0 (Linux; Android 8.0.0; SM-G930W8) AppleWebKit/537.36 (KHTML, like Gecko) Chrome/79.0.3945.136 Mobile Safari/537.36\\r\\nAccept: text/html,application/xhtml+xml,application/xml;q=0.9,image/webp,image/apng,*/*;q=0.8,application/signed-exchange;v=b3;q=0.9\\r\\nReferer: http://192.168.4.1/?led=on\\r\\nAccept-Encoding: gzip, deflate\\r\\nAccept-Language: en-GB,en-US;q=0.9,en;q=0.8,da;q=0.7\\r\\n\\r\\n'\n",
      "LED OFF\n",
      "Got a connection from ('192.168.4.2', 36807)\n",
      "........Content = b''\n",
      ".......Got a connection from ('192.168.4.2', 36813)\n",
      "Content = b'GET /?led=on HTTP/1.1\\r\\nHost: 192.168.4.1\\r\\nConnection: keep-alive\\r\\nUpgrade-Insecure-Requests: 1\\r\\nUser-Agent: Mozilla/5.0 (Linux; Android 8.0.0; SM-G930W8) AppleWebKit/537.36 (KHTML, like Gecko) Chrome/79.0.3945.136 Mobile Safari/537.36\\r\\nAccept: text/html,application/xhtml+xml,application/xml;q=0.9,image/webp,image/apng,*/*;q=0.8,application/signed-exchange;v=b3;q=0.9\\r\\nReferer: http://192.168.4.1/?led=off\\r\\nAccept-Encoding: gzip, deflate\\r\\nAccept-Language: en-GB,en-US;q=0.9,en;q=0.8,da;q=0.7\\r\\n\\r\\n'\n",
      "LED ON\n",
      "Got a connection from ('192.168.4.2', 36814)\n",
      "Content = b'GET /?led=off HTTP/1.1\\r\\nHost: 192.168.4.1\\r\\nConnection: keep-alive\\r\\nUpgrade-Insecure-Requests: 1\\r\\nUser-Agent: Mozilla/5.0 (Linux; Android 8.0.0; SM-G930W8) AppleWebKit/537.36 (KHTML, like Gecko) Chrome/79.0.3945.136 Mobile Safari/537.36\\r\\nAccept: text/html,application/xhtml+xml,application/xml;q=0.9,image/webp,image/apng,*/*;q=0.8,application/signed-exchange;v=b3;q=0.9\\r\\nReferer: http://192.168.4.1/?led=on\\r\\nAccept-Encoding: gzip, deflate\\r\\nAccept-Language: en-GB,en-US;q=0.9,en;q=0.8,da;q=0.7\\r\\n\\r\\n'\n",
      "LED OFF\n",
      "Got a connection from ('192.168.4.2', 36815)\n",
      "Content = b'GET /?led=on HTTP/1.1\\r\\nHost: 192.168.4.1\\r\\nConnection: keep-alive\\r\\nUpgrade-Insecure-Requests: 1\\r\\nUser-Agent: Mozilla/5.0 (Linux; Android 8.0.0; SM-G930W8) AppleWebKit/537.36 (KHTML, like Gecko) Chrome/79.0.3945.136 Mobile Safari/537.36\\r\\nAccept: text/html,application/xhtml+xml,application/xml;q=0.9,image/webp,image/apng,*/*;q=0.8,application/signed-exchange;v=b3;q=0.9\\r\\nReferer: http://192.168.4.1/?led=off\\r\\nAccept-Encoding: gzip, deflate\\r\\nAccept-Language: en-GB,en-US;q=0.9,en;q=0.8,da;q=0.7\\r\\n\\r\\n'\n",
      "LED ON\n",
      "Got a connection from ('192.168.4.2', 36816)\n",
      "Content = b'GET /?led=off HTTP/1.1\\r\\nHost: 192.168.4.1\\r\\nConnection: keep-alive\\r\\nUpgrade-Insecure-Requests: 1\\r\\nUser-Agent: Mozilla/5.0 (Linux; Android 8.0.0; SM-G930W8) AppleWebKit/537.36 (KHTML, like Gecko) Chrome/79.0.3945.136 Mobile Safari/537.36\\r\\nAccept: text/html,application/xhtml+xml,application/xml;q=0.9,image/webp,image/apng,*/*;q=0.8,application/signed-exchange;v=b3;q=0.9\\r\\nReferer: http://192.168.4.1/?led=on\\r\\nAccept-Encoding: gzip, deflate\\r\\nAccept-Language: en-GB,en-US;q=0.9,en;q=0.8,da;q=0.7\\r\\n\\r\\n'\n",
      "LED OFF\n",
      "Got a connection from ('192.168.4.2', 36817)\n",
      ".Content = b'GET /?led=on HTTP/1.1\\r\\nHost: 192.168.4.1\\r\\nConnection: keep-alive\\r\\nUpgrade-Insecure-Requests: 1\\r\\nUser-Agent: Mozilla/5.0 (Linux; Android 8.0.0; SM-G930W8) AppleWebKit/537.36 (KHTML, like Gecko) Chrome/79.0.3945.136 Mobile Safari/537.36\\r\\nAccept: text/html,application/xhtml+xml,application/xml;q=0.9,image/webp,image/apng,*/*;q=0.8,application/signed-exchange;v=b3;q=0.9\\r\\nReferer: http://192.168.4.1/?led=off\\r\\nAccept-Encoding: gzip, deflate\\r\\nAccept-Language: en-GB,en-US;q=0.9,en;q=0.8,da;q=0.7\\r\\n\\r\\n'\n",
      "LED ON\n",
      "Got a connection from ('192.168.4.2', 36818)\n",
      "Content = b'GET /?led=off HTTP/1.1\\r\\nHost: 192.168.4.1\\r\\nConnection: keep-alive\\r\\nUpgrade-Insecure-Requests: 1\\r\\nUser-Agent: Mozilla/5.0 (Linux; Android 8.0.0; SM-G930W8) AppleWebKit/537.36 (KHTML, like Gecko) Chrome/79.0.3945.136 Mobile Safari/537.36\\r\\nAccept: text/html,application/xhtml+xml,application/xml;q=0.9,image/webp,image/apng,*/*;q=0.8,application/signed-exchange;v=b3;q=0.9\\r\\nReferer: http://192.168.4.1/?led=on\\r\\nAccept-Encoding: gzip, deflate\\r\\nAccept-Language: en-GB,en-US;q=0.9,en;q=0.8,da;q=0.7\\r\\n\\r\\n'\n",
      "LED OFF\n",
      "Got a connection from ('192.168.4.2', 36819)\n",
      "Content = b'GET /?led=on HTTP/1.1\\r\\nHost: 192.168.4.1\\r\\nConnection: keep-alive\\r\\nUpgrade-Insecure-Requests: 1\\r\\nUser-Agent: Mozilla/5.0 (Linux; Android 8.0.0; SM-G930W8) AppleWebKit/537.36 (KHTML, like Gecko) Chrome/79.0.3945.136 Mobile Safari/537.36\\r\\nAccept: text/html,application/xhtml+xml,application/xml;q=0.9,image/webp,image/apng,*/*;q=0.8,application/signed-exchange;v=b3;q=0.9\\r\\nReferer: http://192.168.4.1/?led=off\\r\\nAccept-Encoding: gzip, deflate\\r\\nAccept-Language: en-GB,en-US;q=0.9,en;q=0.8,da;q=0.7\\r\\n\\r\\n'\n",
      "LED ON\n",
      "Got a connection from ('192.168.4.2', 36820)\n",
      "Content = b'GET /?led=off HTTP/1.1\\r\\nHost: 192.168.4.1\\r\\nConnection: keep-alive\\r\\nUpgrade-Insecure-Requests: 1\\r\\nUser-Agent: Mozilla/5.0 (Linux; Android 8.0.0; SM-G930W8) AppleWebKit/537.36 (KHTML, like Gecko) Chrome/79.0.3945.136 Mobile Safari/537.36\\r\\nAccept: text/html,application/xhtml+xml,application/xml;q=0.9,image/webp,image/apng,*/*;q=0.8,application/signed-exchange;v=b3;q=0.9\\r\\nReferer: http://192.168.4.1/?led=on\\r\\nAccept-Encoding: gzip, deflate\\r\\nAccept-Language: en-GB,en-US;q=0.9,en;q=0.8,da;q=0.7\\r\\n\\r\\n'\n",
      "LED OFF\n",
      "Got a connection from ('192.168.4.2', 36821)\n",
      "Content = b'GET /?led=on HTTP/1.1\\r\\nHost: 192.168.4.1\\r\\nConnection: keep-alive\\r\\nUpgrade-Insecure-Requests: 1\\r\\nUser-Agent: Mozilla/5.0 (Linux; Android 8.0.0; SM-G930W8) AppleWebKit/537.36 (KHTML, like Gecko) Chrome/79.0.3945.136 Mobile Safari/537.36\\r\\nAccept: text/html,application/xhtml+xml,application/xml;q=0.9,image/webp,image/apng,*/*;q=0.8,application/signed-exchange;v=b3;q=0.9\\r\\nReferer: http://192.168.4.1/?led=off\\r\\nAccept-Encoding: gzip, deflate\\r\\nAccept-Language: en-GB,en-US;q=0.9,en;q=0.8,da;q=0.7\\r\\n\\r\\n'\n",
      "LED ON\n",
      "Got a connection from ('192.168.4.2', 36822)\n",
      "Content = b'GET /?led=off HTTP/1.1\\r\\nHost: 192.168.4.1\\r\\nConnection: keep-alive\\r\\nUpgrade-Insecure-Requests: 1\\r\\nUser-Agent: Mozilla/5.0 (Linux; Android 8.0.0; SM-G930W8) AppleWebKit/537.36 (KHTML, like Gecko) Chrome/79.0.3945.136 Mobile Safari/537.36\\r\\nAccept: text/html,application/xhtml+xml,application/xml;q=0.9,image/webp,image/apng,*/*;q=0.8,application/signed-exchange;v=b3;q=0.9\\r\\nReferer: http://192.168.4.1/?led=on\\r\\nAccept-Encoding: gzip, deflate\\r\\nAccept-Language: en-GB,en-US;q=0.9,en;q=0.8,da;q=0.7\\r\\n\\r\\n'\n",
      "LED OFF\n",
      "Got a connection from ('192.168.4.2', 36823)\n",
      "Content = b'GET /?led=on HTTP/1.1\\r\\nHost: 192.168.4.1\\r\\nConnection: keep-alive\\r\\nUpgrade-Insecure-Requests: 1\\r\\nUser-Agent: Mozilla/5.0 (Linux; Android 8.0.0; SM-G930W8) AppleWebKit/537.36 (KHTML, like Gecko) Chrome/79.0.3945.136 Mobile Safari/537.36\\r\\nAccept: text/html,application/xhtml+xml,application/xml;q=0.9,image/webp,image/apng,*/*;q=0.8,application/signed-exchange;v=b3;q=0.9\\r\\nReferer: http://192.168.4.1/?led=off\\r\\nAccept-Encoding: gzip, deflate\\r\\nAccept-Language: en-GB,en-US;q=0.9,en;q=0.8,da;q=0.7\\r\\n\\r\\n'\n",
      "LED ON\n",
      "Got a connection from ('192.168.4.2', 36824)\n",
      "....Content = b''\n",
      "Got a connection from ('192.168.4.2', 36827)\n",
      "Content = b'GET /?led=off HTTP/1.1\\r\\nHost: 192.168.4.1\\r\\nConnection: keep-alive\\r\\nUpgrade-Insecure-Requests: 1\\r\\nUser-Agent: Mozilla/5.0 (Linux; Android 8.0.0; SM-G930W8) AppleWebKit/537.36 (KHTML, like Gecko) Chrome/79.0.3945.136 Mobile Safari/537.36\\r\\nAccept: text/html,application/xhtml+xml,application/xml;q=0.9,image/webp,image/apng,*/*;q=0.8,application/signed-exchange;v=b3;q=0.9\\r\\nReferer: http://192.168.4.1/?led=on\\r\\nAccept-Encoding: gzip, deflate\\r\\nAccept-Language: en-GB,en-US;q=0.9,en;q=0.8,da;q=0.7\\r\\n\\r\\n'\n",
      "LED OFF\n",
      "Got a connection from ('192.168.4.2', 36828)\n",
      "Content = b'GET /?led=on HTTP/1.1\\r\\nHost: 192.168.4.1\\r\\nConnection: keep-alive\\r\\nUpgrade-Insecure-Requests: 1\\r\\nUser-Agent: Mozilla/5.0 (Linux; Android 8.0.0; SM-G930W8) AppleWebKit/537.36 (KHTML, like Gecko) Chrome/79.0.3945.136 Mobile Safari/537.36\\r\\nAccept: text/html,application/xhtml+xml,application/xml;q=0.9,image/webp,image/apng,*/*;q=0.8,application/signed-exchange;v=b3;q=0.9\\r\\nReferer: http://192.168.4.1/?led=off\\r\\nAccept-Encoding: gzip, deflate\\r\\nAccept-Language: en-GB,en-US;q=0.9,en;q=0.8,da;q=0.7\\r\\n\\r\\n'\n",
      "LED ON\n",
      "Got a connection from ('192.168.4.2', 36829)\n",
      "Content = b'GET /?led=off HTTP/1.1\\r\\nHost: 192.168.4.1\\r\\nConnection: keep-alive\\r\\nUpgrade-Insecure-Requests: 1\\r\\nUser-Agent: Mozilla/5.0 (Linux; Android 8.0.0; SM-G930W8) AppleWebKit/537.36 (KHTML, like Gecko) Chrome/79.0.3945.136 Mobile Safari/537.36\\r\\nAccept: text/html,application/xhtml+xml,application/xml;q=0.9,image/webp,image/apng,*/*;q=0.8,application/signed-exchange;v=b3;q=0.9\\r\\nReferer: http://192.168.4.1/?led=on\\r\\nAccept-Encoding: gzip, deflate\\r\\nAccept-Language: en-GB,en-US;q=0.9,en;q=0.8,da;q=0.7\\r\\n\\r\\n'\n",
      "LED OFF\n",
      "Got a connection from ('192.168.4.2', 36830)\n",
      "Content = b'GET /?led=on HTTP/1.1\\r\\nHost: 192.168.4.1\\r\\nConnection: keep-alive\\r\\nUpgrade-Insecure-Requests: 1\\r\\nUser-Agent: Mozilla/5.0 (Linux; Android 8.0.0; SM-G930W8) AppleWebKit/537.36 (KHTML, like Gecko) Chrome/79.0.3945.136 Mobile Safari/537.36\\r\\nAccept: text/html,application/xhtml+xml,application/xml;q=0.9,image/webp,image/apng,*/*;q=0.8,application/signed-exchange;v=b3;q=0.9\\r\\nReferer: http://192.168.4.1/?led=off\\r\\nAccept-Encoding: gzip, deflate\\r\\nAccept-Language: en-GB,en-US;q=0.9,en;q=0.8,da;q=0.7\\r\\n\\r\\n'\n",
      "LED ON\n",
      "Got a connection from ('192.168.4.2', 36831)\n",
      "...Content = b''\n",
      "..........Got a connection from ('192.168.4.3', 56070)\n",
      "Content = b'GET / HTTP/1.1\\r\\nHost: 192.168.4.1\\r\\nConnection: keep-alive\\r\\nUpgrade-Insecure-Requests: 1\\r\\nUser-Agent: Mozilla/5.0 (Linux; Android 8.0.0; SM-A520W) AppleWebKit/537.36 (KHTML, like Gecko) Chrome/79.0.3945.116 Mobile Safari/537.36\\r\\nAccept: text/html,application/xhtml+xml,application/xml;q=0.9,image/webp,image/apng,*/*;q=0.8,application/signed-exchange;v=b3;q=0.9\\r\\nAccept-Encoding: gzip, deflate\\r\\nAccept-Language: en-GB,en-US;q=0.9,en;q=0.8\\r\\n\\r\\n'\n",
      "Got a connection from ('192.168.4.3', 56071)\n",
      "Content = b'GET /?led=off HTTP/1.1\\r\\nHost: 192.168.4.1\\r\\nConnection: keep-alive\\r\\nUpgrade-Insecure-Requests: 1\\r\\nUser-Agent: Mozilla/5.0 (Linux; Android 8.0.0; SM-A520W) AppleWebKit/537.36 (KHTML, like Gecko) Chrome/79.0.3945.116 Mobile Safari/537.36\\r\\nAccept: text/html,application/xhtml+xml,application/xml;q=0.9,image/webp,image/apng,*/*;q=0.8,application/signed-exchange;v=b3;q=0.9\\r\\nReferer: http://192.168.4.1/\\r\\nAccept-Encoding: gzip, deflate\\r\\nAccept-Language: en-GB,en-US;q=0.9,en;q=0.8\\r\\n\\r\\n'\n",
      "LED OFF\n",
      "Got a connection from ('192.168.4.3', 56072)\n",
      ".Content = b'GET /?led=on HTTP/1.1\\r\\nHost: 192.168.4.1\\r\\nConnection: keep-alive\\r\\nUpgrade-Insecure-Requests: 1\\r\\nUser-Agent: Mozilla/5.0 (Linux; Android 8.0.0; SM-A520W) AppleWebKit/537.36 (KHTML, like Gecko) Chrome/79.0.3945.116 Mobile Safari/537.36\\r\\nAccept: text/html,application/xhtml+xml,application/xml;q=0.9,image/webp,image/apng,*/*;q=0.8,application/signed-exchange;v=b3;q=0.9\\r\\nReferer: http://192.168.4.1/?led=off\\r\\nAccept-Encoding: gzip, deflate\\r\\nAccept-Language: en-GB,en-US;q=0.9,en;q=0.8\\r\\n\\r\\n'\n",
      "LED ON\n",
      "Got a connection from ('192.168.4.3', 56073)\n",
      ".Content = b'GET /?led=off HTTP/1.1\\r\\nHost: 192.168.4.1\\r\\nConnection: keep-alive\\r\\nUpgrade-Insecure-Requests: 1\\r\\nUser-Agent: Mozilla/5.0 (Linux; Android 8.0.0; SM-A520W) AppleWebKit/537.36 (KHTML, like Gecko) Chrome/79.0.3945.116 Mobile Safari/537.36\\r\\nAccept: text/html,application/xhtml+xml,application/xml;q=0.9,image/webp,image/apng,*/*;q=0.8,application/signed-exchange;v=b3;q=0.9\\r\\nReferer: http://192.168.4.1/?led=on\\r\\nAccept-Encoding: gzip, deflate\\r\\nAccept-Language: en-GB,en-US;q=0.9,en;q=0.8\\r\\n\\r\\n'\n",
      "LED OFF\n",
      "Got a connection from ('192.168.4.3', 56076)\n",
      "......Content = b'GET /?led=on HTTP/1.1\\r\\nHost: 192.168.4.1\\r\\nConnection: keep-alive\\r\\nUpgrade-Insecure-Requests: 1\\r\\nUser-Agent: Mozilla/5.0 (Linux; Android 8.0.0; SM-A520W) AppleWebKit/537.36 (KHTML, like Gecko) Chrome/79.0.3945.116 Mobile Safari/537.36\\r\\nAccept: text/html,application/xhtml+xml,application/xml;q=0.9,image/webp,image/apng,*/*;q=0.8,application/signed-exchange;v=b3;q=0.9\\r\\nReferer: http://192.168.4.1/?led=off\\r\\nAccept-Encoding: gzip, deflate\\r\\nAccept-Language: en-GB,en-US;q=0.9,en;q=0.8\\r\\n\\r\\n'\n",
      "LED ON\n",
      "Got a connection from ('192.168.4.2', 36839)\n",
      "Content = b'GET /?led=off HTTP/1.1\\r\\nHost: 192.168.4.1\\r\\nConnection: keep-alive\\r\\nUpgrade-Insecure-Requests: 1\\r\\nUser-Agent: Mozilla/5.0 (Linux; Android 8.0.0; SM-G930W8) AppleWebKit/537.36 (KHTML, like Gecko) Chrome/79.0.3945.136 Mobile Safari/537.36\\r\\nAccept: text/html,application/xhtml+xml,application/xml;q=0.9,image/webp,image/apng,*/*;q=0.8,application/signed-exchange;v=b3;q=0.9\\r\\nReferer: http://192.168.4.1/?led=on\\r\\nAccept-Encoding: gzip, deflate\\r\\nAccept-Language: en-GB,en-US;q=0.9,en;q=0.8,da;q=0.7\\r\\n\\r\\n'\n",
      "LED OFF\n",
      "Got a connection from ('192.168.4.2', 36840)\n",
      "Content = b'GET /?led=on HTTP/1.1\\r\\nHost: 192.168.4.1\\r\\nConnection: keep-alive\\r\\nUpgrade-Insecure-Requests: 1\\r\\nUser-Agent: Mozilla/5.0 (Linux; Android 8.0.0; SM-G930W8) AppleWebKit/537.36 (KHTML, like Gecko) Chrome/79.0.3945.136 Mobile Safari/537.36\\r\\nAccept: text/html,application/xhtml+xml,application/xml;q=0.9,image/webp,image/apng,*/*;q=0.8,application/signed-exchange;v=b3;q=0.9\\r\\nReferer: http://192.168.4.1/?led=on\\r\\nAccept-Encoding: gzip, deflate\\r\\nAccept-Language: en-GB,en-US;q=0.9,en;q=0.8,da;q=0.7\\r\\n\\r\\n'\n",
      "LED ON\n",
      "Got a connection from ('192.168.4.2', 36841)\n",
      "Content = b'GET /?led=on HTTP/1.1\\r\\nHost: 192.168.4.1\\r\\nConnection: keep-alive\\r\\nUpgrade-Insecure-Requests: 1\\r\\nUser-Agent: Mozilla/5.0 (Linux; Android 8.0.0; SM-G930W8) AppleWebKit/537.36 (KHTML, like Gecko) Chrome/79.0.3945.136 Mobile Safari/537.36\\r\\nAccept: text/html,application/xhtml+xml,application/xml;q=0.9,image/webp,image/apng,*/*;q=0.8,application/signed-exchange;v=b3;q=0.9\\r\\nReferer: http://192.168.4.1/?led=on\\r\\nAccept-Encoding: gzip, deflate\\r\\nAccept-Language: en-GB,en-US;q=0.9,en;q=0.8,da;q=0.7\\r\\n\\r\\n'\n",
      "LED ON\n",
      "Got a connection from ('192.168.4.2', 36843)\n",
      "Content = b'GET /?led=on HTTP/1.1\\r\\nHost: 192.168.4.1\\r\\nConnection: keep-alive\\r\\nUpgrade-Insecure-Requests: 1\\r\\nUser-Agent: Mozilla/5.0 (Linux; Android 8.0.0; SM-G930W8) AppleWebKit/537.36 (KHTML, like Gecko) Chrome/79.0.3945.136 Mobile Safari/537.36\\r\\nAccept: text/html,application/xhtml+xml,application/xml;q=0.9,image/webp,image/apng,*/*;q=0.8,application/signed-exchange;v=b3;q=0.9\\r\\nReferer: http://192.168.4.1/?led=on\\r\\nAccept-Encoding: gzip, deflate\\r\\nAccept-Language: en-GB,en-US;q=0.9,en;q=0.8,da;q=0.7\\r\\n\\r\\n'\n",
      "LED ON\n",
      "Got a connection from ('192.168.4.2', 36844)\n",
      "Content = b'GET /?led=on HTTP/1.1\\r\\nHost: 192.168.4.1\\r\\nConnection: keep-alive\\r\\nUpgrade-Insecure-Requests: 1\\r\\nUser-Agent: Mozilla/5.0 (Linux; Android 8.0.0; SM-G930W8) AppleWebKit/537.36 (KHTML, like Gecko) Chrome/79.0.3945.136 Mobile Safari/537.36\\r\\nAccept: text/html,application/xhtml+xml,application/xml;q=0.9,image/webp,image/apng,*/*;q=0.8,application/signed-exchange;v=b3;q=0.9\\r\\nReferer: http://192.168.4.1/?led=on\\r\\nAccept-Encoding: gzip, deflate\\r\\nAccept-Language: en-GB,en-US;q=0.9,en;q=0.8,da;q=0.7\\r\\n\\r\\n'\n",
      "LED ON\n",
      ".Got a connection from ('192.168.4.3', 56079)\n",
      "Content = b'GET /?led=off HTTP/1.1\\r\\nHost: 192.168.4.1\\r\\nConnection: keep-alive\\r\\nUpgrade-Insecure-Requests: 1\\r\\nUser-Agent: Mozilla/5.0 (Linux; Android 8.0.0; SM-A520W) AppleWebKit/537.36 (KHTML, like Gecko) Chrome/79.0.3945.116 Mobile Safari/537.36\\r\\nAccept: text/html,application/xhtml+xml,application/xml;q=0.9,image/webp,image/apng,*/*;q=0.8,application/signed-exchange;v=b3;q=0.9\\r\\nReferer: http://192.168.4.1/?led=on\\r\\nAccept-Encoding: gzip, deflate\\r\\nAccept-Language: en-GB,en-US;q=0.9,en;q=0.8\\r\\n\\r\\n'\n",
      "LED OFF\n",
      "Got a connection from ('192.168.4.3', 56078)\n",
      "Content = b'GET /?led=on HTTP/1.1\\r\\nHost: 192.168.4.1\\r\\nConnection: keep-alive\\r\\nUpgrade-Insecure-Requests: 1\\r\\nUser-Agent: Mozilla/5.0 (Linux; Android 8.0.0; SM-A520W) AppleWebKit/537.36 (KHTML, like Gecko) Chrome/79.0.3945.116 Mobile Safari/537.36\\r\\nAccept: text/html,application/xhtml+xml,application/xml;q=0.9,image/webp,image/apng,*/*;q=0.8,application/signed-exchange;v=b3;q=0.9\\r\\nReferer: http://192.168.4.1/?led=off\\r\\nAccept-Encoding: gzip, deflate\\r\\nAccept-Language: en-GB,en-US;q=0.9,en;q=0.8\\r\\n\\r\\n'\n",
      "LED ON\n",
      "Got a connection from ('192.168.4.2', 36845)\n",
      "Content = b'GET /?led=on HTTP/1.1\\r\\nHost: 192.168.4.1\\r\\nConnection: keep-alive\\r\\nUpgrade-Insecure-Requests: 1\\r\\nUser-Agent: Mozilla/5.0 (Linux; Android 8.0.0; SM-G930W8) AppleWebKit/537.36 (KHTML, like Gecko) Chrome/79.0.3945.136 Mobile Safari/537.36\\r\\nAccept: text/html,application/xhtml+xml,application/xml;q=0.9,image/webp,image/apng,*/*;q=0.8,application/signed-exchange;v=b3;q=0.9\\r\\nReferer: http://192.168.4.1/?led=on\\r\\nAccept-Encoding: gzip, deflate\\r\\nAccept-Language: en-GB,en-US;q=0.9,en;q=0.8,da;q=0.7\\r\\n\\r\\n'\n",
      "LED ON\n",
      "Got a connection from ('192.168.4.3', 56080)\n",
      "Content = b'GET /?led=off HTTP/1.1\\r\\nHost: 192.168.4.1\\r\\nConnection: keep-alive\\r\\nUpgrade-Insecure-Requests: 1\\r\\nUser-Agent: Mozilla/5.0 (Linux; Android 8.0.0; SM-A520W) AppleWebKit/537.36 (KHTML, like Gecko) Chrome/79.0.3945.116 Mobile Safari/537.36\\r\\nAccept: text/html,application/xhtml+xml,application/xml;q=0.9,image/webp,image/apng,*/*;q=0.8,application/signed-exchange;v=b3;q=0.9\\r\\nReferer: http://192.168.4.1/?led=on\\r\\nAccept-Encoding: gzip, deflate\\r\\nAccept-Language: en-GB,en-US;q=0.9,en;q=0.8\\r\\n\\r\\n'\n",
      "LED OFF\n",
      "Got a connection from ('192.168.4.3', 56081)\n",
      "...Content = b'GET /?led=on HTTP/1.1\\r\\nHost: 192.168.4.1\\r\\nConnection: keep-alive\\r\\nUpgrade-Insecure-Requests: 1\\r\\nUser-Agent: Mozilla/5.0 (Linux; Android 8.0.0; SM-A520W) AppleWebKit/537.36 (KHTML, like Gecko) Chrome/79.0.3945.116 Mobile Safari/537.36\\r\\nAccept: text/html,application/xhtml+xml,application/xml;q=0.9,image/webp,image/apng,*/*;q=0.8,application/signed-exchange;v=b3;q=0.9\\r\\nReferer: http://192.168.4.1/?led=off\\r\\nAccept-Encoding: gzip, deflate\\r\\nAccept-Language: en-GB,en-US;q=0.9,en;q=0.8\\r\\n\\r\\n'\n",
      "LED ON\n",
      "Got a connection from ('192.168.4.2', 36847)\n",
      "....Content = b''\n",
      "Got a connection from ('192.168.4.3', 56083)\n",
      "Content = b'GET /?led=off HTTP/1.1\\r\\nHost: 192.168.4.1\\r\\nConnection: keep-alive\\r\\nUpgrade-Insecure-Requests: 1\\r\\nUser-Agent: Mozilla/5.0 (Linux; Android 8.0.0; SM-A520W) AppleWebKit/537.36 (KHTML, like Gecko) Chrome/79.0.3945.116 Mobile Safari/537.36\\r\\nAccept: text/html,application/xhtml+xml,application/xml;q=0.9,image/webp,image/apng,*/*;q=0.8,application/signed-exchange;v=b3;q=0.9\\r\\nReferer: http://192.168.4.1/?led=on\\r\\nAccept-Encoding: gzip, deflate\\r\\nAccept-Language: en-GB,en-US;q=0.9,en;q=0.8\\r\\n\\r\\n'\n",
      "LED OFF\n",
      "Got a connection from ('192.168.4.3', 56084)\n",
      "Content = b'GET /?led=on HTTP/1.1\\r\\nHost: 192.168.4.1\\r\\nConnection: keep-alive\\r\\nUpgrade-Insecure-Requests: 1\\r\\nUser-Agent: Mozilla/5.0 (Linux; Android 8.0.0; SM-A520W) AppleWebKit/537.36 (KHTML, like Gecko) Chrome/79.0.3945.116 Mobile Safari/537.36\\r\\nAccept: text/html,application/xhtml+xml,application/xml;q=0.9,image/webp,image/apng,*/*;q=0.8,application/signed-exchange;v=b3;q=0.9\\r\\nReferer: http://192.168.4.1/?led=on\\r\\nAccept-Encoding: gzip, deflate\\r\\nAccept-Language: en-GB,en-US;q=0.9,en;q=0.8\\r\\n\\r\\n'\n",
      "LED ON\n",
      "Got a connection from ('192.168.4.3', 56085)\n",
      "Content = b'GET /?led=off HTTP/1.1\\r\\nHost: 192.168.4.1\\r\\nConnection: keep-alive\\r\\nUpgrade-Insecure-Requests: 1\\r\\nUser-Agent: Mozilla/5.0 (Linux; Android 8.0.0; SM-A520W) AppleWebKit/537.36 (KHTML, like Gecko) Chrome/79.0.3945.116 Mobile Safari/537.36\\r\\nAccept: text/html,application/xhtml+xml,application/xml;q=0.9,image/webp,image/apng,*/*;q=0.8,application/signed-exchange;v=b3;q=0.9\\r\\nReferer: http://192.168.4.1/?led=on\\r\\nAccept-Encoding: gzip, deflate\\r\\nAccept-Language: en-GB,en-US;q=0.9,en;q=0.8\\r\\n\\r\\n'\n",
      "LED OFF\n",
      "Got a connection from ('192.168.4.3', 56086)\n",
      ".Content = b'GET /?led=on HTTP/1.1\\r\\nHost: 192.168.4.1\\r\\nConnection: keep-alive\\r\\nUpgrade-Insecure-Requests: 1\\r\\nUser-Agent: Mozilla/5.0 (Linux; Android 8.0.0; SM-A520W) AppleWebKit/537.36 (KHTML, like Gecko) Chrome/79.0.3945.116 Mobile Safari/537.36\\r\\nAccept: text/html,application/xhtml+xml,application/xml;q=0.9,image/webp,image/apng,*/*;q=0.8,application/signed-exchange;v=b3;q=0.9\\r\\nReferer: http://192.168.4.1/?led=on\\r\\nAccept-Encoding: gzip, deflate\\r\\nAccept-Language: en-GB,en-US;q=0.9,en;q=0.8\\r\\n\\r\\n'\n",
      "LED ON\n",
      "Got a connection from ('192.168.4.3', 56088)\n",
      "Content = b'GET / HTTP/1.1\\r\\nUser-Agent: Dalvik/2.1.0 (Linux; U; Android 8.0.0; SM-A520W Build/R16NW)\\r\\nHost: 192.168.4.1\\r\\nConnection: Keep-Alive\\r\\nAccept-Encoding: gzip\\r\\n\\r\\n'\n",
      "Got a connection from ('192.168.4.2', 36850)\n",
      "Content = b'GET /?led=off HTTP/1.1\\r\\nHost: 192.168.4.1\\r\\nConnection: keep-alive\\r\\nUpgrade-Insecure-Requests: 1\\r\\nUser-Agent: Mozilla/5.0 (Linux; Android 8.0.0; SM-G930W8) AppleWebKit/537.36 (KHTML, like Gecko) Chrome/79.0.3945.136 Mobile Safari/537.36\\r\\nAccept: text/html,application/xhtml+xml,application/xml;q=0.9,image/webp,image/apng,*/*;q=0.8,application/signed-exchange;v=b3;q=0.9\\r\\nReferer: http://192.168.4.1/?led=on\\r\\nAccept-Encoding: gzip, deflate\\r\\nAccept-Language: en-GB,en-US;q=0.9,en;q=0.8,da;q=0.7\\r\\n\\r\\n'\n",
      "LED OFF\n",
      "Got a connection from ('192.168.4.2', 36851)\n",
      "..Content = b''\n",
      "Got a connection from ('192.168.4.3', 56089)\n",
      "Content = b'GET /?led=on HTTP/1.1\\r\\nHost: 192.168.4.1\\r\\nConnection: keep-alive\\r\\nUpgrade-Insecure-Requests: 1\\r\\nUser-Agent: Mozilla/5.0 (Linux; Android 8.0.0; SM-A520W) AppleWebKit/537.36 (KHTML, like Gecko) Chrome/79.0.3945.116 Mobile Safari/537.36\\r\\nAccept: text/html,application/xhtml+xml,application/xml;q=0.9,image/webp,image/apng,*/*;q=0.8,application/signed-exchange;v=b3;q=0.9\\r\\nReferer: http://192.168.4.1/?led=on\\r\\nAccept-Encoding: gzip, deflate\\r\\nAccept-Language: en-GB,en-US;q=0.9,en;q=0.8\\r\\n\\r\\n'\n",
      "LED ON\n",
      "Got a connection from ('192.168.4.3', 56090)\n",
      "..Content = b'GET /?led=off HTTP/1.1\\r\\nHost: 192.168.4.1\\r\\nConnection: keep-alive\\r\\nUpgrade-Insecure-Requests: 1\\r\\nUser-Agent: Mozilla/5.0 (Linux; Android 8.0.0; SM-A520W) AppleWebKit/537.36 (KHTML, like Gecko) Chrome/79.0.3945.116 Mobile Safari/537.36\\r\\nAccept: text/html,application/xhtml+xml,application/xml;q=0.9,image/webp,image/apng,*/*;q=0.8,application/signed-exchange;v=b3;q=0.9\\r\\nReferer: http://192.168.4.1/?led=on\\r\\nAccept-Encoding: gzip, deflate\\r\\nAccept-Language: en-GB,en-US;q=0.9,en;q=0.8\\r\\n\\r\\n'\n",
      "LED OFF\n",
      "Got a connection from ('192.168.4.2', 36852)\n",
      "Content = b'GET /?led=on HTTP/1.1\\r\\nHost: 192.168.4.1\\r\\nConnection: keep-alive\\r\\nUpgrade-Insecure-Requests: 1\\r\\nUser-Agent: Mozilla/5.0 (Linux; Android 8.0.0; SM-G930W8) AppleWebKit/537.36 (KHTML, like Gecko) Chrome/79.0.3945.136 Mobile Safari/537.36\\r\\nAccept: text/html,application/xhtml+xml,application/xml;q=0.9,image/webp,image/apng,*/*;q=0.8,application/signed-exchange;v=b3;q=0.9\\r\\nReferer: http://192.168.4.1/?led=off\\r\\nAccept-Encoding: gzip, deflate\\r\\nAccept-Language: en-GB,en-US;q=0.9,en;q=0.8,da;q=0.7\\r\\n\\r\\n'\n",
      "LED ON\n",
      "Got a connection from ('192.168.4.2', 36853)\n",
      "Content = b'GET /?led=off HTTP/1.1\\r\\nHost: 192.168.4.1\\r\\nConnection: keep-alive\\r\\nUpgrade-Insecure-Requests: 1\\r\\nUser-Agent: Mozilla/5.0 (Linux; Android 8.0.0; SM-G930W8) AppleWebKit/537.36 (KHTML, like Gecko) Chrome/79.0.3945.136 Mobile Safari/537.36\\r\\nAccept: text/html,application/xhtml+xml,application/xml;q=0.9,image/webp,image/apng,*/*;q=0.8,application/signed-exchange;v=b3;q=0.9\\r\\nReferer: http://192.168.4.1/?led=off\\r\\nAccept-Encoding: gzip, deflate\\r\\nAccept-Language: en-GB,en-US;q=0.9,en;q=0.8,da;q=0.7\\r\\n\\r\\n'\n",
      "LED OFF\n",
      "Got a connection from ('192.168.4.2', 36854)\n",
      "Content = b'GET /?led=off HTTP/1.1\\r\\nHost: 192.168.4.1\\r\\nConnection: keep-alive\\r\\nUpgrade-Insecure-Requests: 1\\r\\nUser-Agent: Mozilla/5.0 (Linux; Android 8.0.0; SM-G930W8) AppleWebKit/537.36 (KHTML, like Gecko) Chrome/79.0.3945.136 Mobile Safari/537.36\\r\\nAccept: text/html,application/xhtml+xml,application/xml;q=0.9,image/webp,image/apng,*/*;q=0.8,application/signed-exchange;v=b3;q=0.9\\r\\nReferer: http://192.168.4.1/?led=off\\r\\nAccept-Encoding: gzip, deflate\\r\\nAccept-Language: en-GB,en-US;q=0.9,en;q=0.8,da;q=0.7\\r\\n\\r\\n'\n",
      "LED OFF\n",
      "Got a connection from ('192.168.4.2', 36855)\n",
      "Content = b'GET /?led=off HTTP/1.1\\r\\nHost: 192.168.4.1\\r\\nConnection: keep-alive\\r\\nUpgrade-Insecure-Requests: 1\\r\\nUser-Agent: Mozilla/5.0 (Linux; Android 8.0.0; SM-G930W8) AppleWebKit/537.36 (KHTML, like Gecko) Chrome/79.0.3945.136 Mobile Safari/537.36\\r\\nAccept: text/html,application/xhtml+xml,application/xml;q=0.9,image/webp,image/apng,*/*;q=0.8,application/signed-exchange;v=b3;q=0.9\\r\\nReferer: http://192.168.4.1/?led=off\\r\\nAccept-Encoding: gzip, deflate\\r\\nAccept-Language: en-GB,en-US;q=0.9,en;q=0.8,da;q=0.7\\r\\n\\r\\n'\n",
      "LED OFF\n",
      "Got a connection from ('192.168.4.2', 36856)\n",
      "....Content = b''\n",
      "Got a connection from ('192.168.4.3', 56092)\n",
      "Content = b'GET /?led=on HTTP/1.1\\r\\nHost: 192.168.4.1\\r\\nConnection: keep-alive\\r\\nUpgrade-Insecure-Requests: 1\\r\\nUser-Agent: Mozilla/5.0 (Linux; Android 8.0.0; SM-A520W) AppleWebKit/537.36 (KHTML, like Gecko) Chrome/79.0.3945.116 Mobile Safari/537.36\\r\\nAccept: text/html,application/xhtml+xml,application/xml;q=0.9,image/webp,image/apng,*/*;q=0.8,application/signed-exchange;v=b3;q=0.9\\r\\nReferer: http://192.168.4.1/?led=off\\r\\nAccept-Encoding: gzip, deflate\\r\\nAccept-Language: en-GB,en-US;q=0.9,en;q=0.8\\r\\n\\r\\n'\n",
      "LED ON\n",
      "Got a connection from ('192.168.4.3', 56093)\n",
      "Content = b'GET /?led=off HTTP/1.1\\r\\nHost: 192.168.4.1\\r\\nConnection: keep-alive\\r\\nUpgrade-Insecure-Requests: 1\\r\\nUser-Agent: Mozilla/5.0 (Linux; Android 8.0.0; SM-A520W) AppleWebKit/537.36 (KHTML, like Gecko) Chrome/79.0.3945.116 Mobile Safari/537.36\\r\\nAccept: text/html,application/xhtml+xml,application/xml;q=0.9,image/webp,image/apng,*/*;q=0.8,application/signed-exchange;v=b3;q=0.9\\r\\nReferer: http://192.168.4.1/?led=on\\r\\nAccept-Encoding: gzip, deflate\\r\\nAccept-Language: en-GB,en-US;q=0.9,en;q=0.8\\r\\n\\r\\n'\n",
      "LED OFF\n",
      "Got a connection from ('192.168.4.3', 56095)\n",
      "..Content = b'GET /?led=on HTTP/1.1\\r\\nHost: 192.168.4.1\\r\\nConnection: keep-alive\\r\\nUpgrade-Insecure-Requests: 1\\r\\nUser-Agent: Mozilla/5.0 (Linux; Android 8.0.0; SM-A520W) AppleWebKit/537.36 (KHTML, like Gecko) Chrome/79.0.3945.116 Mobile Safari/537.36\\r\\nAccept: text/html,application/xhtml+xml,application/xml;q=0.9,image/webp,image/apng,*/*;q=0.8,application/signed-exchange;v=b3;q=0.9\\r\\nReferer: http://192.168.4.1/?led=off\\r\\nAccept-Encoding: gzip, deflate\\r\\nAccept-Language: en-GB,en-US;q=0.9,en;q=0.8\\r\\n\\r\\n'\n",
      "LED ON\n",
      "Got a connection from ('192.168.4.3', 56096)\n",
      ".Content = b'GET /?led=off HTTP/1.1\\r\\nHost: 192.168.4.1\\r\\nConnection: keep-alive\\r\\nUpgrade-Insecure-Requests: 1\\r\\nUser-Agent: Mozilla/5.0 (Linux; Android 8.0.0; SM-A520W) AppleWebKit/537.36 (KHTML, like Gecko) Chrome/79.0.3945.116 Mobile Safari/537.36\\r\\nAccept: text/html,application/xhtml+xml,application/xml;q=0.9,image/webp,image/apng,*/*;q=0.8,application/signed-exchange;v=b3;q=0.9\\r\\nReferer: http://192.168.4.1/?led=on\\r\\nAccept-Encoding: gzip, deflate\\r\\nAccept-Language: en-GB,en-US;q=0.9,en;q=0.8\\r\\n\\r\\n'\n",
      "LED OFF\n",
      "Got a connection from ('192.168.4.3', 56097)\n",
      ".Content = b'GET /?led=on HTTP/1.1\\r\\nHost: 192.168.4.1\\r\\nConnection: keep-alive\\r\\nUpgrade-Insecure-Requests: 1\\r\\nUser-Agent: Mozilla/5.0 (Linux; Android 8.0.0; SM-A520W) AppleWebKit/537.36 (KHTML, like Gecko) Chrome/79.0.3945.116 Mobile Safari/537.36\\r\\nAccept: text/html,application/xhtml+xml,application/xml;q=0.9,image/webp,image/apng,*/*;q=0.8,application/signed-exchange;v=b3;q=0.9\\r\\nReferer: http://192.168.4.1/?led=off\\r\\nAccept-Encoding: gzip, deflate\\r\\nAccept-Language: en-GB,en-US;q=0.9,en;q=0.8\\r\\n\\r\\n'\n",
      "LED ON\n",
      "Got a connection from ('192.168.4.3', 56098)\n",
      "...Content = b'GET /?led=off HTTP/1.1\\r\\nHost: 192.168.4.1\\r\\nConnection: keep-alive\\r\\nUpgrade-Insecure-Requests: 1\\r\\nUser-Agent: Mozilla/5.0 (Linux; Android 8.0.0; SM-A520W) AppleWebKit/537.36 (KHTML, like Gecko) Chrome/79.0.3945.116 Mobile Safari/537.36\\r\\nAccept: text/html,application/xhtml+xml,application/xml;q=0.9,image/webp,image/apng,*/*;q=0.8,application/signed-exchange;v=b3;q=0.9\\r\\nReferer: http://192.168.4.1/?led=on\\r\\nAccept-Encoding: gzip, deflate\\r\\nAccept-Language: en-GB,en-US;q=0.9,en;q=0.8\\r\\n\\r\\n'\n",
      "LED OFF\n",
      "Got a connection from ('192.168.4.2', 36859)\n",
      "Content = b'GET /?led=off HTTP/1.1\\r\\nHost: 192.168.4.1\\r\\nConnection: keep-alive\\r\\nUpgrade-Insecure-Requests: 1\\r\\nUser-Agent: Mozilla/5.0 (Linux; Android 8.0.0; SM-G930W8) AppleWebKit/537.36 (KHTML, like Gecko) Chrome/79.0.3945.136 Mobile Safari/537.36\\r\\nAccept: text/html,application/xhtml+xml,application/xml;q=0.9,image/webp,image/apng,*/*;q=0.8,application/signed-exchange;v=b3;q=0.9\\r\\nReferer: http://192.168.4.1/?led=off\\r\\nAccept-Encoding: gzip, deflate\\r\\nAccept-Language: en-GB,en-US;q=0.9,en;q=0.8,da;q=0.7\\r\\n\\r\\n'\n",
      "LED OFF\n",
      "Got a connection from ('192.168.4.2', 36860)\n",
      "Content = b''\n",
      "Got a connection from ('192.168.4.3', 56100)\n",
      "...Content = b'GET /?led=off HTTP/1.1\\r\\nHost: 192.168.4.1\\r\\nConnection: keep-alive\\r\\nCache-Control: max-age=0\\r\\nUpgrade-Insecure-Requests: 1\\r\\nUser-Agent: Mozilla/5.0 (Linux; Android 8.0.0; SM-A520W) AppleWebKit/537.36 (KHTML, like Gecko) Chrome/79.0.3945.116 Mobile Safari/537.36\\r\\nAccept: text/html,application/xhtml+xml,application/xml;q=0.9,image/webp,image/apng,*/*;q=0.8,application/signed-exchange;v=b3;q=0.9\\r\\nAccept-Encoding: gzip, deflate\\r\\nAccept-Language: en-GB,en-US;q=0.9,en;q=0.8\\r\\n\\r\\n'\n",
      "LED OFF\n",
      "Got a connection from ('192.168.4.2', 36861)\n",
      "Content = b'GET /?led=on HTTP/1.1\\r\\nHost: 192.168.4.1\\r\\nConnection: keep-alive\\r\\nUpgrade-Insecure-Requests: 1\\r\\nUser-Agent: Mozilla/5.0 (Linux; Android 8.0.0; SM-G930W8) AppleWebKit/537.36 (KHTML, like Gecko) Chrome/79.0.3945.136 Mobile Safari/537.36\\r\\nAccept: text/html,application/xhtml+xml,application/xml;q=0.9,image/webp,image/apng,*/*;q=0.8,application/signed-exchange;v=b3;q=0.9\\r\\nReferer: http://192.168.4.1/?led=off\\r\\nAccept-Encoding: gzip, deflate\\r\\nAccept-Language: en-GB,en-US;q=0.9,en;q=0.8,da;q=0.7\\r\\n\\r\\n'\n",
      "LED ON\n",
      "Got a connection from ('192.168.4.2', 36862)\n",
      "Content = b''\n",
      "Got a connection from ('192.168.4.3', 56102)\n",
      "Content = b'GET /?led=off HTTP/1.1\\r\\nHost: 192.168.4.1\\r\\nConnection: keep-alive\\r\\nUpgrade-Insecure-Requests: 1\\r\\nUser-Agent: Mozilla/5.0 (Linux; Android 8.0.0; SM-A520W) AppleWebKit/537.36 (KHTML, like Gecko) Chrome/79.0.3945.116 Mobile Safari/537.36\\r\\nAccept: text/html,application/xhtml+xml,application/xml;q=0.9,image/webp,image/apng,*/*;q=0.8,application/signed-exchange;v=b3;q=0.9\\r\\nReferer: http://192.168.4.1/?led=off\\r\\nAccept-Encoding: gzip, deflate\\r\\nAccept-Language: en-GB,en-US;q=0.9,en;q=0.8\\r\\n\\r\\n'\n",
      "LED OFF\n",
      "Got a connection from ('192.168.4.2', 36863)\n",
      "Content = b'GET /?led=off HTTP/1.1\\r\\nHost: 192.168.4.1\\r\\nConnection: keep-alive\\r\\nCache-Control: max-age=0\\r\\nUpgrade-Insecure-Requests: 1\\r\\nUser-Agent: Mozilla/5.0 (Linux; Android 8.0.0; SM-G930W8) AppleWebKit/537.36 (KHTML, like Gecko) Chrome/79.0.3945.136 Mobile Safari/537.36\\r\\nAccept: text/html,application/xhtml+xml,application/xml;q=0.9,image/webp,image/apng,*/*;q=0.8,application/signed-exchange;v=b3;q=0.9\\r\\nAccept-Encoding: gzip, deflate\\r\\nAccept-Language: en-GB,en-US;q=0.9,en;q=0.8,da;q=0.7\\r\\n\\r\\n'\n",
      "LED OFF\n",
      "Got a connection from ('192.168.4.2', 36864)\n",
      "....Content = b''\n",
      "Got a connection from ('192.168.4.3', 56103)\n",
      ".....Content = b'GET /?led=on HTTP/1.1\\r\\nHost: 192.168.4.1\\r\\nConnection: keep-alive\\r\\nUpgrade-Insecure-Requests: 1\\r\\nUser-Agent: Mozilla/5.0 (Linux; Android 8.0.0; SM-A520W) AppleWebKit/537.36 (KHTML, like Gecko) Chrome/79.0.3945.116 Mobile Safari/537.36\\r\\nAccept: text/html,application/xhtml+xml,application/xml;q=0.9,image/webp,image/apng,*/*;q=0.8,application/signed-exchange;v=b3;q=0.9\\r\\nReferer: http://192.168.4.1/?led=off\\r\\nAccept-Encoding: gzip, deflate\\r\\nAccept-Language: en-GB,en-US;q=0.9,en;q=0.8\\r\\n\\r\\n'\n",
      "LED ON\n",
      "Got a connection from ('192.168.4.2', 36865)\n",
      "Content = b'GET /?led=on HTTP/1.1\\r\\nHost: 192.168.4.1\\r\\nConnection: keep-alive\\r\\nUpgrade-Insecure-Requests: 1\\r\\nUser-Agent: Mozilla/5.0 (Linux; Android 8.0.0; SM-G930W8) AppleWebKit/537.36 (KHTML, like Gecko) Chrome/79.0.3945.136 Mobile Safari/537.36\\r\\nAccept: text/html,application/xhtml+xml,application/xml;q=0.9,image/webp,image/apng,*/*;q=0.8,application/signed-exchange;v=b3;q=0.9\\r\\nReferer: http://192.168.4.1/?led=off\\r\\nAccept-Encoding: gzip, deflate\\r\\nAccept-Language: en-GB,en-US;q=0.9,en;q=0.8,da;q=0.7\\r\\n\\r\\n'\n",
      "LED ON\n",
      "Got a connection from ('192.168.4.2', 36866)\n",
      ".Content = b'GET /?led=off HTTP/1.1\\r\\nHost: 192.168.4.1\\r\\nConnection: keep-alive\\r\\nUpgrade-Insecure-Requests: 1\\r\\nUser-Agent: Mozilla/5.0 (Linux; Android 8.0.0; SM-G930W8) AppleWebKit/537.36 (KHTML, like Gecko) Chrome/79.0.3945.136 Mobile Safari/537.36\\r\\nAccept: text/html,application/xhtml+xml,application/xml;q=0.9,image/webp,image/apng,*/*;q=0.8,application/signed-exchange;v=b3;q=0.9\\r\\nReferer: http://192.168.4.1/?led=on\\r\\nAccept-Encoding: gzip, deflate\\r\\nAccept-Language: en-GB,en-US;q=0.9,en;q=0.8,da;q=0.7\\r\\n\\r\\n'\n",
      "LED OFF\n",
      "Got a connection from ('192.168.4.3', 56106)\n",
      ".Content = b'GET /?led=off HTTP/1.1\\r\\nHost: 192.168.4.1\\r\\nConnection: keep-alive\\r\\nUpgrade-Insecure-Requests: 1\\r\\nUser-Agent: Mozilla/5.0 (Linux; Android 8.0.0; SM-A520W) AppleWebKit/537.36 (KHTML, like Gecko) Chrome/79.0.3945.116 Mobile Safari/537.36\\r\\nAccept: text/html,application/xhtml+xml,application/xml;q=0.9,image/webp,image/apng,*/*;q=0.8,application/signed-exchange;v=b3;q=0.9\\r\\nReferer: http://192.168.4.1/?led=on\\r\\nAccept-Encoding: gzip, deflate\\r\\nAccept-Language: en-GB,en-US;q=0.9,en;q=0.8\\r\\n\\r\\n'\n",
      "LED OFF\n",
      "Got a connection from ('192.168.4.2', 36867)\n",
      ".Content = b''\n",
      "Got a connection from ('192.168.4.3', 56107)\n",
      "Content = b'GET /?led=on HTTP/1.1\\r\\nHost: 192.168.4.1\\r\\nConnection: keep-alive\\r\\nUpgrade-Insecure-Requests: 1\\r\\nUser-Agent: Mozilla/5.0 (Linux; Android 8.0.0; SM-A520W) AppleWebKit/537.36 (KHTML, like Gecko) Chrome/79.0.3945.116 Mobile Safari/537.36\\r\\nAccept: text/html,application/xhtml+xml,application/xml;q=0.9,image/webp,image/apng,*/*;q=0.8,application/signed-exchange;v=b3;q=0.9\\r\\nReferer: http://192.168.4.1/?led=off\\r\\nAccept-Encoding: gzip, deflate\\r\\nAccept-Language: en-GB,en-US;q=0.9,en;q=0.8\\r\\n\\r\\n'\n",
      "LED ON\n",
      "Got a connection from ('192.168.4.3', 56108)\n",
      ".Content = b'GET /?led=off HTTP/1.1\\r\\nHost: 192.168.4.1\\r\\nConnection: keep-alive\\r\\nUpgrade-Insecure-Requests: 1\\r\\nUser-Agent: Mozilla/5.0 (Linux; Android 8.0.0; SM-A520W) AppleWebKit/537.36 (KHTML, like Gecko) Chrome/79.0.3945.116 Mobile Safari/537.36\\r\\nAccept: text/html,application/xhtml+xml,application/xml;q=0.9,image/webp,image/apng,*/*;q=0.8,application/signed-exchange;v=b3;q=0.9\\r\\nReferer: http://192.168.4.1/?led=on\\r\\nAccept-Encoding: gzip, deflate\\r\\nAccept-Language: en-GB,en-US;q=0.9,en;q=0.8\\r\\n\\r\\n'\n",
      "LED OFF\n",
      "Got a connection from ('192.168.4.3', 56109)\n",
      "....................................................."
     ]
    },
    {
     "name": "stderr",
     "output_type": "stream",
     "text": [
      "Traceback (most recent call last):\n",
      "  File \"<stdin>\", line 39, in <module>\n",
      "OSError: [Errno 104] ECONNRESET\n"
     ]
    }
   ],
   "source": [
    "# Complete project details at https://RandomNerdTutorials.com\n",
    "\n",
    "import socket\n",
    "addr = socket.getaddrinfo('192.168.4.1', 80)[0][-1]\n",
    "led = Pin(2, Pin.OUT)\n",
    "\n",
    "def web_page():\n",
    "  if led.value() == 1:\n",
    "    gpio_state=\"ON\"\n",
    "  else:\n",
    "    gpio_state=\"OFF\"\n",
    "  \n",
    "  html = \"\"\"<html><head> <title>ESP Web Server</title> <meta name=\"viewport\" content=\"width=device-width, initial-scale=1\">\n",
    "  <link rel=\"icon\" href=\"data:,\"> <style>html{font-family: Helvetica; display:inline-block; margin: 0px auto; text-align: center;}\n",
    "  h1{color: #0F3376; padding: 2vh;}p{font-size: 1.5rem;}.button{display: inline-block; background-color: #e7bd3b; border: none; \n",
    "  border-radius: 4px; color: white; padding: 16px 40px; text-decoration: none; font-size: 30px; margin: 2px; cursor: pointer;}\n",
    "  .button2{background-color: #4286f4;}</style></head><body> <h1>ESP Web Server</h1> \n",
    "  <p>GPIO state: <strong>\"\"\" + gpio_state + \"\"\"</strong></p><p><a href=\"/?led=on\"><button class=\"button\">ON</button></a></p>\n",
    "  <p><a href=\"/?led=off\"><button class=\"button button2\">OFF</button></a></p></body></html>\"\"\"\n",
    "  return html\n",
    "\n",
    "html2 = \"\"\"<!DOCTYPE html>\n",
    "<html>\n",
    "    <head> <title>ESP8266 Pins</title> </head>\n",
    "    <body> <h1>ESP8266 Pins</h1>\n",
    "        <table border=\"1\"> <tr><th>Pin</th><th>Value</th></tr> %s </table>\n",
    "    </body>\n",
    "</html>\n",
    "\"\"\"\n",
    "\n",
    "s = socket.socket(socket.AF_INET, socket.SOCK_STREAM)\n",
    "# s.bind(('', 80))\n",
    "s.bind(addr)\n",
    "s.listen(5)\n",
    "\n",
    "while True:\n",
    "  conn, addr = s.accept()\n",
    "  print('Got a connection from %s' % str(addr))\n",
    "  request = conn.recv(1024)\n",
    "  request = str(request)\n",
    "  print('Content = %s' % request)\n",
    "  led_on = request.find('/?led=on')\n",
    "  led_off = request.find('/?led=off')\n",
    "  if led_on == 6:\n",
    "    print('LED ON')\n",
    "    led.value(1)\n",
    "  if led_off == 6:\n",
    "    print('LED OFF')\n",
    "    led.value(0)\n",
    "  response = web_page()\n",
    "  conn.send('HTTP/1.1 200 OK\\n')\n",
    "  conn.send('Content-Type: text/html\\n')\n",
    "  conn.send('Connection: close\\n\\n')\n",
    "  conn.sendall(response)\n",
    "  conn.close()"
   ]
  }
 ],
 "metadata": {
  "kernelspec": {
   "display_name": "MicroPython - USB",
   "language": "micropython",
   "name": "micropython"
  },
  "language_info": {
   "codemirror_mode": "python",
   "file_extension": ".py",
   "mimetype": "text/python",
   "name": "micropython"
  }
 },
 "nbformat": 4,
 "nbformat_minor": 4
}
