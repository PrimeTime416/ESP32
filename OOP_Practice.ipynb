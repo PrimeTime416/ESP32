{
 "cells": [
  {
   "cell_type": "code",
   "execution_count": 1,
   "metadata": {
    "Collapsed": "false"
   },
   "outputs": [
    {
     "name": "stdout",
     "output_type": "stream",
     "text": [
      "\u001b[34mConnecting to --port=/dev/ttyUSB0 --baud=115200 \u001b[0m\n",
      "\u001b[34mReady.\n",
      "\u001b[0m"
     ]
    }
   ],
   "source": [
    "%serialconnect to --port=/dev/ttyUSB0 --baud=115200"
   ]
  },
  {
   "cell_type": "code",
   "execution_count": 9,
   "metadata": {},
   "outputs": [
    {
     "name": "stdout",
     "output_type": "stream",
     "text": [
      "<class 'Sample'>\n",
      "<class 'type'>\n"
     ]
    }
   ],
   "source": [
    "class Sample():\n",
    "    pass\n",
    "\n",
    "print(Sample)\n",
    "print(type(Sample))"
   ]
  },
  {
   "cell_type": "code",
   "execution_count": 5,
   "metadata": {},
   "outputs": [
    {
     "name": "stdout",
     "output_type": "stream",
     "text": [
      "<class 'Sample'>\n"
     ]
    }
   ],
   "source": [
    "my_sample = Sample()\n",
    "print(type(my_sample))\n"
   ]
  },
  {
   "cell_type": "code",
   "execution_count": 47,
   "metadata": {},
   "outputs": [],
   "source": [
    "class Dog():\n",
    "    def __init__(self, breed, name, spots):\n",
    "        self.breed = breed\n",
    "        self.name = name\n",
    "        self.spots = spots\n",
    "        "
   ]
  },
  {
   "cell_type": "code",
   "execution_count": 48,
   "metadata": {},
   "outputs": [
    {
     "name": "stdout",
     "output_type": "stream",
     "text": [
      "<class 'Dog'>\n",
      "<class 'type'>\n"
     ]
    }
   ],
   "source": [
    "print(Dog)\n",
    "print(type(Dog))"
   ]
  },
  {
   "cell_type": "code",
   "execution_count": 54,
   "metadata": {},
   "outputs": [
    {
     "name": "stdout",
     "output_type": "stream",
     "text": [
      "\n",
      "Print: Dog  <class 'Dog'>\n",
      "\n",
      "Print: Spot <Dog object at 3ffe98a0>\n",
      "\n",
      "Type:   <class 'Dog'>\n",
      "\n",
      "Dir Dog:  ['__class__', '__init__', '__module__', '__name__', '__qualname__', '__bases__']\n",
      "\n",
      "Dir Spot:  ['__class__', '__init__', '__module__', '__qualname__', '__dict__', 'name', 'breed', 'spots']\n",
      "Dog:  0x3ffe89b0\n",
      "object <class 'Dog'> is of type type\n",
      "  __module__ -- __main__\n",
      "  __init__ -- <function __init__ at 0x3ffe7fb0>\n",
      "  __qualname__ -- Dog\n",
      "help: Dog:  None\n",
      "Spot:  0x3ffe98a0\n",
      "object <Dog object at 3ffe98a0> is of type Dog\n",
      "  __module__ -- __main__\n",
      "  __init__ -- <function __init__ at 0x3ffe7fb0>\n",
      "  __qualname__ -- Dog\n",
      "help: Spot:  None\n",
      "Lab\n"
     ]
    }
   ],
   "source": [
    "spot = Dog(breed='Lab', name='Rover', spots=4)\n",
    "print('\\nPrint: Dog ', Dog)\n",
    "print('\\nPrint: Spot', spot)\n",
    "print('\\nType:  ', type(spot))\n",
    "print('\\nDir Dog: ', dir(Dog))\n",
    "print('\\nDir Spot: ', dir(spot))\n",
    "print('Dog: ', hex(id(Dog)))\n",
    "print('help: Dog: ', help(Dog))\n",
    "print('Spot: ', hex(id(spot)))\n",
    "print('help: Spot: ', help(spot))\n",
    "\n",
    "print(spot.breed)"
   ]
  }
 ],
 "metadata": {
  "kernelspec": {
   "display_name": "MicroPython - USB",
   "language": "micropython",
   "name": "micropython"
  },
  "language_info": {
   "codemirror_mode": "python",
   "file_extension": ".py",
   "mimetype": "text/python",
   "name": "micropython"
  }
 },
 "nbformat": 4,
 "nbformat_minor": 4
}
